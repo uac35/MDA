{
 "cells": [
  {
   "cell_type": "code",
   "execution_count": 1,
   "metadata": {},
   "outputs": [
    {
     "name": "stderr",
     "output_type": "stream",
     "text": [
      "/var/folders/j1/g6xr_gln6jlbx3ymwk660d800000gn/T/ipykernel_4032/221038820.py:4: UserWarning: \n",
      "The dash_core_components package is deprecated. Please replace\n",
      "`import dash_core_components as dcc` with `from dash import dcc`\n",
      "  import dash_core_components as dcc\n",
      "/var/folders/j1/g6xr_gln6jlbx3ymwk660d800000gn/T/ipykernel_4032/221038820.py:5: UserWarning: \n",
      "The dash_html_components package is deprecated. Please replace\n",
      "`import dash_html_components as html` with `from dash import html`\n",
      "  import dash_html_components as html\n"
     ]
    }
   ],
   "source": [
    "import pandas as pd\n",
    "import plotly.express as px\n",
    "import dash\n",
    "import dash_core_components as dcc\n",
    "import dash_html_components as html"
   ]
  },
  {
   "cell_type": "code",
   "execution_count": 5,
   "metadata": {},
   "outputs": [
    {
     "data": {
      "text/html": [
       "<div>\n",
       "<style scoped>\n",
       "    .dataframe tbody tr th:only-of-type {\n",
       "        vertical-align: middle;\n",
       "    }\n",
       "\n",
       "    .dataframe tbody tr th {\n",
       "        vertical-align: top;\n",
       "    }\n",
       "\n",
       "    .dataframe thead th {\n",
       "        text-align: right;\n",
       "    }\n",
       "</style>\n",
       "<table border=\"1\" class=\"dataframe\">\n",
       "  <thead>\n",
       "    <tr style=\"text-align: right;\">\n",
       "      <th></th>\n",
       "      <th>Unnamed: 0</th>\n",
       "      <th>description</th>\n",
       "      <th>date</th>\n",
       "      <th>Human voice - Shouting</th>\n",
       "      <th>Human voice - Singing</th>\n",
       "      <th>Music non-amplified</th>\n",
       "      <th>Nature elements - Wind</th>\n",
       "      <th>Transport road - Passenger car</th>\n",
       "      <th>Transport road - Siren</th>\n",
       "      <th>Unsupported</th>\n",
       "      <th>latitude</th>\n",
       "      <th>longitude</th>\n",
       "    </tr>\n",
       "  </thead>\n",
       "  <tbody>\n",
       "    <tr>\n",
       "      <th>0</th>\n",
       "      <td>0</td>\n",
       "      <td>MP 01: Naamsestraat 35  Maxim</td>\n",
       "      <td>2022-03-07</td>\n",
       "      <td>10</td>\n",
       "      <td>0</td>\n",
       "      <td>0</td>\n",
       "      <td>0</td>\n",
       "      <td>4</td>\n",
       "      <td>1</td>\n",
       "      <td>0</td>\n",
       "      <td>50.877161</td>\n",
       "      <td>4.700699</td>\n",
       "    </tr>\n",
       "    <tr>\n",
       "      <th>1</th>\n",
       "      <td>1</td>\n",
       "      <td>MP 01: Naamsestraat 35  Maxim</td>\n",
       "      <td>2022-03-08</td>\n",
       "      <td>39</td>\n",
       "      <td>0</td>\n",
       "      <td>1</td>\n",
       "      <td>0</td>\n",
       "      <td>20</td>\n",
       "      <td>3</td>\n",
       "      <td>0</td>\n",
       "      <td>50.877161</td>\n",
       "      <td>4.700699</td>\n",
       "    </tr>\n",
       "    <tr>\n",
       "      <th>2</th>\n",
       "      <td>2</td>\n",
       "      <td>MP 01: Naamsestraat 35  Maxim</td>\n",
       "      <td>2022-03-09</td>\n",
       "      <td>28</td>\n",
       "      <td>0</td>\n",
       "      <td>0</td>\n",
       "      <td>0</td>\n",
       "      <td>42</td>\n",
       "      <td>0</td>\n",
       "      <td>0</td>\n",
       "      <td>50.877161</td>\n",
       "      <td>4.700699</td>\n",
       "    </tr>\n",
       "    <tr>\n",
       "      <th>3</th>\n",
       "      <td>3</td>\n",
       "      <td>MP 01: Naamsestraat 35  Maxim</td>\n",
       "      <td>2022-03-10</td>\n",
       "      <td>39</td>\n",
       "      <td>0</td>\n",
       "      <td>0</td>\n",
       "      <td>0</td>\n",
       "      <td>27</td>\n",
       "      <td>0</td>\n",
       "      <td>0</td>\n",
       "      <td>50.877161</td>\n",
       "      <td>4.700699</td>\n",
       "    </tr>\n",
       "    <tr>\n",
       "      <th>4</th>\n",
       "      <td>4</td>\n",
       "      <td>MP 01: Naamsestraat 35  Maxim</td>\n",
       "      <td>2022-03-11</td>\n",
       "      <td>70</td>\n",
       "      <td>0</td>\n",
       "      <td>0</td>\n",
       "      <td>0</td>\n",
       "      <td>44</td>\n",
       "      <td>3</td>\n",
       "      <td>0</td>\n",
       "      <td>50.877161</td>\n",
       "      <td>4.700699</td>\n",
       "    </tr>\n",
       "    <tr>\n",
       "      <th>...</th>\n",
       "      <td>...</td>\n",
       "      <td>...</td>\n",
       "      <td>...</td>\n",
       "      <td>...</td>\n",
       "      <td>...</td>\n",
       "      <td>...</td>\n",
       "      <td>...</td>\n",
       "      <td>...</td>\n",
       "      <td>...</td>\n",
       "      <td>...</td>\n",
       "      <td>...</td>\n",
       "      <td>...</td>\n",
       "    </tr>\n",
       "    <tr>\n",
       "      <th>1862</th>\n",
       "      <td>1862</td>\n",
       "      <td>MP08bis - Vrijthof</td>\n",
       "      <td>2022-12-23</td>\n",
       "      <td>4</td>\n",
       "      <td>0</td>\n",
       "      <td>0</td>\n",
       "      <td>0</td>\n",
       "      <td>0</td>\n",
       "      <td>0</td>\n",
       "      <td>1</td>\n",
       "      <td>50.878906</td>\n",
       "      <td>4.701144</td>\n",
       "    </tr>\n",
       "    <tr>\n",
       "      <th>1863</th>\n",
       "      <td>1863</td>\n",
       "      <td>MP08bis - Vrijthof</td>\n",
       "      <td>2022-12-28</td>\n",
       "      <td>0</td>\n",
       "      <td>0</td>\n",
       "      <td>0</td>\n",
       "      <td>1</td>\n",
       "      <td>0</td>\n",
       "      <td>0</td>\n",
       "      <td>0</td>\n",
       "      <td>50.878906</td>\n",
       "      <td>4.701144</td>\n",
       "    </tr>\n",
       "    <tr>\n",
       "      <th>1864</th>\n",
       "      <td>1864</td>\n",
       "      <td>MP08bis - Vrijthof</td>\n",
       "      <td>2022-12-29</td>\n",
       "      <td>1</td>\n",
       "      <td>0</td>\n",
       "      <td>0</td>\n",
       "      <td>0</td>\n",
       "      <td>0</td>\n",
       "      <td>0</td>\n",
       "      <td>3</td>\n",
       "      <td>50.878906</td>\n",
       "      <td>4.701144</td>\n",
       "    </tr>\n",
       "    <tr>\n",
       "      <th>1865</th>\n",
       "      <td>1865</td>\n",
       "      <td>MP08bis - Vrijthof</td>\n",
       "      <td>2022-12-30</td>\n",
       "      <td>0</td>\n",
       "      <td>0</td>\n",
       "      <td>0</td>\n",
       "      <td>2</td>\n",
       "      <td>0</td>\n",
       "      <td>0</td>\n",
       "      <td>1</td>\n",
       "      <td>50.878906</td>\n",
       "      <td>4.701144</td>\n",
       "    </tr>\n",
       "    <tr>\n",
       "      <th>1866</th>\n",
       "      <td>1866</td>\n",
       "      <td>MP08bis - Vrijthof</td>\n",
       "      <td>2022-12-31</td>\n",
       "      <td>0</td>\n",
       "      <td>0</td>\n",
       "      <td>0</td>\n",
       "      <td>1</td>\n",
       "      <td>0</td>\n",
       "      <td>0</td>\n",
       "      <td>0</td>\n",
       "      <td>50.878906</td>\n",
       "      <td>4.701144</td>\n",
       "    </tr>\n",
       "  </tbody>\n",
       "</table>\n",
       "<p>1867 rows × 12 columns</p>\n",
       "</div>"
      ],
      "text/plain": [
       "      Unnamed: 0                    description        date  \\\n",
       "0              0  MP 01: Naamsestraat 35  Maxim  2022-03-07   \n",
       "1              1  MP 01: Naamsestraat 35  Maxim  2022-03-08   \n",
       "2              2  MP 01: Naamsestraat 35  Maxim  2022-03-09   \n",
       "3              3  MP 01: Naamsestraat 35  Maxim  2022-03-10   \n",
       "4              4  MP 01: Naamsestraat 35  Maxim  2022-03-11   \n",
       "...          ...                            ...         ...   \n",
       "1862        1862             MP08bis - Vrijthof  2022-12-23   \n",
       "1863        1863             MP08bis - Vrijthof  2022-12-28   \n",
       "1864        1864             MP08bis - Vrijthof  2022-12-29   \n",
       "1865        1865             MP08bis - Vrijthof  2022-12-30   \n",
       "1866        1866             MP08bis - Vrijthof  2022-12-31   \n",
       "\n",
       "      Human voice - Shouting  Human voice - Singing  Music non-amplified  \\\n",
       "0                         10                      0                    0   \n",
       "1                         39                      0                    1   \n",
       "2                         28                      0                    0   \n",
       "3                         39                      0                    0   \n",
       "4                         70                      0                    0   \n",
       "...                      ...                    ...                  ...   \n",
       "1862                       4                      0                    0   \n",
       "1863                       0                      0                    0   \n",
       "1864                       1                      0                    0   \n",
       "1865                       0                      0                    0   \n",
       "1866                       0                      0                    0   \n",
       "\n",
       "      Nature elements - Wind  Transport road - Passenger car  \\\n",
       "0                          0                               4   \n",
       "1                          0                              20   \n",
       "2                          0                              42   \n",
       "3                          0                              27   \n",
       "4                          0                              44   \n",
       "...                      ...                             ...   \n",
       "1862                       0                               0   \n",
       "1863                       1                               0   \n",
       "1864                       0                               0   \n",
       "1865                       2                               0   \n",
       "1866                       1                               0   \n",
       "\n",
       "      Transport road - Siren  Unsupported   latitude  longitude  \n",
       "0                          1            0  50.877161   4.700699  \n",
       "1                          3            0  50.877161   4.700699  \n",
       "2                          0            0  50.877161   4.700699  \n",
       "3                          0            0  50.877161   4.700699  \n",
       "4                          3            0  50.877161   4.700699  \n",
       "...                      ...          ...        ...        ...  \n",
       "1862                       0            1  50.878906   4.701144  \n",
       "1863                       0            0  50.878906   4.701144  \n",
       "1864                       0            3  50.878906   4.701144  \n",
       "1865                       0            1  50.878906   4.701144  \n",
       "1866                       0            0  50.878906   4.701144  \n",
       "\n",
       "[1867 rows x 12 columns]"
      ]
     },
     "execution_count": 5,
     "metadata": {},
     "output_type": "execute_result"
    }
   ],
   "source": [
    "df = pd.read_csv(\"/Users/pjcnudde/Desktop/MDA/Datasets/export_41/df_final.csv\")\n",
    "df"
   ]
  },
  {
   "cell_type": "code",
   "execution_count": 6,
   "metadata": {},
   "outputs": [],
   "source": [
    "df[\"date\"] = pd.to_datetime(df['date'], format='%Y-%m-%d')"
   ]
  },
  {
   "cell_type": "code",
   "execution_count": 8,
   "metadata": {},
   "outputs": [
    {
     "data": {
      "application/vnd.plotly.v1+json": {
       "config": {
        "plotlyServerURL": "https://plot.ly"
       },
       "data": [
        {
         "customdata": [
          [
           "MP 01: Naamsestraat 35  Maxim"
          ],
          [
           "MP 02: Naamsestraat 57 Xior"
          ],
          [
           "MP 03: Naamsestraat 62 Taste"
          ],
          [
           "MP 05: Calvariekapel KU Leuven"
          ],
          [
           "MP 06: Parkstraat 2 La Filosovia"
          ],
          [
           "MP 07: Naamsestraat 81"
          ]
         ],
         "hovertemplate": "ts_str=2022-03-07<br>Human voice - Shouting=%{marker.size}<br>latitude=%{lat}<br>longitude=%{lon}<br>description=%{customdata[0]}<extra></extra>",
         "lat": [
          50.877160828051615,
          50.87649057167669,
          50.875850541602986,
          50.87448678827803,
          50.87409073433792,
          50.87381822269834
         ],
         "legendgroup": "",
         "lon": [
          4.7006992525313445,
          4.700691639839767,
          4.700192168675618,
          4.699889625684066,
          4.700018371714718,
          4.70010170607578
         ],
         "marker": {
          "color": "#636efa",
          "size": [
           10,
           0,
           7,
           5,
           0,
           25
          ],
          "sizemode": "area",
          "sizeref": 0.1825
         },
         "mode": "markers",
         "name": "",
         "showlegend": false,
         "subplot": "mapbox",
         "type": "scattermapbox"
        }
       ],
       "frames": [
        {
         "data": [
          {
           "customdata": [
            [
             "MP 01: Naamsestraat 35  Maxim"
            ],
            [
             "MP 02: Naamsestraat 57 Xior"
            ],
            [
             "MP 03: Naamsestraat 62 Taste"
            ],
            [
             "MP 05: Calvariekapel KU Leuven"
            ],
            [
             "MP 06: Parkstraat 2 La Filosovia"
            ],
            [
             "MP 07: Naamsestraat 81"
            ]
           ],
           "hovertemplate": "ts_str=2022-03-07<br>Human voice - Shouting=%{marker.size}<br>latitude=%{lat}<br>longitude=%{lon}<br>description=%{customdata[0]}<extra></extra>",
           "lat": [
            50.877160828051615,
            50.87649057167669,
            50.875850541602986,
            50.87448678827803,
            50.87409073433792,
            50.87381822269834
           ],
           "legendgroup": "",
           "lon": [
            4.7006992525313445,
            4.700691639839767,
            4.700192168675618,
            4.699889625684066,
            4.700018371714718,
            4.70010170607578
           ],
           "marker": {
            "color": "#636efa",
            "size": [
             10,
             0,
             7,
             5,
             0,
             25
            ],
            "sizemode": "area",
            "sizeref": 0.1825
           },
           "mode": "markers",
           "name": "",
           "showlegend": false,
           "subplot": "mapbox",
           "type": "scattermapbox"
          }
         ],
         "name": "2022-03-07"
        },
        {
         "data": [
          {
           "customdata": [
            [
             "MP 01: Naamsestraat 35  Maxim"
            ],
            [
             "MP 02: Naamsestraat 57 Xior"
            ],
            [
             "MP 03: Naamsestraat 62 Taste"
            ],
            [
             "MP 05: Calvariekapel KU Leuven"
            ],
            [
             "MP 06: Parkstraat 2 La Filosovia"
            ],
            [
             "MP 07: Naamsestraat 81"
            ]
           ],
           "hovertemplate": "ts_str=2022-03-08<br>Human voice - Shouting=%{marker.size}<br>latitude=%{lat}<br>longitude=%{lon}<br>description=%{customdata[0]}<extra></extra>",
           "lat": [
            50.877160828051615,
            50.87649057167669,
            50.875850541602986,
            50.87448678827803,
            50.87409073433792,
            50.87381822269834
           ],
           "legendgroup": "",
           "lon": [
            4.7006992525313445,
            4.700691639839767,
            4.700192168675618,
            4.699889625684066,
            4.700018371714718,
            4.70010170607578
           ],
           "marker": {
            "color": "#636efa",
            "size": [
             39,
             4,
             6,
             10,
             10,
             19
            ],
            "sizemode": "area",
            "sizeref": 0.1825
           },
           "mode": "markers",
           "name": "",
           "showlegend": false,
           "subplot": "mapbox",
           "type": "scattermapbox"
          }
         ],
         "name": "2022-03-08"
        },
        {
         "data": [
          {
           "customdata": [
            [
             "MP 01: Naamsestraat 35  Maxim"
            ],
            [
             "MP 02: Naamsestraat 57 Xior"
            ],
            [
             "MP 03: Naamsestraat 62 Taste"
            ],
            [
             "MP 05: Calvariekapel KU Leuven"
            ],
            [
             "MP 06: Parkstraat 2 La Filosovia"
            ],
            [
             "MP 07: Naamsestraat 81"
            ]
           ],
           "hovertemplate": "ts_str=2022-03-09<br>Human voice - Shouting=%{marker.size}<br>latitude=%{lat}<br>longitude=%{lon}<br>description=%{customdata[0]}<extra></extra>",
           "lat": [
            50.877160828051615,
            50.87649057167669,
            50.875850541602986,
            50.87448678827803,
            50.87409073433792,
            50.87381822269834
           ],
           "legendgroup": "",
           "lon": [
            4.7006992525313445,
            4.700691639839767,
            4.700192168675618,
            4.699889625684066,
            4.700018371714718,
            4.70010170607578
           ],
           "marker": {
            "color": "#636efa",
            "size": [
             28,
             4,
             6,
             9,
             3,
             9
            ],
            "sizemode": "area",
            "sizeref": 0.1825
           },
           "mode": "markers",
           "name": "",
           "showlegend": false,
           "subplot": "mapbox",
           "type": "scattermapbox"
          }
         ],
         "name": "2022-03-09"
        },
        {
         "data": [
          {
           "customdata": [
            [
             "MP 01: Naamsestraat 35  Maxim"
            ],
            [
             "MP 02: Naamsestraat 57 Xior"
            ],
            [
             "MP 03: Naamsestraat 62 Taste"
            ],
            [
             "MP 05: Calvariekapel KU Leuven"
            ],
            [
             "MP 06: Parkstraat 2 La Filosovia"
            ],
            [
             "MP 07: Naamsestraat 81"
            ]
           ],
           "hovertemplate": "ts_str=2022-03-10<br>Human voice - Shouting=%{marker.size}<br>latitude=%{lat}<br>longitude=%{lon}<br>description=%{customdata[0]}<extra></extra>",
           "lat": [
            50.877160828051615,
            50.87649057167669,
            50.875850541602986,
            50.87448678827803,
            50.87409073433792,
            50.87381822269834
           ],
           "legendgroup": "",
           "lon": [
            4.7006992525313445,
            4.700691639839767,
            4.700192168675618,
            4.699889625684066,
            4.700018371714718,
            4.70010170607578
           ],
           "marker": {
            "color": "#636efa",
            "size": [
             39,
             8,
             6,
             14,
             4,
             6
            ],
            "sizemode": "area",
            "sizeref": 0.1825
           },
           "mode": "markers",
           "name": "",
           "showlegend": false,
           "subplot": "mapbox",
           "type": "scattermapbox"
          }
         ],
         "name": "2022-03-10"
        },
        {
         "data": [
          {
           "customdata": [
            [
             "MP 01: Naamsestraat 35  Maxim"
            ],
            [
             "MP 02: Naamsestraat 57 Xior"
            ],
            [
             "MP 03: Naamsestraat 62 Taste"
            ],
            [
             "MP 05: Calvariekapel KU Leuven"
            ],
            [
             "MP 06: Parkstraat 2 La Filosovia"
            ],
            [
             "MP 07: Naamsestraat 81"
            ]
           ],
           "hovertemplate": "ts_str=2022-03-11<br>Human voice - Shouting=%{marker.size}<br>latitude=%{lat}<br>longitude=%{lon}<br>description=%{customdata[0]}<extra></extra>",
           "lat": [
            50.877160828051615,
            50.87649057167669,
            50.875850541602986,
            50.87448678827803,
            50.87409073433792,
            50.87381822269834
           ],
           "legendgroup": "",
           "lon": [
            4.7006992525313445,
            4.700691639839767,
            4.700192168675618,
            4.699889625684066,
            4.700018371714718,
            4.70010170607578
           ],
           "marker": {
            "color": "#636efa",
            "size": [
             70,
             16,
             7,
             23,
             11,
             16
            ],
            "sizemode": "area",
            "sizeref": 0.1825
           },
           "mode": "markers",
           "name": "",
           "showlegend": false,
           "subplot": "mapbox",
           "type": "scattermapbox"
          }
         ],
         "name": "2022-03-11"
        },
        {
         "data": [
          {
           "customdata": [
            [
             "MP 01: Naamsestraat 35  Maxim"
            ],
            [
             "MP 02: Naamsestraat 57 Xior"
            ],
            [
             "MP 03: Naamsestraat 62 Taste"
            ],
            [
             "MP 05: Calvariekapel KU Leuven"
            ],
            [
             "MP 06: Parkstraat 2 La Filosovia"
            ],
            [
             "MP 07: Naamsestraat 81"
            ]
           ],
           "hovertemplate": "ts_str=2022-03-12<br>Human voice - Shouting=%{marker.size}<br>latitude=%{lat}<br>longitude=%{lon}<br>description=%{customdata[0]}<extra></extra>",
           "lat": [
            50.877160828051615,
            50.87649057167669,
            50.875850541602986,
            50.87448678827803,
            50.87409073433792,
            50.87381822269834
           ],
           "legendgroup": "",
           "lon": [
            4.7006992525313445,
            4.700691639839767,
            4.700192168675618,
            4.699889625684066,
            4.700018371714718,
            4.70010170607578
           ],
           "marker": {
            "color": "#636efa",
            "size": [
             3,
             1,
             2,
             3,
             5,
             0
            ],
            "sizemode": "area",
            "sizeref": 0.1825
           },
           "mode": "markers",
           "name": "",
           "showlegend": false,
           "subplot": "mapbox",
           "type": "scattermapbox"
          }
         ],
         "name": "2022-03-12"
        },
        {
         "data": [
          {
           "customdata": [
            [
             "MP 01: Naamsestraat 35  Maxim"
            ],
            [
             "MP 02: Naamsestraat 57 Xior"
            ],
            [
             "MP 03: Naamsestraat 62 Taste"
            ],
            [
             "MP 05: Calvariekapel KU Leuven"
            ],
            [
             "MP 06: Parkstraat 2 La Filosovia"
            ],
            [
             "MP 07: Naamsestraat 81"
            ]
           ],
           "hovertemplate": "ts_str=2022-03-13<br>Human voice - Shouting=%{marker.size}<br>latitude=%{lat}<br>longitude=%{lon}<br>description=%{customdata[0]}<extra></extra>",
           "lat": [
            50.877160828051615,
            50.87649057167669,
            50.875850541602986,
            50.87448678827803,
            50.87409073433792,
            50.87381822269834
           ],
           "legendgroup": "",
           "lon": [
            4.7006992525313445,
            4.700691639839767,
            4.700192168675618,
            4.699889625684066,
            4.700018371714718,
            4.70010170607578
           ],
           "marker": {
            "color": "#636efa",
            "size": [
             2,
             2,
             2,
             2,
             1,
             1
            ],
            "sizemode": "area",
            "sizeref": 0.1825
           },
           "mode": "markers",
           "name": "",
           "showlegend": false,
           "subplot": "mapbox",
           "type": "scattermapbox"
          }
         ],
         "name": "2022-03-13"
        },
        {
         "data": [
          {
           "customdata": [
            [
             "MP 01: Naamsestraat 35  Maxim"
            ],
            [
             "MP 02: Naamsestraat 57 Xior"
            ],
            [
             "MP 03: Naamsestraat 62 Taste"
            ],
            [
             "MP 05: Calvariekapel KU Leuven"
            ],
            [
             "MP 06: Parkstraat 2 La Filosovia"
            ],
            [
             "MP 07: Naamsestraat 81"
            ]
           ],
           "hovertemplate": "ts_str=2022-03-14<br>Human voice - Shouting=%{marker.size}<br>latitude=%{lat}<br>longitude=%{lon}<br>description=%{customdata[0]}<extra></extra>",
           "lat": [
            50.877160828051615,
            50.87649057167669,
            50.875850541602986,
            50.87448678827803,
            50.87409073433792,
            50.87381822269834
           ],
           "legendgroup": "",
           "lon": [
            4.7006992525313445,
            4.700691639839767,
            4.700192168675618,
            4.699889625684066,
            4.700018371714718,
            4.70010170607578
           ],
           "marker": {
            "color": "#636efa",
            "size": [
             20,
             2,
             1,
             12,
             0,
             5
            ],
            "sizemode": "area",
            "sizeref": 0.1825
           },
           "mode": "markers",
           "name": "",
           "showlegend": false,
           "subplot": "mapbox",
           "type": "scattermapbox"
          }
         ],
         "name": "2022-03-14"
        },
        {
         "data": [
          {
           "customdata": [
            [
             "MP 01: Naamsestraat 35  Maxim"
            ],
            [
             "MP 02: Naamsestraat 57 Xior"
            ],
            [
             "MP 03: Naamsestraat 62 Taste"
            ],
            [
             "MP 05: Calvariekapel KU Leuven"
            ],
            [
             "MP 06: Parkstraat 2 La Filosovia"
            ],
            [
             "MP 07: Naamsestraat 81"
            ]
           ],
           "hovertemplate": "ts_str=2022-03-15<br>Human voice - Shouting=%{marker.size}<br>latitude=%{lat}<br>longitude=%{lon}<br>description=%{customdata[0]}<extra></extra>",
           "lat": [
            50.877160828051615,
            50.87649057167669,
            50.875850541602986,
            50.87448678827803,
            50.87409073433792,
            50.87381822269834
           ],
           "legendgroup": "",
           "lon": [
            4.7006992525313445,
            4.700691639839767,
            4.700192168675618,
            4.699889625684066,
            4.700018371714718,
            4.70010170607578
           ],
           "marker": {
            "color": "#636efa",
            "size": [
             36,
             6,
             3,
             8,
             5,
             14
            ],
            "sizemode": "area",
            "sizeref": 0.1825
           },
           "mode": "markers",
           "name": "",
           "showlegend": false,
           "subplot": "mapbox",
           "type": "scattermapbox"
          }
         ],
         "name": "2022-03-15"
        },
        {
         "data": [
          {
           "customdata": [
            [
             "MP 01: Naamsestraat 35  Maxim"
            ],
            [
             "MP 02: Naamsestraat 57 Xior"
            ],
            [
             "MP 03: Naamsestraat 62 Taste"
            ],
            [
             "MP 05: Calvariekapel KU Leuven"
            ],
            [
             "MP 06: Parkstraat 2 La Filosovia"
            ],
            [
             "MP 07: Naamsestraat 81"
            ]
           ],
           "hovertemplate": "ts_str=2022-03-16<br>Human voice - Shouting=%{marker.size}<br>latitude=%{lat}<br>longitude=%{lon}<br>description=%{customdata[0]}<extra></extra>",
           "lat": [
            50.877160828051615,
            50.87649057167669,
            50.875850541602986,
            50.87448678827803,
            50.87409073433792,
            50.87381822269834
           ],
           "legendgroup": "",
           "lon": [
            4.7006992525313445,
            4.700691639839767,
            4.700192168675618,
            4.699889625684066,
            4.700018371714718,
            4.70010170607578
           ],
           "marker": {
            "color": "#636efa",
            "size": [
             44,
             4,
             2,
             8,
             7,
             22
            ],
            "sizemode": "area",
            "sizeref": 0.1825
           },
           "mode": "markers",
           "name": "",
           "showlegend": false,
           "subplot": "mapbox",
           "type": "scattermapbox"
          }
         ],
         "name": "2022-03-16"
        },
        {
         "data": [
          {
           "customdata": [
            [
             "MP 01: Naamsestraat 35  Maxim"
            ],
            [
             "MP 02: Naamsestraat 57 Xior"
            ],
            [
             "MP 03: Naamsestraat 62 Taste"
            ],
            [
             "MP 05: Calvariekapel KU Leuven"
            ],
            [
             "MP 06: Parkstraat 2 La Filosovia"
            ],
            [
             "MP 07: Naamsestraat 81"
            ]
           ],
           "hovertemplate": "ts_str=2022-03-17<br>Human voice - Shouting=%{marker.size}<br>latitude=%{lat}<br>longitude=%{lon}<br>description=%{customdata[0]}<extra></extra>",
           "lat": [
            50.877160828051615,
            50.87649057167669,
            50.875850541602986,
            50.87448678827803,
            50.87409073433792,
            50.87381822269834
           ],
           "legendgroup": "",
           "lon": [
            4.7006992525313445,
            4.700691639839767,
            4.700192168675618,
            4.699889625684066,
            4.700018371714718,
            4.70010170607578
           ],
           "marker": {
            "color": "#636efa",
            "size": [
             67,
             13,
             5,
             22,
             8,
             32
            ],
            "sizemode": "area",
            "sizeref": 0.1825
           },
           "mode": "markers",
           "name": "",
           "showlegend": false,
           "subplot": "mapbox",
           "type": "scattermapbox"
          }
         ],
         "name": "2022-03-17"
        },
        {
         "data": [
          {
           "customdata": [
            [
             "MP 01: Naamsestraat 35  Maxim"
            ],
            [
             "MP 02: Naamsestraat 57 Xior"
            ],
            [
             "MP 03: Naamsestraat 62 Taste"
            ],
            [
             "MP 05: Calvariekapel KU Leuven"
            ],
            [
             "MP 06: Parkstraat 2 La Filosovia"
            ],
            [
             "MP 07: Naamsestraat 81"
            ]
           ],
           "hovertemplate": "ts_str=2022-03-18<br>Human voice - Shouting=%{marker.size}<br>latitude=%{lat}<br>longitude=%{lon}<br>description=%{customdata[0]}<extra></extra>",
           "lat": [
            50.877160828051615,
            50.87649057167669,
            50.875850541602986,
            50.87448678827803,
            50.87409073433792,
            50.87381822269834
           ],
           "legendgroup": "",
           "lon": [
            4.7006992525313445,
            4.700691639839767,
            4.700192168675618,
            4.699889625684066,
            4.700018371714718,
            4.70010170607578
           ],
           "marker": {
            "color": "#636efa",
            "size": [
             48,
             11,
             13,
             15,
             11,
             25
            ],
            "sizemode": "area",
            "sizeref": 0.1825
           },
           "mode": "markers",
           "name": "",
           "showlegend": false,
           "subplot": "mapbox",
           "type": "scattermapbox"
          }
         ],
         "name": "2022-03-18"
        },
        {
         "data": [
          {
           "customdata": [
            [
             "MP 01: Naamsestraat 35  Maxim"
            ],
            [
             "MP 02: Naamsestraat 57 Xior"
            ],
            [
             "MP 03: Naamsestraat 62 Taste"
            ],
            [
             "MP 05: Calvariekapel KU Leuven"
            ],
            [
             "MP 06: Parkstraat 2 La Filosovia"
            ],
            [
             "MP 07: Naamsestraat 81"
            ]
           ],
           "hovertemplate": "ts_str=2022-03-19<br>Human voice - Shouting=%{marker.size}<br>latitude=%{lat}<br>longitude=%{lon}<br>description=%{customdata[0]}<extra></extra>",
           "lat": [
            50.877160828051615,
            50.87649057167669,
            50.875850541602986,
            50.87448678827803,
            50.87409073433792,
            50.87381822269834
           ],
           "legendgroup": "",
           "lon": [
            4.7006992525313445,
            4.700691639839767,
            4.700192168675618,
            4.699889625684066,
            4.700018371714718,
            4.70010170607578
           ],
           "marker": {
            "color": "#636efa",
            "size": [
             3,
             6,
             4,
             9,
             7,
             10
            ],
            "sizemode": "area",
            "sizeref": 0.1825
           },
           "mode": "markers",
           "name": "",
           "showlegend": false,
           "subplot": "mapbox",
           "type": "scattermapbox"
          }
         ],
         "name": "2022-03-19"
        },
        {
         "data": [
          {
           "customdata": [
            [
             "MP 01: Naamsestraat 35  Maxim"
            ],
            [
             "MP 02: Naamsestraat 57 Xior"
            ],
            [
             "MP 03: Naamsestraat 62 Taste"
            ],
            [
             "MP 05: Calvariekapel KU Leuven"
            ],
            [
             "MP 06: Parkstraat 2 La Filosovia"
            ],
            [
             "MP 07: Naamsestraat 81"
            ]
           ],
           "hovertemplate": "ts_str=2022-03-20<br>Human voice - Shouting=%{marker.size}<br>latitude=%{lat}<br>longitude=%{lon}<br>description=%{customdata[0]}<extra></extra>",
           "lat": [
            50.877160828051615,
            50.87649057167669,
            50.875850541602986,
            50.87448678827803,
            50.87409073433792,
            50.87381822269834
           ],
           "legendgroup": "",
           "lon": [
            4.7006992525313445,
            4.700691639839767,
            4.700192168675618,
            4.699889625684066,
            4.700018371714718,
            4.70010170607578
           ],
           "marker": {
            "color": "#636efa",
            "size": [
             1,
             0,
             7,
             5,
             1,
             1
            ],
            "sizemode": "area",
            "sizeref": 0.1825
           },
           "mode": "markers",
           "name": "",
           "showlegend": false,
           "subplot": "mapbox",
           "type": "scattermapbox"
          }
         ],
         "name": "2022-03-20"
        },
        {
         "data": [
          {
           "customdata": [
            [
             "MP 01: Naamsestraat 35  Maxim"
            ],
            [
             "MP 02: Naamsestraat 57 Xior"
            ],
            [
             "MP 03: Naamsestraat 62 Taste"
            ],
            [
             "MP 05: Calvariekapel KU Leuven"
            ],
            [
             "MP 06: Parkstraat 2 La Filosovia"
            ],
            [
             "MP 07: Naamsestraat 81"
            ]
           ],
           "hovertemplate": "ts_str=2022-03-21<br>Human voice - Shouting=%{marker.size}<br>latitude=%{lat}<br>longitude=%{lon}<br>description=%{customdata[0]}<extra></extra>",
           "lat": [
            50.877160828051615,
            50.87649057167669,
            50.875850541602986,
            50.87448678827803,
            50.87409073433792,
            50.87381822269834
           ],
           "legendgroup": "",
           "lon": [
            4.7006992525313445,
            4.700691639839767,
            4.700192168675618,
            4.699889625684066,
            4.700018371714718,
            4.70010170607578
           ],
           "marker": {
            "color": "#636efa",
            "size": [
             21,
             2,
             1,
             10,
             3,
             7
            ],
            "sizemode": "area",
            "sizeref": 0.1825
           },
           "mode": "markers",
           "name": "",
           "showlegend": false,
           "subplot": "mapbox",
           "type": "scattermapbox"
          }
         ],
         "name": "2022-03-21"
        },
        {
         "data": [
          {
           "customdata": [
            [
             "MP 01: Naamsestraat 35  Maxim"
            ],
            [
             "MP 02: Naamsestraat 57 Xior"
            ],
            [
             "MP 03: Naamsestraat 62 Taste"
            ],
            [
             "MP 05: Calvariekapel KU Leuven"
            ],
            [
             "MP 06: Parkstraat 2 La Filosovia"
            ],
            [
             "MP 07: Naamsestraat 81"
            ]
           ],
           "hovertemplate": "ts_str=2022-03-22<br>Human voice - Shouting=%{marker.size}<br>latitude=%{lat}<br>longitude=%{lon}<br>description=%{customdata[0]}<extra></extra>",
           "lat": [
            50.877160828051615,
            50.87649057167669,
            50.875850541602986,
            50.87448678827803,
            50.87409073433792,
            50.87381822269834
           ],
           "legendgroup": "",
           "lon": [
            4.7006992525313445,
            4.700691639839767,
            4.700192168675618,
            4.699889625684066,
            4.700018371714718,
            4.70010170607578
           ],
           "marker": {
            "color": "#636efa",
            "size": [
             33,
             8,
             0,
             4,
             2,
             3
            ],
            "sizemode": "area",
            "sizeref": 0.1825
           },
           "mode": "markers",
           "name": "",
           "showlegend": false,
           "subplot": "mapbox",
           "type": "scattermapbox"
          }
         ],
         "name": "2022-03-22"
        },
        {
         "data": [
          {
           "customdata": [
            [
             "MP 01: Naamsestraat 35  Maxim"
            ],
            [
             "MP 02: Naamsestraat 57 Xior"
            ],
            [
             "MP 03: Naamsestraat 62 Taste"
            ],
            [
             "MP 05: Calvariekapel KU Leuven"
            ],
            [
             "MP 06: Parkstraat 2 La Filosovia"
            ],
            [
             "MP 07: Naamsestraat 81"
            ]
           ],
           "hovertemplate": "ts_str=2022-03-23<br>Human voice - Shouting=%{marker.size}<br>latitude=%{lat}<br>longitude=%{lon}<br>description=%{customdata[0]}<extra></extra>",
           "lat": [
            50.877160828051615,
            50.87649057167669,
            50.875850541602986,
            50.87448678827803,
            50.87409073433792,
            50.87381822269834
           ],
           "legendgroup": "",
           "lon": [
            4.7006992525313445,
            4.700691639839767,
            4.700192168675618,
            4.699889625684066,
            4.700018371714718,
            4.70010170607578
           ],
           "marker": {
            "color": "#636efa",
            "size": [
             25,
             5,
             3,
             6,
             5,
             3
            ],
            "sizemode": "area",
            "sizeref": 0.1825
           },
           "mode": "markers",
           "name": "",
           "showlegend": false,
           "subplot": "mapbox",
           "type": "scattermapbox"
          }
         ],
         "name": "2022-03-23"
        },
        {
         "data": [
          {
           "customdata": [
            [
             "MP 01: Naamsestraat 35  Maxim"
            ],
            [
             "MP 02: Naamsestraat 57 Xior"
            ],
            [
             "MP 03: Naamsestraat 62 Taste"
            ],
            [
             "MP 05: Calvariekapel KU Leuven"
            ],
            [
             "MP 06: Parkstraat 2 La Filosovia"
            ],
            [
             "MP 07: Naamsestraat 81"
            ]
           ],
           "hovertemplate": "ts_str=2022-03-24<br>Human voice - Shouting=%{marker.size}<br>latitude=%{lat}<br>longitude=%{lon}<br>description=%{customdata[0]}<extra></extra>",
           "lat": [
            50.877160828051615,
            50.87649057167669,
            50.875850541602986,
            50.87448678827803,
            50.87409073433792,
            50.87381822269834
           ],
           "legendgroup": "",
           "lon": [
            4.7006992525313445,
            4.700691639839767,
            4.700192168675618,
            4.699889625684066,
            4.700018371714718,
            4.70010170607578
           ],
           "marker": {
            "color": "#636efa",
            "size": [
             44,
             6,
             6,
             7,
             10,
             3
            ],
            "sizemode": "area",
            "sizeref": 0.1825
           },
           "mode": "markers",
           "name": "",
           "showlegend": false,
           "subplot": "mapbox",
           "type": "scattermapbox"
          }
         ],
         "name": "2022-03-24"
        },
        {
         "data": [
          {
           "customdata": [
            [
             "MP 01: Naamsestraat 35  Maxim"
            ],
            [
             "MP 02: Naamsestraat 57 Xior"
            ],
            [
             "MP 03: Naamsestraat 62 Taste"
            ],
            [
             "MP 05: Calvariekapel KU Leuven"
            ],
            [
             "MP 06: Parkstraat 2 La Filosovia"
            ],
            [
             "MP 07: Naamsestraat 81"
            ]
           ],
           "hovertemplate": "ts_str=2022-03-25<br>Human voice - Shouting=%{marker.size}<br>latitude=%{lat}<br>longitude=%{lon}<br>description=%{customdata[0]}<extra></extra>",
           "lat": [
            50.877160828051615,
            50.87649057167669,
            50.875850541602986,
            50.87448678827803,
            50.87409073433792,
            50.87381822269834
           ],
           "legendgroup": "",
           "lon": [
            4.7006992525313445,
            4.700691639839767,
            4.700192168675618,
            4.699889625684066,
            4.700018371714718,
            4.70010170607578
           ],
           "marker": {
            "color": "#636efa",
            "size": [
             34,
             7,
             5,
             10,
             9,
             7
            ],
            "sizemode": "area",
            "sizeref": 0.1825
           },
           "mode": "markers",
           "name": "",
           "showlegend": false,
           "subplot": "mapbox",
           "type": "scattermapbox"
          }
         ],
         "name": "2022-03-25"
        },
        {
         "data": [
          {
           "customdata": [
            [
             "MP 01: Naamsestraat 35  Maxim"
            ],
            [
             "MP 02: Naamsestraat 57 Xior"
            ],
            [
             "MP 03: Naamsestraat 62 Taste"
            ],
            [
             "MP 05: Calvariekapel KU Leuven"
            ],
            [
             "MP 06: Parkstraat 2 La Filosovia"
            ],
            [
             "MP 07: Naamsestraat 81"
            ]
           ],
           "hovertemplate": "ts_str=2022-03-26<br>Human voice - Shouting=%{marker.size}<br>latitude=%{lat}<br>longitude=%{lon}<br>description=%{customdata[0]}<extra></extra>",
           "lat": [
            50.877160828051615,
            50.87649057167669,
            50.875850541602986,
            50.87448678827803,
            50.87409073433792,
            50.87381822269834
           ],
           "legendgroup": "",
           "lon": [
            4.7006992525313445,
            4.700691639839767,
            4.700192168675618,
            4.699889625684066,
            4.700018371714718,
            4.70010170607578
           ],
           "marker": {
            "color": "#636efa",
            "size": [
             1,
             1,
             0,
             2,
             2,
             0
            ],
            "sizemode": "area",
            "sizeref": 0.1825
           },
           "mode": "markers",
           "name": "",
           "showlegend": false,
           "subplot": "mapbox",
           "type": "scattermapbox"
          }
         ],
         "name": "2022-03-26"
        },
        {
         "data": [
          {
           "customdata": [
            [
             "MP 01: Naamsestraat 35  Maxim"
            ],
            [
             "MP 02: Naamsestraat 57 Xior"
            ],
            [
             "MP 03: Naamsestraat 62 Taste"
            ],
            [
             "MP 05: Calvariekapel KU Leuven"
            ],
            [
             "MP 06: Parkstraat 2 La Filosovia"
            ],
            [
             "MP 07: Naamsestraat 81"
            ]
           ],
           "hovertemplate": "ts_str=2022-03-27<br>Human voice - Shouting=%{marker.size}<br>latitude=%{lat}<br>longitude=%{lon}<br>description=%{customdata[0]}<extra></extra>",
           "lat": [
            50.877160828051615,
            50.87649057167669,
            50.875850541602986,
            50.87448678827803,
            50.87409073433792,
            50.87381822269834
           ],
           "legendgroup": "",
           "lon": [
            4.7006992525313445,
            4.700691639839767,
            4.700192168675618,
            4.699889625684066,
            4.700018371714718,
            4.70010170607578
           ],
           "marker": {
            "color": "#636efa",
            "size": [
             6,
             0,
             0,
             3,
             3,
             1
            ],
            "sizemode": "area",
            "sizeref": 0.1825
           },
           "mode": "markers",
           "name": "",
           "showlegend": false,
           "subplot": "mapbox",
           "type": "scattermapbox"
          }
         ],
         "name": "2022-03-27"
        },
        {
         "data": [
          {
           "customdata": [
            [
             "MP 01: Naamsestraat 35  Maxim"
            ],
            [
             "MP 02: Naamsestraat 57 Xior"
            ],
            [
             "MP 03: Naamsestraat 62 Taste"
            ],
            [
             "MP 05: Calvariekapel KU Leuven"
            ],
            [
             "MP 06: Parkstraat 2 La Filosovia"
            ],
            [
             "MP 07: Naamsestraat 81"
            ]
           ],
           "hovertemplate": "ts_str=2022-03-28<br>Human voice - Shouting=%{marker.size}<br>latitude=%{lat}<br>longitude=%{lon}<br>description=%{customdata[0]}<extra></extra>",
           "lat": [
            50.877160828051615,
            50.87649057167669,
            50.875850541602986,
            50.87448678827803,
            50.87409073433792,
            50.87381822269834
           ],
           "legendgroup": "",
           "lon": [
            4.7006992525313445,
            4.700691639839767,
            4.700192168675618,
            4.699889625684066,
            4.700018371714718,
            4.70010170607578
           ],
           "marker": {
            "color": "#636efa",
            "size": [
             2,
             3,
             1,
             2,
             2,
             2
            ],
            "sizemode": "area",
            "sizeref": 0.1825
           },
           "mode": "markers",
           "name": "",
           "showlegend": false,
           "subplot": "mapbox",
           "type": "scattermapbox"
          }
         ],
         "name": "2022-03-28"
        },
        {
         "data": [
          {
           "customdata": [
            [
             "MP 01: Naamsestraat 35  Maxim"
            ],
            [
             "MP 02: Naamsestraat 57 Xior"
            ],
            [
             "MP 03: Naamsestraat 62 Taste"
            ],
            [
             "MP 05: Calvariekapel KU Leuven"
            ],
            [
             "MP 06: Parkstraat 2 La Filosovia"
            ],
            [
             "MP 07: Naamsestraat 81"
            ]
           ],
           "hovertemplate": "ts_str=2022-03-29<br>Human voice - Shouting=%{marker.size}<br>latitude=%{lat}<br>longitude=%{lon}<br>description=%{customdata[0]}<extra></extra>",
           "lat": [
            50.877160828051615,
            50.87649057167669,
            50.875850541602986,
            50.87448678827803,
            50.87409073433792,
            50.87381822269834
           ],
           "legendgroup": "",
           "lon": [
            4.7006992525313445,
            4.700691639839767,
            4.700192168675618,
            4.699889625684066,
            4.700018371714718,
            4.70010170607578
           ],
           "marker": {
            "color": "#636efa",
            "size": [
             27,
             6,
             14,
             3,
             2,
             5
            ],
            "sizemode": "area",
            "sizeref": 0.1825
           },
           "mode": "markers",
           "name": "",
           "showlegend": false,
           "subplot": "mapbox",
           "type": "scattermapbox"
          }
         ],
         "name": "2022-03-29"
        },
        {
         "data": [
          {
           "customdata": [
            [
             "MP 01: Naamsestraat 35  Maxim"
            ],
            [
             "MP 02: Naamsestraat 57 Xior"
            ],
            [
             "MP 03: Naamsestraat 62 Taste"
            ],
            [
             "MP 05: Calvariekapel KU Leuven"
            ],
            [
             "MP 06: Parkstraat 2 La Filosovia"
            ],
            [
             "MP 07: Naamsestraat 81"
            ]
           ],
           "hovertemplate": "ts_str=2022-03-30<br>Human voice - Shouting=%{marker.size}<br>latitude=%{lat}<br>longitude=%{lon}<br>description=%{customdata[0]}<extra></extra>",
           "lat": [
            50.877160828051615,
            50.87649057167669,
            50.875850541602986,
            50.87448678827803,
            50.87409073433792,
            50.87381822269834
           ],
           "legendgroup": "",
           "lon": [
            4.7006992525313445,
            4.700691639839767,
            4.700192168675618,
            4.699889625684066,
            4.700018371714718,
            4.70010170607578
           ],
           "marker": {
            "color": "#636efa",
            "size": [
             30,
             2,
             8,
             1,
             1,
             4
            ],
            "sizemode": "area",
            "sizeref": 0.1825
           },
           "mode": "markers",
           "name": "",
           "showlegend": false,
           "subplot": "mapbox",
           "type": "scattermapbox"
          }
         ],
         "name": "2022-03-30"
        },
        {
         "data": [
          {
           "customdata": [
            [
             "MP 01: Naamsestraat 35  Maxim"
            ],
            [
             "MP 02: Naamsestraat 57 Xior"
            ],
            [
             "MP 03: Naamsestraat 62 Taste"
            ],
            [
             "MP 05: Calvariekapel KU Leuven"
            ],
            [
             "MP 06: Parkstraat 2 La Filosovia"
            ],
            [
             "MP 07: Naamsestraat 81"
            ]
           ],
           "hovertemplate": "ts_str=2022-03-31<br>Human voice - Shouting=%{marker.size}<br>latitude=%{lat}<br>longitude=%{lon}<br>description=%{customdata[0]}<extra></extra>",
           "lat": [
            50.877160828051615,
            50.87649057167669,
            50.875850541602986,
            50.87448678827803,
            50.87409073433792,
            50.87381822269834
           ],
           "legendgroup": "",
           "lon": [
            4.7006992525313445,
            4.700691639839767,
            4.700192168675618,
            4.699889625684066,
            4.700018371714718,
            4.70010170607578
           ],
           "marker": {
            "color": "#636efa",
            "size": [
             33,
             9,
             5,
             8,
             6,
             4
            ],
            "sizemode": "area",
            "sizeref": 0.1825
           },
           "mode": "markers",
           "name": "",
           "showlegend": false,
           "subplot": "mapbox",
           "type": "scattermapbox"
          }
         ],
         "name": "2022-03-31"
        },
        {
         "data": [
          {
           "customdata": [
            [
             "MP 01: Naamsestraat 35  Maxim"
            ],
            [
             "MP 02: Naamsestraat 57 Xior"
            ],
            [
             "MP 03: Naamsestraat 62 Taste"
            ],
            [
             "MP 05: Calvariekapel KU Leuven"
            ],
            [
             "MP 06: Parkstraat 2 La Filosovia"
            ],
            [
             "MP 07: Naamsestraat 81"
            ]
           ],
           "hovertemplate": "ts_str=2022-04-01<br>Human voice - Shouting=%{marker.size}<br>latitude=%{lat}<br>longitude=%{lon}<br>description=%{customdata[0]}<extra></extra>",
           "lat": [
            50.877160828051615,
            50.87649057167669,
            50.875850541602986,
            50.87448678827803,
            50.87409073433792,
            50.87381822269834
           ],
           "legendgroup": "",
           "lon": [
            4.7006992525313445,
            4.700691639839767,
            4.700192168675618,
            4.699889625684066,
            4.700018371714718,
            4.70010170607578
           ],
           "marker": {
            "color": "#636efa",
            "size": [
             45,
             9,
             4,
             12,
             8,
             2
            ],
            "sizemode": "area",
            "sizeref": 0.1825
           },
           "mode": "markers",
           "name": "",
           "showlegend": false,
           "subplot": "mapbox",
           "type": "scattermapbox"
          }
         ],
         "name": "2022-04-01"
        },
        {
         "data": [
          {
           "customdata": [
            [
             "MP 01: Naamsestraat 35  Maxim"
            ],
            [
             "MP 02: Naamsestraat 57 Xior"
            ],
            [
             "MP 03: Naamsestraat 62 Taste"
            ],
            [
             "MP 05: Calvariekapel KU Leuven"
            ],
            [
             "MP 06: Parkstraat 2 La Filosovia"
            ],
            [
             "MP 07: Naamsestraat 81"
            ]
           ],
           "hovertemplate": "ts_str=2022-04-02<br>Human voice - Shouting=%{marker.size}<br>latitude=%{lat}<br>longitude=%{lon}<br>description=%{customdata[0]}<extra></extra>",
           "lat": [
            50.877160828051615,
            50.87649057167669,
            50.875850541602986,
            50.87448678827803,
            50.87409073433792,
            50.87381822269834
           ],
           "legendgroup": "",
           "lon": [
            4.7006992525313445,
            4.700691639839767,
            4.700192168675618,
            4.699889625684066,
            4.700018371714718,
            4.70010170607578
           ],
           "marker": {
            "color": "#636efa",
            "size": [
             7,
             7,
             3,
             1,
             5,
             2
            ],
            "sizemode": "area",
            "sizeref": 0.1825
           },
           "mode": "markers",
           "name": "",
           "showlegend": false,
           "subplot": "mapbox",
           "type": "scattermapbox"
          }
         ],
         "name": "2022-04-02"
        },
        {
         "data": [
          {
           "customdata": [
            [
             "MP 01: Naamsestraat 35  Maxim"
            ],
            [
             "MP 02: Naamsestraat 57 Xior"
            ],
            [
             "MP 03: Naamsestraat 62 Taste"
            ],
            [
             "MP 05: Calvariekapel KU Leuven"
            ],
            [
             "MP 06: Parkstraat 2 La Filosovia"
            ],
            [
             "MP 07: Naamsestraat 81"
            ]
           ],
           "hovertemplate": "ts_str=2022-04-03<br>Human voice - Shouting=%{marker.size}<br>latitude=%{lat}<br>longitude=%{lon}<br>description=%{customdata[0]}<extra></extra>",
           "lat": [
            50.877160828051615,
            50.87649057167669,
            50.875850541602986,
            50.87448678827803,
            50.87409073433792,
            50.87381822269834
           ],
           "legendgroup": "",
           "lon": [
            4.7006992525313445,
            4.700691639839767,
            4.700192168675618,
            4.699889625684066,
            4.700018371714718,
            4.70010170607578
           ],
           "marker": {
            "color": "#636efa",
            "size": [
             0,
             1,
             0,
             0,
             1,
             0
            ],
            "sizemode": "area",
            "sizeref": 0.1825
           },
           "mode": "markers",
           "name": "",
           "showlegend": false,
           "subplot": "mapbox",
           "type": "scattermapbox"
          }
         ],
         "name": "2022-04-03"
        },
        {
         "data": [
          {
           "customdata": [
            [
             "MP 01: Naamsestraat 35  Maxim"
            ],
            [
             "MP 02: Naamsestraat 57 Xior"
            ],
            [
             "MP 03: Naamsestraat 62 Taste"
            ],
            [
             "MP 05: Calvariekapel KU Leuven"
            ],
            [
             "MP 06: Parkstraat 2 La Filosovia"
            ],
            [
             "MP 07: Naamsestraat 81"
            ]
           ],
           "hovertemplate": "ts_str=2022-04-04<br>Human voice - Shouting=%{marker.size}<br>latitude=%{lat}<br>longitude=%{lon}<br>description=%{customdata[0]}<extra></extra>",
           "lat": [
            50.877160828051615,
            50.87649057167669,
            50.875850541602986,
            50.87448678827803,
            50.87409073433792,
            50.87381822269834
           ],
           "legendgroup": "",
           "lon": [
            4.7006992525313445,
            4.700691639839767,
            4.700192168675618,
            4.699889625684066,
            4.700018371714718,
            4.70010170607578
           ],
           "marker": {
            "color": "#636efa",
            "size": [
             3,
             4,
             1,
             6,
             3,
             2
            ],
            "sizemode": "area",
            "sizeref": 0.1825
           },
           "mode": "markers",
           "name": "",
           "showlegend": false,
           "subplot": "mapbox",
           "type": "scattermapbox"
          }
         ],
         "name": "2022-04-04"
        },
        {
         "data": [
          {
           "customdata": [
            [
             "MP 01: Naamsestraat 35  Maxim"
            ],
            [
             "MP 02: Naamsestraat 57 Xior"
            ],
            [
             "MP 03: Naamsestraat 62 Taste"
            ],
            [
             "MP 05: Calvariekapel KU Leuven"
            ],
            [
             "MP 06: Parkstraat 2 La Filosovia"
            ],
            [
             "MP 07: Naamsestraat 81"
            ]
           ],
           "hovertemplate": "ts_str=2022-04-05<br>Human voice - Shouting=%{marker.size}<br>latitude=%{lat}<br>longitude=%{lon}<br>description=%{customdata[0]}<extra></extra>",
           "lat": [
            50.877160828051615,
            50.87649057167669,
            50.875850541602986,
            50.87448678827803,
            50.87409073433792,
            50.87381822269834
           ],
           "legendgroup": "",
           "lon": [
            4.7006992525313445,
            4.700691639839767,
            4.700192168675618,
            4.699889625684066,
            4.700018371714718,
            4.70010170607578
           ],
           "marker": {
            "color": "#636efa",
            "size": [
             4,
             2,
             14,
             2,
             0,
             0
            ],
            "sizemode": "area",
            "sizeref": 0.1825
           },
           "mode": "markers",
           "name": "",
           "showlegend": false,
           "subplot": "mapbox",
           "type": "scattermapbox"
          }
         ],
         "name": "2022-04-05"
        },
        {
         "data": [
          {
           "customdata": [
            [
             "MP 01: Naamsestraat 35  Maxim"
            ],
            [
             "MP 02: Naamsestraat 57 Xior"
            ],
            [
             "MP 03: Naamsestraat 62 Taste"
            ],
            [
             "MP 05: Calvariekapel KU Leuven"
            ],
            [
             "MP 06: Parkstraat 2 La Filosovia"
            ],
            [
             "MP 07: Naamsestraat 81"
            ]
           ],
           "hovertemplate": "ts_str=2022-04-06<br>Human voice - Shouting=%{marker.size}<br>latitude=%{lat}<br>longitude=%{lon}<br>description=%{customdata[0]}<extra></extra>",
           "lat": [
            50.877160828051615,
            50.87649057167669,
            50.875850541602986,
            50.87448678827803,
            50.87409073433792,
            50.87381822269834
           ],
           "legendgroup": "",
           "lon": [
            4.7006992525313445,
            4.700691639839767,
            4.700192168675618,
            4.699889625684066,
            4.700018371714718,
            4.70010170607578
           ],
           "marker": {
            "color": "#636efa",
            "size": [
             2,
             6,
             1,
             5,
             2,
             0
            ],
            "sizemode": "area",
            "sizeref": 0.1825
           },
           "mode": "markers",
           "name": "",
           "showlegend": false,
           "subplot": "mapbox",
           "type": "scattermapbox"
          }
         ],
         "name": "2022-04-06"
        },
        {
         "data": [
          {
           "customdata": [
            [
             "MP 01: Naamsestraat 35  Maxim"
            ],
            [
             "MP 02: Naamsestraat 57 Xior"
            ],
            [
             "MP 03: Naamsestraat 62 Taste"
            ],
            [
             "MP 05: Calvariekapel KU Leuven"
            ],
            [
             "MP 06: Parkstraat 2 La Filosovia"
            ],
            [
             "MP 07: Naamsestraat 81"
            ]
           ],
           "hovertemplate": "ts_str=2022-04-07<br>Human voice - Shouting=%{marker.size}<br>latitude=%{lat}<br>longitude=%{lon}<br>description=%{customdata[0]}<extra></extra>",
           "lat": [
            50.877160828051615,
            50.87649057167669,
            50.875850541602986,
            50.87448678827803,
            50.87409073433792,
            50.87381822269834
           ],
           "legendgroup": "",
           "lon": [
            4.7006992525313445,
            4.700691639839767,
            4.700192168675618,
            4.699889625684066,
            4.700018371714718,
            4.70010170607578
           ],
           "marker": {
            "color": "#636efa",
            "size": [
             2,
             3,
             0,
             2,
             0,
             0
            ],
            "sizemode": "area",
            "sizeref": 0.1825
           },
           "mode": "markers",
           "name": "",
           "showlegend": false,
           "subplot": "mapbox",
           "type": "scattermapbox"
          }
         ],
         "name": "2022-04-07"
        },
        {
         "data": [
          {
           "customdata": [
            [
             "MP 01: Naamsestraat 35  Maxim"
            ],
            [
             "MP 02: Naamsestraat 57 Xior"
            ],
            [
             "MP 03: Naamsestraat 62 Taste"
            ],
            [
             "MP 05: Calvariekapel KU Leuven"
            ],
            [
             "MP 06: Parkstraat 2 La Filosovia"
            ],
            [
             "MP 07: Naamsestraat 81"
            ]
           ],
           "hovertemplate": "ts_str=2022-04-08<br>Human voice - Shouting=%{marker.size}<br>latitude=%{lat}<br>longitude=%{lon}<br>description=%{customdata[0]}<extra></extra>",
           "lat": [
            50.877160828051615,
            50.87649057167669,
            50.875850541602986,
            50.87448678827803,
            50.87409073433792,
            50.87381822269834
           ],
           "legendgroup": "",
           "lon": [
            4.7006992525313445,
            4.700691639839767,
            4.700192168675618,
            4.699889625684066,
            4.700018371714718,
            4.70010170607578
           ],
           "marker": {
            "color": "#636efa",
            "size": [
             4,
             5,
             2,
             3,
             0,
             0
            ],
            "sizemode": "area",
            "sizeref": 0.1825
           },
           "mode": "markers",
           "name": "",
           "showlegend": false,
           "subplot": "mapbox",
           "type": "scattermapbox"
          }
         ],
         "name": "2022-04-08"
        },
        {
         "data": [
          {
           "customdata": [
            [
             "MP 01: Naamsestraat 35  Maxim"
            ],
            [
             "MP 02: Naamsestraat 57 Xior"
            ],
            [
             "MP 03: Naamsestraat 62 Taste"
            ],
            [
             "MP 05: Calvariekapel KU Leuven"
            ],
            [
             "MP 06: Parkstraat 2 La Filosovia"
            ],
            [
             "MP 07: Naamsestraat 81"
            ]
           ],
           "hovertemplate": "ts_str=2022-04-09<br>Human voice - Shouting=%{marker.size}<br>latitude=%{lat}<br>longitude=%{lon}<br>description=%{customdata[0]}<extra></extra>",
           "lat": [
            50.877160828051615,
            50.87649057167669,
            50.875850541602986,
            50.87448678827803,
            50.87409073433792,
            50.87381822269834
           ],
           "legendgroup": "",
           "lon": [
            4.7006992525313445,
            4.700691639839767,
            4.700192168675618,
            4.699889625684066,
            4.700018371714718,
            4.70010170607578
           ],
           "marker": {
            "color": "#636efa",
            "size": [
             2,
             3,
             0,
             1,
             0,
             0
            ],
            "sizemode": "area",
            "sizeref": 0.1825
           },
           "mode": "markers",
           "name": "",
           "showlegend": false,
           "subplot": "mapbox",
           "type": "scattermapbox"
          }
         ],
         "name": "2022-04-09"
        },
        {
         "data": [
          {
           "customdata": [
            [
             "MP 01: Naamsestraat 35  Maxim"
            ],
            [
             "MP 02: Naamsestraat 57 Xior"
            ],
            [
             "MP 03: Naamsestraat 62 Taste"
            ],
            [
             "MP 05: Calvariekapel KU Leuven"
            ],
            [
             "MP 06: Parkstraat 2 La Filosovia"
            ],
            [
             "MP 07: Naamsestraat 81"
            ]
           ],
           "hovertemplate": "ts_str=2022-04-10<br>Human voice - Shouting=%{marker.size}<br>latitude=%{lat}<br>longitude=%{lon}<br>description=%{customdata[0]}<extra></extra>",
           "lat": [
            50.877160828051615,
            50.87649057167669,
            50.875850541602986,
            50.87448678827803,
            50.87409073433792,
            50.87381822269834
           ],
           "legendgroup": "",
           "lon": [
            4.7006992525313445,
            4.700691639839767,
            4.700192168675618,
            4.699889625684066,
            4.700018371714718,
            4.70010170607578
           ],
           "marker": {
            "color": "#636efa",
            "size": [
             0,
             0,
             1,
             0,
             0,
             0
            ],
            "sizemode": "area",
            "sizeref": 0.1825
           },
           "mode": "markers",
           "name": "",
           "showlegend": false,
           "subplot": "mapbox",
           "type": "scattermapbox"
          }
         ],
         "name": "2022-04-10"
        },
        {
         "data": [
          {
           "customdata": [
            [
             "MP 01: Naamsestraat 35  Maxim"
            ],
            [
             "MP 02: Naamsestraat 57 Xior"
            ],
            [
             "MP 03: Naamsestraat 62 Taste"
            ],
            [
             "MP 05: Calvariekapel KU Leuven"
            ],
            [
             "MP 06: Parkstraat 2 La Filosovia"
            ],
            [
             "MP 07: Naamsestraat 81"
            ]
           ],
           "hovertemplate": "ts_str=2022-04-11<br>Human voice - Shouting=%{marker.size}<br>latitude=%{lat}<br>longitude=%{lon}<br>description=%{customdata[0]}<extra></extra>",
           "lat": [
            50.877160828051615,
            50.87649057167669,
            50.875850541602986,
            50.87448678827803,
            50.87409073433792,
            50.87381822269834
           ],
           "legendgroup": "",
           "lon": [
            4.7006992525313445,
            4.700691639839767,
            4.700192168675618,
            4.699889625684066,
            4.700018371714718,
            4.70010170607578
           ],
           "marker": {
            "color": "#636efa",
            "size": [
             14,
             5,
             1,
             3,
             10,
             0
            ],
            "sizemode": "area",
            "sizeref": 0.1825
           },
           "mode": "markers",
           "name": "",
           "showlegend": false,
           "subplot": "mapbox",
           "type": "scattermapbox"
          }
         ],
         "name": "2022-04-11"
        },
        {
         "data": [
          {
           "customdata": [
            [
             "MP 01: Naamsestraat 35  Maxim"
            ],
            [
             "MP 02: Naamsestraat 57 Xior"
            ],
            [
             "MP 03: Naamsestraat 62 Taste"
            ],
            [
             "MP 05: Calvariekapel KU Leuven"
            ],
            [
             "MP 06: Parkstraat 2 La Filosovia"
            ],
            [
             "MP 07: Naamsestraat 81"
            ]
           ],
           "hovertemplate": "ts_str=2022-04-12<br>Human voice - Shouting=%{marker.size}<br>latitude=%{lat}<br>longitude=%{lon}<br>description=%{customdata[0]}<extra></extra>",
           "lat": [
            50.877160828051615,
            50.87649057167669,
            50.875850541602986,
            50.87448678827803,
            50.87409073433792,
            50.87381822269834
           ],
           "legendgroup": "",
           "lon": [
            4.7006992525313445,
            4.700691639839767,
            4.700192168675618,
            4.699889625684066,
            4.700018371714718,
            4.70010170607578
           ],
           "marker": {
            "color": "#636efa",
            "size": [
             3,
             8,
             7,
             0,
             3,
             0
            ],
            "sizemode": "area",
            "sizeref": 0.1825
           },
           "mode": "markers",
           "name": "",
           "showlegend": false,
           "subplot": "mapbox",
           "type": "scattermapbox"
          }
         ],
         "name": "2022-04-12"
        },
        {
         "data": [
          {
           "customdata": [
            [
             "MP 01: Naamsestraat 35  Maxim"
            ],
            [
             "MP 02: Naamsestraat 57 Xior"
            ],
            [
             "MP 03: Naamsestraat 62 Taste"
            ],
            [
             "MP 05: Calvariekapel KU Leuven"
            ],
            [
             "MP 06: Parkstraat 2 La Filosovia"
            ],
            [
             "MP 07: Naamsestraat 81"
            ]
           ],
           "hovertemplate": "ts_str=2022-04-13<br>Human voice - Shouting=%{marker.size}<br>latitude=%{lat}<br>longitude=%{lon}<br>description=%{customdata[0]}<extra></extra>",
           "lat": [
            50.877160828051615,
            50.87649057167669,
            50.875850541602986,
            50.87448678827803,
            50.87409073433792,
            50.87381822269834
           ],
           "legendgroup": "",
           "lon": [
            4.7006992525313445,
            4.700691639839767,
            4.700192168675618,
            4.699889625684066,
            4.700018371714718,
            4.70010170607578
           ],
           "marker": {
            "color": "#636efa",
            "size": [
             10,
             0,
             2,
             2,
             1,
             1
            ],
            "sizemode": "area",
            "sizeref": 0.1825
           },
           "mode": "markers",
           "name": "",
           "showlegend": false,
           "subplot": "mapbox",
           "type": "scattermapbox"
          }
         ],
         "name": "2022-04-13"
        },
        {
         "data": [
          {
           "customdata": [
            [
             "MP 01: Naamsestraat 35  Maxim"
            ],
            [
             "MP 02: Naamsestraat 57 Xior"
            ],
            [
             "MP 03: Naamsestraat 62 Taste"
            ],
            [
             "MP 05: Calvariekapel KU Leuven"
            ],
            [
             "MP 06: Parkstraat 2 La Filosovia"
            ],
            [
             "MP 07: Naamsestraat 81"
            ]
           ],
           "hovertemplate": "ts_str=2022-04-14<br>Human voice - Shouting=%{marker.size}<br>latitude=%{lat}<br>longitude=%{lon}<br>description=%{customdata[0]}<extra></extra>",
           "lat": [
            50.877160828051615,
            50.87649057167669,
            50.875850541602986,
            50.87448678827803,
            50.87409073433792,
            50.87381822269834
           ],
           "legendgroup": "",
           "lon": [
            4.7006992525313445,
            4.700691639839767,
            4.700192168675618,
            4.699889625684066,
            4.700018371714718,
            4.70010170607578
           ],
           "marker": {
            "color": "#636efa",
            "size": [
             4,
             2,
             0,
             1,
             0,
             0
            ],
            "sizemode": "area",
            "sizeref": 0.1825
           },
           "mode": "markers",
           "name": "",
           "showlegend": false,
           "subplot": "mapbox",
           "type": "scattermapbox"
          }
         ],
         "name": "2022-04-14"
        },
        {
         "data": [
          {
           "customdata": [
            [
             "MP 01: Naamsestraat 35  Maxim"
            ],
            [
             "MP 02: Naamsestraat 57 Xior"
            ],
            [
             "MP 03: Naamsestraat 62 Taste"
            ],
            [
             "MP 05: Calvariekapel KU Leuven"
            ],
            [
             "MP 06: Parkstraat 2 La Filosovia"
            ],
            [
             "MP 07: Naamsestraat 81"
            ]
           ],
           "hovertemplate": "ts_str=2022-04-15<br>Human voice - Shouting=%{marker.size}<br>latitude=%{lat}<br>longitude=%{lon}<br>description=%{customdata[0]}<extra></extra>",
           "lat": [
            50.877160828051615,
            50.87649057167669,
            50.875850541602986,
            50.87448678827803,
            50.87409073433792,
            50.87381822269834
           ],
           "legendgroup": "",
           "lon": [
            4.7006992525313445,
            4.700691639839767,
            4.700192168675618,
            4.699889625684066,
            4.700018371714718,
            4.70010170607578
           ],
           "marker": {
            "color": "#636efa",
            "size": [
             1,
             1,
             0,
             3,
             0,
             0
            ],
            "sizemode": "area",
            "sizeref": 0.1825
           },
           "mode": "markers",
           "name": "",
           "showlegend": false,
           "subplot": "mapbox",
           "type": "scattermapbox"
          }
         ],
         "name": "2022-04-15"
        },
        {
         "data": [
          {
           "customdata": [
            [
             "MP 01: Naamsestraat 35  Maxim"
            ],
            [
             "MP 02: Naamsestraat 57 Xior"
            ],
            [
             "MP 03: Naamsestraat 62 Taste"
            ],
            [
             "MP 05: Calvariekapel KU Leuven"
            ],
            [
             "MP 06: Parkstraat 2 La Filosovia"
            ],
            [
             "MP 07: Naamsestraat 81"
            ]
           ],
           "hovertemplate": "ts_str=2022-04-16<br>Human voice - Shouting=%{marker.size}<br>latitude=%{lat}<br>longitude=%{lon}<br>description=%{customdata[0]}<extra></extra>",
           "lat": [
            50.877160828051615,
            50.87649057167669,
            50.875850541602986,
            50.87448678827803,
            50.87409073433792,
            50.87381822269834
           ],
           "legendgroup": "",
           "lon": [
            4.7006992525313445,
            4.700691639839767,
            4.700192168675618,
            4.699889625684066,
            4.700018371714718,
            4.70010170607578
           ],
           "marker": {
            "color": "#636efa",
            "size": [
             1,
             0,
             0,
             1,
             0,
             0
            ],
            "sizemode": "area",
            "sizeref": 0.1825
           },
           "mode": "markers",
           "name": "",
           "showlegend": false,
           "subplot": "mapbox",
           "type": "scattermapbox"
          }
         ],
         "name": "2022-04-16"
        },
        {
         "data": [
          {
           "customdata": [
            [
             "MP 01: Naamsestraat 35  Maxim"
            ],
            [
             "MP 02: Naamsestraat 57 Xior"
            ],
            [
             "MP 03: Naamsestraat 62 Taste"
            ],
            [
             "MP 05: Calvariekapel KU Leuven"
            ],
            [
             "MP 06: Parkstraat 2 La Filosovia"
            ],
            [
             "MP 07: Naamsestraat 81"
            ]
           ],
           "hovertemplate": "ts_str=2022-04-17<br>Human voice - Shouting=%{marker.size}<br>latitude=%{lat}<br>longitude=%{lon}<br>description=%{customdata[0]}<extra></extra>",
           "lat": [
            50.877160828051615,
            50.87649057167669,
            50.875850541602986,
            50.87448678827803,
            50.87409073433792,
            50.87381822269834
           ],
           "legendgroup": "",
           "lon": [
            4.7006992525313445,
            4.700691639839767,
            4.700192168675618,
            4.699889625684066,
            4.700018371714718,
            4.70010170607578
           ],
           "marker": {
            "color": "#636efa",
            "size": [
             0,
             0,
             0,
             0,
             0,
             0
            ],
            "sizemode": "area",
            "sizeref": 0.1825
           },
           "mode": "markers",
           "name": "",
           "showlegend": false,
           "subplot": "mapbox",
           "type": "scattermapbox"
          }
         ],
         "name": "2022-04-17"
        },
        {
         "data": [
          {
           "customdata": [
            [
             "MP 01: Naamsestraat 35  Maxim"
            ],
            [
             "MP 02: Naamsestraat 57 Xior"
            ],
            [
             "MP 03: Naamsestraat 62 Taste"
            ],
            [
             "MP 05: Calvariekapel KU Leuven"
            ],
            [
             "MP 06: Parkstraat 2 La Filosovia"
            ],
            [
             "MP 07: Naamsestraat 81"
            ]
           ],
           "hovertemplate": "ts_str=2022-04-18<br>Human voice - Shouting=%{marker.size}<br>latitude=%{lat}<br>longitude=%{lon}<br>description=%{customdata[0]}<extra></extra>",
           "lat": [
            50.877160828051615,
            50.87649057167669,
            50.875850541602986,
            50.87448678827803,
            50.87409073433792,
            50.87381822269834
           ],
           "legendgroup": "",
           "lon": [
            4.7006992525313445,
            4.700691639839767,
            4.700192168675618,
            4.699889625684066,
            4.700018371714718,
            4.70010170607578
           ],
           "marker": {
            "color": "#636efa",
            "size": [
             0,
             2,
             0,
             0,
             2,
             0
            ],
            "sizemode": "area",
            "sizeref": 0.1825
           },
           "mode": "markers",
           "name": "",
           "showlegend": false,
           "subplot": "mapbox",
           "type": "scattermapbox"
          }
         ],
         "name": "2022-04-18"
        },
        {
         "data": [
          {
           "customdata": [
            [
             "MP 01: Naamsestraat 35  Maxim"
            ],
            [
             "MP 02: Naamsestraat 57 Xior"
            ],
            [
             "MP 03: Naamsestraat 62 Taste"
            ],
            [
             "MP 05: Calvariekapel KU Leuven"
            ],
            [
             "MP 06: Parkstraat 2 La Filosovia"
            ],
            [
             "MP 07: Naamsestraat 81"
            ]
           ],
           "hovertemplate": "ts_str=2022-04-19<br>Human voice - Shouting=%{marker.size}<br>latitude=%{lat}<br>longitude=%{lon}<br>description=%{customdata[0]}<extra></extra>",
           "lat": [
            50.877160828051615,
            50.87649057167669,
            50.875850541602986,
            50.87448678827803,
            50.87409073433792,
            50.87381822269834
           ],
           "legendgroup": "",
           "lon": [
            4.7006992525313445,
            4.700691639839767,
            4.700192168675618,
            4.699889625684066,
            4.700018371714718,
            4.70010170607578
           ],
           "marker": {
            "color": "#636efa",
            "size": [
             11,
             1,
             1,
             4,
             1,
             0
            ],
            "sizemode": "area",
            "sizeref": 0.1825
           },
           "mode": "markers",
           "name": "",
           "showlegend": false,
           "subplot": "mapbox",
           "type": "scattermapbox"
          }
         ],
         "name": "2022-04-19"
        },
        {
         "data": [
          {
           "customdata": [
            [
             "MP 01: Naamsestraat 35  Maxim"
            ],
            [
             "MP 02: Naamsestraat 57 Xior"
            ],
            [
             "MP 03: Naamsestraat 62 Taste"
            ],
            [
             "MP 05: Calvariekapel KU Leuven"
            ],
            [
             "MP 06: Parkstraat 2 La Filosovia"
            ],
            [
             "MP 07: Naamsestraat 81"
            ],
            [
             "MP08bis - Vrijthof"
            ]
           ],
           "hovertemplate": "ts_str=2022-04-20<br>Human voice - Shouting=%{marker.size}<br>latitude=%{lat}<br>longitude=%{lon}<br>description=%{customdata[0]}<extra></extra>",
           "lat": [
            50.877160828051615,
            50.87649057167669,
            50.875850541602986,
            50.87448678827803,
            50.87409073433792,
            50.87381822269834,
            50.87890579999999
           ],
           "legendgroup": "",
           "lon": [
            4.7006992525313445,
            4.700691639839767,
            4.700192168675618,
            4.699889625684066,
            4.700018371714718,
            4.70010170607578,
            4.7011444846213415
           ],
           "marker": {
            "color": "#636efa",
            "size": [
             8,
             1,
             1,
             4,
             4,
             2,
             0
            ],
            "sizemode": "area",
            "sizeref": 0.1825
           },
           "mode": "markers",
           "name": "",
           "showlegend": false,
           "subplot": "mapbox",
           "type": "scattermapbox"
          }
         ],
         "name": "2022-04-20"
        },
        {
         "data": [
          {
           "customdata": [
            [
             "MP 01: Naamsestraat 35  Maxim"
            ],
            [
             "MP 02: Naamsestraat 57 Xior"
            ],
            [
             "MP 03: Naamsestraat 62 Taste"
            ],
            [
             "MP 05: Calvariekapel KU Leuven"
            ],
            [
             "MP 06: Parkstraat 2 La Filosovia"
            ],
            [
             "MP 07: Naamsestraat 81"
            ]
           ],
           "hovertemplate": "ts_str=2022-04-21<br>Human voice - Shouting=%{marker.size}<br>latitude=%{lat}<br>longitude=%{lon}<br>description=%{customdata[0]}<extra></extra>",
           "lat": [
            50.877160828051615,
            50.87649057167669,
            50.875850541602986,
            50.87448678827803,
            50.87409073433792,
            50.87381822269834
           ],
           "legendgroup": "",
           "lon": [
            4.7006992525313445,
            4.700691639839767,
            4.700192168675618,
            4.699889625684066,
            4.700018371714718,
            4.70010170607578
           ],
           "marker": {
            "color": "#636efa",
            "size": [
             5,
             2,
             2,
             5,
             0,
             1
            ],
            "sizemode": "area",
            "sizeref": 0.1825
           },
           "mode": "markers",
           "name": "",
           "showlegend": false,
           "subplot": "mapbox",
           "type": "scattermapbox"
          }
         ],
         "name": "2022-04-21"
        },
        {
         "data": [
          {
           "customdata": [
            [
             "MP 01: Naamsestraat 35  Maxim"
            ],
            [
             "MP 02: Naamsestraat 57 Xior"
            ],
            [
             "MP 03: Naamsestraat 62 Taste"
            ],
            [
             "MP 05: Calvariekapel KU Leuven"
            ],
            [
             "MP 06: Parkstraat 2 La Filosovia"
            ],
            [
             "MP 07: Naamsestraat 81"
            ]
           ],
           "hovertemplate": "ts_str=2022-04-22<br>Human voice - Shouting=%{marker.size}<br>latitude=%{lat}<br>longitude=%{lon}<br>description=%{customdata[0]}<extra></extra>",
           "lat": [
            50.877160828051615,
            50.87649057167669,
            50.875850541602986,
            50.87448678827803,
            50.87409073433792,
            50.87381822269834
           ],
           "legendgroup": "",
           "lon": [
            4.7006992525313445,
            4.700691639839767,
            4.700192168675618,
            4.699889625684066,
            4.700018371714718,
            4.70010170607578
           ],
           "marker": {
            "color": "#636efa",
            "size": [
             9,
             3,
             9,
             10,
             2,
             2
            ],
            "sizemode": "area",
            "sizeref": 0.1825
           },
           "mode": "markers",
           "name": "",
           "showlegend": false,
           "subplot": "mapbox",
           "type": "scattermapbox"
          }
         ],
         "name": "2022-04-22"
        },
        {
         "data": [
          {
           "customdata": [
            [
             "MP 01: Naamsestraat 35  Maxim"
            ],
            [
             "MP 02: Naamsestraat 57 Xior"
            ],
            [
             "MP 03: Naamsestraat 62 Taste"
            ],
            [
             "MP 05: Calvariekapel KU Leuven"
            ],
            [
             "MP 06: Parkstraat 2 La Filosovia"
            ],
            [
             "MP 07: Naamsestraat 81"
            ]
           ],
           "hovertemplate": "ts_str=2022-04-23<br>Human voice - Shouting=%{marker.size}<br>latitude=%{lat}<br>longitude=%{lon}<br>description=%{customdata[0]}<extra></extra>",
           "lat": [
            50.877160828051615,
            50.87649057167669,
            50.875850541602986,
            50.87448678827803,
            50.87409073433792,
            50.87381822269834
           ],
           "legendgroup": "",
           "lon": [
            4.7006992525313445,
            4.700691639839767,
            4.700192168675618,
            4.699889625684066,
            4.700018371714718,
            4.70010170607578
           ],
           "marker": {
            "color": "#636efa",
            "size": [
             0,
             0,
             0,
             0,
             1,
             0
            ],
            "sizemode": "area",
            "sizeref": 0.1825
           },
           "mode": "markers",
           "name": "",
           "showlegend": false,
           "subplot": "mapbox",
           "type": "scattermapbox"
          }
         ],
         "name": "2022-04-23"
        },
        {
         "data": [
          {
           "customdata": [
            [
             "MP 01: Naamsestraat 35  Maxim"
            ],
            [
             "MP 02: Naamsestraat 57 Xior"
            ],
            [
             "MP 03: Naamsestraat 62 Taste"
            ],
            [
             "MP 05: Calvariekapel KU Leuven"
            ],
            [
             "MP 06: Parkstraat 2 La Filosovia"
            ],
            [
             "MP 07: Naamsestraat 81"
            ],
            [
             "MP08bis - Vrijthof"
            ]
           ],
           "hovertemplate": "ts_str=2022-04-24<br>Human voice - Shouting=%{marker.size}<br>latitude=%{lat}<br>longitude=%{lon}<br>description=%{customdata[0]}<extra></extra>",
           "lat": [
            50.877160828051615,
            50.87649057167669,
            50.875850541602986,
            50.87448678827803,
            50.87409073433792,
            50.87381822269834,
            50.87890579999999
           ],
           "legendgroup": "",
           "lon": [
            4.7006992525313445,
            4.700691639839767,
            4.700192168675618,
            4.699889625684066,
            4.700018371714718,
            4.70010170607578,
            4.7011444846213415
           ],
           "marker": {
            "color": "#636efa",
            "size": [
             1,
             1,
             5,
             0,
             0,
             0,
             0
            ],
            "sizemode": "area",
            "sizeref": 0.1825
           },
           "mode": "markers",
           "name": "",
           "showlegend": false,
           "subplot": "mapbox",
           "type": "scattermapbox"
          }
         ],
         "name": "2022-04-24"
        },
        {
         "data": [
          {
           "customdata": [
            [
             "MP 01: Naamsestraat 35  Maxim"
            ],
            [
             "MP 02: Naamsestraat 57 Xior"
            ],
            [
             "MP 03: Naamsestraat 62 Taste"
            ],
            [
             "MP 05: Calvariekapel KU Leuven"
            ],
            [
             "MP 06: Parkstraat 2 La Filosovia"
            ],
            [
             "MP 07: Naamsestraat 81"
            ]
           ],
           "hovertemplate": "ts_str=2022-04-25<br>Human voice - Shouting=%{marker.size}<br>latitude=%{lat}<br>longitude=%{lon}<br>description=%{customdata[0]}<extra></extra>",
           "lat": [
            50.877160828051615,
            50.87649057167669,
            50.875850541602986,
            50.87448678827803,
            50.87409073433792,
            50.87381822269834
           ],
           "legendgroup": "",
           "lon": [
            4.7006992525313445,
            4.700691639839767,
            4.700192168675618,
            4.699889625684066,
            4.700018371714718,
            4.70010170607578
           ],
           "marker": {
            "color": "#636efa",
            "size": [
             1,
             1,
             2,
             4,
             17,
             0
            ],
            "sizemode": "area",
            "sizeref": 0.1825
           },
           "mode": "markers",
           "name": "",
           "showlegend": false,
           "subplot": "mapbox",
           "type": "scattermapbox"
          }
         ],
         "name": "2022-04-25"
        },
        {
         "data": [
          {
           "customdata": [
            [
             "MP 01: Naamsestraat 35  Maxim"
            ],
            [
             "MP 02: Naamsestraat 57 Xior"
            ],
            [
             "MP 03: Naamsestraat 62 Taste"
            ],
            [
             "MP 05: Calvariekapel KU Leuven"
            ],
            [
             "MP 06: Parkstraat 2 La Filosovia"
            ],
            [
             "MP 07: Naamsestraat 81"
            ]
           ],
           "hovertemplate": "ts_str=2022-04-26<br>Human voice - Shouting=%{marker.size}<br>latitude=%{lat}<br>longitude=%{lon}<br>description=%{customdata[0]}<extra></extra>",
           "lat": [
            50.877160828051615,
            50.87649057167669,
            50.875850541602986,
            50.87448678827803,
            50.87409073433792,
            50.87381822269834
           ],
           "legendgroup": "",
           "lon": [
            4.7006992525313445,
            4.700691639839767,
            4.700192168675618,
            4.699889625684066,
            4.700018371714718,
            4.70010170607578
           ],
           "marker": {
            "color": "#636efa",
            "size": [
             4,
             2,
             4,
             1,
             2,
             2
            ],
            "sizemode": "area",
            "sizeref": 0.1825
           },
           "mode": "markers",
           "name": "",
           "showlegend": false,
           "subplot": "mapbox",
           "type": "scattermapbox"
          }
         ],
         "name": "2022-04-26"
        },
        {
         "data": [
          {
           "customdata": [
            [
             "MP 01: Naamsestraat 35  Maxim"
            ],
            [
             "MP 02: Naamsestraat 57 Xior"
            ],
            [
             "MP 03: Naamsestraat 62 Taste"
            ],
            [
             "MP 05: Calvariekapel KU Leuven"
            ],
            [
             "MP 06: Parkstraat 2 La Filosovia"
            ],
            [
             "MP 07: Naamsestraat 81"
            ]
           ],
           "hovertemplate": "ts_str=2022-04-27<br>Human voice - Shouting=%{marker.size}<br>latitude=%{lat}<br>longitude=%{lon}<br>description=%{customdata[0]}<extra></extra>",
           "lat": [
            50.877160828051615,
            50.87649057167669,
            50.875850541602986,
            50.87448678827803,
            50.87409073433792,
            50.87381822269834
           ],
           "legendgroup": "",
           "lon": [
            4.7006992525313445,
            4.700691639839767,
            4.700192168675618,
            4.699889625684066,
            4.700018371714718,
            4.70010170607578
           ],
           "marker": {
            "color": "#636efa",
            "size": [
             5,
             4,
             2,
             3,
             1,
             2
            ],
            "sizemode": "area",
            "sizeref": 0.1825
           },
           "mode": "markers",
           "name": "",
           "showlegend": false,
           "subplot": "mapbox",
           "type": "scattermapbox"
          }
         ],
         "name": "2022-04-27"
        },
        {
         "data": [
          {
           "customdata": [
            [
             "MP 01: Naamsestraat 35  Maxim"
            ],
            [
             "MP 02: Naamsestraat 57 Xior"
            ],
            [
             "MP 03: Naamsestraat 62 Taste"
            ],
            [
             "MP 05: Calvariekapel KU Leuven"
            ],
            [
             "MP 06: Parkstraat 2 La Filosovia"
            ],
            [
             "MP 07: Naamsestraat 81"
            ]
           ],
           "hovertemplate": "ts_str=2022-04-28<br>Human voice - Shouting=%{marker.size}<br>latitude=%{lat}<br>longitude=%{lon}<br>description=%{customdata[0]}<extra></extra>",
           "lat": [
            50.877160828051615,
            50.87649057167669,
            50.875850541602986,
            50.87448678827803,
            50.87409073433792,
            50.87381822269834
           ],
           "legendgroup": "",
           "lon": [
            4.7006992525313445,
            4.700691639839767,
            4.700192168675618,
            4.699889625684066,
            4.700018371714718,
            4.70010170607578
           ],
           "marker": {
            "color": "#636efa",
            "size": [
             3,
             0,
             2,
             5,
             2,
             1
            ],
            "sizemode": "area",
            "sizeref": 0.1825
           },
           "mode": "markers",
           "name": "",
           "showlegend": false,
           "subplot": "mapbox",
           "type": "scattermapbox"
          }
         ],
         "name": "2022-04-28"
        },
        {
         "data": [
          {
           "customdata": [
            [
             "MP 01: Naamsestraat 35  Maxim"
            ],
            [
             "MP 02: Naamsestraat 57 Xior"
            ],
            [
             "MP 03: Naamsestraat 62 Taste"
            ],
            [
             "MP 05: Calvariekapel KU Leuven"
            ],
            [
             "MP 06: Parkstraat 2 La Filosovia"
            ],
            [
             "MP 07: Naamsestraat 81"
            ]
           ],
           "hovertemplate": "ts_str=2022-04-29<br>Human voice - Shouting=%{marker.size}<br>latitude=%{lat}<br>longitude=%{lon}<br>description=%{customdata[0]}<extra></extra>",
           "lat": [
            50.877160828051615,
            50.87649057167669,
            50.875850541602986,
            50.87448678827803,
            50.87409073433792,
            50.87381822269834
           ],
           "legendgroup": "",
           "lon": [
            4.7006992525313445,
            4.700691639839767,
            4.700192168675618,
            4.699889625684066,
            4.700018371714718,
            4.70010170607578
           ],
           "marker": {
            "color": "#636efa",
            "size": [
             12,
             4,
             3,
             2,
             1,
             3
            ],
            "sizemode": "area",
            "sizeref": 0.1825
           },
           "mode": "markers",
           "name": "",
           "showlegend": false,
           "subplot": "mapbox",
           "type": "scattermapbox"
          }
         ],
         "name": "2022-04-29"
        },
        {
         "data": [
          {
           "customdata": [
            [
             "MP 01: Naamsestraat 35  Maxim"
            ],
            [
             "MP 02: Naamsestraat 57 Xior"
            ],
            [
             "MP 03: Naamsestraat 62 Taste"
            ],
            [
             "MP 05: Calvariekapel KU Leuven"
            ],
            [
             "MP 06: Parkstraat 2 La Filosovia"
            ],
            [
             "MP 07: Naamsestraat 81"
            ]
           ],
           "hovertemplate": "ts_str=2022-04-30<br>Human voice - Shouting=%{marker.size}<br>latitude=%{lat}<br>longitude=%{lon}<br>description=%{customdata[0]}<extra></extra>",
           "lat": [
            50.877160828051615,
            50.87649057167669,
            50.875850541602986,
            50.87448678827803,
            50.87409073433792,
            50.87381822269834
           ],
           "legendgroup": "",
           "lon": [
            4.7006992525313445,
            4.700691639839767,
            4.700192168675618,
            4.699889625684066,
            4.700018371714718,
            4.70010170607578
           ],
           "marker": {
            "color": "#636efa",
            "size": [
             4,
             0,
             0,
             2,
             0,
             1
            ],
            "sizemode": "area",
            "sizeref": 0.1825
           },
           "mode": "markers",
           "name": "",
           "showlegend": false,
           "subplot": "mapbox",
           "type": "scattermapbox"
          }
         ],
         "name": "2022-04-30"
        },
        {
         "data": [
          {
           "customdata": [
            [
             "MP 01: Naamsestraat 35  Maxim"
            ],
            [
             "MP 02: Naamsestraat 57 Xior"
            ],
            [
             "MP 03: Naamsestraat 62 Taste"
            ],
            [
             "MP 05: Calvariekapel KU Leuven"
            ],
            [
             "MP 06: Parkstraat 2 La Filosovia"
            ],
            [
             "MP 07: Naamsestraat 81"
            ]
           ],
           "hovertemplate": "ts_str=2022-05-01<br>Human voice - Shouting=%{marker.size}<br>latitude=%{lat}<br>longitude=%{lon}<br>description=%{customdata[0]}<extra></extra>",
           "lat": [
            50.877160828051615,
            50.87649057167669,
            50.875850541602986,
            50.87448678827803,
            50.87409073433792,
            50.87381822269834
           ],
           "legendgroup": "",
           "lon": [
            4.7006992525313445,
            4.700691639839767,
            4.700192168675618,
            4.699889625684066,
            4.700018371714718,
            4.70010170607578
           ],
           "marker": {
            "color": "#636efa",
            "size": [
             1,
             0,
             0,
             0,
             0,
             0
            ],
            "sizemode": "area",
            "sizeref": 0.1825
           },
           "mode": "markers",
           "name": "",
           "showlegend": false,
           "subplot": "mapbox",
           "type": "scattermapbox"
          }
         ],
         "name": "2022-05-01"
        },
        {
         "data": [
          {
           "customdata": [
            [
             "MP 01: Naamsestraat 35  Maxim"
            ],
            [
             "MP 02: Naamsestraat 57 Xior"
            ],
            [
             "MP 03: Naamsestraat 62 Taste"
            ],
            [
             "MP 05: Calvariekapel KU Leuven"
            ],
            [
             "MP 06: Parkstraat 2 La Filosovia"
            ],
            [
             "MP 07: Naamsestraat 81"
            ],
            [
             "MP08bis - Vrijthof"
            ]
           ],
           "hovertemplate": "ts_str=2022-05-02<br>Human voice - Shouting=%{marker.size}<br>latitude=%{lat}<br>longitude=%{lon}<br>description=%{customdata[0]}<extra></extra>",
           "lat": [
            50.877160828051615,
            50.87649057167669,
            50.875850541602986,
            50.87448678827803,
            50.87409073433792,
            50.87381822269834,
            50.87890579999999
           ],
           "legendgroup": "",
           "lon": [
            4.7006992525313445,
            4.700691639839767,
            4.700192168675618,
            4.699889625684066,
            4.700018371714718,
            4.70010170607578,
            4.7011444846213415
           ],
           "marker": {
            "color": "#636efa",
            "size": [
             3,
             0,
             1,
             2,
             0,
             0,
             0
            ],
            "sizemode": "area",
            "sizeref": 0.1825
           },
           "mode": "markers",
           "name": "",
           "showlegend": false,
           "subplot": "mapbox",
           "type": "scattermapbox"
          }
         ],
         "name": "2022-05-02"
        },
        {
         "data": [
          {
           "customdata": [
            [
             "MP 01: Naamsestraat 35  Maxim"
            ],
            [
             "MP 02: Naamsestraat 57 Xior"
            ],
            [
             "MP 03: Naamsestraat 62 Taste"
            ],
            [
             "MP 05: Calvariekapel KU Leuven"
            ],
            [
             "MP 06: Parkstraat 2 La Filosovia"
            ],
            [
             "MP 07: Naamsestraat 81"
            ]
           ],
           "hovertemplate": "ts_str=2022-05-03<br>Human voice - Shouting=%{marker.size}<br>latitude=%{lat}<br>longitude=%{lon}<br>description=%{customdata[0]}<extra></extra>",
           "lat": [
            50.877160828051615,
            50.87649057167669,
            50.875850541602986,
            50.87448678827803,
            50.87409073433792,
            50.87381822269834
           ],
           "legendgroup": "",
           "lon": [
            4.7006992525313445,
            4.700691639839767,
            4.700192168675618,
            4.699889625684066,
            4.700018371714718,
            4.70010170607578
           ],
           "marker": {
            "color": "#636efa",
            "size": [
             0,
             0,
             1,
             4,
             1,
             1
            ],
            "sizemode": "area",
            "sizeref": 0.1825
           },
           "mode": "markers",
           "name": "",
           "showlegend": false,
           "subplot": "mapbox",
           "type": "scattermapbox"
          }
         ],
         "name": "2022-05-03"
        },
        {
         "data": [
          {
           "customdata": [
            [
             "MP 01: Naamsestraat 35  Maxim"
            ],
            [
             "MP 02: Naamsestraat 57 Xior"
            ],
            [
             "MP 03: Naamsestraat 62 Taste"
            ],
            [
             "MP 05: Calvariekapel KU Leuven"
            ],
            [
             "MP 06: Parkstraat 2 La Filosovia"
            ],
            [
             "MP 07: Naamsestraat 81"
            ]
           ],
           "hovertemplate": "ts_str=2022-05-04<br>Human voice - Shouting=%{marker.size}<br>latitude=%{lat}<br>longitude=%{lon}<br>description=%{customdata[0]}<extra></extra>",
           "lat": [
            50.877160828051615,
            50.87649057167669,
            50.875850541602986,
            50.87448678827803,
            50.87409073433792,
            50.87381822269834
           ],
           "legendgroup": "",
           "lon": [
            4.7006992525313445,
            4.700691639839767,
            4.700192168675618,
            4.699889625684066,
            4.700018371714718,
            4.70010170607578
           ],
           "marker": {
            "color": "#636efa",
            "size": [
             1,
             1,
             1,
             1,
             0,
             1
            ],
            "sizemode": "area",
            "sizeref": 0.1825
           },
           "mode": "markers",
           "name": "",
           "showlegend": false,
           "subplot": "mapbox",
           "type": "scattermapbox"
          }
         ],
         "name": "2022-05-04"
        },
        {
         "data": [
          {
           "customdata": [
            [
             "MP 01: Naamsestraat 35  Maxim"
            ],
            [
             "MP 02: Naamsestraat 57 Xior"
            ],
            [
             "MP 03: Naamsestraat 62 Taste"
            ],
            [
             "MP 05: Calvariekapel KU Leuven"
            ],
            [
             "MP 06: Parkstraat 2 La Filosovia"
            ],
            [
             "MP 07: Naamsestraat 81"
            ]
           ],
           "hovertemplate": "ts_str=2022-05-05<br>Human voice - Shouting=%{marker.size}<br>latitude=%{lat}<br>longitude=%{lon}<br>description=%{customdata[0]}<extra></extra>",
           "lat": [
            50.877160828051615,
            50.87649057167669,
            50.875850541602986,
            50.87448678827803,
            50.87409073433792,
            50.87381822269834
           ],
           "legendgroup": "",
           "lon": [
            4.7006992525313445,
            4.700691639839767,
            4.700192168675618,
            4.699889625684066,
            4.700018371714718,
            4.70010170607578
           ],
           "marker": {
            "color": "#636efa",
            "size": [
             0,
             0,
             1,
             3,
             2,
             2
            ],
            "sizemode": "area",
            "sizeref": 0.1825
           },
           "mode": "markers",
           "name": "",
           "showlegend": false,
           "subplot": "mapbox",
           "type": "scattermapbox"
          }
         ],
         "name": "2022-05-05"
        },
        {
         "data": [
          {
           "customdata": [
            [
             "MP 01: Naamsestraat 35  Maxim"
            ],
            [
             "MP 02: Naamsestraat 57 Xior"
            ],
            [
             "MP 03: Naamsestraat 62 Taste"
            ],
            [
             "MP 05: Calvariekapel KU Leuven"
            ],
            [
             "MP 06: Parkstraat 2 La Filosovia"
            ],
            [
             "MP 07: Naamsestraat 81"
            ]
           ],
           "hovertemplate": "ts_str=2022-05-06<br>Human voice - Shouting=%{marker.size}<br>latitude=%{lat}<br>longitude=%{lon}<br>description=%{customdata[0]}<extra></extra>",
           "lat": [
            50.877160828051615,
            50.87649057167669,
            50.875850541602986,
            50.87448678827803,
            50.87409073433792,
            50.87381822269834
           ],
           "legendgroup": "",
           "lon": [
            4.7006992525313445,
            4.700691639839767,
            4.700192168675618,
            4.699889625684066,
            4.700018371714718,
            4.70010170607578
           ],
           "marker": {
            "color": "#636efa",
            "size": [
             12,
             5,
             2,
             2,
             3,
             2
            ],
            "sizemode": "area",
            "sizeref": 0.1825
           },
           "mode": "markers",
           "name": "",
           "showlegend": false,
           "subplot": "mapbox",
           "type": "scattermapbox"
          }
         ],
         "name": "2022-05-06"
        },
        {
         "data": [
          {
           "customdata": [
            [
             "MP 01: Naamsestraat 35  Maxim"
            ],
            [
             "MP 02: Naamsestraat 57 Xior"
            ],
            [
             "MP 03: Naamsestraat 62 Taste"
            ],
            [
             "MP 05: Calvariekapel KU Leuven"
            ],
            [
             "MP 06: Parkstraat 2 La Filosovia"
            ],
            [
             "MP 07: Naamsestraat 81"
            ]
           ],
           "hovertemplate": "ts_str=2022-05-07<br>Human voice - Shouting=%{marker.size}<br>latitude=%{lat}<br>longitude=%{lon}<br>description=%{customdata[0]}<extra></extra>",
           "lat": [
            50.877160828051615,
            50.87649057167669,
            50.875850541602986,
            50.87448678827803,
            50.87409073433792,
            50.87381822269834
           ],
           "legendgroup": "",
           "lon": [
            4.7006992525313445,
            4.700691639839767,
            4.700192168675618,
            4.699889625684066,
            4.700018371714718,
            4.70010170607578
           ],
           "marker": {
            "color": "#636efa",
            "size": [
             8,
             0,
             2,
             2,
             0,
             1
            ],
            "sizemode": "area",
            "sizeref": 0.1825
           },
           "mode": "markers",
           "name": "",
           "showlegend": false,
           "subplot": "mapbox",
           "type": "scattermapbox"
          }
         ],
         "name": "2022-05-07"
        },
        {
         "data": [
          {
           "customdata": [
            [
             "MP 01: Naamsestraat 35  Maxim"
            ],
            [
             "MP 02: Naamsestraat 57 Xior"
            ],
            [
             "MP 03: Naamsestraat 62 Taste"
            ],
            [
             "MP 05: Calvariekapel KU Leuven"
            ],
            [
             "MP 06: Parkstraat 2 La Filosovia"
            ],
            [
             "MP 07: Naamsestraat 81"
            ]
           ],
           "hovertemplate": "ts_str=2022-05-08<br>Human voice - Shouting=%{marker.size}<br>latitude=%{lat}<br>longitude=%{lon}<br>description=%{customdata[0]}<extra></extra>",
           "lat": [
            50.877160828051615,
            50.87649057167669,
            50.875850541602986,
            50.87448678827803,
            50.87409073433792,
            50.87381822269834
           ],
           "legendgroup": "",
           "lon": [
            4.7006992525313445,
            4.700691639839767,
            4.700192168675618,
            4.699889625684066,
            4.700018371714718,
            4.70010170607578
           ],
           "marker": {
            "color": "#636efa",
            "size": [
             2,
             0,
             3,
             0,
             0,
             0
            ],
            "sizemode": "area",
            "sizeref": 0.1825
           },
           "mode": "markers",
           "name": "",
           "showlegend": false,
           "subplot": "mapbox",
           "type": "scattermapbox"
          }
         ],
         "name": "2022-05-08"
        },
        {
         "data": [
          {
           "customdata": [
            [
             "MP 01: Naamsestraat 35  Maxim"
            ],
            [
             "MP 02: Naamsestraat 57 Xior"
            ],
            [
             "MP 03: Naamsestraat 62 Taste"
            ],
            [
             "MP 05: Calvariekapel KU Leuven"
            ],
            [
             "MP 06: Parkstraat 2 La Filosovia"
            ],
            [
             "MP 07: Naamsestraat 81"
            ],
            [
             "MP08bis - Vrijthof"
            ]
           ],
           "hovertemplate": "ts_str=2022-05-09<br>Human voice - Shouting=%{marker.size}<br>latitude=%{lat}<br>longitude=%{lon}<br>description=%{customdata[0]}<extra></extra>",
           "lat": [
            50.877160828051615,
            50.87649057167669,
            50.875850541602986,
            50.87448678827803,
            50.87409073433792,
            50.87381822269834,
            50.87890579999999
           ],
           "legendgroup": "",
           "lon": [
            4.7006992525313445,
            4.700691639839767,
            4.700192168675618,
            4.699889625684066,
            4.700018371714718,
            4.70010170607578,
            4.7011444846213415
           ],
           "marker": {
            "color": "#636efa",
            "size": [
             3,
             1,
             0,
             0,
             0,
             0,
             0
            ],
            "sizemode": "area",
            "sizeref": 0.1825
           },
           "mode": "markers",
           "name": "",
           "showlegend": false,
           "subplot": "mapbox",
           "type": "scattermapbox"
          }
         ],
         "name": "2022-05-09"
        },
        {
         "data": [
          {
           "customdata": [
            [
             "MP 01: Naamsestraat 35  Maxim"
            ],
            [
             "MP 02: Naamsestraat 57 Xior"
            ],
            [
             "MP 03: Naamsestraat 62 Taste"
            ],
            [
             "MP 05: Calvariekapel KU Leuven"
            ],
            [
             "MP 06: Parkstraat 2 La Filosovia"
            ],
            [
             "MP 07: Naamsestraat 81"
            ],
            [
             "MP08bis - Vrijthof"
            ]
           ],
           "hovertemplate": "ts_str=2022-05-10<br>Human voice - Shouting=%{marker.size}<br>latitude=%{lat}<br>longitude=%{lon}<br>description=%{customdata[0]}<extra></extra>",
           "lat": [
            50.877160828051615,
            50.87649057167669,
            50.875850541602986,
            50.87448678827803,
            50.87409073433792,
            50.87381822269834,
            50.87890579999999
           ],
           "legendgroup": "",
           "lon": [
            4.7006992525313445,
            4.700691639839767,
            4.700192168675618,
            4.699889625684066,
            4.700018371714718,
            4.70010170607578,
            4.7011444846213415
           ],
           "marker": {
            "color": "#636efa",
            "size": [
             2,
             1,
             2,
             5,
             0,
             3,
             0
            ],
            "sizemode": "area",
            "sizeref": 0.1825
           },
           "mode": "markers",
           "name": "",
           "showlegend": false,
           "subplot": "mapbox",
           "type": "scattermapbox"
          }
         ],
         "name": "2022-05-10"
        },
        {
         "data": [
          {
           "customdata": [
            [
             "MP 01: Naamsestraat 35  Maxim"
            ],
            [
             "MP 02: Naamsestraat 57 Xior"
            ],
            [
             "MP 03: Naamsestraat 62 Taste"
            ],
            [
             "MP 05: Calvariekapel KU Leuven"
            ],
            [
             "MP 06: Parkstraat 2 La Filosovia"
            ],
            [
             "MP 07: Naamsestraat 81"
            ]
           ],
           "hovertemplate": "ts_str=2022-05-11<br>Human voice - Shouting=%{marker.size}<br>latitude=%{lat}<br>longitude=%{lon}<br>description=%{customdata[0]}<extra></extra>",
           "lat": [
            50.877160828051615,
            50.87649057167669,
            50.875850541602986,
            50.87448678827803,
            50.87409073433792,
            50.87381822269834
           ],
           "legendgroup": "",
           "lon": [
            4.7006992525313445,
            4.700691639839767,
            4.700192168675618,
            4.699889625684066,
            4.700018371714718,
            4.70010170607578
           ],
           "marker": {
            "color": "#636efa",
            "size": [
             3,
             1,
             3,
             3,
             2,
             1
            ],
            "sizemode": "area",
            "sizeref": 0.1825
           },
           "mode": "markers",
           "name": "",
           "showlegend": false,
           "subplot": "mapbox",
           "type": "scattermapbox"
          }
         ],
         "name": "2022-05-11"
        },
        {
         "data": [
          {
           "customdata": [
            [
             "MP 01: Naamsestraat 35  Maxim"
            ],
            [
             "MP 02: Naamsestraat 57 Xior"
            ],
            [
             "MP 03: Naamsestraat 62 Taste"
            ],
            [
             "MP 05: Calvariekapel KU Leuven"
            ],
            [
             "MP 06: Parkstraat 2 La Filosovia"
            ],
            [
             "MP 07: Naamsestraat 81"
            ],
            [
             "MP08bis - Vrijthof"
            ]
           ],
           "hovertemplate": "ts_str=2022-05-12<br>Human voice - Shouting=%{marker.size}<br>latitude=%{lat}<br>longitude=%{lon}<br>description=%{customdata[0]}<extra></extra>",
           "lat": [
            50.877160828051615,
            50.87649057167669,
            50.875850541602986,
            50.87448678827803,
            50.87409073433792,
            50.87381822269834,
            50.87890579999999
           ],
           "legendgroup": "",
           "lon": [
            4.7006992525313445,
            4.700691639839767,
            4.700192168675618,
            4.699889625684066,
            4.700018371714718,
            4.70010170607578,
            4.7011444846213415
           ],
           "marker": {
            "color": "#636efa",
            "size": [
             4,
             0,
             0,
             5,
             2,
             4,
             0
            ],
            "sizemode": "area",
            "sizeref": 0.1825
           },
           "mode": "markers",
           "name": "",
           "showlegend": false,
           "subplot": "mapbox",
           "type": "scattermapbox"
          }
         ],
         "name": "2022-05-12"
        },
        {
         "data": [
          {
           "customdata": [
            [
             "MP 01: Naamsestraat 35  Maxim"
            ],
            [
             "MP 02: Naamsestraat 57 Xior"
            ],
            [
             "MP 03: Naamsestraat 62 Taste"
            ],
            [
             "MP 05: Calvariekapel KU Leuven"
            ],
            [
             "MP 06: Parkstraat 2 La Filosovia"
            ],
            [
             "MP 07: Naamsestraat 81"
            ]
           ],
           "hovertemplate": "ts_str=2022-05-13<br>Human voice - Shouting=%{marker.size}<br>latitude=%{lat}<br>longitude=%{lon}<br>description=%{customdata[0]}<extra></extra>",
           "lat": [
            50.877160828051615,
            50.87649057167669,
            50.875850541602986,
            50.87448678827803,
            50.87409073433792,
            50.87381822269834
           ],
           "legendgroup": "",
           "lon": [
            4.7006992525313445,
            4.700691639839767,
            4.700192168675618,
            4.699889625684066,
            4.700018371714718,
            4.70010170607578
           ],
           "marker": {
            "color": "#636efa",
            "size": [
             5,
             0,
             1,
             4,
             1,
             0
            ],
            "sizemode": "area",
            "sizeref": 0.1825
           },
           "mode": "markers",
           "name": "",
           "showlegend": false,
           "subplot": "mapbox",
           "type": "scattermapbox"
          }
         ],
         "name": "2022-05-13"
        },
        {
         "data": [
          {
           "customdata": [
            [
             "MP 01: Naamsestraat 35  Maxim"
            ],
            [
             "MP 02: Naamsestraat 57 Xior"
            ],
            [
             "MP 03: Naamsestraat 62 Taste"
            ],
            [
             "MP 05: Calvariekapel KU Leuven"
            ],
            [
             "MP 06: Parkstraat 2 La Filosovia"
            ],
            [
             "MP 07: Naamsestraat 81"
            ]
           ],
           "hovertemplate": "ts_str=2022-05-14<br>Human voice - Shouting=%{marker.size}<br>latitude=%{lat}<br>longitude=%{lon}<br>description=%{customdata[0]}<extra></extra>",
           "lat": [
            50.877160828051615,
            50.87649057167669,
            50.875850541602986,
            50.87448678827803,
            50.87409073433792,
            50.87381822269834
           ],
           "legendgroup": "",
           "lon": [
            4.7006992525313445,
            4.700691639839767,
            4.700192168675618,
            4.699889625684066,
            4.700018371714718,
            4.70010170607578
           ],
           "marker": {
            "color": "#636efa",
            "size": [
             1,
             1,
             0,
             5,
             0,
             0
            ],
            "sizemode": "area",
            "sizeref": 0.1825
           },
           "mode": "markers",
           "name": "",
           "showlegend": false,
           "subplot": "mapbox",
           "type": "scattermapbox"
          }
         ],
         "name": "2022-05-14"
        },
        {
         "data": [
          {
           "customdata": [
            [
             "MP 01: Naamsestraat 35  Maxim"
            ],
            [
             "MP 02: Naamsestraat 57 Xior"
            ],
            [
             "MP 03: Naamsestraat 62 Taste"
            ],
            [
             "MP 05: Calvariekapel KU Leuven"
            ],
            [
             "MP 06: Parkstraat 2 La Filosovia"
            ],
            [
             "MP 07: Naamsestraat 81"
            ]
           ],
           "hovertemplate": "ts_str=2022-05-15<br>Human voice - Shouting=%{marker.size}<br>latitude=%{lat}<br>longitude=%{lon}<br>description=%{customdata[0]}<extra></extra>",
           "lat": [
            50.877160828051615,
            50.87649057167669,
            50.875850541602986,
            50.87448678827803,
            50.87409073433792,
            50.87381822269834
           ],
           "legendgroup": "",
           "lon": [
            4.7006992525313445,
            4.700691639839767,
            4.700192168675618,
            4.699889625684066,
            4.700018371714718,
            4.70010170607578
           ],
           "marker": {
            "color": "#636efa",
            "size": [
             2,
             0,
             3,
             0,
             0,
             0
            ],
            "sizemode": "area",
            "sizeref": 0.1825
           },
           "mode": "markers",
           "name": "",
           "showlegend": false,
           "subplot": "mapbox",
           "type": "scattermapbox"
          }
         ],
         "name": "2022-05-15"
        },
        {
         "data": [
          {
           "customdata": [
            [
             "MP 01: Naamsestraat 35  Maxim"
            ],
            [
             "MP 02: Naamsestraat 57 Xior"
            ],
            [
             "MP 03: Naamsestraat 62 Taste"
            ],
            [
             "MP 05: Calvariekapel KU Leuven"
            ],
            [
             "MP 06: Parkstraat 2 La Filosovia"
            ],
            [
             "MP 07: Naamsestraat 81"
            ]
           ],
           "hovertemplate": "ts_str=2022-05-16<br>Human voice - Shouting=%{marker.size}<br>latitude=%{lat}<br>longitude=%{lon}<br>description=%{customdata[0]}<extra></extra>",
           "lat": [
            50.877160828051615,
            50.87649057167669,
            50.875850541602986,
            50.87448678827803,
            50.87409073433792,
            50.87381822269834
           ],
           "legendgroup": "",
           "lon": [
            4.7006992525313445,
            4.700691639839767,
            4.700192168675618,
            4.699889625684066,
            4.700018371714718,
            4.70010170607578
           ],
           "marker": {
            "color": "#636efa",
            "size": [
             1,
             1,
             0,
             4,
             0,
             0
            ],
            "sizemode": "area",
            "sizeref": 0.1825
           },
           "mode": "markers",
           "name": "",
           "showlegend": false,
           "subplot": "mapbox",
           "type": "scattermapbox"
          }
         ],
         "name": "2022-05-16"
        },
        {
         "data": [
          {
           "customdata": [
            [
             "MP 01: Naamsestraat 35  Maxim"
            ],
            [
             "MP 02: Naamsestraat 57 Xior"
            ],
            [
             "MP 03: Naamsestraat 62 Taste"
            ],
            [
             "MP 05: Calvariekapel KU Leuven"
            ],
            [
             "MP 06: Parkstraat 2 La Filosovia"
            ],
            [
             "MP 07: Naamsestraat 81"
            ],
            [
             "MP08bis - Vrijthof"
            ]
           ],
           "hovertemplate": "ts_str=2022-05-17<br>Human voice - Shouting=%{marker.size}<br>latitude=%{lat}<br>longitude=%{lon}<br>description=%{customdata[0]}<extra></extra>",
           "lat": [
            50.877160828051615,
            50.87649057167669,
            50.875850541602986,
            50.87448678827803,
            50.87409073433792,
            50.87381822269834,
            50.87890579999999
           ],
           "legendgroup": "",
           "lon": [
            4.7006992525313445,
            4.700691639839767,
            4.700192168675618,
            4.699889625684066,
            4.700018371714718,
            4.70010170607578,
            4.7011444846213415
           ],
           "marker": {
            "color": "#636efa",
            "size": [
             2,
             1,
             4,
             1,
             1,
             3,
             0
            ],
            "sizemode": "area",
            "sizeref": 0.1825
           },
           "mode": "markers",
           "name": "",
           "showlegend": false,
           "subplot": "mapbox",
           "type": "scattermapbox"
          }
         ],
         "name": "2022-05-17"
        },
        {
         "data": [
          {
           "customdata": [
            [
             "MP 01: Naamsestraat 35  Maxim"
            ],
            [
             "MP 02: Naamsestraat 57 Xior"
            ],
            [
             "MP 03: Naamsestraat 62 Taste"
            ],
            [
             "MP 05: Calvariekapel KU Leuven"
            ],
            [
             "MP 06: Parkstraat 2 La Filosovia"
            ],
            [
             "MP 07: Naamsestraat 81"
            ]
           ],
           "hovertemplate": "ts_str=2022-05-18<br>Human voice - Shouting=%{marker.size}<br>latitude=%{lat}<br>longitude=%{lon}<br>description=%{customdata[0]}<extra></extra>",
           "lat": [
            50.877160828051615,
            50.87649057167669,
            50.875850541602986,
            50.87448678827803,
            50.87409073433792,
            50.87381822269834
           ],
           "legendgroup": "",
           "lon": [
            4.7006992525313445,
            4.700691639839767,
            4.700192168675618,
            4.699889625684066,
            4.700018371714718,
            4.70010170607578
           ],
           "marker": {
            "color": "#636efa",
            "size": [
             3,
             1,
             0,
             3,
             0,
             0
            ],
            "sizemode": "area",
            "sizeref": 0.1825
           },
           "mode": "markers",
           "name": "",
           "showlegend": false,
           "subplot": "mapbox",
           "type": "scattermapbox"
          }
         ],
         "name": "2022-05-18"
        },
        {
         "data": [
          {
           "customdata": [
            [
             "MP 01: Naamsestraat 35  Maxim"
            ],
            [
             "MP 02: Naamsestraat 57 Xior"
            ],
            [
             "MP 03: Naamsestraat 62 Taste"
            ],
            [
             "MP 05: Calvariekapel KU Leuven"
            ],
            [
             "MP 06: Parkstraat 2 La Filosovia"
            ],
            [
             "MP 07: Naamsestraat 81"
            ]
           ],
           "hovertemplate": "ts_str=2022-05-19<br>Human voice - Shouting=%{marker.size}<br>latitude=%{lat}<br>longitude=%{lon}<br>description=%{customdata[0]}<extra></extra>",
           "lat": [
            50.877160828051615,
            50.87649057167669,
            50.875850541602986,
            50.87448678827803,
            50.87409073433792,
            50.87381822269834
           ],
           "legendgroup": "",
           "lon": [
            4.7006992525313445,
            4.700691639839767,
            4.700192168675618,
            4.699889625684066,
            4.700018371714718,
            4.70010170607578
           ],
           "marker": {
            "color": "#636efa",
            "size": [
             7,
             2,
             2,
             4,
             2,
             3
            ],
            "sizemode": "area",
            "sizeref": 0.1825
           },
           "mode": "markers",
           "name": "",
           "showlegend": false,
           "subplot": "mapbox",
           "type": "scattermapbox"
          }
         ],
         "name": "2022-05-19"
        },
        {
         "data": [
          {
           "customdata": [
            [
             "MP 01: Naamsestraat 35  Maxim"
            ],
            [
             "MP 02: Naamsestraat 57 Xior"
            ],
            [
             "MP 03: Naamsestraat 62 Taste"
            ],
            [
             "MP 05: Calvariekapel KU Leuven"
            ],
            [
             "MP 06: Parkstraat 2 La Filosovia"
            ],
            [
             "MP 07: Naamsestraat 81"
            ],
            [
             "MP08bis - Vrijthof"
            ]
           ],
           "hovertemplate": "ts_str=2022-05-20<br>Human voice - Shouting=%{marker.size}<br>latitude=%{lat}<br>longitude=%{lon}<br>description=%{customdata[0]}<extra></extra>",
           "lat": [
            50.877160828051615,
            50.87649057167669,
            50.875850541602986,
            50.87448678827803,
            50.87409073433792,
            50.87381822269834,
            50.87890579999999
           ],
           "legendgroup": "",
           "lon": [
            4.7006992525313445,
            4.700691639839767,
            4.700192168675618,
            4.699889625684066,
            4.700018371714718,
            4.70010170607578,
            4.7011444846213415
           ],
           "marker": {
            "color": "#636efa",
            "size": [
             7,
             2,
             4,
             2,
             1,
             0,
             0
            ],
            "sizemode": "area",
            "sizeref": 0.1825
           },
           "mode": "markers",
           "name": "",
           "showlegend": false,
           "subplot": "mapbox",
           "type": "scattermapbox"
          }
         ],
         "name": "2022-05-20"
        },
        {
         "data": [
          {
           "customdata": [
            [
             "MP 01: Naamsestraat 35  Maxim"
            ],
            [
             "MP 02: Naamsestraat 57 Xior"
            ],
            [
             "MP 03: Naamsestraat 62 Taste"
            ],
            [
             "MP 05: Calvariekapel KU Leuven"
            ],
            [
             "MP 06: Parkstraat 2 La Filosovia"
            ],
            [
             "MP 07: Naamsestraat 81"
            ]
           ],
           "hovertemplate": "ts_str=2022-05-21<br>Human voice - Shouting=%{marker.size}<br>latitude=%{lat}<br>longitude=%{lon}<br>description=%{customdata[0]}<extra></extra>",
           "lat": [
            50.877160828051615,
            50.87649057167669,
            50.875850541602986,
            50.87448678827803,
            50.87409073433792,
            50.87381822269834
           ],
           "legendgroup": "",
           "lon": [
            4.7006992525313445,
            4.700691639839767,
            4.700192168675618,
            4.699889625684066,
            4.700018371714718,
            4.70010170607578
           ],
           "marker": {
            "color": "#636efa",
            "size": [
             0,
             2,
             1,
             0,
             1,
             0
            ],
            "sizemode": "area",
            "sizeref": 0.1825
           },
           "mode": "markers",
           "name": "",
           "showlegend": false,
           "subplot": "mapbox",
           "type": "scattermapbox"
          }
         ],
         "name": "2022-05-21"
        },
        {
         "data": [
          {
           "customdata": [
            [
             "MP 01: Naamsestraat 35  Maxim"
            ],
            [
             "MP 02: Naamsestraat 57 Xior"
            ],
            [
             "MP 03: Naamsestraat 62 Taste"
            ],
            [
             "MP 05: Calvariekapel KU Leuven"
            ],
            [
             "MP 06: Parkstraat 2 La Filosovia"
            ],
            [
             "MP 07: Naamsestraat 81"
            ]
           ],
           "hovertemplate": "ts_str=2022-05-22<br>Human voice - Shouting=%{marker.size}<br>latitude=%{lat}<br>longitude=%{lon}<br>description=%{customdata[0]}<extra></extra>",
           "lat": [
            50.877160828051615,
            50.87649057167669,
            50.875850541602986,
            50.87448678827803,
            50.87409073433792,
            50.87381822269834
           ],
           "legendgroup": "",
           "lon": [
            4.7006992525313445,
            4.700691639839767,
            4.700192168675618,
            4.699889625684066,
            4.700018371714718,
            4.70010170607578
           ],
           "marker": {
            "color": "#636efa",
            "size": [
             0,
             0,
             1,
             2,
             0,
             0
            ],
            "sizemode": "area",
            "sizeref": 0.1825
           },
           "mode": "markers",
           "name": "",
           "showlegend": false,
           "subplot": "mapbox",
           "type": "scattermapbox"
          }
         ],
         "name": "2022-05-22"
        },
        {
         "data": [
          {
           "customdata": [
            [
             "MP 01: Naamsestraat 35  Maxim"
            ],
            [
             "MP 02: Naamsestraat 57 Xior"
            ],
            [
             "MP 03: Naamsestraat 62 Taste"
            ],
            [
             "MP 05: Calvariekapel KU Leuven"
            ],
            [
             "MP 06: Parkstraat 2 La Filosovia"
            ],
            [
             "MP 07: Naamsestraat 81"
            ],
            [
             "MP08bis - Vrijthof"
            ]
           ],
           "hovertemplate": "ts_str=2022-05-23<br>Human voice - Shouting=%{marker.size}<br>latitude=%{lat}<br>longitude=%{lon}<br>description=%{customdata[0]}<extra></extra>",
           "lat": [
            50.877160828051615,
            50.87649057167669,
            50.875850541602986,
            50.87448678827803,
            50.87409073433792,
            50.87381822269834,
            50.87890579999999
           ],
           "legendgroup": "",
           "lon": [
            4.7006992525313445,
            4.700691639839767,
            4.700192168675618,
            4.699889625684066,
            4.700018371714718,
            4.70010170607578,
            4.7011444846213415
           ],
           "marker": {
            "color": "#636efa",
            "size": [
             1,
             2,
             2,
             3,
             1,
             0,
             2
            ],
            "sizemode": "area",
            "sizeref": 0.1825
           },
           "mode": "markers",
           "name": "",
           "showlegend": false,
           "subplot": "mapbox",
           "type": "scattermapbox"
          }
         ],
         "name": "2022-05-23"
        },
        {
         "data": [
          {
           "customdata": [
            [
             "MP 01: Naamsestraat 35  Maxim"
            ],
            [
             "MP 02: Naamsestraat 57 Xior"
            ],
            [
             "MP 03: Naamsestraat 62 Taste"
            ],
            [
             "MP 05: Calvariekapel KU Leuven"
            ],
            [
             "MP 06: Parkstraat 2 La Filosovia"
            ],
            [
             "MP 07: Naamsestraat 81"
            ]
           ],
           "hovertemplate": "ts_str=2022-05-24<br>Human voice - Shouting=%{marker.size}<br>latitude=%{lat}<br>longitude=%{lon}<br>description=%{customdata[0]}<extra></extra>",
           "lat": [
            50.877160828051615,
            50.87649057167669,
            50.875850541602986,
            50.87448678827803,
            50.87409073433792,
            50.87381822269834
           ],
           "legendgroup": "",
           "lon": [
            4.7006992525313445,
            4.700691639839767,
            4.700192168675618,
            4.699889625684066,
            4.700018371714718,
            4.70010170607578
           ],
           "marker": {
            "color": "#636efa",
            "size": [
             1,
             1,
             0,
             0,
             4,
             1
            ],
            "sizemode": "area",
            "sizeref": 0.1825
           },
           "mode": "markers",
           "name": "",
           "showlegend": false,
           "subplot": "mapbox",
           "type": "scattermapbox"
          }
         ],
         "name": "2022-05-24"
        },
        {
         "data": [
          {
           "customdata": [
            [
             "MP 01: Naamsestraat 35  Maxim"
            ],
            [
             "MP 02: Naamsestraat 57 Xior"
            ],
            [
             "MP 03: Naamsestraat 62 Taste"
            ],
            [
             "MP 05: Calvariekapel KU Leuven"
            ],
            [
             "MP 06: Parkstraat 2 La Filosovia"
            ],
            [
             "MP 07: Naamsestraat 81"
            ]
           ],
           "hovertemplate": "ts_str=2022-05-25<br>Human voice - Shouting=%{marker.size}<br>latitude=%{lat}<br>longitude=%{lon}<br>description=%{customdata[0]}<extra></extra>",
           "lat": [
            50.877160828051615,
            50.87649057167669,
            50.875850541602986,
            50.87448678827803,
            50.87409073433792,
            50.87381822269834
           ],
           "legendgroup": "",
           "lon": [
            4.7006992525313445,
            4.700691639839767,
            4.700192168675618,
            4.699889625684066,
            4.700018371714718,
            4.70010170607578
           ],
           "marker": {
            "color": "#636efa",
            "size": [
             4,
             3,
             2,
             2,
             3,
             1
            ],
            "sizemode": "area",
            "sizeref": 0.1825
           },
           "mode": "markers",
           "name": "",
           "showlegend": false,
           "subplot": "mapbox",
           "type": "scattermapbox"
          }
         ],
         "name": "2022-05-25"
        },
        {
         "data": [
          {
           "customdata": [
            [
             "MP 01: Naamsestraat 35  Maxim"
            ],
            [
             "MP 02: Naamsestraat 57 Xior"
            ],
            [
             "MP 03: Naamsestraat 62 Taste"
            ],
            [
             "MP 05: Calvariekapel KU Leuven"
            ],
            [
             "MP 06: Parkstraat 2 La Filosovia"
            ],
            [
             "MP 07: Naamsestraat 81"
            ]
           ],
           "hovertemplate": "ts_str=2022-05-26<br>Human voice - Shouting=%{marker.size}<br>latitude=%{lat}<br>longitude=%{lon}<br>description=%{customdata[0]}<extra></extra>",
           "lat": [
            50.877160828051615,
            50.87649057167669,
            50.875850541602986,
            50.87448678827803,
            50.87409073433792,
            50.87381822269834
           ],
           "legendgroup": "",
           "lon": [
            4.7006992525313445,
            4.700691639839767,
            4.700192168675618,
            4.699889625684066,
            4.700018371714718,
            4.70010170607578
           ],
           "marker": {
            "color": "#636efa",
            "size": [
             8,
             1,
             0,
             3,
             3,
             1
            ],
            "sizemode": "area",
            "sizeref": 0.1825
           },
           "mode": "markers",
           "name": "",
           "showlegend": false,
           "subplot": "mapbox",
           "type": "scattermapbox"
          }
         ],
         "name": "2022-05-26"
        },
        {
         "data": [
          {
           "customdata": [
            [
             "MP 01: Naamsestraat 35  Maxim"
            ],
            [
             "MP 02: Naamsestraat 57 Xior"
            ],
            [
             "MP 03: Naamsestraat 62 Taste"
            ],
            [
             "MP 05: Calvariekapel KU Leuven"
            ],
            [
             "MP 06: Parkstraat 2 La Filosovia"
            ],
            [
             "MP 07: Naamsestraat 81"
            ]
           ],
           "hovertemplate": "ts_str=2022-06-01<br>Human voice - Shouting=%{marker.size}<br>latitude=%{lat}<br>longitude=%{lon}<br>description=%{customdata[0]}<extra></extra>",
           "lat": [
            50.877160828051615,
            50.87649057167669,
            50.875850541602986,
            50.87448678827803,
            50.87409073433792,
            50.87381822269834
           ],
           "legendgroup": "",
           "lon": [
            4.7006992525313445,
            4.700691639839767,
            4.700192168675618,
            4.699889625684066,
            4.700018371714718,
            4.70010170607578
           ],
           "marker": {
            "color": "#636efa",
            "size": [
             1,
             1,
             1,
             1,
             0,
             4
            ],
            "sizemode": "area",
            "sizeref": 0.1825
           },
           "mode": "markers",
           "name": "",
           "showlegend": false,
           "subplot": "mapbox",
           "type": "scattermapbox"
          }
         ],
         "name": "2022-06-01"
        },
        {
         "data": [
          {
           "customdata": [
            [
             "MP 01: Naamsestraat 35  Maxim"
            ],
            [
             "MP 02: Naamsestraat 57 Xior"
            ],
            [
             "MP 03: Naamsestraat 62 Taste"
            ],
            [
             "MP 05: Calvariekapel KU Leuven"
            ],
            [
             "MP 06: Parkstraat 2 La Filosovia"
            ],
            [
             "MP 07: Naamsestraat 81"
            ]
           ],
           "hovertemplate": "ts_str=2022-06-02<br>Human voice - Shouting=%{marker.size}<br>latitude=%{lat}<br>longitude=%{lon}<br>description=%{customdata[0]}<extra></extra>",
           "lat": [
            50.877160828051615,
            50.87649057167669,
            50.875850541602986,
            50.87448678827803,
            50.87409073433792,
            50.87381822269834
           ],
           "legendgroup": "",
           "lon": [
            4.7006992525313445,
            4.700691639839767,
            4.700192168675618,
            4.699889625684066,
            4.700018371714718,
            4.70010170607578
           ],
           "marker": {
            "color": "#636efa",
            "size": [
             0,
             0,
             0,
             1,
             0,
             0
            ],
            "sizemode": "area",
            "sizeref": 0.1825
           },
           "mode": "markers",
           "name": "",
           "showlegend": false,
           "subplot": "mapbox",
           "type": "scattermapbox"
          }
         ],
         "name": "2022-06-02"
        },
        {
         "data": [
          {
           "customdata": [
            [
             "MP 01: Naamsestraat 35  Maxim"
            ],
            [
             "MP 02: Naamsestraat 57 Xior"
            ],
            [
             "MP 03: Naamsestraat 62 Taste"
            ],
            [
             "MP 05: Calvariekapel KU Leuven"
            ],
            [
             "MP 06: Parkstraat 2 La Filosovia"
            ],
            [
             "MP 07: Naamsestraat 81"
            ]
           ],
           "hovertemplate": "ts_str=2022-06-03<br>Human voice - Shouting=%{marker.size}<br>latitude=%{lat}<br>longitude=%{lon}<br>description=%{customdata[0]}<extra></extra>",
           "lat": [
            50.877160828051615,
            50.87649057167669,
            50.875850541602986,
            50.87448678827803,
            50.87409073433792,
            50.87381822269834
           ],
           "legendgroup": "",
           "lon": [
            4.7006992525313445,
            4.700691639839767,
            4.700192168675618,
            4.699889625684066,
            4.700018371714718,
            4.70010170607578
           ],
           "marker": {
            "color": "#636efa",
            "size": [
             9,
             0,
             3,
             5,
             1,
             0
            ],
            "sizemode": "area",
            "sizeref": 0.1825
           },
           "mode": "markers",
           "name": "",
           "showlegend": false,
           "subplot": "mapbox",
           "type": "scattermapbox"
          }
         ],
         "name": "2022-06-03"
        },
        {
         "data": [
          {
           "customdata": [
            [
             "MP 01: Naamsestraat 35  Maxim"
            ],
            [
             "MP 02: Naamsestraat 57 Xior"
            ],
            [
             "MP 03: Naamsestraat 62 Taste"
            ],
            [
             "MP 05: Calvariekapel KU Leuven"
            ],
            [
             "MP 06: Parkstraat 2 La Filosovia"
            ],
            [
             "MP 07: Naamsestraat 81"
            ]
           ],
           "hovertemplate": "ts_str=2022-06-04<br>Human voice - Shouting=%{marker.size}<br>latitude=%{lat}<br>longitude=%{lon}<br>description=%{customdata[0]}<extra></extra>",
           "lat": [
            50.877160828051615,
            50.87649057167669,
            50.875850541602986,
            50.87448678827803,
            50.87409073433792,
            50.87381822269834
           ],
           "legendgroup": "",
           "lon": [
            4.7006992525313445,
            4.700691639839767,
            4.700192168675618,
            4.699889625684066,
            4.700018371714718,
            4.70010170607578
           ],
           "marker": {
            "color": "#636efa",
            "size": [
             3,
             3,
             0,
             1,
             0,
             0
            ],
            "sizemode": "area",
            "sizeref": 0.1825
           },
           "mode": "markers",
           "name": "",
           "showlegend": false,
           "subplot": "mapbox",
           "type": "scattermapbox"
          }
         ],
         "name": "2022-06-04"
        },
        {
         "data": [
          {
           "customdata": [
            [
             "MP 01: Naamsestraat 35  Maxim"
            ],
            [
             "MP 02: Naamsestraat 57 Xior"
            ],
            [
             "MP 03: Naamsestraat 62 Taste"
            ],
            [
             "MP 05: Calvariekapel KU Leuven"
            ],
            [
             "MP 06: Parkstraat 2 La Filosovia"
            ],
            [
             "MP 07: Naamsestraat 81"
            ]
           ],
           "hovertemplate": "ts_str=2022-06-05<br>Human voice - Shouting=%{marker.size}<br>latitude=%{lat}<br>longitude=%{lon}<br>description=%{customdata[0]}<extra></extra>",
           "lat": [
            50.877160828051615,
            50.87649057167669,
            50.875850541602986,
            50.87448678827803,
            50.87409073433792,
            50.87381822269834
           ],
           "legendgroup": "",
           "lon": [
            4.7006992525313445,
            4.700691639839767,
            4.700192168675618,
            4.699889625684066,
            4.700018371714718,
            4.70010170607578
           ],
           "marker": {
            "color": "#636efa",
            "size": [
             1,
             1,
             2,
             0,
             1,
             0
            ],
            "sizemode": "area",
            "sizeref": 0.1825
           },
           "mode": "markers",
           "name": "",
           "showlegend": false,
           "subplot": "mapbox",
           "type": "scattermapbox"
          }
         ],
         "name": "2022-06-05"
        },
        {
         "data": [
          {
           "customdata": [
            [
             "MP 01: Naamsestraat 35  Maxim"
            ],
            [
             "MP 02: Naamsestraat 57 Xior"
            ],
            [
             "MP 03: Naamsestraat 62 Taste"
            ],
            [
             "MP 05: Calvariekapel KU Leuven"
            ],
            [
             "MP 06: Parkstraat 2 La Filosovia"
            ],
            [
             "MP 07: Naamsestraat 81"
            ]
           ],
           "hovertemplate": "ts_str=2022-06-06<br>Human voice - Shouting=%{marker.size}<br>latitude=%{lat}<br>longitude=%{lon}<br>description=%{customdata[0]}<extra></extra>",
           "lat": [
            50.877160828051615,
            50.87649057167669,
            50.875850541602986,
            50.87448678827803,
            50.87409073433792,
            50.87381822269834
           ],
           "legendgroup": "",
           "lon": [
            4.7006992525313445,
            4.700691639839767,
            4.700192168675618,
            4.699889625684066,
            4.700018371714718,
            4.70010170607578
           ],
           "marker": {
            "color": "#636efa",
            "size": [
             2,
             1,
             0,
             1,
             0,
             0
            ],
            "sizemode": "area",
            "sizeref": 0.1825
           },
           "mode": "markers",
           "name": "",
           "showlegend": false,
           "subplot": "mapbox",
           "type": "scattermapbox"
          }
         ],
         "name": "2022-06-06"
        },
        {
         "data": [
          {
           "customdata": [
            [
             "MP 01: Naamsestraat 35  Maxim"
            ],
            [
             "MP 02: Naamsestraat 57 Xior"
            ],
            [
             "MP 03: Naamsestraat 62 Taste"
            ],
            [
             "MP 05: Calvariekapel KU Leuven"
            ],
            [
             "MP 06: Parkstraat 2 La Filosovia"
            ],
            [
             "MP 07: Naamsestraat 81"
            ]
           ],
           "hovertemplate": "ts_str=2022-06-07<br>Human voice - Shouting=%{marker.size}<br>latitude=%{lat}<br>longitude=%{lon}<br>description=%{customdata[0]}<extra></extra>",
           "lat": [
            50.877160828051615,
            50.87649057167669,
            50.875850541602986,
            50.87448678827803,
            50.87409073433792,
            50.87381822269834
           ],
           "legendgroup": "",
           "lon": [
            4.7006992525313445,
            4.700691639839767,
            4.700192168675618,
            4.699889625684066,
            4.700018371714718,
            4.70010170607578
           ],
           "marker": {
            "color": "#636efa",
            "size": [
             3,
             0,
             1,
             0,
             0,
             0
            ],
            "sizemode": "area",
            "sizeref": 0.1825
           },
           "mode": "markers",
           "name": "",
           "showlegend": false,
           "subplot": "mapbox",
           "type": "scattermapbox"
          }
         ],
         "name": "2022-06-07"
        },
        {
         "data": [
          {
           "customdata": [
            [
             "MP 01: Naamsestraat 35  Maxim"
            ],
            [
             "MP 02: Naamsestraat 57 Xior"
            ],
            [
             "MP 03: Naamsestraat 62 Taste"
            ],
            [
             "MP 05: Calvariekapel KU Leuven"
            ],
            [
             "MP 06: Parkstraat 2 La Filosovia"
            ],
            [
             "MP 07: Naamsestraat 81"
            ]
           ],
           "hovertemplate": "ts_str=2022-06-08<br>Human voice - Shouting=%{marker.size}<br>latitude=%{lat}<br>longitude=%{lon}<br>description=%{customdata[0]}<extra></extra>",
           "lat": [
            50.877160828051615,
            50.87649057167669,
            50.875850541602986,
            50.87448678827803,
            50.87409073433792,
            50.87381822269834
           ],
           "legendgroup": "",
           "lon": [
            4.7006992525313445,
            4.700691639839767,
            4.700192168675618,
            4.699889625684066,
            4.700018371714718,
            4.70010170607578
           ],
           "marker": {
            "color": "#636efa",
            "size": [
             0,
             1,
             6,
             0,
             0,
             0
            ],
            "sizemode": "area",
            "sizeref": 0.1825
           },
           "mode": "markers",
           "name": "",
           "showlegend": false,
           "subplot": "mapbox",
           "type": "scattermapbox"
          }
         ],
         "name": "2022-06-08"
        },
        {
         "data": [
          {
           "customdata": [
            [
             "MP 01: Naamsestraat 35  Maxim"
            ],
            [
             "MP 02: Naamsestraat 57 Xior"
            ],
            [
             "MP 03: Naamsestraat 62 Taste"
            ],
            [
             "MP 05: Calvariekapel KU Leuven"
            ],
            [
             "MP 06: Parkstraat 2 La Filosovia"
            ],
            [
             "MP 07: Naamsestraat 81"
            ]
           ],
           "hovertemplate": "ts_str=2022-06-09<br>Human voice - Shouting=%{marker.size}<br>latitude=%{lat}<br>longitude=%{lon}<br>description=%{customdata[0]}<extra></extra>",
           "lat": [
            50.877160828051615,
            50.87649057167669,
            50.875850541602986,
            50.87448678827803,
            50.87409073433792,
            50.87381822269834
           ],
           "legendgroup": "",
           "lon": [
            4.7006992525313445,
            4.700691639839767,
            4.700192168675618,
            4.699889625684066,
            4.700018371714718,
            4.70010170607578
           ],
           "marker": {
            "color": "#636efa",
            "size": [
             16,
             0,
             1,
             0,
             0,
             3
            ],
            "sizemode": "area",
            "sizeref": 0.1825
           },
           "mode": "markers",
           "name": "",
           "showlegend": false,
           "subplot": "mapbox",
           "type": "scattermapbox"
          }
         ],
         "name": "2022-06-09"
        },
        {
         "data": [
          {
           "customdata": [
            [
             "MP 01: Naamsestraat 35  Maxim"
            ],
            [
             "MP 02: Naamsestraat 57 Xior"
            ],
            [
             "MP 03: Naamsestraat 62 Taste"
            ],
            [
             "MP 05: Calvariekapel KU Leuven"
            ],
            [
             "MP 06: Parkstraat 2 La Filosovia"
            ],
            [
             "MP 07: Naamsestraat 81"
            ]
           ],
           "hovertemplate": "ts_str=2022-06-10<br>Human voice - Shouting=%{marker.size}<br>latitude=%{lat}<br>longitude=%{lon}<br>description=%{customdata[0]}<extra></extra>",
           "lat": [
            50.877160828051615,
            50.87649057167669,
            50.875850541602986,
            50.87448678827803,
            50.87409073433792,
            50.87381822269834
           ],
           "legendgroup": "",
           "lon": [
            4.7006992525313445,
            4.700691639839767,
            4.700192168675618,
            4.699889625684066,
            4.700018371714718,
            4.70010170607578
           ],
           "marker": {
            "color": "#636efa",
            "size": [
             34,
             3,
             1,
             2,
             0,
             0
            ],
            "sizemode": "area",
            "sizeref": 0.1825
           },
           "mode": "markers",
           "name": "",
           "showlegend": false,
           "subplot": "mapbox",
           "type": "scattermapbox"
          }
         ],
         "name": "2022-06-10"
        },
        {
         "data": [
          {
           "customdata": [
            [
             "MP 01: Naamsestraat 35  Maxim"
            ],
            [
             "MP 02: Naamsestraat 57 Xior"
            ],
            [
             "MP 03: Naamsestraat 62 Taste"
            ],
            [
             "MP 05: Calvariekapel KU Leuven"
            ],
            [
             "MP 06: Parkstraat 2 La Filosovia"
            ],
            [
             "MP 07: Naamsestraat 81"
            ]
           ],
           "hovertemplate": "ts_str=2022-06-11<br>Human voice - Shouting=%{marker.size}<br>latitude=%{lat}<br>longitude=%{lon}<br>description=%{customdata[0]}<extra></extra>",
           "lat": [
            50.877160828051615,
            50.87649057167669,
            50.875850541602986,
            50.87448678827803,
            50.87409073433792,
            50.87381822269834
           ],
           "legendgroup": "",
           "lon": [
            4.7006992525313445,
            4.700691639839767,
            4.700192168675618,
            4.699889625684066,
            4.700018371714718,
            4.70010170607578
           ],
           "marker": {
            "color": "#636efa",
            "size": [
             3,
             0,
             0,
             1,
             0,
             0
            ],
            "sizemode": "area",
            "sizeref": 0.1825
           },
           "mode": "markers",
           "name": "",
           "showlegend": false,
           "subplot": "mapbox",
           "type": "scattermapbox"
          }
         ],
         "name": "2022-06-11"
        },
        {
         "data": [
          {
           "customdata": [
            [
             "MP 01: Naamsestraat 35  Maxim"
            ],
            [
             "MP 02: Naamsestraat 57 Xior"
            ],
            [
             "MP 03: Naamsestraat 62 Taste"
            ],
            [
             "MP 05: Calvariekapel KU Leuven"
            ],
            [
             "MP 06: Parkstraat 2 La Filosovia"
            ],
            [
             "MP 07: Naamsestraat 81"
            ]
           ],
           "hovertemplate": "ts_str=2022-06-12<br>Human voice - Shouting=%{marker.size}<br>latitude=%{lat}<br>longitude=%{lon}<br>description=%{customdata[0]}<extra></extra>",
           "lat": [
            50.877160828051615,
            50.87649057167669,
            50.875850541602986,
            50.87448678827803,
            50.87409073433792,
            50.87381822269834
           ],
           "legendgroup": "",
           "lon": [
            4.7006992525313445,
            4.700691639839767,
            4.700192168675618,
            4.699889625684066,
            4.700018371714718,
            4.70010170607578
           ],
           "marker": {
            "color": "#636efa",
            "size": [
             2,
             2,
             0,
             1,
             1,
             0
            ],
            "sizemode": "area",
            "sizeref": 0.1825
           },
           "mode": "markers",
           "name": "",
           "showlegend": false,
           "subplot": "mapbox",
           "type": "scattermapbox"
          }
         ],
         "name": "2022-06-12"
        },
        {
         "data": [
          {
           "customdata": [
            [
             "MP 01: Naamsestraat 35  Maxim"
            ],
            [
             "MP 02: Naamsestraat 57 Xior"
            ],
            [
             "MP 03: Naamsestraat 62 Taste"
            ],
            [
             "MP 05: Calvariekapel KU Leuven"
            ],
            [
             "MP 06: Parkstraat 2 La Filosovia"
            ],
            [
             "MP 07: Naamsestraat 81"
            ],
            [
             "MP08bis - Vrijthof"
            ]
           ],
           "hovertemplate": "ts_str=2022-06-13<br>Human voice - Shouting=%{marker.size}<br>latitude=%{lat}<br>longitude=%{lon}<br>description=%{customdata[0]}<extra></extra>",
           "lat": [
            50.877160828051615,
            50.87649057167669,
            50.875850541602986,
            50.87448678827803,
            50.87409073433792,
            50.87381822269834,
            50.87890579999999
           ],
           "legendgroup": "",
           "lon": [
            4.7006992525313445,
            4.700691639839767,
            4.700192168675618,
            4.699889625684066,
            4.700018371714718,
            4.70010170607578,
            4.7011444846213415
           ],
           "marker": {
            "color": "#636efa",
            "size": [
             2,
             1,
             1,
             0,
             1,
             7,
             0
            ],
            "sizemode": "area",
            "sizeref": 0.1825
           },
           "mode": "markers",
           "name": "",
           "showlegend": false,
           "subplot": "mapbox",
           "type": "scattermapbox"
          }
         ],
         "name": "2022-06-13"
        },
        {
         "data": [
          {
           "customdata": [
            [
             "MP 01: Naamsestraat 35  Maxim"
            ],
            [
             "MP 02: Naamsestraat 57 Xior"
            ],
            [
             "MP 03: Naamsestraat 62 Taste"
            ],
            [
             "MP 05: Calvariekapel KU Leuven"
            ],
            [
             "MP 06: Parkstraat 2 La Filosovia"
            ],
            [
             "MP 07: Naamsestraat 81"
            ]
           ],
           "hovertemplate": "ts_str=2022-06-14<br>Human voice - Shouting=%{marker.size}<br>latitude=%{lat}<br>longitude=%{lon}<br>description=%{customdata[0]}<extra></extra>",
           "lat": [
            50.877160828051615,
            50.87649057167669,
            50.875850541602986,
            50.87448678827803,
            50.87409073433792,
            50.87381822269834
           ],
           "legendgroup": "",
           "lon": [
            4.7006992525313445,
            4.700691639839767,
            4.700192168675618,
            4.699889625684066,
            4.700018371714718,
            4.70010170607578
           ],
           "marker": {
            "color": "#636efa",
            "size": [
             11,
             0,
             1,
             1,
             1,
             0
            ],
            "sizemode": "area",
            "sizeref": 0.1825
           },
           "mode": "markers",
           "name": "",
           "showlegend": false,
           "subplot": "mapbox",
           "type": "scattermapbox"
          }
         ],
         "name": "2022-06-14"
        },
        {
         "data": [
          {
           "customdata": [
            [
             "MP 01: Naamsestraat 35  Maxim"
            ],
            [
             "MP 02: Naamsestraat 57 Xior"
            ],
            [
             "MP 03: Naamsestraat 62 Taste"
            ],
            [
             "MP 05: Calvariekapel KU Leuven"
            ],
            [
             "MP 06: Parkstraat 2 La Filosovia"
            ],
            [
             "MP 07: Naamsestraat 81"
            ]
           ],
           "hovertemplate": "ts_str=2022-06-15<br>Human voice - Shouting=%{marker.size}<br>latitude=%{lat}<br>longitude=%{lon}<br>description=%{customdata[0]}<extra></extra>",
           "lat": [
            50.877160828051615,
            50.87649057167669,
            50.875850541602986,
            50.87448678827803,
            50.87409073433792,
            50.87381822269834
           ],
           "legendgroup": "",
           "lon": [
            4.7006992525313445,
            4.700691639839767,
            4.700192168675618,
            4.699889625684066,
            4.700018371714718,
            4.70010170607578
           ],
           "marker": {
            "color": "#636efa",
            "size": [
             2,
             0,
             0,
             1,
             6,
             2
            ],
            "sizemode": "area",
            "sizeref": 0.1825
           },
           "mode": "markers",
           "name": "",
           "showlegend": false,
           "subplot": "mapbox",
           "type": "scattermapbox"
          }
         ],
         "name": "2022-06-15"
        },
        {
         "data": [
          {
           "customdata": [
            [
             "MP 01: Naamsestraat 35  Maxim"
            ],
            [
             "MP 02: Naamsestraat 57 Xior"
            ],
            [
             "MP 03: Naamsestraat 62 Taste"
            ],
            [
             "MP 05: Calvariekapel KU Leuven"
            ],
            [
             "MP 06: Parkstraat 2 La Filosovia"
            ],
            [
             "MP 07: Naamsestraat 81"
            ],
            [
             "MP08bis - Vrijthof"
            ]
           ],
           "hovertemplate": "ts_str=2022-06-16<br>Human voice - Shouting=%{marker.size}<br>latitude=%{lat}<br>longitude=%{lon}<br>description=%{customdata[0]}<extra></extra>",
           "lat": [
            50.877160828051615,
            50.87649057167669,
            50.875850541602986,
            50.87448678827803,
            50.87409073433792,
            50.87381822269834,
            50.87890579999999
           ],
           "legendgroup": "",
           "lon": [
            4.7006992525313445,
            4.700691639839767,
            4.700192168675618,
            4.699889625684066,
            4.700018371714718,
            4.70010170607578,
            4.7011444846213415
           ],
           "marker": {
            "color": "#636efa",
            "size": [
             9,
             0,
             2,
             1,
             1,
             0,
             0
            ],
            "sizemode": "area",
            "sizeref": 0.1825
           },
           "mode": "markers",
           "name": "",
           "showlegend": false,
           "subplot": "mapbox",
           "type": "scattermapbox"
          }
         ],
         "name": "2022-06-16"
        },
        {
         "data": [
          {
           "customdata": [
            [
             "MP 01: Naamsestraat 35  Maxim"
            ],
            [
             "MP 02: Naamsestraat 57 Xior"
            ],
            [
             "MP 03: Naamsestraat 62 Taste"
            ],
            [
             "MP 05: Calvariekapel KU Leuven"
            ],
            [
             "MP 06: Parkstraat 2 La Filosovia"
            ],
            [
             "MP 07: Naamsestraat 81"
            ]
           ],
           "hovertemplate": "ts_str=2022-06-17<br>Human voice - Shouting=%{marker.size}<br>latitude=%{lat}<br>longitude=%{lon}<br>description=%{customdata[0]}<extra></extra>",
           "lat": [
            50.877160828051615,
            50.87649057167669,
            50.875850541602986,
            50.87448678827803,
            50.87409073433792,
            50.87381822269834
           ],
           "legendgroup": "",
           "lon": [
            4.7006992525313445,
            4.700691639839767,
            4.700192168675618,
            4.699889625684066,
            4.700018371714718,
            4.70010170607578
           ],
           "marker": {
            "color": "#636efa",
            "size": [
             6,
             0,
             8,
             4,
             3,
             0
            ],
            "sizemode": "area",
            "sizeref": 0.1825
           },
           "mode": "markers",
           "name": "",
           "showlegend": false,
           "subplot": "mapbox",
           "type": "scattermapbox"
          }
         ],
         "name": "2022-06-17"
        },
        {
         "data": [
          {
           "customdata": [
            [
             "MP 01: Naamsestraat 35  Maxim"
            ],
            [
             "MP 02: Naamsestraat 57 Xior"
            ],
            [
             "MP 03: Naamsestraat 62 Taste"
            ],
            [
             "MP 05: Calvariekapel KU Leuven"
            ],
            [
             "MP 06: Parkstraat 2 La Filosovia"
            ],
            [
             "MP 07: Naamsestraat 81"
            ]
           ],
           "hovertemplate": "ts_str=2022-06-18<br>Human voice - Shouting=%{marker.size}<br>latitude=%{lat}<br>longitude=%{lon}<br>description=%{customdata[0]}<extra></extra>",
           "lat": [
            50.877160828051615,
            50.87649057167669,
            50.875850541602986,
            50.87448678827803,
            50.87409073433792,
            50.87381822269834
           ],
           "legendgroup": "",
           "lon": [
            4.7006992525313445,
            4.700691639839767,
            4.700192168675618,
            4.699889625684066,
            4.700018371714718,
            4.70010170607578
           ],
           "marker": {
            "color": "#636efa",
            "size": [
             7,
             0,
             1,
             1,
             2,
             1
            ],
            "sizemode": "area",
            "sizeref": 0.1825
           },
           "mode": "markers",
           "name": "",
           "showlegend": false,
           "subplot": "mapbox",
           "type": "scattermapbox"
          }
         ],
         "name": "2022-06-18"
        },
        {
         "data": [
          {
           "customdata": [
            [
             "MP 01: Naamsestraat 35  Maxim"
            ],
            [
             "MP 02: Naamsestraat 57 Xior"
            ],
            [
             "MP 03: Naamsestraat 62 Taste"
            ],
            [
             "MP 05: Calvariekapel KU Leuven"
            ],
            [
             "MP 06: Parkstraat 2 La Filosovia"
            ],
            [
             "MP 07: Naamsestraat 81"
            ]
           ],
           "hovertemplate": "ts_str=2022-06-19<br>Human voice - Shouting=%{marker.size}<br>latitude=%{lat}<br>longitude=%{lon}<br>description=%{customdata[0]}<extra></extra>",
           "lat": [
            50.877160828051615,
            50.87649057167669,
            50.875850541602986,
            50.87448678827803,
            50.87409073433792,
            50.87381822269834
           ],
           "legendgroup": "",
           "lon": [
            4.7006992525313445,
            4.700691639839767,
            4.700192168675618,
            4.699889625684066,
            4.700018371714718,
            4.70010170607578
           ],
           "marker": {
            "color": "#636efa",
            "size": [
             0,
             0,
             0,
             0,
             1,
             0
            ],
            "sizemode": "area",
            "sizeref": 0.1825
           },
           "mode": "markers",
           "name": "",
           "showlegend": false,
           "subplot": "mapbox",
           "type": "scattermapbox"
          }
         ],
         "name": "2022-06-19"
        },
        {
         "data": [
          {
           "customdata": [
            [
             "MP 01: Naamsestraat 35  Maxim"
            ],
            [
             "MP 02: Naamsestraat 57 Xior"
            ],
            [
             "MP 03: Naamsestraat 62 Taste"
            ],
            [
             "MP 05: Calvariekapel KU Leuven"
            ],
            [
             "MP 06: Parkstraat 2 La Filosovia"
            ],
            [
             "MP 07: Naamsestraat 81"
            ]
           ],
           "hovertemplate": "ts_str=2022-06-20<br>Human voice - Shouting=%{marker.size}<br>latitude=%{lat}<br>longitude=%{lon}<br>description=%{customdata[0]}<extra></extra>",
           "lat": [
            50.877160828051615,
            50.87649057167669,
            50.875850541602986,
            50.87448678827803,
            50.87409073433792,
            50.87381822269834
           ],
           "legendgroup": "",
           "lon": [
            4.7006992525313445,
            4.700691639839767,
            4.700192168675618,
            4.699889625684066,
            4.700018371714718,
            4.70010170607578
           ],
           "marker": {
            "color": "#636efa",
            "size": [
             4,
             1,
             1,
             3,
             1,
             0
            ],
            "sizemode": "area",
            "sizeref": 0.1825
           },
           "mode": "markers",
           "name": "",
           "showlegend": false,
           "subplot": "mapbox",
           "type": "scattermapbox"
          }
         ],
         "name": "2022-06-20"
        },
        {
         "data": [
          {
           "customdata": [
            [
             "MP 01: Naamsestraat 35  Maxim"
            ],
            [
             "MP 02: Naamsestraat 57 Xior"
            ],
            [
             "MP 03: Naamsestraat 62 Taste"
            ],
            [
             "MP 05: Calvariekapel KU Leuven"
            ],
            [
             "MP 06: Parkstraat 2 La Filosovia"
            ],
            [
             "MP 07: Naamsestraat 81"
            ],
            [
             "MP08bis - Vrijthof"
            ]
           ],
           "hovertemplate": "ts_str=2022-06-21<br>Human voice - Shouting=%{marker.size}<br>latitude=%{lat}<br>longitude=%{lon}<br>description=%{customdata[0]}<extra></extra>",
           "lat": [
            50.877160828051615,
            50.87649057167669,
            50.875850541602986,
            50.87448678827803,
            50.87409073433792,
            50.87381822269834,
            50.87890579999999
           ],
           "legendgroup": "",
           "lon": [
            4.7006992525313445,
            4.700691639839767,
            4.700192168675618,
            4.699889625684066,
            4.700018371714718,
            4.70010170607578,
            4.7011444846213415
           ],
           "marker": {
            "color": "#636efa",
            "size": [
             1,
             1,
             0,
             1,
             0,
             1,
             0
            ],
            "sizemode": "area",
            "sizeref": 0.1825
           },
           "mode": "markers",
           "name": "",
           "showlegend": false,
           "subplot": "mapbox",
           "type": "scattermapbox"
          }
         ],
         "name": "2022-06-21"
        },
        {
         "data": [
          {
           "customdata": [
            [
             "MP 01: Naamsestraat 35  Maxim"
            ],
            [
             "MP 02: Naamsestraat 57 Xior"
            ],
            [
             "MP 03: Naamsestraat 62 Taste"
            ],
            [
             "MP 05: Calvariekapel KU Leuven"
            ],
            [
             "MP 06: Parkstraat 2 La Filosovia"
            ],
            [
             "MP 07: Naamsestraat 81"
            ]
           ],
           "hovertemplate": "ts_str=2022-06-22<br>Human voice - Shouting=%{marker.size}<br>latitude=%{lat}<br>longitude=%{lon}<br>description=%{customdata[0]}<extra></extra>",
           "lat": [
            50.877160828051615,
            50.87649057167669,
            50.875850541602986,
            50.87448678827803,
            50.87409073433792,
            50.87381822269834
           ],
           "legendgroup": "",
           "lon": [
            4.7006992525313445,
            4.700691639839767,
            4.700192168675618,
            4.699889625684066,
            4.700018371714718,
            4.70010170607578
           ],
           "marker": {
            "color": "#636efa",
            "size": [
             8,
             0,
             0,
             1,
             1,
             0
            ],
            "sizemode": "area",
            "sizeref": 0.1825
           },
           "mode": "markers",
           "name": "",
           "showlegend": false,
           "subplot": "mapbox",
           "type": "scattermapbox"
          }
         ],
         "name": "2022-06-22"
        },
        {
         "data": [
          {
           "customdata": [
            [
             "MP 01: Naamsestraat 35  Maxim"
            ],
            [
             "MP 02: Naamsestraat 57 Xior"
            ],
            [
             "MP 03: Naamsestraat 62 Taste"
            ],
            [
             "MP 05: Calvariekapel KU Leuven"
            ],
            [
             "MP 06: Parkstraat 2 La Filosovia"
            ],
            [
             "MP 07: Naamsestraat 81"
            ]
           ],
           "hovertemplate": "ts_str=2022-06-23<br>Human voice - Shouting=%{marker.size}<br>latitude=%{lat}<br>longitude=%{lon}<br>description=%{customdata[0]}<extra></extra>",
           "lat": [
            50.877160828051615,
            50.87649057167669,
            50.875850541602986,
            50.87448678827803,
            50.87409073433792,
            50.87381822269834
           ],
           "legendgroup": "",
           "lon": [
            4.7006992525313445,
            4.700691639839767,
            4.700192168675618,
            4.699889625684066,
            4.700018371714718,
            4.70010170607578
           ],
           "marker": {
            "color": "#636efa",
            "size": [
             5,
             1,
             1,
             1,
             3,
             0
            ],
            "sizemode": "area",
            "sizeref": 0.1825
           },
           "mode": "markers",
           "name": "",
           "showlegend": false,
           "subplot": "mapbox",
           "type": "scattermapbox"
          }
         ],
         "name": "2022-06-23"
        },
        {
         "data": [
          {
           "customdata": [
            [
             "MP 01: Naamsestraat 35  Maxim"
            ],
            [
             "MP 02: Naamsestraat 57 Xior"
            ],
            [
             "MP 03: Naamsestraat 62 Taste"
            ],
            [
             "MP 05: Calvariekapel KU Leuven"
            ],
            [
             "MP 06: Parkstraat 2 La Filosovia"
            ],
            [
             "MP 07: Naamsestraat 81"
            ],
            [
             "MP08bis - Vrijthof"
            ]
           ],
           "hovertemplate": "ts_str=2022-06-24<br>Human voice - Shouting=%{marker.size}<br>latitude=%{lat}<br>longitude=%{lon}<br>description=%{customdata[0]}<extra></extra>",
           "lat": [
            50.877160828051615,
            50.87649057167669,
            50.875850541602986,
            50.87448678827803,
            50.87409073433792,
            50.87381822269834,
            50.87890579999999
           ],
           "legendgroup": "",
           "lon": [
            4.7006992525313445,
            4.700691639839767,
            4.700192168675618,
            4.699889625684066,
            4.700018371714718,
            4.70010170607578,
            4.7011444846213415
           ],
           "marker": {
            "color": "#636efa",
            "size": [
             12,
             1,
             1,
             4,
             1,
             1,
             0
            ],
            "sizemode": "area",
            "sizeref": 0.1825
           },
           "mode": "markers",
           "name": "",
           "showlegend": false,
           "subplot": "mapbox",
           "type": "scattermapbox"
          }
         ],
         "name": "2022-06-24"
        },
        {
         "data": [
          {
           "customdata": [
            [
             "MP 01: Naamsestraat 35  Maxim"
            ],
            [
             "MP 02: Naamsestraat 57 Xior"
            ],
            [
             "MP 03: Naamsestraat 62 Taste"
            ],
            [
             "MP 05: Calvariekapel KU Leuven"
            ],
            [
             "MP 06: Parkstraat 2 La Filosovia"
            ],
            [
             "MP 07: Naamsestraat 81"
            ]
           ],
           "hovertemplate": "ts_str=2022-06-25<br>Human voice - Shouting=%{marker.size}<br>latitude=%{lat}<br>longitude=%{lon}<br>description=%{customdata[0]}<extra></extra>",
           "lat": [
            50.877160828051615,
            50.87649057167669,
            50.875850541602986,
            50.87448678827803,
            50.87409073433792,
            50.87381822269834
           ],
           "legendgroup": "",
           "lon": [
            4.7006992525313445,
            4.700691639839767,
            4.700192168675618,
            4.699889625684066,
            4.700018371714718,
            4.70010170607578
           ],
           "marker": {
            "color": "#636efa",
            "size": [
             10,
             1,
             3,
             3,
             0,
             1
            ],
            "sizemode": "area",
            "sizeref": 0.1825
           },
           "mode": "markers",
           "name": "",
           "showlegend": false,
           "subplot": "mapbox",
           "type": "scattermapbox"
          }
         ],
         "name": "2022-06-25"
        },
        {
         "data": [
          {
           "customdata": [
            [
             "MP 01: Naamsestraat 35  Maxim"
            ],
            [
             "MP 02: Naamsestraat 57 Xior"
            ],
            [
             "MP 03: Naamsestraat 62 Taste"
            ],
            [
             "MP 05: Calvariekapel KU Leuven"
            ],
            [
             "MP 06: Parkstraat 2 La Filosovia"
            ],
            [
             "MP 07: Naamsestraat 81"
            ],
            [
             "MP08bis - Vrijthof"
            ]
           ],
           "hovertemplate": "ts_str=2022-06-26<br>Human voice - Shouting=%{marker.size}<br>latitude=%{lat}<br>longitude=%{lon}<br>description=%{customdata[0]}<extra></extra>",
           "lat": [
            50.877160828051615,
            50.87649057167669,
            50.875850541602986,
            50.87448678827803,
            50.87409073433792,
            50.87381822269834,
            50.87890579999999
           ],
           "legendgroup": "",
           "lon": [
            4.7006992525313445,
            4.700691639839767,
            4.700192168675618,
            4.699889625684066,
            4.700018371714718,
            4.70010170607578,
            4.7011444846213415
           ],
           "marker": {
            "color": "#636efa",
            "size": [
             4,
             0,
             0,
             2,
             0,
             0,
             0
            ],
            "sizemode": "area",
            "sizeref": 0.1825
           },
           "mode": "markers",
           "name": "",
           "showlegend": false,
           "subplot": "mapbox",
           "type": "scattermapbox"
          }
         ],
         "name": "2022-06-26"
        },
        {
         "data": [
          {
           "customdata": [
            [
             "MP 01: Naamsestraat 35  Maxim"
            ],
            [
             "MP 02: Naamsestraat 57 Xior"
            ],
            [
             "MP 03: Naamsestraat 62 Taste"
            ],
            [
             "MP 05: Calvariekapel KU Leuven"
            ],
            [
             "MP 06: Parkstraat 2 La Filosovia"
            ],
            [
             "MP 07: Naamsestraat 81"
            ]
           ],
           "hovertemplate": "ts_str=2022-06-27<br>Human voice - Shouting=%{marker.size}<br>latitude=%{lat}<br>longitude=%{lon}<br>description=%{customdata[0]}<extra></extra>",
           "lat": [
            50.877160828051615,
            50.87649057167669,
            50.875850541602986,
            50.87448678827803,
            50.87409073433792,
            50.87381822269834
           ],
           "legendgroup": "",
           "lon": [
            4.7006992525313445,
            4.700691639839767,
            4.700192168675618,
            4.699889625684066,
            4.700018371714718,
            4.70010170607578
           ],
           "marker": {
            "color": "#636efa",
            "size": [
             0,
             0,
             0,
             1,
             1,
             1
            ],
            "sizemode": "area",
            "sizeref": 0.1825
           },
           "mode": "markers",
           "name": "",
           "showlegend": false,
           "subplot": "mapbox",
           "type": "scattermapbox"
          }
         ],
         "name": "2022-06-27"
        },
        {
         "data": [
          {
           "customdata": [
            [
             "MP 01: Naamsestraat 35  Maxim"
            ],
            [
             "MP 02: Naamsestraat 57 Xior"
            ],
            [
             "MP 03: Naamsestraat 62 Taste"
            ],
            [
             "MP 05: Calvariekapel KU Leuven"
            ],
            [
             "MP 06: Parkstraat 2 La Filosovia"
            ],
            [
             "MP 07: Naamsestraat 81"
            ]
           ],
           "hovertemplate": "ts_str=2022-06-28<br>Human voice - Shouting=%{marker.size}<br>latitude=%{lat}<br>longitude=%{lon}<br>description=%{customdata[0]}<extra></extra>",
           "lat": [
            50.877160828051615,
            50.87649057167669,
            50.875850541602986,
            50.87448678827803,
            50.87409073433792,
            50.87381822269834
           ],
           "legendgroup": "",
           "lon": [
            4.7006992525313445,
            4.700691639839767,
            4.700192168675618,
            4.699889625684066,
            4.700018371714718,
            4.70010170607578
           ],
           "marker": {
            "color": "#636efa",
            "size": [
             0,
             1,
             2,
             5,
             0,
             2
            ],
            "sizemode": "area",
            "sizeref": 0.1825
           },
           "mode": "markers",
           "name": "",
           "showlegend": false,
           "subplot": "mapbox",
           "type": "scattermapbox"
          }
         ],
         "name": "2022-06-28"
        },
        {
         "data": [
          {
           "customdata": [
            [
             "MP 01: Naamsestraat 35  Maxim"
            ],
            [
             "MP 02: Naamsestraat 57 Xior"
            ],
            [
             "MP 03: Naamsestraat 62 Taste"
            ],
            [
             "MP 05: Calvariekapel KU Leuven"
            ],
            [
             "MP 06: Parkstraat 2 La Filosovia"
            ],
            [
             "MP 07: Naamsestraat 81"
            ],
            [
             "MP08bis - Vrijthof"
            ]
           ],
           "hovertemplate": "ts_str=2022-06-29<br>Human voice - Shouting=%{marker.size}<br>latitude=%{lat}<br>longitude=%{lon}<br>description=%{customdata[0]}<extra></extra>",
           "lat": [
            50.877160828051615,
            50.87649057167669,
            50.875850541602986,
            50.87448678827803,
            50.87409073433792,
            50.87381822269834,
            50.87890579999999
           ],
           "legendgroup": "",
           "lon": [
            4.7006992525313445,
            4.700691639839767,
            4.700192168675618,
            4.699889625684066,
            4.700018371714718,
            4.70010170607578,
            4.7011444846213415
           ],
           "marker": {
            "color": "#636efa",
            "size": [
             7,
             1,
             1,
             2,
             1,
             3,
             0
            ],
            "sizemode": "area",
            "sizeref": 0.1825
           },
           "mode": "markers",
           "name": "",
           "showlegend": false,
           "subplot": "mapbox",
           "type": "scattermapbox"
          }
         ],
         "name": "2022-06-29"
        },
        {
         "data": [
          {
           "customdata": [
            [
             "MP 01: Naamsestraat 35  Maxim"
            ],
            [
             "MP 02: Naamsestraat 57 Xior"
            ],
            [
             "MP 03: Naamsestraat 62 Taste"
            ],
            [
             "MP 05: Calvariekapel KU Leuven"
            ],
            [
             "MP 06: Parkstraat 2 La Filosovia"
            ],
            [
             "MP 07: Naamsestraat 81"
            ]
           ],
           "hovertemplate": "ts_str=2022-06-30<br>Human voice - Shouting=%{marker.size}<br>latitude=%{lat}<br>longitude=%{lon}<br>description=%{customdata[0]}<extra></extra>",
           "lat": [
            50.877160828051615,
            50.87649057167669,
            50.875850541602986,
            50.87448678827803,
            50.87409073433792,
            50.87381822269834
           ],
           "legendgroup": "",
           "lon": [
            4.7006992525313445,
            4.700691639839767,
            4.700192168675618,
            4.699889625684066,
            4.700018371714718,
            4.70010170607578
           ],
           "marker": {
            "color": "#636efa",
            "size": [
             3,
             0,
             0,
             4,
             5,
             1
            ],
            "sizemode": "area",
            "sizeref": 0.1825
           },
           "mode": "markers",
           "name": "",
           "showlegend": false,
           "subplot": "mapbox",
           "type": "scattermapbox"
          }
         ],
         "name": "2022-06-30"
        },
        {
         "data": [
          {
           "customdata": [
            [
             "MP 01: Naamsestraat 35  Maxim"
            ],
            [
             "MP 02: Naamsestraat 57 Xior"
            ],
            [
             "MP 03: Naamsestraat 62 Taste"
            ],
            [
             "MP 05: Calvariekapel KU Leuven"
            ],
            [
             "MP 06: Parkstraat 2 La Filosovia"
            ],
            [
             "MP 07: Naamsestraat 81"
            ]
           ],
           "hovertemplate": "ts_str=2022-07-01<br>Human voice - Shouting=%{marker.size}<br>latitude=%{lat}<br>longitude=%{lon}<br>description=%{customdata[0]}<extra></extra>",
           "lat": [
            50.877160828051615,
            50.87649057167669,
            50.875850541602986,
            50.87448678827803,
            50.87409073433792,
            50.87381822269834
           ],
           "legendgroup": "",
           "lon": [
            4.7006992525313445,
            4.700691639839767,
            4.700192168675618,
            4.699889625684066,
            4.700018371714718,
            4.70010170607578
           ],
           "marker": {
            "color": "#636efa",
            "size": [
             0,
             2,
             0,
             3,
             2,
             0
            ],
            "sizemode": "area",
            "sizeref": 0.1825
           },
           "mode": "markers",
           "name": "",
           "showlegend": false,
           "subplot": "mapbox",
           "type": "scattermapbox"
          }
         ],
         "name": "2022-07-01"
        },
        {
         "data": [
          {
           "customdata": [
            [
             "MP 01: Naamsestraat 35  Maxim"
            ],
            [
             "MP 02: Naamsestraat 57 Xior"
            ],
            [
             "MP 03: Naamsestraat 62 Taste"
            ],
            [
             "MP 05: Calvariekapel KU Leuven"
            ],
            [
             "MP 06: Parkstraat 2 La Filosovia"
            ],
            [
             "MP 07: Naamsestraat 81"
            ],
            [
             "MP08bis - Vrijthof"
            ]
           ],
           "hovertemplate": "ts_str=2022-07-02<br>Human voice - Shouting=%{marker.size}<br>latitude=%{lat}<br>longitude=%{lon}<br>description=%{customdata[0]}<extra></extra>",
           "lat": [
            50.877160828051615,
            50.87649057167669,
            50.875850541602986,
            50.87448678827803,
            50.87409073433792,
            50.87381822269834,
            50.87890579999999
           ],
           "legendgroup": "",
           "lon": [
            4.7006992525313445,
            4.700691639839767,
            4.700192168675618,
            4.699889625684066,
            4.700018371714718,
            4.70010170607578,
            4.7011444846213415
           ],
           "marker": {
            "color": "#636efa",
            "size": [
             2,
             0,
             3,
             0,
             0,
             0,
             0
            ],
            "sizemode": "area",
            "sizeref": 0.1825
           },
           "mode": "markers",
           "name": "",
           "showlegend": false,
           "subplot": "mapbox",
           "type": "scattermapbox"
          }
         ],
         "name": "2022-07-02"
        },
        {
         "data": [
          {
           "customdata": [
            [
             "MP 01: Naamsestraat 35  Maxim"
            ],
            [
             "MP 02: Naamsestraat 57 Xior"
            ],
            [
             "MP 03: Naamsestraat 62 Taste"
            ],
            [
             "MP 05: Calvariekapel KU Leuven"
            ],
            [
             "MP 06: Parkstraat 2 La Filosovia"
            ],
            [
             "MP 07: Naamsestraat 81"
            ]
           ],
           "hovertemplate": "ts_str=2022-07-03<br>Human voice - Shouting=%{marker.size}<br>latitude=%{lat}<br>longitude=%{lon}<br>description=%{customdata[0]}<extra></extra>",
           "lat": [
            50.877160828051615,
            50.87649057167669,
            50.875850541602986,
            50.87448678827803,
            50.87409073433792,
            50.87381822269834
           ],
           "legendgroup": "",
           "lon": [
            4.7006992525313445,
            4.700691639839767,
            4.700192168675618,
            4.699889625684066,
            4.700018371714718,
            4.70010170607578
           ],
           "marker": {
            "color": "#636efa",
            "size": [
             0,
             0,
             0,
             4,
             0,
             0
            ],
            "sizemode": "area",
            "sizeref": 0.1825
           },
           "mode": "markers",
           "name": "",
           "showlegend": false,
           "subplot": "mapbox",
           "type": "scattermapbox"
          }
         ],
         "name": "2022-07-03"
        },
        {
         "data": [
          {
           "customdata": [
            [
             "MP 01: Naamsestraat 35  Maxim"
            ],
            [
             "MP 02: Naamsestraat 57 Xior"
            ],
            [
             "MP 03: Naamsestraat 62 Taste"
            ],
            [
             "MP 05: Calvariekapel KU Leuven"
            ],
            [
             "MP 06: Parkstraat 2 La Filosovia"
            ],
            [
             "MP 07: Naamsestraat 81"
            ],
            [
             "MP08bis - Vrijthof"
            ]
           ],
           "hovertemplate": "ts_str=2022-07-04<br>Human voice - Shouting=%{marker.size}<br>latitude=%{lat}<br>longitude=%{lon}<br>description=%{customdata[0]}<extra></extra>",
           "lat": [
            50.877160828051615,
            50.87649057167669,
            50.875850541602986,
            50.87448678827803,
            50.87409073433792,
            50.87381822269834,
            50.87890579999999
           ],
           "legendgroup": "",
           "lon": [
            4.7006992525313445,
            4.700691639839767,
            4.700192168675618,
            4.699889625684066,
            4.700018371714718,
            4.70010170607578,
            4.7011444846213415
           ],
           "marker": {
            "color": "#636efa",
            "size": [
             16,
             0,
             0,
             1,
             0,
             1,
             0
            ],
            "sizemode": "area",
            "sizeref": 0.1825
           },
           "mode": "markers",
           "name": "",
           "showlegend": false,
           "subplot": "mapbox",
           "type": "scattermapbox"
          }
         ],
         "name": "2022-07-04"
        },
        {
         "data": [
          {
           "customdata": [
            [
             "MP 01: Naamsestraat 35  Maxim"
            ],
            [
             "MP 02: Naamsestraat 57 Xior"
            ],
            [
             "MP 03: Naamsestraat 62 Taste"
            ],
            [
             "MP 05: Calvariekapel KU Leuven"
            ],
            [
             "MP 06: Parkstraat 2 La Filosovia"
            ],
            [
             "MP 07: Naamsestraat 81"
            ],
            [
             "MP08bis - Vrijthof"
            ]
           ],
           "hovertemplate": "ts_str=2022-07-05<br>Human voice - Shouting=%{marker.size}<br>latitude=%{lat}<br>longitude=%{lon}<br>description=%{customdata[0]}<extra></extra>",
           "lat": [
            50.877160828051615,
            50.87649057167669,
            50.875850541602986,
            50.87448678827803,
            50.87409073433792,
            50.87381822269834,
            50.87890579999999
           ],
           "legendgroup": "",
           "lon": [
            4.7006992525313445,
            4.700691639839767,
            4.700192168675618,
            4.699889625684066,
            4.700018371714718,
            4.70010170607578,
            4.7011444846213415
           ],
           "marker": {
            "color": "#636efa",
            "size": [
             2,
             0,
             0,
             0,
             3,
             0,
             0
            ],
            "sizemode": "area",
            "sizeref": 0.1825
           },
           "mode": "markers",
           "name": "",
           "showlegend": false,
           "subplot": "mapbox",
           "type": "scattermapbox"
          }
         ],
         "name": "2022-07-05"
        },
        {
         "data": [
          {
           "customdata": [
            [
             "MP 01: Naamsestraat 35  Maxim"
            ],
            [
             "MP 02: Naamsestraat 57 Xior"
            ],
            [
             "MP 03: Naamsestraat 62 Taste"
            ],
            [
             "MP 05: Calvariekapel KU Leuven"
            ],
            [
             "MP 06: Parkstraat 2 La Filosovia"
            ],
            [
             "MP 07: Naamsestraat 81"
            ]
           ],
           "hovertemplate": "ts_str=2022-07-06<br>Human voice - Shouting=%{marker.size}<br>latitude=%{lat}<br>longitude=%{lon}<br>description=%{customdata[0]}<extra></extra>",
           "lat": [
            50.877160828051615,
            50.87649057167669,
            50.875850541602986,
            50.87448678827803,
            50.87409073433792,
            50.87381822269834
           ],
           "legendgroup": "",
           "lon": [
            4.7006992525313445,
            4.700691639839767,
            4.700192168675618,
            4.699889625684066,
            4.700018371714718,
            4.70010170607578
           ],
           "marker": {
            "color": "#636efa",
            "size": [
             1,
             1,
             0,
             0,
             6,
             2
            ],
            "sizemode": "area",
            "sizeref": 0.1825
           },
           "mode": "markers",
           "name": "",
           "showlegend": false,
           "subplot": "mapbox",
           "type": "scattermapbox"
          }
         ],
         "name": "2022-07-06"
        },
        {
         "data": [
          {
           "customdata": [
            [
             "MP 01: Naamsestraat 35  Maxim"
            ],
            [
             "MP 02: Naamsestraat 57 Xior"
            ],
            [
             "MP 03: Naamsestraat 62 Taste"
            ],
            [
             "MP 05: Calvariekapel KU Leuven"
            ],
            [
             "MP 06: Parkstraat 2 La Filosovia"
            ],
            [
             "MP 07: Naamsestraat 81"
            ]
           ],
           "hovertemplate": "ts_str=2022-07-07<br>Human voice - Shouting=%{marker.size}<br>latitude=%{lat}<br>longitude=%{lon}<br>description=%{customdata[0]}<extra></extra>",
           "lat": [
            50.877160828051615,
            50.87649057167669,
            50.875850541602986,
            50.87448678827803,
            50.87409073433792,
            50.87381822269834
           ],
           "legendgroup": "",
           "lon": [
            4.7006992525313445,
            4.700691639839767,
            4.700192168675618,
            4.699889625684066,
            4.700018371714718,
            4.70010170607578
           ],
           "marker": {
            "color": "#636efa",
            "size": [
             3,
             0,
             0,
             1,
             5,
             9
            ],
            "sizemode": "area",
            "sizeref": 0.1825
           },
           "mode": "markers",
           "name": "",
           "showlegend": false,
           "subplot": "mapbox",
           "type": "scattermapbox"
          }
         ],
         "name": "2022-07-07"
        },
        {
         "data": [
          {
           "customdata": [
            [
             "MP 01: Naamsestraat 35  Maxim"
            ],
            [
             "MP 02: Naamsestraat 57 Xior"
            ],
            [
             "MP 03: Naamsestraat 62 Taste"
            ],
            [
             "MP 05: Calvariekapel KU Leuven"
            ],
            [
             "MP 06: Parkstraat 2 La Filosovia"
            ],
            [
             "MP 07: Naamsestraat 81"
            ],
            [
             "MP08bis - Vrijthof"
            ]
           ],
           "hovertemplate": "ts_str=2022-07-08<br>Human voice - Shouting=%{marker.size}<br>latitude=%{lat}<br>longitude=%{lon}<br>description=%{customdata[0]}<extra></extra>",
           "lat": [
            50.877160828051615,
            50.87649057167669,
            50.875850541602986,
            50.87448678827803,
            50.87409073433792,
            50.87381822269834,
            50.87890579999999
           ],
           "legendgroup": "",
           "lon": [
            4.7006992525313445,
            4.700691639839767,
            4.700192168675618,
            4.699889625684066,
            4.700018371714718,
            4.70010170607578,
            4.7011444846213415
           ],
           "marker": {
            "color": "#636efa",
            "size": [
             2,
             0,
             2,
             0,
             0,
             1,
             0
            ],
            "sizemode": "area",
            "sizeref": 0.1825
           },
           "mode": "markers",
           "name": "",
           "showlegend": false,
           "subplot": "mapbox",
           "type": "scattermapbox"
          }
         ],
         "name": "2022-07-08"
        },
        {
         "data": [
          {
           "customdata": [
            [
             "MP 01: Naamsestraat 35  Maxim"
            ],
            [
             "MP 02: Naamsestraat 57 Xior"
            ],
            [
             "MP 03: Naamsestraat 62 Taste"
            ],
            [
             "MP 05: Calvariekapel KU Leuven"
            ],
            [
             "MP 06: Parkstraat 2 La Filosovia"
            ],
            [
             "MP 07: Naamsestraat 81"
            ]
           ],
           "hovertemplate": "ts_str=2022-07-09<br>Human voice - Shouting=%{marker.size}<br>latitude=%{lat}<br>longitude=%{lon}<br>description=%{customdata[0]}<extra></extra>",
           "lat": [
            50.877160828051615,
            50.87649057167669,
            50.875850541602986,
            50.87448678827803,
            50.87409073433792,
            50.87381822269834
           ],
           "legendgroup": "",
           "lon": [
            4.7006992525313445,
            4.700691639839767,
            4.700192168675618,
            4.699889625684066,
            4.700018371714718,
            4.70010170607578
           ],
           "marker": {
            "color": "#636efa",
            "size": [
             6,
             0,
             2,
             3,
             0,
             1
            ],
            "sizemode": "area",
            "sizeref": 0.1825
           },
           "mode": "markers",
           "name": "",
           "showlegend": false,
           "subplot": "mapbox",
           "type": "scattermapbox"
          }
         ],
         "name": "2022-07-09"
        },
        {
         "data": [
          {
           "customdata": [
            [
             "MP 01: Naamsestraat 35  Maxim"
            ],
            [
             "MP 02: Naamsestraat 57 Xior"
            ],
            [
             "MP 03: Naamsestraat 62 Taste"
            ],
            [
             "MP 05: Calvariekapel KU Leuven"
            ],
            [
             "MP 06: Parkstraat 2 La Filosovia"
            ],
            [
             "MP 07: Naamsestraat 81"
            ],
            [
             "MP08bis - Vrijthof"
            ]
           ],
           "hovertemplate": "ts_str=2022-07-10<br>Human voice - Shouting=%{marker.size}<br>latitude=%{lat}<br>longitude=%{lon}<br>description=%{customdata[0]}<extra></extra>",
           "lat": [
            50.877160828051615,
            50.87649057167669,
            50.875850541602986,
            50.87448678827803,
            50.87409073433792,
            50.87381822269834,
            50.87890579999999
           ],
           "legendgroup": "",
           "lon": [
            4.7006992525313445,
            4.700691639839767,
            4.700192168675618,
            4.699889625684066,
            4.700018371714718,
            4.70010170607578,
            4.7011444846213415
           ],
           "marker": {
            "color": "#636efa",
            "size": [
             0,
             0,
             0,
             1,
             0,
             0,
             7
            ],
            "sizemode": "area",
            "sizeref": 0.1825
           },
           "mode": "markers",
           "name": "",
           "showlegend": false,
           "subplot": "mapbox",
           "type": "scattermapbox"
          }
         ],
         "name": "2022-07-10"
        },
        {
         "data": [
          {
           "customdata": [
            [
             "MP 01: Naamsestraat 35  Maxim"
            ],
            [
             "MP 02: Naamsestraat 57 Xior"
            ],
            [
             "MP 03: Naamsestraat 62 Taste"
            ],
            [
             "MP 05: Calvariekapel KU Leuven"
            ],
            [
             "MP 06: Parkstraat 2 La Filosovia"
            ],
            [
             "MP 07: Naamsestraat 81"
            ]
           ],
           "hovertemplate": "ts_str=2022-07-11<br>Human voice - Shouting=%{marker.size}<br>latitude=%{lat}<br>longitude=%{lon}<br>description=%{customdata[0]}<extra></extra>",
           "lat": [
            50.877160828051615,
            50.87649057167669,
            50.875850541602986,
            50.87448678827803,
            50.87409073433792,
            50.87381822269834
           ],
           "legendgroup": "",
           "lon": [
            4.7006992525313445,
            4.700691639839767,
            4.700192168675618,
            4.699889625684066,
            4.700018371714718,
            4.70010170607578
           ],
           "marker": {
            "color": "#636efa",
            "size": [
             0,
             0,
             1,
             2,
             0,
             2
            ],
            "sizemode": "area",
            "sizeref": 0.1825
           },
           "mode": "markers",
           "name": "",
           "showlegend": false,
           "subplot": "mapbox",
           "type": "scattermapbox"
          }
         ],
         "name": "2022-07-11"
        },
        {
         "data": [
          {
           "customdata": [
            [
             "MP 01: Naamsestraat 35  Maxim"
            ],
            [
             "MP 02: Naamsestraat 57 Xior"
            ],
            [
             "MP 03: Naamsestraat 62 Taste"
            ],
            [
             "MP 05: Calvariekapel KU Leuven"
            ],
            [
             "MP 06: Parkstraat 2 La Filosovia"
            ],
            [
             "MP 07: Naamsestraat 81"
            ]
           ],
           "hovertemplate": "ts_str=2022-07-12<br>Human voice - Shouting=%{marker.size}<br>latitude=%{lat}<br>longitude=%{lon}<br>description=%{customdata[0]}<extra></extra>",
           "lat": [
            50.877160828051615,
            50.87649057167669,
            50.875850541602986,
            50.87448678827803,
            50.87409073433792,
            50.87381822269834
           ],
           "legendgroup": "",
           "lon": [
            4.7006992525313445,
            4.700691639839767,
            4.700192168675618,
            4.699889625684066,
            4.700018371714718,
            4.70010170607578
           ],
           "marker": {
            "color": "#636efa",
            "size": [
             0,
             0,
             0,
             2,
             0,
             0
            ],
            "sizemode": "area",
            "sizeref": 0.1825
           },
           "mode": "markers",
           "name": "",
           "showlegend": false,
           "subplot": "mapbox",
           "type": "scattermapbox"
          }
         ],
         "name": "2022-07-12"
        },
        {
         "data": [
          {
           "customdata": [
            [
             "MP 01: Naamsestraat 35  Maxim"
            ],
            [
             "MP 02: Naamsestraat 57 Xior"
            ],
            [
             "MP 03: Naamsestraat 62 Taste"
            ],
            [
             "MP 05: Calvariekapel KU Leuven"
            ],
            [
             "MP 06: Parkstraat 2 La Filosovia"
            ],
            [
             "MP 07: Naamsestraat 81"
            ]
           ],
           "hovertemplate": "ts_str=2022-07-13<br>Human voice - Shouting=%{marker.size}<br>latitude=%{lat}<br>longitude=%{lon}<br>description=%{customdata[0]}<extra></extra>",
           "lat": [
            50.877160828051615,
            50.87649057167669,
            50.875850541602986,
            50.87448678827803,
            50.87409073433792,
            50.87381822269834
           ],
           "legendgroup": "",
           "lon": [
            4.7006992525313445,
            4.700691639839767,
            4.700192168675618,
            4.699889625684066,
            4.700018371714718,
            4.70010170607578
           ],
           "marker": {
            "color": "#636efa",
            "size": [
             0,
             2,
             0,
             1,
             1,
             2
            ],
            "sizemode": "area",
            "sizeref": 0.1825
           },
           "mode": "markers",
           "name": "",
           "showlegend": false,
           "subplot": "mapbox",
           "type": "scattermapbox"
          }
         ],
         "name": "2022-07-13"
        },
        {
         "data": [
          {
           "customdata": [
            [
             "MP 01: Naamsestraat 35  Maxim"
            ],
            [
             "MP 02: Naamsestraat 57 Xior"
            ],
            [
             "MP 03: Naamsestraat 62 Taste"
            ],
            [
             "MP 05: Calvariekapel KU Leuven"
            ],
            [
             "MP 06: Parkstraat 2 La Filosovia"
            ],
            [
             "MP 07: Naamsestraat 81"
            ]
           ],
           "hovertemplate": "ts_str=2022-07-14<br>Human voice - Shouting=%{marker.size}<br>latitude=%{lat}<br>longitude=%{lon}<br>description=%{customdata[0]}<extra></extra>",
           "lat": [
            50.877160828051615,
            50.87649057167669,
            50.875850541602986,
            50.87448678827803,
            50.87409073433792,
            50.87381822269834
           ],
           "legendgroup": "",
           "lon": [
            4.7006992525313445,
            4.700691639839767,
            4.700192168675618,
            4.699889625684066,
            4.700018371714718,
            4.70010170607578
           ],
           "marker": {
            "color": "#636efa",
            "size": [
             0,
             0,
             0,
             0,
             0,
             0
            ],
            "sizemode": "area",
            "sizeref": 0.1825
           },
           "mode": "markers",
           "name": "",
           "showlegend": false,
           "subplot": "mapbox",
           "type": "scattermapbox"
          }
         ],
         "name": "2022-07-14"
        },
        {
         "data": [
          {
           "customdata": [
            [
             "MP 01: Naamsestraat 35  Maxim"
            ],
            [
             "MP 02: Naamsestraat 57 Xior"
            ],
            [
             "MP 03: Naamsestraat 62 Taste"
            ],
            [
             "MP 05: Calvariekapel KU Leuven"
            ],
            [
             "MP 06: Parkstraat 2 La Filosovia"
            ],
            [
             "MP 07: Naamsestraat 81"
            ]
           ],
           "hovertemplate": "ts_str=2022-07-15<br>Human voice - Shouting=%{marker.size}<br>latitude=%{lat}<br>longitude=%{lon}<br>description=%{customdata[0]}<extra></extra>",
           "lat": [
            50.877160828051615,
            50.87649057167669,
            50.875850541602986,
            50.87448678827803,
            50.87409073433792,
            50.87381822269834
           ],
           "legendgroup": "",
           "lon": [
            4.7006992525313445,
            4.700691639839767,
            4.700192168675618,
            4.699889625684066,
            4.700018371714718,
            4.70010170607578
           ],
           "marker": {
            "color": "#636efa",
            "size": [
             2,
             0,
             2,
             0,
             0,
             0
            ],
            "sizemode": "area",
            "sizeref": 0.1825
           },
           "mode": "markers",
           "name": "",
           "showlegend": false,
           "subplot": "mapbox",
           "type": "scattermapbox"
          }
         ],
         "name": "2022-07-15"
        },
        {
         "data": [
          {
           "customdata": [
            [
             "MP 01: Naamsestraat 35  Maxim"
            ],
            [
             "MP 02: Naamsestraat 57 Xior"
            ],
            [
             "MP 03: Naamsestraat 62 Taste"
            ],
            [
             "MP 05: Calvariekapel KU Leuven"
            ],
            [
             "MP 06: Parkstraat 2 La Filosovia"
            ],
            [
             "MP 07: Naamsestraat 81"
            ]
           ],
           "hovertemplate": "ts_str=2022-07-16<br>Human voice - Shouting=%{marker.size}<br>latitude=%{lat}<br>longitude=%{lon}<br>description=%{customdata[0]}<extra></extra>",
           "lat": [
            50.877160828051615,
            50.87649057167669,
            50.875850541602986,
            50.87448678827803,
            50.87409073433792,
            50.87381822269834
           ],
           "legendgroup": "",
           "lon": [
            4.7006992525313445,
            4.700691639839767,
            4.700192168675618,
            4.699889625684066,
            4.700018371714718,
            4.70010170607578
           ],
           "marker": {
            "color": "#636efa",
            "size": [
             8,
             0,
             0,
             3,
             0,
             0
            ],
            "sizemode": "area",
            "sizeref": 0.1825
           },
           "mode": "markers",
           "name": "",
           "showlegend": false,
           "subplot": "mapbox",
           "type": "scattermapbox"
          }
         ],
         "name": "2022-07-16"
        },
        {
         "data": [
          {
           "customdata": [
            [
             "MP 01: Naamsestraat 35  Maxim"
            ],
            [
             "MP 02: Naamsestraat 57 Xior"
            ],
            [
             "MP 03: Naamsestraat 62 Taste"
            ],
            [
             "MP 05: Calvariekapel KU Leuven"
            ],
            [
             "MP 06: Parkstraat 2 La Filosovia"
            ],
            [
             "MP 07: Naamsestraat 81"
            ]
           ],
           "hovertemplate": "ts_str=2022-07-17<br>Human voice - Shouting=%{marker.size}<br>latitude=%{lat}<br>longitude=%{lon}<br>description=%{customdata[0]}<extra></extra>",
           "lat": [
            50.877160828051615,
            50.87649057167669,
            50.875850541602986,
            50.87448678827803,
            50.87409073433792,
            50.87381822269834
           ],
           "legendgroup": "",
           "lon": [
            4.7006992525313445,
            4.700691639839767,
            4.700192168675618,
            4.699889625684066,
            4.700018371714718,
            4.70010170607578
           ],
           "marker": {
            "color": "#636efa",
            "size": [
             2,
             0,
             0,
             2,
             0,
             0
            ],
            "sizemode": "area",
            "sizeref": 0.1825
           },
           "mode": "markers",
           "name": "",
           "showlegend": false,
           "subplot": "mapbox",
           "type": "scattermapbox"
          }
         ],
         "name": "2022-07-17"
        },
        {
         "data": [
          {
           "customdata": [
            [
             "MP 01: Naamsestraat 35  Maxim"
            ],
            [
             "MP 02: Naamsestraat 57 Xior"
            ],
            [
             "MP 03: Naamsestraat 62 Taste"
            ],
            [
             "MP 05: Calvariekapel KU Leuven"
            ],
            [
             "MP 06: Parkstraat 2 La Filosovia"
            ],
            [
             "MP 07: Naamsestraat 81"
            ]
           ],
           "hovertemplate": "ts_str=2022-07-18<br>Human voice - Shouting=%{marker.size}<br>latitude=%{lat}<br>longitude=%{lon}<br>description=%{customdata[0]}<extra></extra>",
           "lat": [
            50.877160828051615,
            50.87649057167669,
            50.875850541602986,
            50.87448678827803,
            50.87409073433792,
            50.87381822269834
           ],
           "legendgroup": "",
           "lon": [
            4.7006992525313445,
            4.700691639839767,
            4.700192168675618,
            4.699889625684066,
            4.700018371714718,
            4.70010170607578
           ],
           "marker": {
            "color": "#636efa",
            "size": [
             1,
             1,
             0,
             2,
             0,
             0
            ],
            "sizemode": "area",
            "sizeref": 0.1825
           },
           "mode": "markers",
           "name": "",
           "showlegend": false,
           "subplot": "mapbox",
           "type": "scattermapbox"
          }
         ],
         "name": "2022-07-18"
        },
        {
         "data": [
          {
           "customdata": [
            [
             "MP 01: Naamsestraat 35  Maxim"
            ],
            [
             "MP 02: Naamsestraat 57 Xior"
            ],
            [
             "MP 03: Naamsestraat 62 Taste"
            ],
            [
             "MP 05: Calvariekapel KU Leuven"
            ],
            [
             "MP 06: Parkstraat 2 La Filosovia"
            ],
            [
             "MP 07: Naamsestraat 81"
            ]
           ],
           "hovertemplate": "ts_str=2022-07-19<br>Human voice - Shouting=%{marker.size}<br>latitude=%{lat}<br>longitude=%{lon}<br>description=%{customdata[0]}<extra></extra>",
           "lat": [
            50.877160828051615,
            50.87649057167669,
            50.875850541602986,
            50.87448678827803,
            50.87409073433792,
            50.87381822269834
           ],
           "legendgroup": "",
           "lon": [
            4.7006992525313445,
            4.700691639839767,
            4.700192168675618,
            4.699889625684066,
            4.700018371714718,
            4.70010170607578
           ],
           "marker": {
            "color": "#636efa",
            "size": [
             3,
             0,
             0,
             0,
             0,
             0
            ],
            "sizemode": "area",
            "sizeref": 0.1825
           },
           "mode": "markers",
           "name": "",
           "showlegend": false,
           "subplot": "mapbox",
           "type": "scattermapbox"
          }
         ],
         "name": "2022-07-19"
        },
        {
         "data": [
          {
           "customdata": [
            [
             "MP 01: Naamsestraat 35  Maxim"
            ],
            [
             "MP 02: Naamsestraat 57 Xior"
            ],
            [
             "MP 03: Naamsestraat 62 Taste"
            ],
            [
             "MP 05: Calvariekapel KU Leuven"
            ],
            [
             "MP 06: Parkstraat 2 La Filosovia"
            ],
            [
             "MP 07: Naamsestraat 81"
            ],
            [
             "MP08bis - Vrijthof"
            ]
           ],
           "hovertemplate": "ts_str=2022-07-20<br>Human voice - Shouting=%{marker.size}<br>latitude=%{lat}<br>longitude=%{lon}<br>description=%{customdata[0]}<extra></extra>",
           "lat": [
            50.877160828051615,
            50.87649057167669,
            50.875850541602986,
            50.87448678827803,
            50.87409073433792,
            50.87381822269834,
            50.87890579999999
           ],
           "legendgroup": "",
           "lon": [
            4.7006992525313445,
            4.700691639839767,
            4.700192168675618,
            4.699889625684066,
            4.700018371714718,
            4.70010170607578,
            4.7011444846213415
           ],
           "marker": {
            "color": "#636efa",
            "size": [
             2,
             0,
             1,
             0,
             1,
             0,
             0
            ],
            "sizemode": "area",
            "sizeref": 0.1825
           },
           "mode": "markers",
           "name": "",
           "showlegend": false,
           "subplot": "mapbox",
           "type": "scattermapbox"
          }
         ],
         "name": "2022-07-20"
        },
        {
         "data": [
          {
           "customdata": [
            [
             "MP 01: Naamsestraat 35  Maxim"
            ],
            [
             "MP 02: Naamsestraat 57 Xior"
            ],
            [
             "MP 03: Naamsestraat 62 Taste"
            ],
            [
             "MP 05: Calvariekapel KU Leuven"
            ],
            [
             "MP 06: Parkstraat 2 La Filosovia"
            ],
            [
             "MP 07: Naamsestraat 81"
            ]
           ],
           "hovertemplate": "ts_str=2022-07-21<br>Human voice - Shouting=%{marker.size}<br>latitude=%{lat}<br>longitude=%{lon}<br>description=%{customdata[0]}<extra></extra>",
           "lat": [
            50.877160828051615,
            50.87649057167669,
            50.875850541602986,
            50.87448678827803,
            50.87409073433792,
            50.87381822269834
           ],
           "legendgroup": "",
           "lon": [
            4.7006992525313445,
            4.700691639839767,
            4.700192168675618,
            4.699889625684066,
            4.700018371714718,
            4.70010170607578
           ],
           "marker": {
            "color": "#636efa",
            "size": [
             2,
             1,
             0,
             0,
             1,
             0
            ],
            "sizemode": "area",
            "sizeref": 0.1825
           },
           "mode": "markers",
           "name": "",
           "showlegend": false,
           "subplot": "mapbox",
           "type": "scattermapbox"
          }
         ],
         "name": "2022-07-21"
        },
        {
         "data": [
          {
           "customdata": [
            [
             "MP 01: Naamsestraat 35  Maxim"
            ],
            [
             "MP 02: Naamsestraat 57 Xior"
            ],
            [
             "MP 03: Naamsestraat 62 Taste"
            ],
            [
             "MP 05: Calvariekapel KU Leuven"
            ],
            [
             "MP 06: Parkstraat 2 La Filosovia"
            ],
            [
             "MP 07: Naamsestraat 81"
            ]
           ],
           "hovertemplate": "ts_str=2022-07-22<br>Human voice - Shouting=%{marker.size}<br>latitude=%{lat}<br>longitude=%{lon}<br>description=%{customdata[0]}<extra></extra>",
           "lat": [
            50.877160828051615,
            50.87649057167669,
            50.875850541602986,
            50.87448678827803,
            50.87409073433792,
            50.87381822269834
           ],
           "legendgroup": "",
           "lon": [
            4.7006992525313445,
            4.700691639839767,
            4.700192168675618,
            4.699889625684066,
            4.700018371714718,
            4.70010170607578
           ],
           "marker": {
            "color": "#636efa",
            "size": [
             3,
             0,
             2,
             2,
             0,
             0
            ],
            "sizemode": "area",
            "sizeref": 0.1825
           },
           "mode": "markers",
           "name": "",
           "showlegend": false,
           "subplot": "mapbox",
           "type": "scattermapbox"
          }
         ],
         "name": "2022-07-22"
        },
        {
         "data": [
          {
           "customdata": [
            [
             "MP 01: Naamsestraat 35  Maxim"
            ],
            [
             "MP 02: Naamsestraat 57 Xior"
            ],
            [
             "MP 03: Naamsestraat 62 Taste"
            ],
            [
             "MP 05: Calvariekapel KU Leuven"
            ],
            [
             "MP 06: Parkstraat 2 La Filosovia"
            ],
            [
             "MP 07: Naamsestraat 81"
            ],
            [
             "MP08bis - Vrijthof"
            ]
           ],
           "hovertemplate": "ts_str=2022-07-23<br>Human voice - Shouting=%{marker.size}<br>latitude=%{lat}<br>longitude=%{lon}<br>description=%{customdata[0]}<extra></extra>",
           "lat": [
            50.877160828051615,
            50.87649057167669,
            50.875850541602986,
            50.87448678827803,
            50.87409073433792,
            50.87381822269834,
            50.87890579999999
           ],
           "legendgroup": "",
           "lon": [
            4.7006992525313445,
            4.700691639839767,
            4.700192168675618,
            4.699889625684066,
            4.700018371714718,
            4.70010170607578,
            4.7011444846213415
           ],
           "marker": {
            "color": "#636efa",
            "size": [
             6,
             0,
             0,
             1,
             0,
             0,
             0
            ],
            "sizemode": "area",
            "sizeref": 0.1825
           },
           "mode": "markers",
           "name": "",
           "showlegend": false,
           "subplot": "mapbox",
           "type": "scattermapbox"
          }
         ],
         "name": "2022-07-23"
        },
        {
         "data": [
          {
           "customdata": [
            [
             "MP 01: Naamsestraat 35  Maxim"
            ],
            [
             "MP 02: Naamsestraat 57 Xior"
            ],
            [
             "MP 03: Naamsestraat 62 Taste"
            ],
            [
             "MP 05: Calvariekapel KU Leuven"
            ],
            [
             "MP 06: Parkstraat 2 La Filosovia"
            ],
            [
             "MP 07: Naamsestraat 81"
            ]
           ],
           "hovertemplate": "ts_str=2022-07-24<br>Human voice - Shouting=%{marker.size}<br>latitude=%{lat}<br>longitude=%{lon}<br>description=%{customdata[0]}<extra></extra>",
           "lat": [
            50.877160828051615,
            50.87649057167669,
            50.875850541602986,
            50.87448678827803,
            50.87409073433792,
            50.87381822269834
           ],
           "legendgroup": "",
           "lon": [
            4.7006992525313445,
            4.700691639839767,
            4.700192168675618,
            4.699889625684066,
            4.700018371714718,
            4.70010170607578
           ],
           "marker": {
            "color": "#636efa",
            "size": [
             5,
             0,
             0,
             1,
             0,
             0
            ],
            "sizemode": "area",
            "sizeref": 0.1825
           },
           "mode": "markers",
           "name": "",
           "showlegend": false,
           "subplot": "mapbox",
           "type": "scattermapbox"
          }
         ],
         "name": "2022-07-24"
        },
        {
         "data": [
          {
           "customdata": [
            [
             "MP 01: Naamsestraat 35  Maxim"
            ],
            [
             "MP 02: Naamsestraat 57 Xior"
            ],
            [
             "MP 03: Naamsestraat 62 Taste"
            ],
            [
             "MP 05: Calvariekapel KU Leuven"
            ],
            [
             "MP 06: Parkstraat 2 La Filosovia"
            ],
            [
             "MP 07: Naamsestraat 81"
            ]
           ],
           "hovertemplate": "ts_str=2022-07-25<br>Human voice - Shouting=%{marker.size}<br>latitude=%{lat}<br>longitude=%{lon}<br>description=%{customdata[0]}<extra></extra>",
           "lat": [
            50.877160828051615,
            50.87649057167669,
            50.875850541602986,
            50.87448678827803,
            50.87409073433792,
            50.87381822269834
           ],
           "legendgroup": "",
           "lon": [
            4.7006992525313445,
            4.700691639839767,
            4.700192168675618,
            4.699889625684066,
            4.700018371714718,
            4.70010170607578
           ],
           "marker": {
            "color": "#636efa",
            "size": [
             0,
             1,
             0,
             2,
             0,
             0
            ],
            "sizemode": "area",
            "sizeref": 0.1825
           },
           "mode": "markers",
           "name": "",
           "showlegend": false,
           "subplot": "mapbox",
           "type": "scattermapbox"
          }
         ],
         "name": "2022-07-25"
        },
        {
         "data": [
          {
           "customdata": [
            [
             "MP 01: Naamsestraat 35  Maxim"
            ],
            [
             "MP 02: Naamsestraat 57 Xior"
            ],
            [
             "MP 03: Naamsestraat 62 Taste"
            ],
            [
             "MP 05: Calvariekapel KU Leuven"
            ],
            [
             "MP 06: Parkstraat 2 La Filosovia"
            ],
            [
             "MP 07: Naamsestraat 81"
            ]
           ],
           "hovertemplate": "ts_str=2022-07-26<br>Human voice - Shouting=%{marker.size}<br>latitude=%{lat}<br>longitude=%{lon}<br>description=%{customdata[0]}<extra></extra>",
           "lat": [
            50.877160828051615,
            50.87649057167669,
            50.875850541602986,
            50.87448678827803,
            50.87409073433792,
            50.87381822269834
           ],
           "legendgroup": "",
           "lon": [
            4.7006992525313445,
            4.700691639839767,
            4.700192168675618,
            4.699889625684066,
            4.700018371714718,
            4.70010170607578
           ],
           "marker": {
            "color": "#636efa",
            "size": [
             1,
             0,
             0,
             1,
             1,
             0
            ],
            "sizemode": "area",
            "sizeref": 0.1825
           },
           "mode": "markers",
           "name": "",
           "showlegend": false,
           "subplot": "mapbox",
           "type": "scattermapbox"
          }
         ],
         "name": "2022-07-26"
        },
        {
         "data": [
          {
           "customdata": [
            [
             "MP 01: Naamsestraat 35  Maxim"
            ],
            [
             "MP 02: Naamsestraat 57 Xior"
            ],
            [
             "MP 03: Naamsestraat 62 Taste"
            ],
            [
             "MP 05: Calvariekapel KU Leuven"
            ],
            [
             "MP 06: Parkstraat 2 La Filosovia"
            ],
            [
             "MP 07: Naamsestraat 81"
            ]
           ],
           "hovertemplate": "ts_str=2022-07-27<br>Human voice - Shouting=%{marker.size}<br>latitude=%{lat}<br>longitude=%{lon}<br>description=%{customdata[0]}<extra></extra>",
           "lat": [
            50.877160828051615,
            50.87649057167669,
            50.875850541602986,
            50.87448678827803,
            50.87409073433792,
            50.87381822269834
           ],
           "legendgroup": "",
           "lon": [
            4.7006992525313445,
            4.700691639839767,
            4.700192168675618,
            4.699889625684066,
            4.700018371714718,
            4.70010170607578
           ],
           "marker": {
            "color": "#636efa",
            "size": [
             1,
             0,
             0,
             0,
             0,
             1
            ],
            "sizemode": "area",
            "sizeref": 0.1825
           },
           "mode": "markers",
           "name": "",
           "showlegend": false,
           "subplot": "mapbox",
           "type": "scattermapbox"
          }
         ],
         "name": "2022-07-27"
        },
        {
         "data": [
          {
           "customdata": [
            [
             "MP 01: Naamsestraat 35  Maxim"
            ],
            [
             "MP 02: Naamsestraat 57 Xior"
            ],
            [
             "MP 03: Naamsestraat 62 Taste"
            ],
            [
             "MP 05: Calvariekapel KU Leuven"
            ],
            [
             "MP 06: Parkstraat 2 La Filosovia"
            ],
            [
             "MP 07: Naamsestraat 81"
            ],
            [
             "MP08bis - Vrijthof"
            ]
           ],
           "hovertemplate": "ts_str=2022-07-28<br>Human voice - Shouting=%{marker.size}<br>latitude=%{lat}<br>longitude=%{lon}<br>description=%{customdata[0]}<extra></extra>",
           "lat": [
            50.877160828051615,
            50.87649057167669,
            50.875850541602986,
            50.87448678827803,
            50.87409073433792,
            50.87381822269834,
            50.87890579999999
           ],
           "legendgroup": "",
           "lon": [
            4.7006992525313445,
            4.700691639839767,
            4.700192168675618,
            4.699889625684066,
            4.700018371714718,
            4.70010170607578,
            4.7011444846213415
           ],
           "marker": {
            "color": "#636efa",
            "size": [
             3,
             1,
             0,
             2,
             0,
             0,
             0
            ],
            "sizemode": "area",
            "sizeref": 0.1825
           },
           "mode": "markers",
           "name": "",
           "showlegend": false,
           "subplot": "mapbox",
           "type": "scattermapbox"
          }
         ],
         "name": "2022-07-28"
        },
        {
         "data": [
          {
           "customdata": [
            [
             "MP 01: Naamsestraat 35  Maxim"
            ],
            [
             "MP 02: Naamsestraat 57 Xior"
            ],
            [
             "MP 03: Naamsestraat 62 Taste"
            ],
            [
             "MP 05: Calvariekapel KU Leuven"
            ],
            [
             "MP 06: Parkstraat 2 La Filosovia"
            ],
            [
             "MP 07: Naamsestraat 81"
            ],
            [
             "MP08bis - Vrijthof"
            ]
           ],
           "hovertemplate": "ts_str=2022-07-29<br>Human voice - Shouting=%{marker.size}<br>latitude=%{lat}<br>longitude=%{lon}<br>description=%{customdata[0]}<extra></extra>",
           "lat": [
            50.877160828051615,
            50.87649057167669,
            50.875850541602986,
            50.87448678827803,
            50.87409073433792,
            50.87381822269834,
            50.87890579999999
           ],
           "legendgroup": "",
           "lon": [
            4.7006992525313445,
            4.700691639839767,
            4.700192168675618,
            4.699889625684066,
            4.700018371714718,
            4.70010170607578,
            4.7011444846213415
           ],
           "marker": {
            "color": "#636efa",
            "size": [
             2,
             0,
             0,
             0,
             0,
             0,
             0
            ],
            "sizemode": "area",
            "sizeref": 0.1825
           },
           "mode": "markers",
           "name": "",
           "showlegend": false,
           "subplot": "mapbox",
           "type": "scattermapbox"
          }
         ],
         "name": "2022-07-29"
        },
        {
         "data": [
          {
           "customdata": [
            [
             "MP 01: Naamsestraat 35  Maxim"
            ],
            [
             "MP 02: Naamsestraat 57 Xior"
            ],
            [
             "MP 03: Naamsestraat 62 Taste"
            ],
            [
             "MP 05: Calvariekapel KU Leuven"
            ],
            [
             "MP 06: Parkstraat 2 La Filosovia"
            ],
            [
             "MP 07: Naamsestraat 81"
            ]
           ],
           "hovertemplate": "ts_str=2022-07-30<br>Human voice - Shouting=%{marker.size}<br>latitude=%{lat}<br>longitude=%{lon}<br>description=%{customdata[0]}<extra></extra>",
           "lat": [
            50.877160828051615,
            50.87649057167669,
            50.875850541602986,
            50.87448678827803,
            50.87409073433792,
            50.87381822269834
           ],
           "legendgroup": "",
           "lon": [
            4.7006992525313445,
            4.700691639839767,
            4.700192168675618,
            4.699889625684066,
            4.700018371714718,
            4.70010170607578
           ],
           "marker": {
            "color": "#636efa",
            "size": [
             0,
             1,
             2,
             1,
             0,
             0
            ],
            "sizemode": "area",
            "sizeref": 0.1825
           },
           "mode": "markers",
           "name": "",
           "showlegend": false,
           "subplot": "mapbox",
           "type": "scattermapbox"
          }
         ],
         "name": "2022-07-30"
        },
        {
         "data": [
          {
           "customdata": [
            [
             "MP 01: Naamsestraat 35  Maxim"
            ],
            [
             "MP 02: Naamsestraat 57 Xior"
            ],
            [
             "MP 03: Naamsestraat 62 Taste"
            ],
            [
             "MP 05: Calvariekapel KU Leuven"
            ],
            [
             "MP 06: Parkstraat 2 La Filosovia"
            ],
            [
             "MP 07: Naamsestraat 81"
            ]
           ],
           "hovertemplate": "ts_str=2022-07-31<br>Human voice - Shouting=%{marker.size}<br>latitude=%{lat}<br>longitude=%{lon}<br>description=%{customdata[0]}<extra></extra>",
           "lat": [
            50.877160828051615,
            50.87649057167669,
            50.875850541602986,
            50.87448678827803,
            50.87409073433792,
            50.87381822269834
           ],
           "legendgroup": "",
           "lon": [
            4.7006992525313445,
            4.700691639839767,
            4.700192168675618,
            4.699889625684066,
            4.700018371714718,
            4.70010170607578
           ],
           "marker": {
            "color": "#636efa",
            "size": [
             11,
             1,
             1,
             5,
             0,
             0
            ],
            "sizemode": "area",
            "sizeref": 0.1825
           },
           "mode": "markers",
           "name": "",
           "showlegend": false,
           "subplot": "mapbox",
           "type": "scattermapbox"
          }
         ],
         "name": "2022-07-31"
        },
        {
         "data": [
          {
           "customdata": [
            [
             "MP 01: Naamsestraat 35  Maxim"
            ],
            [
             "MP 02: Naamsestraat 57 Xior"
            ],
            [
             "MP 03: Naamsestraat 62 Taste"
            ],
            [
             "MP 05: Calvariekapel KU Leuven"
            ],
            [
             "MP 06: Parkstraat 2 La Filosovia"
            ],
            [
             "MP 07: Naamsestraat 81"
            ]
           ],
           "hovertemplate": "ts_str=2022-08-01<br>Human voice - Shouting=%{marker.size}<br>latitude=%{lat}<br>longitude=%{lon}<br>description=%{customdata[0]}<extra></extra>",
           "lat": [
            50.877160828051615,
            50.87649057167669,
            50.875850541602986,
            50.87448678827803,
            50.87409073433792,
            50.87381822269834
           ],
           "legendgroup": "",
           "lon": [
            4.7006992525313445,
            4.700691639839767,
            4.700192168675618,
            4.699889625684066,
            4.700018371714718,
            4.70010170607578
           ],
           "marker": {
            "color": "#636efa",
            "size": [
             1,
             2,
             0,
             1,
             0,
             0
            ],
            "sizemode": "area",
            "sizeref": 0.1825
           },
           "mode": "markers",
           "name": "",
           "showlegend": false,
           "subplot": "mapbox",
           "type": "scattermapbox"
          }
         ],
         "name": "2022-08-01"
        },
        {
         "data": [
          {
           "customdata": [
            [
             "MP 01: Naamsestraat 35  Maxim"
            ],
            [
             "MP 02: Naamsestraat 57 Xior"
            ],
            [
             "MP 03: Naamsestraat 62 Taste"
            ],
            [
             "MP 05: Calvariekapel KU Leuven"
            ],
            [
             "MP 06: Parkstraat 2 La Filosovia"
            ],
            [
             "MP 07: Naamsestraat 81"
            ]
           ],
           "hovertemplate": "ts_str=2022-08-02<br>Human voice - Shouting=%{marker.size}<br>latitude=%{lat}<br>longitude=%{lon}<br>description=%{customdata[0]}<extra></extra>",
           "lat": [
            50.877160828051615,
            50.87649057167669,
            50.875850541602986,
            50.87448678827803,
            50.87409073433792,
            50.87381822269834
           ],
           "legendgroup": "",
           "lon": [
            4.7006992525313445,
            4.700691639839767,
            4.700192168675618,
            4.699889625684066,
            4.700018371714718,
            4.70010170607578
           ],
           "marker": {
            "color": "#636efa",
            "size": [
             2,
             1,
             3,
             3,
             3,
             2
            ],
            "sizemode": "area",
            "sizeref": 0.1825
           },
           "mode": "markers",
           "name": "",
           "showlegend": false,
           "subplot": "mapbox",
           "type": "scattermapbox"
          }
         ],
         "name": "2022-08-02"
        },
        {
         "data": [
          {
           "customdata": [
            [
             "MP 01: Naamsestraat 35  Maxim"
            ],
            [
             "MP 02: Naamsestraat 57 Xior"
            ],
            [
             "MP 03: Naamsestraat 62 Taste"
            ],
            [
             "MP 05: Calvariekapel KU Leuven"
            ],
            [
             "MP 06: Parkstraat 2 La Filosovia"
            ],
            [
             "MP 07: Naamsestraat 81"
            ]
           ],
           "hovertemplate": "ts_str=2022-08-03<br>Human voice - Shouting=%{marker.size}<br>latitude=%{lat}<br>longitude=%{lon}<br>description=%{customdata[0]}<extra></extra>",
           "lat": [
            50.877160828051615,
            50.87649057167669,
            50.875850541602986,
            50.87448678827803,
            50.87409073433792,
            50.87381822269834
           ],
           "legendgroup": "",
           "lon": [
            4.7006992525313445,
            4.700691639839767,
            4.700192168675618,
            4.699889625684066,
            4.700018371714718,
            4.70010170607578
           ],
           "marker": {
            "color": "#636efa",
            "size": [
             2,
             0,
             0,
             1,
             1,
             2
            ],
            "sizemode": "area",
            "sizeref": 0.1825
           },
           "mode": "markers",
           "name": "",
           "showlegend": false,
           "subplot": "mapbox",
           "type": "scattermapbox"
          }
         ],
         "name": "2022-08-03"
        },
        {
         "data": [
          {
           "customdata": [
            [
             "MP 01: Naamsestraat 35  Maxim"
            ],
            [
             "MP 02: Naamsestraat 57 Xior"
            ],
            [
             "MP 03: Naamsestraat 62 Taste"
            ],
            [
             "MP 05: Calvariekapel KU Leuven"
            ],
            [
             "MP 06: Parkstraat 2 La Filosovia"
            ],
            [
             "MP 07: Naamsestraat 81"
            ]
           ],
           "hovertemplate": "ts_str=2022-08-04<br>Human voice - Shouting=%{marker.size}<br>latitude=%{lat}<br>longitude=%{lon}<br>description=%{customdata[0]}<extra></extra>",
           "lat": [
            50.877160828051615,
            50.87649057167669,
            50.875850541602986,
            50.87448678827803,
            50.87409073433792,
            50.87381822269834
           ],
           "legendgroup": "",
           "lon": [
            4.7006992525313445,
            4.700691639839767,
            4.700192168675618,
            4.699889625684066,
            4.700018371714718,
            4.70010170607578
           ],
           "marker": {
            "color": "#636efa",
            "size": [
             6,
             1,
             0,
             1,
             2,
             1
            ],
            "sizemode": "area",
            "sizeref": 0.1825
           },
           "mode": "markers",
           "name": "",
           "showlegend": false,
           "subplot": "mapbox",
           "type": "scattermapbox"
          }
         ],
         "name": "2022-08-04"
        },
        {
         "data": [
          {
           "customdata": [
            [
             "MP 01: Naamsestraat 35  Maxim"
            ],
            [
             "MP 02: Naamsestraat 57 Xior"
            ],
            [
             "MP 03: Naamsestraat 62 Taste"
            ],
            [
             "MP 05: Calvariekapel KU Leuven"
            ],
            [
             "MP 06: Parkstraat 2 La Filosovia"
            ],
            [
             "MP 07: Naamsestraat 81"
            ],
            [
             "MP08bis - Vrijthof"
            ]
           ],
           "hovertemplate": "ts_str=2022-08-05<br>Human voice - Shouting=%{marker.size}<br>latitude=%{lat}<br>longitude=%{lon}<br>description=%{customdata[0]}<extra></extra>",
           "lat": [
            50.877160828051615,
            50.87649057167669,
            50.875850541602986,
            50.87448678827803,
            50.87409073433792,
            50.87381822269834,
            50.87890579999999
           ],
           "legendgroup": "",
           "lon": [
            4.7006992525313445,
            4.700691639839767,
            4.700192168675618,
            4.699889625684066,
            4.700018371714718,
            4.70010170607578,
            4.7011444846213415
           ],
           "marker": {
            "color": "#636efa",
            "size": [
             7,
             0,
             1,
             5,
             0,
             1,
             0
            ],
            "sizemode": "area",
            "sizeref": 0.1825
           },
           "mode": "markers",
           "name": "",
           "showlegend": false,
           "subplot": "mapbox",
           "type": "scattermapbox"
          }
         ],
         "name": "2022-08-05"
        },
        {
         "data": [
          {
           "customdata": [
            [
             "MP 01: Naamsestraat 35  Maxim"
            ],
            [
             "MP 02: Naamsestraat 57 Xior"
            ],
            [
             "MP 03: Naamsestraat 62 Taste"
            ],
            [
             "MP 05: Calvariekapel KU Leuven"
            ],
            [
             "MP 06: Parkstraat 2 La Filosovia"
            ],
            [
             "MP 07: Naamsestraat 81"
            ],
            [
             "MP08bis - Vrijthof"
            ]
           ],
           "hovertemplate": "ts_str=2022-08-06<br>Human voice - Shouting=%{marker.size}<br>latitude=%{lat}<br>longitude=%{lon}<br>description=%{customdata[0]}<extra></extra>",
           "lat": [
            50.877160828051615,
            50.87649057167669,
            50.875850541602986,
            50.87448678827803,
            50.87409073433792,
            50.87381822269834,
            50.87890579999999
           ],
           "legendgroup": "",
           "lon": [
            4.7006992525313445,
            4.700691639839767,
            4.700192168675618,
            4.699889625684066,
            4.700018371714718,
            4.70010170607578,
            4.7011444846213415
           ],
           "marker": {
            "color": "#636efa",
            "size": [
             12,
             0,
             1,
             2,
             1,
             0,
             0
            ],
            "sizemode": "area",
            "sizeref": 0.1825
           },
           "mode": "markers",
           "name": "",
           "showlegend": false,
           "subplot": "mapbox",
           "type": "scattermapbox"
          }
         ],
         "name": "2022-08-06"
        },
        {
         "data": [
          {
           "customdata": [
            [
             "MP 01: Naamsestraat 35  Maxim"
            ],
            [
             "MP 02: Naamsestraat 57 Xior"
            ],
            [
             "MP 03: Naamsestraat 62 Taste"
            ],
            [
             "MP 05: Calvariekapel KU Leuven"
            ],
            [
             "MP 06: Parkstraat 2 La Filosovia"
            ],
            [
             "MP 07: Naamsestraat 81"
            ],
            [
             "MP08bis - Vrijthof"
            ]
           ],
           "hovertemplate": "ts_str=2022-08-07<br>Human voice - Shouting=%{marker.size}<br>latitude=%{lat}<br>longitude=%{lon}<br>description=%{customdata[0]}<extra></extra>",
           "lat": [
            50.877160828051615,
            50.87649057167669,
            50.875850541602986,
            50.87448678827803,
            50.87409073433792,
            50.87381822269834,
            50.87890579999999
           ],
           "legendgroup": "",
           "lon": [
            4.7006992525313445,
            4.700691639839767,
            4.700192168675618,
            4.699889625684066,
            4.700018371714718,
            4.70010170607578,
            4.7011444846213415
           ],
           "marker": {
            "color": "#636efa",
            "size": [
             3,
             0,
             0,
             4,
             5,
             0,
             0
            ],
            "sizemode": "area",
            "sizeref": 0.1825
           },
           "mode": "markers",
           "name": "",
           "showlegend": false,
           "subplot": "mapbox",
           "type": "scattermapbox"
          }
         ],
         "name": "2022-08-07"
        },
        {
         "data": [
          {
           "customdata": [
            [
             "MP 01: Naamsestraat 35  Maxim"
            ],
            [
             "MP 02: Naamsestraat 57 Xior"
            ],
            [
             "MP 03: Naamsestraat 62 Taste"
            ],
            [
             "MP 05: Calvariekapel KU Leuven"
            ],
            [
             "MP 06: Parkstraat 2 La Filosovia"
            ],
            [
             "MP 07: Naamsestraat 81"
            ],
            [
             "MP08bis - Vrijthof"
            ]
           ],
           "hovertemplate": "ts_str=2022-08-08<br>Human voice - Shouting=%{marker.size}<br>latitude=%{lat}<br>longitude=%{lon}<br>description=%{customdata[0]}<extra></extra>",
           "lat": [
            50.877160828051615,
            50.87649057167669,
            50.875850541602986,
            50.87448678827803,
            50.87409073433792,
            50.87381822269834,
            50.87890579999999
           ],
           "legendgroup": "",
           "lon": [
            4.7006992525313445,
            4.700691639839767,
            4.700192168675618,
            4.699889625684066,
            4.700018371714718,
            4.70010170607578,
            4.7011444846213415
           ],
           "marker": {
            "color": "#636efa",
            "size": [
             2,
             3,
             0,
             0,
             9,
             0,
             0
            ],
            "sizemode": "area",
            "sizeref": 0.1825
           },
           "mode": "markers",
           "name": "",
           "showlegend": false,
           "subplot": "mapbox",
           "type": "scattermapbox"
          }
         ],
         "name": "2022-08-08"
        },
        {
         "data": [
          {
           "customdata": [
            [
             "MP 01: Naamsestraat 35  Maxim"
            ],
            [
             "MP 02: Naamsestraat 57 Xior"
            ],
            [
             "MP 03: Naamsestraat 62 Taste"
            ],
            [
             "MP 05: Calvariekapel KU Leuven"
            ],
            [
             "MP 06: Parkstraat 2 La Filosovia"
            ],
            [
             "MP 07: Naamsestraat 81"
            ],
            [
             "MP08bis - Vrijthof"
            ]
           ],
           "hovertemplate": "ts_str=2022-08-09<br>Human voice - Shouting=%{marker.size}<br>latitude=%{lat}<br>longitude=%{lon}<br>description=%{customdata[0]}<extra></extra>",
           "lat": [
            50.877160828051615,
            50.87649057167669,
            50.875850541602986,
            50.87448678827803,
            50.87409073433792,
            50.87381822269834,
            50.87890579999999
           ],
           "legendgroup": "",
           "lon": [
            4.7006992525313445,
            4.700691639839767,
            4.700192168675618,
            4.699889625684066,
            4.700018371714718,
            4.70010170607578,
            4.7011444846213415
           ],
           "marker": {
            "color": "#636efa",
            "size": [
             1,
             0,
             0,
             0,
             0,
             3,
             0
            ],
            "sizemode": "area",
            "sizeref": 0.1825
           },
           "mode": "markers",
           "name": "",
           "showlegend": false,
           "subplot": "mapbox",
           "type": "scattermapbox"
          }
         ],
         "name": "2022-08-09"
        },
        {
         "data": [
          {
           "customdata": [
            [
             "MP 01: Naamsestraat 35  Maxim"
            ],
            [
             "MP 02: Naamsestraat 57 Xior"
            ],
            [
             "MP 03: Naamsestraat 62 Taste"
            ],
            [
             "MP 05: Calvariekapel KU Leuven"
            ],
            [
             "MP 06: Parkstraat 2 La Filosovia"
            ],
            [
             "MP 07: Naamsestraat 81"
            ],
            [
             "MP08bis - Vrijthof"
            ]
           ],
           "hovertemplate": "ts_str=2022-08-10<br>Human voice - Shouting=%{marker.size}<br>latitude=%{lat}<br>longitude=%{lon}<br>description=%{customdata[0]}<extra></extra>",
           "lat": [
            50.877160828051615,
            50.87649057167669,
            50.875850541602986,
            50.87448678827803,
            50.87409073433792,
            50.87381822269834,
            50.87890579999999
           ],
           "legendgroup": "",
           "lon": [
            4.7006992525313445,
            4.700691639839767,
            4.700192168675618,
            4.699889625684066,
            4.700018371714718,
            4.70010170607578,
            4.7011444846213415
           ],
           "marker": {
            "color": "#636efa",
            "size": [
             3,
             0,
             0,
             1,
             4,
             1,
             0
            ],
            "sizemode": "area",
            "sizeref": 0.1825
           },
           "mode": "markers",
           "name": "",
           "showlegend": false,
           "subplot": "mapbox",
           "type": "scattermapbox"
          }
         ],
         "name": "2022-08-10"
        },
        {
         "data": [
          {
           "customdata": [
            [
             "MP 01: Naamsestraat 35  Maxim"
            ],
            [
             "MP 02: Naamsestraat 57 Xior"
            ],
            [
             "MP 03: Naamsestraat 62 Taste"
            ],
            [
             "MP 05: Calvariekapel KU Leuven"
            ],
            [
             "MP 06: Parkstraat 2 La Filosovia"
            ],
            [
             "MP 07: Naamsestraat 81"
            ]
           ],
           "hovertemplate": "ts_str=2022-08-11<br>Human voice - Shouting=%{marker.size}<br>latitude=%{lat}<br>longitude=%{lon}<br>description=%{customdata[0]}<extra></extra>",
           "lat": [
            50.877160828051615,
            50.87649057167669,
            50.875850541602986,
            50.87448678827803,
            50.87409073433792,
            50.87381822269834
           ],
           "legendgroup": "",
           "lon": [
            4.7006992525313445,
            4.700691639839767,
            4.700192168675618,
            4.699889625684066,
            4.700018371714718,
            4.70010170607578
           ],
           "marker": {
            "color": "#636efa",
            "size": [
             1,
             0,
             0,
             0,
             0,
             0
            ],
            "sizemode": "area",
            "sizeref": 0.1825
           },
           "mode": "markers",
           "name": "",
           "showlegend": false,
           "subplot": "mapbox",
           "type": "scattermapbox"
          }
         ],
         "name": "2022-08-11"
        },
        {
         "data": [
          {
           "customdata": [
            [
             "MP 01: Naamsestraat 35  Maxim"
            ],
            [
             "MP 02: Naamsestraat 57 Xior"
            ],
            [
             "MP 03: Naamsestraat 62 Taste"
            ],
            [
             "MP 05: Calvariekapel KU Leuven"
            ],
            [
             "MP 06: Parkstraat 2 La Filosovia"
            ],
            [
             "MP 07: Naamsestraat 81"
            ]
           ],
           "hovertemplate": "ts_str=2022-08-12<br>Human voice - Shouting=%{marker.size}<br>latitude=%{lat}<br>longitude=%{lon}<br>description=%{customdata[0]}<extra></extra>",
           "lat": [
            50.877160828051615,
            50.87649057167669,
            50.875850541602986,
            50.87448678827803,
            50.87409073433792,
            50.87381822269834
           ],
           "legendgroup": "",
           "lon": [
            4.7006992525313445,
            4.700691639839767,
            4.700192168675618,
            4.699889625684066,
            4.700018371714718,
            4.70010170607578
           ],
           "marker": {
            "color": "#636efa",
            "size": [
             2,
             0,
             3,
             0,
             0,
             4
            ],
            "sizemode": "area",
            "sizeref": 0.1825
           },
           "mode": "markers",
           "name": "",
           "showlegend": false,
           "subplot": "mapbox",
           "type": "scattermapbox"
          }
         ],
         "name": "2022-08-12"
        },
        {
         "data": [
          {
           "customdata": [
            [
             "MP 01: Naamsestraat 35  Maxim"
            ],
            [
             "MP 02: Naamsestraat 57 Xior"
            ],
            [
             "MP 03: Naamsestraat 62 Taste"
            ],
            [
             "MP 05: Calvariekapel KU Leuven"
            ],
            [
             "MP 06: Parkstraat 2 La Filosovia"
            ],
            [
             "MP 07: Naamsestraat 81"
            ]
           ],
           "hovertemplate": "ts_str=2022-08-13<br>Human voice - Shouting=%{marker.size}<br>latitude=%{lat}<br>longitude=%{lon}<br>description=%{customdata[0]}<extra></extra>",
           "lat": [
            50.877160828051615,
            50.87649057167669,
            50.875850541602986,
            50.87448678827803,
            50.87409073433792,
            50.87381822269834
           ],
           "legendgroup": "",
           "lon": [
            4.7006992525313445,
            4.700691639839767,
            4.700192168675618,
            4.699889625684066,
            4.700018371714718,
            4.70010170607578
           ],
           "marker": {
            "color": "#636efa",
            "size": [
             2,
             0,
             0,
             1,
             0,
             1
            ],
            "sizemode": "area",
            "sizeref": 0.1825
           },
           "mode": "markers",
           "name": "",
           "showlegend": false,
           "subplot": "mapbox",
           "type": "scattermapbox"
          }
         ],
         "name": "2022-08-13"
        },
        {
         "data": [
          {
           "customdata": [
            [
             "MP 01: Naamsestraat 35  Maxim"
            ],
            [
             "MP 02: Naamsestraat 57 Xior"
            ],
            [
             "MP 03: Naamsestraat 62 Taste"
            ],
            [
             "MP 05: Calvariekapel KU Leuven"
            ],
            [
             "MP 06: Parkstraat 2 La Filosovia"
            ],
            [
             "MP 07: Naamsestraat 81"
            ]
           ],
           "hovertemplate": "ts_str=2022-08-14<br>Human voice - Shouting=%{marker.size}<br>latitude=%{lat}<br>longitude=%{lon}<br>description=%{customdata[0]}<extra></extra>",
           "lat": [
            50.877160828051615,
            50.87649057167669,
            50.875850541602986,
            50.87448678827803,
            50.87409073433792,
            50.87381822269834
           ],
           "legendgroup": "",
           "lon": [
            4.7006992525313445,
            4.700691639839767,
            4.700192168675618,
            4.699889625684066,
            4.700018371714718,
            4.70010170607578
           ],
           "marker": {
            "color": "#636efa",
            "size": [
             2,
             0,
             0,
             0,
             0,
             0
            ],
            "sizemode": "area",
            "sizeref": 0.1825
           },
           "mode": "markers",
           "name": "",
           "showlegend": false,
           "subplot": "mapbox",
           "type": "scattermapbox"
          }
         ],
         "name": "2022-08-14"
        },
        {
         "data": [
          {
           "customdata": [
            [
             "MP 01: Naamsestraat 35  Maxim"
            ],
            [
             "MP 02: Naamsestraat 57 Xior"
            ],
            [
             "MP 03: Naamsestraat 62 Taste"
            ],
            [
             "MP 05: Calvariekapel KU Leuven"
            ],
            [
             "MP 06: Parkstraat 2 La Filosovia"
            ],
            [
             "MP 07: Naamsestraat 81"
            ]
           ],
           "hovertemplate": "ts_str=2022-08-15<br>Human voice - Shouting=%{marker.size}<br>latitude=%{lat}<br>longitude=%{lon}<br>description=%{customdata[0]}<extra></extra>",
           "lat": [
            50.877160828051615,
            50.87649057167669,
            50.875850541602986,
            50.87448678827803,
            50.87409073433792,
            50.87381822269834
           ],
           "legendgroup": "",
           "lon": [
            4.7006992525313445,
            4.700691639839767,
            4.700192168675618,
            4.699889625684066,
            4.700018371714718,
            4.70010170607578
           ],
           "marker": {
            "color": "#636efa",
            "size": [
             2,
             0,
             0,
             1,
             0,
             0
            ],
            "sizemode": "area",
            "sizeref": 0.1825
           },
           "mode": "markers",
           "name": "",
           "showlegend": false,
           "subplot": "mapbox",
           "type": "scattermapbox"
          }
         ],
         "name": "2022-08-15"
        },
        {
         "data": [
          {
           "customdata": [
            [
             "MP 01: Naamsestraat 35  Maxim"
            ],
            [
             "MP 02: Naamsestraat 57 Xior"
            ],
            [
             "MP 03: Naamsestraat 62 Taste"
            ],
            [
             "MP 05: Calvariekapel KU Leuven"
            ],
            [
             "MP 06: Parkstraat 2 La Filosovia"
            ],
            [
             "MP 07: Naamsestraat 81"
            ]
           ],
           "hovertemplate": "ts_str=2022-08-16<br>Human voice - Shouting=%{marker.size}<br>latitude=%{lat}<br>longitude=%{lon}<br>description=%{customdata[0]}<extra></extra>",
           "lat": [
            50.877160828051615,
            50.87649057167669,
            50.875850541602986,
            50.87448678827803,
            50.87409073433792,
            50.87381822269834
           ],
           "legendgroup": "",
           "lon": [
            4.7006992525313445,
            4.700691639839767,
            4.700192168675618,
            4.699889625684066,
            4.700018371714718,
            4.70010170607578
           ],
           "marker": {
            "color": "#636efa",
            "size": [
             0,
             0,
             0,
             3,
             7,
             12
            ],
            "sizemode": "area",
            "sizeref": 0.1825
           },
           "mode": "markers",
           "name": "",
           "showlegend": false,
           "subplot": "mapbox",
           "type": "scattermapbox"
          }
         ],
         "name": "2022-08-16"
        },
        {
         "data": [
          {
           "customdata": [
            [
             "MP 01: Naamsestraat 35  Maxim"
            ],
            [
             "MP 02: Naamsestraat 57 Xior"
            ],
            [
             "MP 03: Naamsestraat 62 Taste"
            ],
            [
             "MP 05: Calvariekapel KU Leuven"
            ],
            [
             "MP 06: Parkstraat 2 La Filosovia"
            ],
            [
             "MP 07: Naamsestraat 81"
            ]
           ],
           "hovertemplate": "ts_str=2022-08-17<br>Human voice - Shouting=%{marker.size}<br>latitude=%{lat}<br>longitude=%{lon}<br>description=%{customdata[0]}<extra></extra>",
           "lat": [
            50.877160828051615,
            50.87649057167669,
            50.875850541602986,
            50.87448678827803,
            50.87409073433792,
            50.87381822269834
           ],
           "legendgroup": "",
           "lon": [
            4.7006992525313445,
            4.700691639839767,
            4.700192168675618,
            4.699889625684066,
            4.700018371714718,
            4.70010170607578
           ],
           "marker": {
            "color": "#636efa",
            "size": [
             3,
             2,
             0,
             1,
             1,
             6
            ],
            "sizemode": "area",
            "sizeref": 0.1825
           },
           "mode": "markers",
           "name": "",
           "showlegend": false,
           "subplot": "mapbox",
           "type": "scattermapbox"
          }
         ],
         "name": "2022-08-17"
        },
        {
         "data": [
          {
           "customdata": [
            [
             "MP 01: Naamsestraat 35  Maxim"
            ],
            [
             "MP 02: Naamsestraat 57 Xior"
            ],
            [
             "MP 03: Naamsestraat 62 Taste"
            ],
            [
             "MP 05: Calvariekapel KU Leuven"
            ],
            [
             "MP 06: Parkstraat 2 La Filosovia"
            ],
            [
             "MP 07: Naamsestraat 81"
            ]
           ],
           "hovertemplate": "ts_str=2022-08-18<br>Human voice - Shouting=%{marker.size}<br>latitude=%{lat}<br>longitude=%{lon}<br>description=%{customdata[0]}<extra></extra>",
           "lat": [
            50.877160828051615,
            50.87649057167669,
            50.875850541602986,
            50.87448678827803,
            50.87409073433792,
            50.87381822269834
           ],
           "legendgroup": "",
           "lon": [
            4.7006992525313445,
            4.700691639839767,
            4.700192168675618,
            4.699889625684066,
            4.700018371714718,
            4.70010170607578
           ],
           "marker": {
            "color": "#636efa",
            "size": [
             0,
             0,
             0,
             0,
             1,
             1
            ],
            "sizemode": "area",
            "sizeref": 0.1825
           },
           "mode": "markers",
           "name": "",
           "showlegend": false,
           "subplot": "mapbox",
           "type": "scattermapbox"
          }
         ],
         "name": "2022-08-18"
        },
        {
         "data": [
          {
           "customdata": [
            [
             "MP 01: Naamsestraat 35  Maxim"
            ],
            [
             "MP 02: Naamsestraat 57 Xior"
            ],
            [
             "MP 03: Naamsestraat 62 Taste"
            ],
            [
             "MP 05: Calvariekapel KU Leuven"
            ],
            [
             "MP 06: Parkstraat 2 La Filosovia"
            ],
            [
             "MP 07: Naamsestraat 81"
            ]
           ],
           "hovertemplate": "ts_str=2022-08-19<br>Human voice - Shouting=%{marker.size}<br>latitude=%{lat}<br>longitude=%{lon}<br>description=%{customdata[0]}<extra></extra>",
           "lat": [
            50.877160828051615,
            50.87649057167669,
            50.875850541602986,
            50.87448678827803,
            50.87409073433792,
            50.87381822269834
           ],
           "legendgroup": "",
           "lon": [
            4.7006992525313445,
            4.700691639839767,
            4.700192168675618,
            4.699889625684066,
            4.700018371714718,
            4.70010170607578
           ],
           "marker": {
            "color": "#636efa",
            "size": [
             1,
             0,
             0,
             0,
             2,
             0
            ],
            "sizemode": "area",
            "sizeref": 0.1825
           },
           "mode": "markers",
           "name": "",
           "showlegend": false,
           "subplot": "mapbox",
           "type": "scattermapbox"
          }
         ],
         "name": "2022-08-19"
        },
        {
         "data": [
          {
           "customdata": [
            [
             "MP 01: Naamsestraat 35  Maxim"
            ],
            [
             "MP 02: Naamsestraat 57 Xior"
            ],
            [
             "MP 03: Naamsestraat 62 Taste"
            ],
            [
             "MP 05: Calvariekapel KU Leuven"
            ],
            [
             "MP 06: Parkstraat 2 La Filosovia"
            ],
            [
             "MP 07: Naamsestraat 81"
            ]
           ],
           "hovertemplate": "ts_str=2022-08-20<br>Human voice - Shouting=%{marker.size}<br>latitude=%{lat}<br>longitude=%{lon}<br>description=%{customdata[0]}<extra></extra>",
           "lat": [
            50.877160828051615,
            50.87649057167669,
            50.875850541602986,
            50.87448678827803,
            50.87409073433792,
            50.87381822269834
           ],
           "legendgroup": "",
           "lon": [
            4.7006992525313445,
            4.700691639839767,
            4.700192168675618,
            4.699889625684066,
            4.700018371714718,
            4.70010170607578
           ],
           "marker": {
            "color": "#636efa",
            "size": [
             6,
             3,
             0,
             0,
             0,
             0
            ],
            "sizemode": "area",
            "sizeref": 0.1825
           },
           "mode": "markers",
           "name": "",
           "showlegend": false,
           "subplot": "mapbox",
           "type": "scattermapbox"
          }
         ],
         "name": "2022-08-20"
        },
        {
         "data": [
          {
           "customdata": [
            [
             "MP 01: Naamsestraat 35  Maxim"
            ],
            [
             "MP 02: Naamsestraat 57 Xior"
            ],
            [
             "MP 03: Naamsestraat 62 Taste"
            ],
            [
             "MP 05: Calvariekapel KU Leuven"
            ],
            [
             "MP 06: Parkstraat 2 La Filosovia"
            ],
            [
             "MP 07: Naamsestraat 81"
            ]
           ],
           "hovertemplate": "ts_str=2022-08-21<br>Human voice - Shouting=%{marker.size}<br>latitude=%{lat}<br>longitude=%{lon}<br>description=%{customdata[0]}<extra></extra>",
           "lat": [
            50.877160828051615,
            50.87649057167669,
            50.875850541602986,
            50.87448678827803,
            50.87409073433792,
            50.87381822269834
           ],
           "legendgroup": "",
           "lon": [
            4.7006992525313445,
            4.700691639839767,
            4.700192168675618,
            4.699889625684066,
            4.700018371714718,
            4.70010170607578
           ],
           "marker": {
            "color": "#636efa",
            "size": [
             6,
             1,
             0,
             4,
             0,
             0
            ],
            "sizemode": "area",
            "sizeref": 0.1825
           },
           "mode": "markers",
           "name": "",
           "showlegend": false,
           "subplot": "mapbox",
           "type": "scattermapbox"
          }
         ],
         "name": "2022-08-21"
        },
        {
         "data": [
          {
           "customdata": [
            [
             "MP 01: Naamsestraat 35  Maxim"
            ],
            [
             "MP 02: Naamsestraat 57 Xior"
            ],
            [
             "MP 03: Naamsestraat 62 Taste"
            ],
            [
             "MP 05: Calvariekapel KU Leuven"
            ],
            [
             "MP 06: Parkstraat 2 La Filosovia"
            ],
            [
             "MP 07: Naamsestraat 81"
            ]
           ],
           "hovertemplate": "ts_str=2022-08-22<br>Human voice - Shouting=%{marker.size}<br>latitude=%{lat}<br>longitude=%{lon}<br>description=%{customdata[0]}<extra></extra>",
           "lat": [
            50.877160828051615,
            50.87649057167669,
            50.875850541602986,
            50.87448678827803,
            50.87409073433792,
            50.87381822269834
           ],
           "legendgroup": "",
           "lon": [
            4.7006992525313445,
            4.700691639839767,
            4.700192168675618,
            4.699889625684066,
            4.700018371714718,
            4.70010170607578
           ],
           "marker": {
            "color": "#636efa",
            "size": [
             2,
             0,
             0,
             0,
             2,
             0
            ],
            "sizemode": "area",
            "sizeref": 0.1825
           },
           "mode": "markers",
           "name": "",
           "showlegend": false,
           "subplot": "mapbox",
           "type": "scattermapbox"
          }
         ],
         "name": "2022-08-22"
        },
        {
         "data": [
          {
           "customdata": [
            [
             "MP 01: Naamsestraat 35  Maxim"
            ],
            [
             "MP 02: Naamsestraat 57 Xior"
            ],
            [
             "MP 03: Naamsestraat 62 Taste"
            ],
            [
             "MP 05: Calvariekapel KU Leuven"
            ],
            [
             "MP 06: Parkstraat 2 La Filosovia"
            ],
            [
             "MP 07: Naamsestraat 81"
            ]
           ],
           "hovertemplate": "ts_str=2022-08-23<br>Human voice - Shouting=%{marker.size}<br>latitude=%{lat}<br>longitude=%{lon}<br>description=%{customdata[0]}<extra></extra>",
           "lat": [
            50.877160828051615,
            50.87649057167669,
            50.875850541602986,
            50.87448678827803,
            50.87409073433792,
            50.87381822269834
           ],
           "legendgroup": "",
           "lon": [
            4.7006992525313445,
            4.700691639839767,
            4.700192168675618,
            4.699889625684066,
            4.700018371714718,
            4.70010170607578
           ],
           "marker": {
            "color": "#636efa",
            "size": [
             0,
             0,
             1,
             0,
             0,
             1
            ],
            "sizemode": "area",
            "sizeref": 0.1825
           },
           "mode": "markers",
           "name": "",
           "showlegend": false,
           "subplot": "mapbox",
           "type": "scattermapbox"
          }
         ],
         "name": "2022-08-23"
        },
        {
         "data": [
          {
           "customdata": [
            [
             "MP 01: Naamsestraat 35  Maxim"
            ],
            [
             "MP 02: Naamsestraat 57 Xior"
            ],
            [
             "MP 03: Naamsestraat 62 Taste"
            ],
            [
             "MP 05: Calvariekapel KU Leuven"
            ],
            [
             "MP 06: Parkstraat 2 La Filosovia"
            ],
            [
             "MP 07: Naamsestraat 81"
            ],
            [
             "MP08bis - Vrijthof"
            ]
           ],
           "hovertemplate": "ts_str=2022-08-24<br>Human voice - Shouting=%{marker.size}<br>latitude=%{lat}<br>longitude=%{lon}<br>description=%{customdata[0]}<extra></extra>",
           "lat": [
            50.877160828051615,
            50.87649057167669,
            50.875850541602986,
            50.87448678827803,
            50.87409073433792,
            50.87381822269834,
            50.87890579999999
           ],
           "legendgroup": "",
           "lon": [
            4.7006992525313445,
            4.700691639839767,
            4.700192168675618,
            4.699889625684066,
            4.700018371714718,
            4.70010170607578,
            4.7011444846213415
           ],
           "marker": {
            "color": "#636efa",
            "size": [
             1,
             0,
             1,
             2,
             0,
             0,
             0
            ],
            "sizemode": "area",
            "sizeref": 0.1825
           },
           "mode": "markers",
           "name": "",
           "showlegend": false,
           "subplot": "mapbox",
           "type": "scattermapbox"
          }
         ],
         "name": "2022-08-24"
        },
        {
         "data": [
          {
           "customdata": [
            [
             "MP 01: Naamsestraat 35  Maxim"
            ],
            [
             "MP 02: Naamsestraat 57 Xior"
            ],
            [
             "MP 03: Naamsestraat 62 Taste"
            ],
            [
             "MP 05: Calvariekapel KU Leuven"
            ],
            [
             "MP 06: Parkstraat 2 La Filosovia"
            ],
            [
             "MP 07: Naamsestraat 81"
            ]
           ],
           "hovertemplate": "ts_str=2022-08-25<br>Human voice - Shouting=%{marker.size}<br>latitude=%{lat}<br>longitude=%{lon}<br>description=%{customdata[0]}<extra></extra>",
           "lat": [
            50.877160828051615,
            50.87649057167669,
            50.875850541602986,
            50.87448678827803,
            50.87409073433792,
            50.87381822269834
           ],
           "legendgroup": "",
           "lon": [
            4.7006992525313445,
            4.700691639839767,
            4.700192168675618,
            4.699889625684066,
            4.700018371714718,
            4.70010170607578
           ],
           "marker": {
            "color": "#636efa",
            "size": [
             1,
             0,
             1,
             4,
             0,
             0
            ],
            "sizemode": "area",
            "sizeref": 0.1825
           },
           "mode": "markers",
           "name": "",
           "showlegend": false,
           "subplot": "mapbox",
           "type": "scattermapbox"
          }
         ],
         "name": "2022-08-25"
        },
        {
         "data": [
          {
           "customdata": [
            [
             "MP 01: Naamsestraat 35  Maxim"
            ],
            [
             "MP 02: Naamsestraat 57 Xior"
            ],
            [
             "MP 03: Naamsestraat 62 Taste"
            ],
            [
             "MP 05: Calvariekapel KU Leuven"
            ],
            [
             "MP 06: Parkstraat 2 La Filosovia"
            ],
            [
             "MP 07: Naamsestraat 81"
            ],
            [
             "MP08bis - Vrijthof"
            ]
           ],
           "hovertemplate": "ts_str=2022-08-26<br>Human voice - Shouting=%{marker.size}<br>latitude=%{lat}<br>longitude=%{lon}<br>description=%{customdata[0]}<extra></extra>",
           "lat": [
            50.877160828051615,
            50.87649057167669,
            50.875850541602986,
            50.87448678827803,
            50.87409073433792,
            50.87381822269834,
            50.87890579999999
           ],
           "legendgroup": "",
           "lon": [
            4.7006992525313445,
            4.700691639839767,
            4.700192168675618,
            4.699889625684066,
            4.700018371714718,
            4.70010170607578,
            4.7011444846213415
           ],
           "marker": {
            "color": "#636efa",
            "size": [
             2,
             0,
             0,
             9,
             2,
             2,
             0
            ],
            "sizemode": "area",
            "sizeref": 0.1825
           },
           "mode": "markers",
           "name": "",
           "showlegend": false,
           "subplot": "mapbox",
           "type": "scattermapbox"
          }
         ],
         "name": "2022-08-26"
        },
        {
         "data": [
          {
           "customdata": [
            [
             "MP 01: Naamsestraat 35  Maxim"
            ],
            [
             "MP 02: Naamsestraat 57 Xior"
            ],
            [
             "MP 03: Naamsestraat 62 Taste"
            ],
            [
             "MP 05: Calvariekapel KU Leuven"
            ],
            [
             "MP 06: Parkstraat 2 La Filosovia"
            ],
            [
             "MP 07: Naamsestraat 81"
            ]
           ],
           "hovertemplate": "ts_str=2022-08-27<br>Human voice - Shouting=%{marker.size}<br>latitude=%{lat}<br>longitude=%{lon}<br>description=%{customdata[0]}<extra></extra>",
           "lat": [
            50.877160828051615,
            50.87649057167669,
            50.875850541602986,
            50.87448678827803,
            50.87409073433792,
            50.87381822269834
           ],
           "legendgroup": "",
           "lon": [
            4.7006992525313445,
            4.700691639839767,
            4.700192168675618,
            4.699889625684066,
            4.700018371714718,
            4.70010170607578
           ],
           "marker": {
            "color": "#636efa",
            "size": [
             9,
             2,
             1,
             1,
             3,
             0
            ],
            "sizemode": "area",
            "sizeref": 0.1825
           },
           "mode": "markers",
           "name": "",
           "showlegend": false,
           "subplot": "mapbox",
           "type": "scattermapbox"
          }
         ],
         "name": "2022-08-27"
        },
        {
         "data": [
          {
           "customdata": [
            [
             "MP 01: Naamsestraat 35  Maxim"
            ],
            [
             "MP 02: Naamsestraat 57 Xior"
            ],
            [
             "MP 03: Naamsestraat 62 Taste"
            ],
            [
             "MP 05: Calvariekapel KU Leuven"
            ],
            [
             "MP 06: Parkstraat 2 La Filosovia"
            ],
            [
             "MP 07: Naamsestraat 81"
            ]
           ],
           "hovertemplate": "ts_str=2022-08-28<br>Human voice - Shouting=%{marker.size}<br>latitude=%{lat}<br>longitude=%{lon}<br>description=%{customdata[0]}<extra></extra>",
           "lat": [
            50.877160828051615,
            50.87649057167669,
            50.875850541602986,
            50.87448678827803,
            50.87409073433792,
            50.87381822269834
           ],
           "legendgroup": "",
           "lon": [
            4.7006992525313445,
            4.700691639839767,
            4.700192168675618,
            4.699889625684066,
            4.700018371714718,
            4.70010170607578
           ],
           "marker": {
            "color": "#636efa",
            "size": [
             0,
             1,
             0,
             0,
             0,
             0
            ],
            "sizemode": "area",
            "sizeref": 0.1825
           },
           "mode": "markers",
           "name": "",
           "showlegend": false,
           "subplot": "mapbox",
           "type": "scattermapbox"
          }
         ],
         "name": "2022-08-28"
        },
        {
         "data": [
          {
           "customdata": [
            [
             "MP 01: Naamsestraat 35  Maxim"
            ],
            [
             "MP 02: Naamsestraat 57 Xior"
            ],
            [
             "MP 03: Naamsestraat 62 Taste"
            ],
            [
             "MP 05: Calvariekapel KU Leuven"
            ],
            [
             "MP 06: Parkstraat 2 La Filosovia"
            ],
            [
             "MP 07: Naamsestraat 81"
            ]
           ],
           "hovertemplate": "ts_str=2022-08-29<br>Human voice - Shouting=%{marker.size}<br>latitude=%{lat}<br>longitude=%{lon}<br>description=%{customdata[0]}<extra></extra>",
           "lat": [
            50.877160828051615,
            50.87649057167669,
            50.875850541602986,
            50.87448678827803,
            50.87409073433792,
            50.87381822269834
           ],
           "legendgroup": "",
           "lon": [
            4.7006992525313445,
            4.700691639839767,
            4.700192168675618,
            4.699889625684066,
            4.700018371714718,
            4.70010170607578
           ],
           "marker": {
            "color": "#636efa",
            "size": [
             0,
             0,
             11,
             3,
             23,
             2
            ],
            "sizemode": "area",
            "sizeref": 0.1825
           },
           "mode": "markers",
           "name": "",
           "showlegend": false,
           "subplot": "mapbox",
           "type": "scattermapbox"
          }
         ],
         "name": "2022-08-29"
        },
        {
         "data": [
          {
           "customdata": [
            [
             "MP 01: Naamsestraat 35  Maxim"
            ],
            [
             "MP 02: Naamsestraat 57 Xior"
            ],
            [
             "MP 03: Naamsestraat 62 Taste"
            ],
            [
             "MP 05: Calvariekapel KU Leuven"
            ],
            [
             "MP 06: Parkstraat 2 La Filosovia"
            ],
            [
             "MP 07: Naamsestraat 81"
            ]
           ],
           "hovertemplate": "ts_str=2022-08-30<br>Human voice - Shouting=%{marker.size}<br>latitude=%{lat}<br>longitude=%{lon}<br>description=%{customdata[0]}<extra></extra>",
           "lat": [
            50.877160828051615,
            50.87649057167669,
            50.875850541602986,
            50.87448678827803,
            50.87409073433792,
            50.87381822269834
           ],
           "legendgroup": "",
           "lon": [
            4.7006992525313445,
            4.700691639839767,
            4.700192168675618,
            4.699889625684066,
            4.700018371714718,
            4.70010170607578
           ],
           "marker": {
            "color": "#636efa",
            "size": [
             2,
             1,
             1,
             6,
             1,
             1
            ],
            "sizemode": "area",
            "sizeref": 0.1825
           },
           "mode": "markers",
           "name": "",
           "showlegend": false,
           "subplot": "mapbox",
           "type": "scattermapbox"
          }
         ],
         "name": "2022-08-30"
        },
        {
         "data": [
          {
           "customdata": [
            [
             "MP 01: Naamsestraat 35  Maxim"
            ],
            [
             "MP 02: Naamsestraat 57 Xior"
            ],
            [
             "MP 03: Naamsestraat 62 Taste"
            ],
            [
             "MP 05: Calvariekapel KU Leuven"
            ],
            [
             "MP 06: Parkstraat 2 La Filosovia"
            ],
            [
             "MP 07: Naamsestraat 81"
            ]
           ],
           "hovertemplate": "ts_str=2022-08-31<br>Human voice - Shouting=%{marker.size}<br>latitude=%{lat}<br>longitude=%{lon}<br>description=%{customdata[0]}<extra></extra>",
           "lat": [
            50.877160828051615,
            50.87649057167669,
            50.875850541602986,
            50.87448678827803,
            50.87409073433792,
            50.87381822269834
           ],
           "legendgroup": "",
           "lon": [
            4.7006992525313445,
            4.700691639839767,
            4.700192168675618,
            4.699889625684066,
            4.700018371714718,
            4.70010170607578
           ],
           "marker": {
            "color": "#636efa",
            "size": [
             3,
             1,
             0,
             5,
             6,
             0
            ],
            "sizemode": "area",
            "sizeref": 0.1825
           },
           "mode": "markers",
           "name": "",
           "showlegend": false,
           "subplot": "mapbox",
           "type": "scattermapbox"
          }
         ],
         "name": "2022-08-31"
        },
        {
         "data": [
          {
           "customdata": [
            [
             "MP 01: Naamsestraat 35  Maxim"
            ],
            [
             "MP 02: Naamsestraat 57 Xior"
            ],
            [
             "MP 03: Naamsestraat 62 Taste"
            ],
            [
             "MP 05: Calvariekapel KU Leuven"
            ],
            [
             "MP 06: Parkstraat 2 La Filosovia"
            ]
           ],
           "hovertemplate": "ts_str=2022-09-01<br>Human voice - Shouting=%{marker.size}<br>latitude=%{lat}<br>longitude=%{lon}<br>description=%{customdata[0]}<extra></extra>",
           "lat": [
            50.877160828051615,
            50.87649057167669,
            50.875850541602986,
            50.87448678827803,
            50.87409073433792
           ],
           "legendgroup": "",
           "lon": [
            4.7006992525313445,
            4.700691639839767,
            4.700192168675618,
            4.699889625684066,
            4.700018371714718
           ],
           "marker": {
            "color": "#636efa",
            "size": [
             0,
             0,
             5,
             4,
             1
            ],
            "sizemode": "area",
            "sizeref": 0.1825
           },
           "mode": "markers",
           "name": "",
           "showlegend": false,
           "subplot": "mapbox",
           "type": "scattermapbox"
          }
         ],
         "name": "2022-09-01"
        },
        {
         "data": [
          {
           "customdata": [
            [
             "MP 01: Naamsestraat 35  Maxim"
            ],
            [
             "MP 02: Naamsestraat 57 Xior"
            ],
            [
             "MP 03: Naamsestraat 62 Taste"
            ],
            [
             "MP 05: Calvariekapel KU Leuven"
            ],
            [
             "MP 06: Parkstraat 2 La Filosovia"
            ],
            [
             "MP08bis - Vrijthof"
            ]
           ],
           "hovertemplate": "ts_str=2022-09-02<br>Human voice - Shouting=%{marker.size}<br>latitude=%{lat}<br>longitude=%{lon}<br>description=%{customdata[0]}<extra></extra>",
           "lat": [
            50.877160828051615,
            50.87649057167669,
            50.875850541602986,
            50.87448678827803,
            50.87409073433792,
            50.87890579999999
           ],
           "legendgroup": "",
           "lon": [
            4.7006992525313445,
            4.700691639839767,
            4.700192168675618,
            4.699889625684066,
            4.700018371714718,
            4.7011444846213415
           ],
           "marker": {
            "color": "#636efa",
            "size": [
             2,
             0,
             2,
             1,
             0,
             0
            ],
            "sizemode": "area",
            "sizeref": 0.1825
           },
           "mode": "markers",
           "name": "",
           "showlegend": false,
           "subplot": "mapbox",
           "type": "scattermapbox"
          }
         ],
         "name": "2022-09-02"
        },
        {
         "data": [
          {
           "customdata": [
            [
             "MP 01: Naamsestraat 35  Maxim"
            ],
            [
             "MP 02: Naamsestraat 57 Xior"
            ],
            [
             "MP 03: Naamsestraat 62 Taste"
            ],
            [
             "MP 05: Calvariekapel KU Leuven"
            ],
            [
             "MP 06: Parkstraat 2 La Filosovia"
            ]
           ],
           "hovertemplate": "ts_str=2022-09-03<br>Human voice - Shouting=%{marker.size}<br>latitude=%{lat}<br>longitude=%{lon}<br>description=%{customdata[0]}<extra></extra>",
           "lat": [
            50.877160828051615,
            50.87649057167669,
            50.875850541602986,
            50.87448678827803,
            50.87409073433792
           ],
           "legendgroup": "",
           "lon": [
            4.7006992525313445,
            4.700691639839767,
            4.700192168675618,
            4.699889625684066,
            4.700018371714718
           ],
           "marker": {
            "color": "#636efa",
            "size": [
             4,
             0,
             0,
             1,
             0
            ],
            "sizemode": "area",
            "sizeref": 0.1825
           },
           "mode": "markers",
           "name": "",
           "showlegend": false,
           "subplot": "mapbox",
           "type": "scattermapbox"
          }
         ],
         "name": "2022-09-03"
        },
        {
         "data": [
          {
           "customdata": [
            [
             "MP 01: Naamsestraat 35  Maxim"
            ],
            [
             "MP 02: Naamsestraat 57 Xior"
            ],
            [
             "MP 03: Naamsestraat 62 Taste"
            ],
            [
             "MP 05: Calvariekapel KU Leuven"
            ],
            [
             "MP 06: Parkstraat 2 La Filosovia"
            ]
           ],
           "hovertemplate": "ts_str=2022-09-04<br>Human voice - Shouting=%{marker.size}<br>latitude=%{lat}<br>longitude=%{lon}<br>description=%{customdata[0]}<extra></extra>",
           "lat": [
            50.877160828051615,
            50.87649057167669,
            50.875850541602986,
            50.87448678827803,
            50.87409073433792
           ],
           "legendgroup": "",
           "lon": [
            4.7006992525313445,
            4.700691639839767,
            4.700192168675618,
            4.699889625684066,
            4.700018371714718
           ],
           "marker": {
            "color": "#636efa",
            "size": [
             1,
             0,
             0,
             4,
             1
            ],
            "sizemode": "area",
            "sizeref": 0.1825
           },
           "mode": "markers",
           "name": "",
           "showlegend": false,
           "subplot": "mapbox",
           "type": "scattermapbox"
          }
         ],
         "name": "2022-09-04"
        },
        {
         "data": [
          {
           "customdata": [
            [
             "MP 01: Naamsestraat 35  Maxim"
            ],
            [
             "MP 02: Naamsestraat 57 Xior"
            ],
            [
             "MP 03: Naamsestraat 62 Taste"
            ],
            [
             "MP 05: Calvariekapel KU Leuven"
            ],
            [
             "MP 06: Parkstraat 2 La Filosovia"
            ],
            [
             "MP08bis - Vrijthof"
            ]
           ],
           "hovertemplate": "ts_str=2022-09-05<br>Human voice - Shouting=%{marker.size}<br>latitude=%{lat}<br>longitude=%{lon}<br>description=%{customdata[0]}<extra></extra>",
           "lat": [
            50.877160828051615,
            50.87649057167669,
            50.875850541602986,
            50.87448678827803,
            50.87409073433792,
            50.87890579999999
           ],
           "legendgroup": "",
           "lon": [
            4.7006992525313445,
            4.700691639839767,
            4.700192168675618,
            4.699889625684066,
            4.700018371714718,
            4.7011444846213415
           ],
           "marker": {
            "color": "#636efa",
            "size": [
             2,
             0,
             4,
             2,
             2,
             0
            ],
            "sizemode": "area",
            "sizeref": 0.1825
           },
           "mode": "markers",
           "name": "",
           "showlegend": false,
           "subplot": "mapbox",
           "type": "scattermapbox"
          }
         ],
         "name": "2022-09-05"
        },
        {
         "data": [
          {
           "customdata": [
            [
             "MP 01: Naamsestraat 35  Maxim"
            ],
            [
             "MP 02: Naamsestraat 57 Xior"
            ],
            [
             "MP 03: Naamsestraat 62 Taste"
            ],
            [
             "MP 05: Calvariekapel KU Leuven"
            ],
            [
             "MP 06: Parkstraat 2 La Filosovia"
            ],
            [
             "MP08bis - Vrijthof"
            ]
           ],
           "hovertemplate": "ts_str=2022-09-06<br>Human voice - Shouting=%{marker.size}<br>latitude=%{lat}<br>longitude=%{lon}<br>description=%{customdata[0]}<extra></extra>",
           "lat": [
            50.877160828051615,
            50.87649057167669,
            50.875850541602986,
            50.87448678827803,
            50.87409073433792,
            50.87890579999999
           ],
           "legendgroup": "",
           "lon": [
            4.7006992525313445,
            4.700691639839767,
            4.700192168675618,
            4.699889625684066,
            4.700018371714718,
            4.7011444846213415
           ],
           "marker": {
            "color": "#636efa",
            "size": [
             3,
             0,
             2,
             4,
             0,
             0
            ],
            "sizemode": "area",
            "sizeref": 0.1825
           },
           "mode": "markers",
           "name": "",
           "showlegend": false,
           "subplot": "mapbox",
           "type": "scattermapbox"
          }
         ],
         "name": "2022-09-06"
        },
        {
         "data": [
          {
           "customdata": [
            [
             "MP 01: Naamsestraat 35  Maxim"
            ],
            [
             "MP 02: Naamsestraat 57 Xior"
            ],
            [
             "MP 03: Naamsestraat 62 Taste"
            ],
            [
             "MP 05: Calvariekapel KU Leuven"
            ],
            [
             "MP 06: Parkstraat 2 La Filosovia"
            ]
           ],
           "hovertemplate": "ts_str=2022-09-07<br>Human voice - Shouting=%{marker.size}<br>latitude=%{lat}<br>longitude=%{lon}<br>description=%{customdata[0]}<extra></extra>",
           "lat": [
            50.877160828051615,
            50.87649057167669,
            50.875850541602986,
            50.87448678827803,
            50.87409073433792
           ],
           "legendgroup": "",
           "lon": [
            4.7006992525313445,
            4.700691639839767,
            4.700192168675618,
            4.699889625684066,
            4.700018371714718
           ],
           "marker": {
            "color": "#636efa",
            "size": [
             1,
             0,
             0,
             1,
             1
            ],
            "sizemode": "area",
            "sizeref": 0.1825
           },
           "mode": "markers",
           "name": "",
           "showlegend": false,
           "subplot": "mapbox",
           "type": "scattermapbox"
          }
         ],
         "name": "2022-09-07"
        },
        {
         "data": [
          {
           "customdata": [
            [
             "MP 01: Naamsestraat 35  Maxim"
            ],
            [
             "MP 02: Naamsestraat 57 Xior"
            ],
            [
             "MP 03: Naamsestraat 62 Taste"
            ],
            [
             "MP 05: Calvariekapel KU Leuven"
            ],
            [
             "MP 06: Parkstraat 2 La Filosovia"
            ],
            [
             "MP08bis - Vrijthof"
            ]
           ],
           "hovertemplate": "ts_str=2022-09-08<br>Human voice - Shouting=%{marker.size}<br>latitude=%{lat}<br>longitude=%{lon}<br>description=%{customdata[0]}<extra></extra>",
           "lat": [
            50.877160828051615,
            50.87649057167669,
            50.875850541602986,
            50.87448678827803,
            50.87409073433792,
            50.87890579999999
           ],
           "legendgroup": "",
           "lon": [
            4.7006992525313445,
            4.700691639839767,
            4.700192168675618,
            4.699889625684066,
            4.700018371714718,
            4.7011444846213415
           ],
           "marker": {
            "color": "#636efa",
            "size": [
             4,
             1,
             2,
             2,
             4,
             0
            ],
            "sizemode": "area",
            "sizeref": 0.1825
           },
           "mode": "markers",
           "name": "",
           "showlegend": false,
           "subplot": "mapbox",
           "type": "scattermapbox"
          }
         ],
         "name": "2022-09-08"
        },
        {
         "data": [
          {
           "customdata": [
            [
             "MP 01: Naamsestraat 35  Maxim"
            ],
            [
             "MP 02: Naamsestraat 57 Xior"
            ],
            [
             "MP 03: Naamsestraat 62 Taste"
            ],
            [
             "MP 05: Calvariekapel KU Leuven"
            ],
            [
             "MP 06: Parkstraat 2 La Filosovia"
            ],
            [
             "MP08bis - Vrijthof"
            ]
           ],
           "hovertemplate": "ts_str=2022-09-09<br>Human voice - Shouting=%{marker.size}<br>latitude=%{lat}<br>longitude=%{lon}<br>description=%{customdata[0]}<extra></extra>",
           "lat": [
            50.877160828051615,
            50.87649057167669,
            50.875850541602986,
            50.87448678827803,
            50.87409073433792,
            50.87890579999999
           ],
           "legendgroup": "",
           "lon": [
            4.7006992525313445,
            4.700691639839767,
            4.700192168675618,
            4.699889625684066,
            4.700018371714718,
            4.7011444846213415
           ],
           "marker": {
            "color": "#636efa",
            "size": [
             5,
             2,
             2,
             0,
             0,
             0
            ],
            "sizemode": "area",
            "sizeref": 0.1825
           },
           "mode": "markers",
           "name": "",
           "showlegend": false,
           "subplot": "mapbox",
           "type": "scattermapbox"
          }
         ],
         "name": "2022-09-09"
        },
        {
         "data": [
          {
           "customdata": [
            [
             "MP 01: Naamsestraat 35  Maxim"
            ],
            [
             "MP 02: Naamsestraat 57 Xior"
            ],
            [
             "MP 03: Naamsestraat 62 Taste"
            ],
            [
             "MP 05: Calvariekapel KU Leuven"
            ],
            [
             "MP 06: Parkstraat 2 La Filosovia"
            ]
           ],
           "hovertemplate": "ts_str=2022-09-10<br>Human voice - Shouting=%{marker.size}<br>latitude=%{lat}<br>longitude=%{lon}<br>description=%{customdata[0]}<extra></extra>",
           "lat": [
            50.877160828051615,
            50.87649057167669,
            50.875850541602986,
            50.87448678827803,
            50.87409073433792
           ],
           "legendgroup": "",
           "lon": [
            4.7006992525313445,
            4.700691639839767,
            4.700192168675618,
            4.699889625684066,
            4.700018371714718
           ],
           "marker": {
            "color": "#636efa",
            "size": [
             5,
             0,
             1,
             2,
             4
            ],
            "sizemode": "area",
            "sizeref": 0.1825
           },
           "mode": "markers",
           "name": "",
           "showlegend": false,
           "subplot": "mapbox",
           "type": "scattermapbox"
          }
         ],
         "name": "2022-09-10"
        },
        {
         "data": [
          {
           "customdata": [
            [
             "MP 01: Naamsestraat 35  Maxim"
            ],
            [
             "MP 02: Naamsestraat 57 Xior"
            ],
            [
             "MP 03: Naamsestraat 62 Taste"
            ],
            [
             "MP 05: Calvariekapel KU Leuven"
            ],
            [
             "MP 06: Parkstraat 2 La Filosovia"
            ]
           ],
           "hovertemplate": "ts_str=2022-09-11<br>Human voice - Shouting=%{marker.size}<br>latitude=%{lat}<br>longitude=%{lon}<br>description=%{customdata[0]}<extra></extra>",
           "lat": [
            50.877160828051615,
            50.87649057167669,
            50.875850541602986,
            50.87448678827803,
            50.87409073433792
           ],
           "legendgroup": "",
           "lon": [
            4.7006992525313445,
            4.700691639839767,
            4.700192168675618,
            4.699889625684066,
            4.700018371714718
           ],
           "marker": {
            "color": "#636efa",
            "size": [
             3,
             2,
             0,
             1,
             0
            ],
            "sizemode": "area",
            "sizeref": 0.1825
           },
           "mode": "markers",
           "name": "",
           "showlegend": false,
           "subplot": "mapbox",
           "type": "scattermapbox"
          }
         ],
         "name": "2022-09-11"
        },
        {
         "data": [
          {
           "customdata": [
            [
             "MP 01: Naamsestraat 35  Maxim"
            ],
            [
             "MP 02: Naamsestraat 57 Xior"
            ],
            [
             "MP 03: Naamsestraat 62 Taste"
            ],
            [
             "MP 05: Calvariekapel KU Leuven"
            ],
            [
             "MP 06: Parkstraat 2 La Filosovia"
            ]
           ],
           "hovertemplate": "ts_str=2022-09-12<br>Human voice - Shouting=%{marker.size}<br>latitude=%{lat}<br>longitude=%{lon}<br>description=%{customdata[0]}<extra></extra>",
           "lat": [
            50.877160828051615,
            50.87649057167669,
            50.875850541602986,
            50.87448678827803,
            50.87409073433792
           ],
           "legendgroup": "",
           "lon": [
            4.7006992525313445,
            4.700691639839767,
            4.700192168675618,
            4.699889625684066,
            4.700018371714718
           ],
           "marker": {
            "color": "#636efa",
            "size": [
             3,
             0,
             2,
             1,
             1
            ],
            "sizemode": "area",
            "sizeref": 0.1825
           },
           "mode": "markers",
           "name": "",
           "showlegend": false,
           "subplot": "mapbox",
           "type": "scattermapbox"
          }
         ],
         "name": "2022-09-12"
        },
        {
         "data": [
          {
           "customdata": [
            [
             "MP 01: Naamsestraat 35  Maxim"
            ],
            [
             "MP 02: Naamsestraat 57 Xior"
            ],
            [
             "MP 03: Naamsestraat 62 Taste"
            ],
            [
             "MP 05: Calvariekapel KU Leuven"
            ],
            [
             "MP 06: Parkstraat 2 La Filosovia"
            ]
           ],
           "hovertemplate": "ts_str=2022-09-13<br>Human voice - Shouting=%{marker.size}<br>latitude=%{lat}<br>longitude=%{lon}<br>description=%{customdata[0]}<extra></extra>",
           "lat": [
            50.877160828051615,
            50.87649057167669,
            50.875850541602986,
            50.87448678827803,
            50.87409073433792
           ],
           "legendgroup": "",
           "lon": [
            4.7006992525313445,
            4.700691639839767,
            4.700192168675618,
            4.699889625684066,
            4.700018371714718
           ],
           "marker": {
            "color": "#636efa",
            "size": [
             2,
             0,
             0,
             0,
             0
            ],
            "sizemode": "area",
            "sizeref": 0.1825
           },
           "mode": "markers",
           "name": "",
           "showlegend": false,
           "subplot": "mapbox",
           "type": "scattermapbox"
          }
         ],
         "name": "2022-09-13"
        },
        {
         "data": [
          {
           "customdata": [
            [
             "MP 01: Naamsestraat 35  Maxim"
            ],
            [
             "MP 02: Naamsestraat 57 Xior"
            ],
            [
             "MP 03: Naamsestraat 62 Taste"
            ],
            [
             "MP 05: Calvariekapel KU Leuven"
            ],
            [
             "MP 06: Parkstraat 2 La Filosovia"
            ],
            [
             "MP08bis - Vrijthof"
            ]
           ],
           "hovertemplate": "ts_str=2022-09-14<br>Human voice - Shouting=%{marker.size}<br>latitude=%{lat}<br>longitude=%{lon}<br>description=%{customdata[0]}<extra></extra>",
           "lat": [
            50.877160828051615,
            50.87649057167669,
            50.875850541602986,
            50.87448678827803,
            50.87409073433792,
            50.87890579999999
           ],
           "legendgroup": "",
           "lon": [
            4.7006992525313445,
            4.700691639839767,
            4.700192168675618,
            4.699889625684066,
            4.700018371714718,
            4.7011444846213415
           ],
           "marker": {
            "color": "#636efa",
            "size": [
             3,
             0,
             1,
             1,
             0,
             1
            ],
            "sizemode": "area",
            "sizeref": 0.1825
           },
           "mode": "markers",
           "name": "",
           "showlegend": false,
           "subplot": "mapbox",
           "type": "scattermapbox"
          }
         ],
         "name": "2022-09-14"
        },
        {
         "data": [
          {
           "customdata": [
            [
             "MP 01: Naamsestraat 35  Maxim"
            ],
            [
             "MP 02: Naamsestraat 57 Xior"
            ],
            [
             "MP 03: Naamsestraat 62 Taste"
            ],
            [
             "MP 05: Calvariekapel KU Leuven"
            ],
            [
             "MP 06: Parkstraat 2 La Filosovia"
            ]
           ],
           "hovertemplate": "ts_str=2022-09-15<br>Human voice - Shouting=%{marker.size}<br>latitude=%{lat}<br>longitude=%{lon}<br>description=%{customdata[0]}<extra></extra>",
           "lat": [
            50.877160828051615,
            50.87649057167669,
            50.875850541602986,
            50.87448678827803,
            50.87409073433792
           ],
           "legendgroup": "",
           "lon": [
            4.7006992525313445,
            4.700691639839767,
            4.700192168675618,
            4.699889625684066,
            4.700018371714718
           ],
           "marker": {
            "color": "#636efa",
            "size": [
             5,
             3,
             3,
             2,
             1
            ],
            "sizemode": "area",
            "sizeref": 0.1825
           },
           "mode": "markers",
           "name": "",
           "showlegend": false,
           "subplot": "mapbox",
           "type": "scattermapbox"
          }
         ],
         "name": "2022-09-15"
        },
        {
         "data": [
          {
           "customdata": [
            [
             "MP 01: Naamsestraat 35  Maxim"
            ],
            [
             "MP 02: Naamsestraat 57 Xior"
            ],
            [
             "MP 03: Naamsestraat 62 Taste"
            ],
            [
             "MP 05: Calvariekapel KU Leuven"
            ],
            [
             "MP 06: Parkstraat 2 La Filosovia"
            ]
           ],
           "hovertemplate": "ts_str=2022-09-16<br>Human voice - Shouting=%{marker.size}<br>latitude=%{lat}<br>longitude=%{lon}<br>description=%{customdata[0]}<extra></extra>",
           "lat": [
            50.877160828051615,
            50.87649057167669,
            50.875850541602986,
            50.87448678827803,
            50.87409073433792
           ],
           "legendgroup": "",
           "lon": [
            4.7006992525313445,
            4.700691639839767,
            4.700192168675618,
            4.699889625684066,
            4.700018371714718
           ],
           "marker": {
            "color": "#636efa",
            "size": [
             6,
             1,
             0,
             6,
             0
            ],
            "sizemode": "area",
            "sizeref": 0.1825
           },
           "mode": "markers",
           "name": "",
           "showlegend": false,
           "subplot": "mapbox",
           "type": "scattermapbox"
          }
         ],
         "name": "2022-09-16"
        },
        {
         "data": [
          {
           "customdata": [
            [
             "MP 01: Naamsestraat 35  Maxim"
            ],
            [
             "MP 02: Naamsestraat 57 Xior"
            ],
            [
             "MP 03: Naamsestraat 62 Taste"
            ],
            [
             "MP 05: Calvariekapel KU Leuven"
            ],
            [
             "MP 06: Parkstraat 2 La Filosovia"
            ]
           ],
           "hovertemplate": "ts_str=2022-09-17<br>Human voice - Shouting=%{marker.size}<br>latitude=%{lat}<br>longitude=%{lon}<br>description=%{customdata[0]}<extra></extra>",
           "lat": [
            50.877160828051615,
            50.87649057167669,
            50.875850541602986,
            50.87448678827803,
            50.87409073433792
           ],
           "legendgroup": "",
           "lon": [
            4.7006992525313445,
            4.700691639839767,
            4.700192168675618,
            4.699889625684066,
            4.700018371714718
           ],
           "marker": {
            "color": "#636efa",
            "size": [
             4,
             0,
             0,
             3,
             0
            ],
            "sizemode": "area",
            "sizeref": 0.1825
           },
           "mode": "markers",
           "name": "",
           "showlegend": false,
           "subplot": "mapbox",
           "type": "scattermapbox"
          }
         ],
         "name": "2022-09-17"
        },
        {
         "data": [
          {
           "customdata": [
            [
             "MP 01: Naamsestraat 35  Maxim"
            ],
            [
             "MP 02: Naamsestraat 57 Xior"
            ],
            [
             "MP 03: Naamsestraat 62 Taste"
            ],
            [
             "MP 05: Calvariekapel KU Leuven"
            ],
            [
             "MP 06: Parkstraat 2 La Filosovia"
            ]
           ],
           "hovertemplate": "ts_str=2022-09-18<br>Human voice - Shouting=%{marker.size}<br>latitude=%{lat}<br>longitude=%{lon}<br>description=%{customdata[0]}<extra></extra>",
           "lat": [
            50.877160828051615,
            50.87649057167669,
            50.875850541602986,
            50.87448678827803,
            50.87409073433792
           ],
           "legendgroup": "",
           "lon": [
            4.7006992525313445,
            4.700691639839767,
            4.700192168675618,
            4.699889625684066,
            4.700018371714718
           ],
           "marker": {
            "color": "#636efa",
            "size": [
             0,
             1,
             0,
             1,
             0
            ],
            "sizemode": "area",
            "sizeref": 0.1825
           },
           "mode": "markers",
           "name": "",
           "showlegend": false,
           "subplot": "mapbox",
           "type": "scattermapbox"
          }
         ],
         "name": "2022-09-18"
        },
        {
         "data": [
          {
           "customdata": [
            [
             "MP 01: Naamsestraat 35  Maxim"
            ],
            [
             "MP 02: Naamsestraat 57 Xior"
            ],
            [
             "MP 03: Naamsestraat 62 Taste"
            ],
            [
             "MP 05: Calvariekapel KU Leuven"
            ],
            [
             "MP 06: Parkstraat 2 La Filosovia"
            ]
           ],
           "hovertemplate": "ts_str=2022-09-19<br>Human voice - Shouting=%{marker.size}<br>latitude=%{lat}<br>longitude=%{lon}<br>description=%{customdata[0]}<extra></extra>",
           "lat": [
            50.877160828051615,
            50.87649057167669,
            50.875850541602986,
            50.87448678827803,
            50.87409073433792
           ],
           "legendgroup": "",
           "lon": [
            4.7006992525313445,
            4.700691639839767,
            4.700192168675618,
            4.699889625684066,
            4.700018371714718
           ],
           "marker": {
            "color": "#636efa",
            "size": [
             3,
             0,
             3,
             1,
             0
            ],
            "sizemode": "area",
            "sizeref": 0.1825
           },
           "mode": "markers",
           "name": "",
           "showlegend": false,
           "subplot": "mapbox",
           "type": "scattermapbox"
          }
         ],
         "name": "2022-09-19"
        },
        {
         "data": [
          {
           "customdata": [
            [
             "MP 01: Naamsestraat 35  Maxim"
            ],
            [
             "MP 02: Naamsestraat 57 Xior"
            ],
            [
             "MP 03: Naamsestraat 62 Taste"
            ],
            [
             "MP 05: Calvariekapel KU Leuven"
            ],
            [
             "MP 06: Parkstraat 2 La Filosovia"
            ]
           ],
           "hovertemplate": "ts_str=2022-09-20<br>Human voice - Shouting=%{marker.size}<br>latitude=%{lat}<br>longitude=%{lon}<br>description=%{customdata[0]}<extra></extra>",
           "lat": [
            50.877160828051615,
            50.87649057167669,
            50.875850541602986,
            50.87448678827803,
            50.87409073433792
           ],
           "legendgroup": "",
           "lon": [
            4.7006992525313445,
            4.700691639839767,
            4.700192168675618,
            4.699889625684066,
            4.700018371714718
           ],
           "marker": {
            "color": "#636efa",
            "size": [
             1,
             0,
             2,
             0,
             0
            ],
            "sizemode": "area",
            "sizeref": 0.1825
           },
           "mode": "markers",
           "name": "",
           "showlegend": false,
           "subplot": "mapbox",
           "type": "scattermapbox"
          }
         ],
         "name": "2022-09-20"
        },
        {
         "data": [
          {
           "customdata": [
            [
             "MP 01: Naamsestraat 35  Maxim"
            ],
            [
             "MP 02: Naamsestraat 57 Xior"
            ],
            [
             "MP 03: Naamsestraat 62 Taste"
            ],
            [
             "MP 05: Calvariekapel KU Leuven"
            ],
            [
             "MP 06: Parkstraat 2 La Filosovia"
            ]
           ],
           "hovertemplate": "ts_str=2022-09-21<br>Human voice - Shouting=%{marker.size}<br>latitude=%{lat}<br>longitude=%{lon}<br>description=%{customdata[0]}<extra></extra>",
           "lat": [
            50.877160828051615,
            50.87649057167669,
            50.875850541602986,
            50.87448678827803,
            50.87409073433792
           ],
           "legendgroup": "",
           "lon": [
            4.7006992525313445,
            4.700691639839767,
            4.700192168675618,
            4.699889625684066,
            4.700018371714718
           ],
           "marker": {
            "color": "#636efa",
            "size": [
             2,
             1,
             3,
             0,
             0
            ],
            "sizemode": "area",
            "sizeref": 0.1825
           },
           "mode": "markers",
           "name": "",
           "showlegend": false,
           "subplot": "mapbox",
           "type": "scattermapbox"
          }
         ],
         "name": "2022-09-21"
        },
        {
         "data": [
          {
           "customdata": [
            [
             "MP 01: Naamsestraat 35  Maxim"
            ],
            [
             "MP 02: Naamsestraat 57 Xior"
            ],
            [
             "MP 03: Naamsestraat 62 Taste"
            ],
            [
             "MP 05: Calvariekapel KU Leuven"
            ],
            [
             "MP 06: Parkstraat 2 La Filosovia"
            ]
           ],
           "hovertemplate": "ts_str=2022-09-22<br>Human voice - Shouting=%{marker.size}<br>latitude=%{lat}<br>longitude=%{lon}<br>description=%{customdata[0]}<extra></extra>",
           "lat": [
            50.877160828051615,
            50.87649057167669,
            50.875850541602986,
            50.87448678827803,
            50.87409073433792
           ],
           "legendgroup": "",
           "lon": [
            4.7006992525313445,
            4.700691639839767,
            4.700192168675618,
            4.699889625684066,
            4.700018371714718
           ],
           "marker": {
            "color": "#636efa",
            "size": [
             5,
             1,
             4,
             0,
             0
            ],
            "sizemode": "area",
            "sizeref": 0.1825
           },
           "mode": "markers",
           "name": "",
           "showlegend": false,
           "subplot": "mapbox",
           "type": "scattermapbox"
          }
         ],
         "name": "2022-09-22"
        },
        {
         "data": [
          {
           "customdata": [
            [
             "MP 01: Naamsestraat 35  Maxim"
            ],
            [
             "MP 02: Naamsestraat 57 Xior"
            ],
            [
             "MP 03: Naamsestraat 62 Taste"
            ],
            [
             "MP 05: Calvariekapel KU Leuven"
            ],
            [
             "MP 06: Parkstraat 2 La Filosovia"
            ]
           ],
           "hovertemplate": "ts_str=2022-09-23<br>Human voice - Shouting=%{marker.size}<br>latitude=%{lat}<br>longitude=%{lon}<br>description=%{customdata[0]}<extra></extra>",
           "lat": [
            50.877160828051615,
            50.87649057167669,
            50.875850541602986,
            50.87448678827803,
            50.87409073433792
           ],
           "legendgroup": "",
           "lon": [
            4.7006992525313445,
            4.700691639839767,
            4.700192168675618,
            4.699889625684066,
            4.700018371714718
           ],
           "marker": {
            "color": "#636efa",
            "size": [
             10,
             5,
             0,
             5,
             1
            ],
            "sizemode": "area",
            "sizeref": 0.1825
           },
           "mode": "markers",
           "name": "",
           "showlegend": false,
           "subplot": "mapbox",
           "type": "scattermapbox"
          }
         ],
         "name": "2022-09-23"
        },
        {
         "data": [
          {
           "customdata": [
            [
             "MP 01: Naamsestraat 35  Maxim"
            ],
            [
             "MP 02: Naamsestraat 57 Xior"
            ],
            [
             "MP 03: Naamsestraat 62 Taste"
            ],
            [
             "MP 05: Calvariekapel KU Leuven"
            ],
            [
             "MP 06: Parkstraat 2 La Filosovia"
            ]
           ],
           "hovertemplate": "ts_str=2022-09-24<br>Human voice - Shouting=%{marker.size}<br>latitude=%{lat}<br>longitude=%{lon}<br>description=%{customdata[0]}<extra></extra>",
           "lat": [
            50.877160828051615,
            50.87649057167669,
            50.875850541602986,
            50.87448678827803,
            50.87409073433792
           ],
           "legendgroup": "",
           "lon": [
            4.7006992525313445,
            4.700691639839767,
            4.700192168675618,
            4.699889625684066,
            4.700018371714718
           ],
           "marker": {
            "color": "#636efa",
            "size": [
             3,
             1,
             0,
             3,
             0
            ],
            "sizemode": "area",
            "sizeref": 0.1825
           },
           "mode": "markers",
           "name": "",
           "showlegend": false,
           "subplot": "mapbox",
           "type": "scattermapbox"
          }
         ],
         "name": "2022-09-24"
        },
        {
         "data": [
          {
           "customdata": [
            [
             "MP 01: Naamsestraat 35  Maxim"
            ],
            [
             "MP 02: Naamsestraat 57 Xior"
            ],
            [
             "MP 03: Naamsestraat 62 Taste"
            ],
            [
             "MP 05: Calvariekapel KU Leuven"
            ],
            [
             "MP 06: Parkstraat 2 La Filosovia"
            ]
           ],
           "hovertemplate": "ts_str=2022-09-25<br>Human voice - Shouting=%{marker.size}<br>latitude=%{lat}<br>longitude=%{lon}<br>description=%{customdata[0]}<extra></extra>",
           "lat": [
            50.877160828051615,
            50.87649057167669,
            50.875850541602986,
            50.87448678827803,
            50.87409073433792
           ],
           "legendgroup": "",
           "lon": [
            4.7006992525313445,
            4.700691639839767,
            4.700192168675618,
            4.699889625684066,
            4.700018371714718
           ],
           "marker": {
            "color": "#636efa",
            "size": [
             1,
             0,
             1,
             2,
             0
            ],
            "sizemode": "area",
            "sizeref": 0.1825
           },
           "mode": "markers",
           "name": "",
           "showlegend": false,
           "subplot": "mapbox",
           "type": "scattermapbox"
          }
         ],
         "name": "2022-09-25"
        },
        {
         "data": [
          {
           "customdata": [
            [
             "MP 01: Naamsestraat 35  Maxim"
            ],
            [
             "MP 02: Naamsestraat 57 Xior"
            ],
            [
             "MP 03: Naamsestraat 62 Taste"
            ],
            [
             "MP 05: Calvariekapel KU Leuven"
            ],
            [
             "MP 06: Parkstraat 2 La Filosovia"
            ]
           ],
           "hovertemplate": "ts_str=2022-09-26<br>Human voice - Shouting=%{marker.size}<br>latitude=%{lat}<br>longitude=%{lon}<br>description=%{customdata[0]}<extra></extra>",
           "lat": [
            50.877160828051615,
            50.87649057167669,
            50.875850541602986,
            50.87448678827803,
            50.87409073433792
           ],
           "legendgroup": "",
           "lon": [
            4.7006992525313445,
            4.700691639839767,
            4.700192168675618,
            4.699889625684066,
            4.700018371714718
           ],
           "marker": {
            "color": "#636efa",
            "size": [
             26,
             1,
             5,
             4,
             0
            ],
            "sizemode": "area",
            "sizeref": 0.1825
           },
           "mode": "markers",
           "name": "",
           "showlegend": false,
           "subplot": "mapbox",
           "type": "scattermapbox"
          }
         ],
         "name": "2022-09-26"
        },
        {
         "data": [
          {
           "customdata": [
            [
             "MP 01: Naamsestraat 35  Maxim"
            ],
            [
             "MP 02: Naamsestraat 57 Xior"
            ],
            [
             "MP 03: Naamsestraat 62 Taste"
            ],
            [
             "MP 05: Calvariekapel KU Leuven"
            ],
            [
             "MP 06: Parkstraat 2 La Filosovia"
            ]
           ],
           "hovertemplate": "ts_str=2022-09-27<br>Human voice - Shouting=%{marker.size}<br>latitude=%{lat}<br>longitude=%{lon}<br>description=%{customdata[0]}<extra></extra>",
           "lat": [
            50.877160828051615,
            50.87649057167669,
            50.875850541602986,
            50.87448678827803,
            50.87409073433792
           ],
           "legendgroup": "",
           "lon": [
            4.7006992525313445,
            4.700691639839767,
            4.700192168675618,
            4.699889625684066,
            4.700018371714718
           ],
           "marker": {
            "color": "#636efa",
            "size": [
             30,
             0,
             2,
             1,
             2
            ],
            "sizemode": "area",
            "sizeref": 0.1825
           },
           "mode": "markers",
           "name": "",
           "showlegend": false,
           "subplot": "mapbox",
           "type": "scattermapbox"
          }
         ],
         "name": "2022-09-27"
        },
        {
         "data": [
          {
           "customdata": [
            [
             "MP 01: Naamsestraat 35  Maxim"
            ],
            [
             "MP 02: Naamsestraat 57 Xior"
            ],
            [
             "MP 03: Naamsestraat 62 Taste"
            ],
            [
             "MP 05: Calvariekapel KU Leuven"
            ],
            [
             "MP 06: Parkstraat 2 La Filosovia"
            ]
           ],
           "hovertemplate": "ts_str=2022-09-28<br>Human voice - Shouting=%{marker.size}<br>latitude=%{lat}<br>longitude=%{lon}<br>description=%{customdata[0]}<extra></extra>",
           "lat": [
            50.877160828051615,
            50.87649057167669,
            50.875850541602986,
            50.87448678827803,
            50.87409073433792
           ],
           "legendgroup": "",
           "lon": [
            4.7006992525313445,
            4.700691639839767,
            4.700192168675618,
            4.699889625684066,
            4.700018371714718
           ],
           "marker": {
            "color": "#636efa",
            "size": [
             36,
             4,
             0,
             4,
             3
            ],
            "sizemode": "area",
            "sizeref": 0.1825
           },
           "mode": "markers",
           "name": "",
           "showlegend": false,
           "subplot": "mapbox",
           "type": "scattermapbox"
          }
         ],
         "name": "2022-09-28"
        },
        {
         "data": [
          {
           "customdata": [
            [
             "MP 01: Naamsestraat 35  Maxim"
            ],
            [
             "MP 02: Naamsestraat 57 Xior"
            ],
            [
             "MP 03: Naamsestraat 62 Taste"
            ],
            [
             "MP 05: Calvariekapel KU Leuven"
            ],
            [
             "MP 06: Parkstraat 2 La Filosovia"
            ],
            [
             "MP08bis - Vrijthof"
            ]
           ],
           "hovertemplate": "ts_str=2022-09-29<br>Human voice - Shouting=%{marker.size}<br>latitude=%{lat}<br>longitude=%{lon}<br>description=%{customdata[0]}<extra></extra>",
           "lat": [
            50.877160828051615,
            50.87649057167669,
            50.875850541602986,
            50.87448678827803,
            50.87409073433792,
            50.87890579999999
           ],
           "legendgroup": "",
           "lon": [
            4.7006992525313445,
            4.700691639839767,
            4.700192168675618,
            4.699889625684066,
            4.700018371714718,
            4.7011444846213415
           ],
           "marker": {
            "color": "#636efa",
            "size": [
             36,
             4,
             5,
             1,
             5,
             0
            ],
            "sizemode": "area",
            "sizeref": 0.1825
           },
           "mode": "markers",
           "name": "",
           "showlegend": false,
           "subplot": "mapbox",
           "type": "scattermapbox"
          }
         ],
         "name": "2022-09-29"
        },
        {
         "data": [
          {
           "customdata": [
            [
             "MP 01: Naamsestraat 35  Maxim"
            ],
            [
             "MP 02: Naamsestraat 57 Xior"
            ],
            [
             "MP 03: Naamsestraat 62 Taste"
            ],
            [
             "MP 05: Calvariekapel KU Leuven"
            ],
            [
             "MP 06: Parkstraat 2 La Filosovia"
            ],
            [
             "MP08bis - Vrijthof"
            ]
           ],
           "hovertemplate": "ts_str=2022-09-30<br>Human voice - Shouting=%{marker.size}<br>latitude=%{lat}<br>longitude=%{lon}<br>description=%{customdata[0]}<extra></extra>",
           "lat": [
            50.877160828051615,
            50.87649057167669,
            50.875850541602986,
            50.87448678827803,
            50.87409073433792,
            50.87890579999999
           ],
           "legendgroup": "",
           "lon": [
            4.7006992525313445,
            4.700691639839767,
            4.700192168675618,
            4.699889625684066,
            4.700018371714718,
            4.7011444846213415
           ],
           "marker": {
            "color": "#636efa",
            "size": [
             26,
             8,
             3,
             8,
             2,
             0
            ],
            "sizemode": "area",
            "sizeref": 0.1825
           },
           "mode": "markers",
           "name": "",
           "showlegend": false,
           "subplot": "mapbox",
           "type": "scattermapbox"
          }
         ],
         "name": "2022-09-30"
        },
        {
         "data": [
          {
           "customdata": [
            [
             "MP 01: Naamsestraat 35  Maxim"
            ],
            [
             "MP 02: Naamsestraat 57 Xior"
            ],
            [
             "MP 03: Naamsestraat 62 Taste"
            ],
            [
             "MP 05: Calvariekapel KU Leuven"
            ],
            [
             "MP 06: Parkstraat 2 La Filosovia"
            ],
            [
             "MP08bis - Vrijthof"
            ]
           ],
           "hovertemplate": "ts_str=2022-10-01<br>Human voice - Shouting=%{marker.size}<br>latitude=%{lat}<br>longitude=%{lon}<br>description=%{customdata[0]}<extra></extra>",
           "lat": [
            50.877160828051615,
            50.87649057167669,
            50.875850541602986,
            50.87448678827803,
            50.87409073433792,
            50.87890579999999
           ],
           "legendgroup": "",
           "lon": [
            4.7006992525313445,
            4.700691639839767,
            4.700192168675618,
            4.699889625684066,
            4.700018371714718,
            4.7011444846213415
           ],
           "marker": {
            "color": "#636efa",
            "size": [
             10,
             1,
             0,
             0,
             0,
             0
            ],
            "sizemode": "area",
            "sizeref": 0.1825
           },
           "mode": "markers",
           "name": "",
           "showlegend": false,
           "subplot": "mapbox",
           "type": "scattermapbox"
          }
         ],
         "name": "2022-10-01"
        },
        {
         "data": [
          {
           "customdata": [
            [
             "MP 01: Naamsestraat 35  Maxim"
            ],
            [
             "MP 02: Naamsestraat 57 Xior"
            ],
            [
             "MP 03: Naamsestraat 62 Taste"
            ],
            [
             "MP 05: Calvariekapel KU Leuven"
            ],
            [
             "MP 06: Parkstraat 2 La Filosovia"
            ]
           ],
           "hovertemplate": "ts_str=2022-10-02<br>Human voice - Shouting=%{marker.size}<br>latitude=%{lat}<br>longitude=%{lon}<br>description=%{customdata[0]}<extra></extra>",
           "lat": [
            50.877160828051615,
            50.87649057167669,
            50.875850541602986,
            50.87448678827803,
            50.87409073433792
           ],
           "legendgroup": "",
           "lon": [
            4.7006992525313445,
            4.700691639839767,
            4.700192168675618,
            4.699889625684066,
            4.700018371714718
           ],
           "marker": {
            "color": "#636efa",
            "size": [
             4,
             0,
             0,
             0,
             0
            ],
            "sizemode": "area",
            "sizeref": 0.1825
           },
           "mode": "markers",
           "name": "",
           "showlegend": false,
           "subplot": "mapbox",
           "type": "scattermapbox"
          }
         ],
         "name": "2022-10-02"
        },
        {
         "data": [
          {
           "customdata": [
            [
             "MP 01: Naamsestraat 35  Maxim"
            ],
            [
             "MP 02: Naamsestraat 57 Xior"
            ],
            [
             "MP 03: Naamsestraat 62 Taste"
            ],
            [
             "MP 05: Calvariekapel KU Leuven"
            ],
            [
             "MP 06: Parkstraat 2 La Filosovia"
            ],
            [
             "MP08bis - Vrijthof"
            ]
           ],
           "hovertemplate": "ts_str=2022-10-03<br>Human voice - Shouting=%{marker.size}<br>latitude=%{lat}<br>longitude=%{lon}<br>description=%{customdata[0]}<extra></extra>",
           "lat": [
            50.877160828051615,
            50.87649057167669,
            50.875850541602986,
            50.87448678827803,
            50.87409073433792,
            50.87890579999999
           ],
           "legendgroup": "",
           "lon": [
            4.7006992525313445,
            4.700691639839767,
            4.700192168675618,
            4.699889625684066,
            4.700018371714718,
            4.7011444846213415
           ],
           "marker": {
            "color": "#636efa",
            "size": [
             12,
             0,
             2,
             1,
             1,
             0
            ],
            "sizemode": "area",
            "sizeref": 0.1825
           },
           "mode": "markers",
           "name": "",
           "showlegend": false,
           "subplot": "mapbox",
           "type": "scattermapbox"
          }
         ],
         "name": "2022-10-03"
        },
        {
         "data": [
          {
           "customdata": [
            [
             "MP 01: Naamsestraat 35  Maxim"
            ],
            [
             "MP 02: Naamsestraat 57 Xior"
            ],
            [
             "MP 03: Naamsestraat 62 Taste"
            ],
            [
             "MP 05: Calvariekapel KU Leuven"
            ],
            [
             "MP 06: Parkstraat 2 La Filosovia"
            ],
            [
             "MP08bis - Vrijthof"
            ]
           ],
           "hovertemplate": "ts_str=2022-10-04<br>Human voice - Shouting=%{marker.size}<br>latitude=%{lat}<br>longitude=%{lon}<br>description=%{customdata[0]}<extra></extra>",
           "lat": [
            50.877160828051615,
            50.87649057167669,
            50.875850541602986,
            50.87448678827803,
            50.87409073433792,
            50.87890579999999
           ],
           "legendgroup": "",
           "lon": [
            4.7006992525313445,
            4.700691639839767,
            4.700192168675618,
            4.699889625684066,
            4.700018371714718,
            4.7011444846213415
           ],
           "marker": {
            "color": "#636efa",
            "size": [
             55,
             5,
             2,
             1,
             0,
             1
            ],
            "sizemode": "area",
            "sizeref": 0.1825
           },
           "mode": "markers",
           "name": "",
           "showlegend": false,
           "subplot": "mapbox",
           "type": "scattermapbox"
          }
         ],
         "name": "2022-10-04"
        },
        {
         "data": [
          {
           "customdata": [
            [
             "MP 01: Naamsestraat 35  Maxim"
            ],
            [
             "MP 02: Naamsestraat 57 Xior"
            ],
            [
             "MP 03: Naamsestraat 62 Taste"
            ],
            [
             "MP 05: Calvariekapel KU Leuven"
            ],
            [
             "MP 06: Parkstraat 2 La Filosovia"
            ],
            [
             "MP08bis - Vrijthof"
            ]
           ],
           "hovertemplate": "ts_str=2022-10-05<br>Human voice - Shouting=%{marker.size}<br>latitude=%{lat}<br>longitude=%{lon}<br>description=%{customdata[0]}<extra></extra>",
           "lat": [
            50.877160828051615,
            50.87649057167669,
            50.875850541602986,
            50.87448678827803,
            50.87409073433792,
            50.87890579999999
           ],
           "legendgroup": "",
           "lon": [
            4.7006992525313445,
            4.700691639839767,
            4.700192168675618,
            4.699889625684066,
            4.700018371714718,
            4.7011444846213415
           ],
           "marker": {
            "color": "#636efa",
            "size": [
             18,
             6,
             3,
             3,
             1,
             0
            ],
            "sizemode": "area",
            "sizeref": 0.1825
           },
           "mode": "markers",
           "name": "",
           "showlegend": false,
           "subplot": "mapbox",
           "type": "scattermapbox"
          }
         ],
         "name": "2022-10-05"
        },
        {
         "data": [
          {
           "customdata": [
            [
             "MP 01: Naamsestraat 35  Maxim"
            ],
            [
             "MP 02: Naamsestraat 57 Xior"
            ],
            [
             "MP 03: Naamsestraat 62 Taste"
            ],
            [
             "MP 05: Calvariekapel KU Leuven"
            ],
            [
             "MP 06: Parkstraat 2 La Filosovia"
            ]
           ],
           "hovertemplate": "ts_str=2022-10-06<br>Human voice - Shouting=%{marker.size}<br>latitude=%{lat}<br>longitude=%{lon}<br>description=%{customdata[0]}<extra></extra>",
           "lat": [
            50.877160828051615,
            50.87649057167669,
            50.875850541602986,
            50.87448678827803,
            50.87409073433792
           ],
           "legendgroup": "",
           "lon": [
            4.7006992525313445,
            4.700691639839767,
            4.700192168675618,
            4.699889625684066,
            4.700018371714718
           ],
           "marker": {
            "color": "#636efa",
            "size": [
             22,
             1,
             4,
             9,
             4
            ],
            "sizemode": "area",
            "sizeref": 0.1825
           },
           "mode": "markers",
           "name": "",
           "showlegend": false,
           "subplot": "mapbox",
           "type": "scattermapbox"
          }
         ],
         "name": "2022-10-06"
        },
        {
         "data": [
          {
           "customdata": [
            [
             "MP 01: Naamsestraat 35  Maxim"
            ],
            [
             "MP 02: Naamsestraat 57 Xior"
            ],
            [
             "MP 03: Naamsestraat 62 Taste"
            ],
            [
             "MP 05: Calvariekapel KU Leuven"
            ],
            [
             "MP 06: Parkstraat 2 La Filosovia"
            ],
            [
             "MP08bis - Vrijthof"
            ]
           ],
           "hovertemplate": "ts_str=2022-10-07<br>Human voice - Shouting=%{marker.size}<br>latitude=%{lat}<br>longitude=%{lon}<br>description=%{customdata[0]}<extra></extra>",
           "lat": [
            50.877160828051615,
            50.87649057167669,
            50.875850541602986,
            50.87448678827803,
            50.87409073433792,
            50.87890579999999
           ],
           "legendgroup": "",
           "lon": [
            4.7006992525313445,
            4.700691639839767,
            4.700192168675618,
            4.699889625684066,
            4.700018371714718,
            4.7011444846213415
           ],
           "marker": {
            "color": "#636efa",
            "size": [
             59,
             10,
             5,
             5,
             3,
             0
            ],
            "sizemode": "area",
            "sizeref": 0.1825
           },
           "mode": "markers",
           "name": "",
           "showlegend": false,
           "subplot": "mapbox",
           "type": "scattermapbox"
          }
         ],
         "name": "2022-10-07"
        },
        {
         "data": [
          {
           "customdata": [
            [
             "MP 01: Naamsestraat 35  Maxim"
            ],
            [
             "MP 02: Naamsestraat 57 Xior"
            ],
            [
             "MP 03: Naamsestraat 62 Taste"
            ],
            [
             "MP 05: Calvariekapel KU Leuven"
            ],
            [
             "MP 06: Parkstraat 2 La Filosovia"
            ],
            [
             "MP08bis - Vrijthof"
            ]
           ],
           "hovertemplate": "ts_str=2022-10-08<br>Human voice - Shouting=%{marker.size}<br>latitude=%{lat}<br>longitude=%{lon}<br>description=%{customdata[0]}<extra></extra>",
           "lat": [
            50.877160828051615,
            50.87649057167669,
            50.875850541602986,
            50.87448678827803,
            50.87409073433792,
            50.87890579999999
           ],
           "legendgroup": "",
           "lon": [
            4.7006992525313445,
            4.700691639839767,
            4.700192168675618,
            4.699889625684066,
            4.700018371714718,
            4.7011444846213415
           ],
           "marker": {
            "color": "#636efa",
            "size": [
             20,
             3,
             3,
             3,
             0,
             0
            ],
            "sizemode": "area",
            "sizeref": 0.1825
           },
           "mode": "markers",
           "name": "",
           "showlegend": false,
           "subplot": "mapbox",
           "type": "scattermapbox"
          }
         ],
         "name": "2022-10-08"
        },
        {
         "data": [
          {
           "customdata": [
            [
             "MP 01: Naamsestraat 35  Maxim"
            ],
            [
             "MP 02: Naamsestraat 57 Xior"
            ],
            [
             "MP 03: Naamsestraat 62 Taste"
            ],
            [
             "MP 05: Calvariekapel KU Leuven"
            ],
            [
             "MP 06: Parkstraat 2 La Filosovia"
            ]
           ],
           "hovertemplate": "ts_str=2022-10-09<br>Human voice - Shouting=%{marker.size}<br>latitude=%{lat}<br>longitude=%{lon}<br>description=%{customdata[0]}<extra></extra>",
           "lat": [
            50.877160828051615,
            50.87649057167669,
            50.875850541602986,
            50.87448678827803,
            50.87409073433792
           ],
           "legendgroup": "",
           "lon": [
            4.7006992525313445,
            4.700691639839767,
            4.700192168675618,
            4.699889625684066,
            4.700018371714718
           ],
           "marker": {
            "color": "#636efa",
            "size": [
             9,
             1,
             3,
             5,
             0
            ],
            "sizemode": "area",
            "sizeref": 0.1825
           },
           "mode": "markers",
           "name": "",
           "showlegend": false,
           "subplot": "mapbox",
           "type": "scattermapbox"
          }
         ],
         "name": "2022-10-09"
        },
        {
         "data": [
          {
           "customdata": [
            [
             "MP 01: Naamsestraat 35  Maxim"
            ],
            [
             "MP 02: Naamsestraat 57 Xior"
            ],
            [
             "MP 03: Naamsestraat 62 Taste"
            ],
            [
             "MP 05: Calvariekapel KU Leuven"
            ],
            [
             "MP 06: Parkstraat 2 La Filosovia"
            ]
           ],
           "hovertemplate": "ts_str=2022-10-10<br>Human voice - Shouting=%{marker.size}<br>latitude=%{lat}<br>longitude=%{lon}<br>description=%{customdata[0]}<extra></extra>",
           "lat": [
            50.877160828051615,
            50.87649057167669,
            50.875850541602986,
            50.87448678827803,
            50.87409073433792
           ],
           "legendgroup": "",
           "lon": [
            4.7006992525313445,
            4.700691639839767,
            4.700192168675618,
            4.699889625684066,
            4.700018371714718
           ],
           "marker": {
            "color": "#636efa",
            "size": [
             10,
             2,
             1,
             2,
             1
            ],
            "sizemode": "area",
            "sizeref": 0.1825
           },
           "mode": "markers",
           "name": "",
           "showlegend": false,
           "subplot": "mapbox",
           "type": "scattermapbox"
          }
         ],
         "name": "2022-10-10"
        },
        {
         "data": [
          {
           "customdata": [
            [
             "MP 01: Naamsestraat 35  Maxim"
            ],
            [
             "MP 02: Naamsestraat 57 Xior"
            ],
            [
             "MP 03: Naamsestraat 62 Taste"
            ],
            [
             "MP 05: Calvariekapel KU Leuven"
            ],
            [
             "MP 06: Parkstraat 2 La Filosovia"
            ],
            [
             "MP08bis - Vrijthof"
            ]
           ],
           "hovertemplate": "ts_str=2022-10-11<br>Human voice - Shouting=%{marker.size}<br>latitude=%{lat}<br>longitude=%{lon}<br>description=%{customdata[0]}<extra></extra>",
           "lat": [
            50.877160828051615,
            50.87649057167669,
            50.875850541602986,
            50.87448678827803,
            50.87409073433792,
            50.87890579999999
           ],
           "legendgroup": "",
           "lon": [
            4.7006992525313445,
            4.700691639839767,
            4.700192168675618,
            4.699889625684066,
            4.700018371714718,
            4.7011444846213415
           ],
           "marker": {
            "color": "#636efa",
            "size": [
             34,
             3,
             2,
             3,
             1,
             0
            ],
            "sizemode": "area",
            "sizeref": 0.1825
           },
           "mode": "markers",
           "name": "",
           "showlegend": false,
           "subplot": "mapbox",
           "type": "scattermapbox"
          }
         ],
         "name": "2022-10-11"
        },
        {
         "data": [
          {
           "customdata": [
            [
             "MP 01: Naamsestraat 35  Maxim"
            ],
            [
             "MP 02: Naamsestraat 57 Xior"
            ],
            [
             "MP 03: Naamsestraat 62 Taste"
            ],
            [
             "MP 05: Calvariekapel KU Leuven"
            ],
            [
             "MP 06: Parkstraat 2 La Filosovia"
            ]
           ],
           "hovertemplate": "ts_str=2022-10-12<br>Human voice - Shouting=%{marker.size}<br>latitude=%{lat}<br>longitude=%{lon}<br>description=%{customdata[0]}<extra></extra>",
           "lat": [
            50.877160828051615,
            50.87649057167669,
            50.875850541602986,
            50.87448678827803,
            50.87409073433792
           ],
           "legendgroup": "",
           "lon": [
            4.7006992525313445,
            4.700691639839767,
            4.700192168675618,
            4.699889625684066,
            4.700018371714718
           ],
           "marker": {
            "color": "#636efa",
            "size": [
             32,
             3,
             2,
             9,
             5
            ],
            "sizemode": "area",
            "sizeref": 0.1825
           },
           "mode": "markers",
           "name": "",
           "showlegend": false,
           "subplot": "mapbox",
           "type": "scattermapbox"
          }
         ],
         "name": "2022-10-12"
        },
        {
         "data": [
          {
           "customdata": [
            [
             "MP 01: Naamsestraat 35  Maxim"
            ],
            [
             "MP 02: Naamsestraat 57 Xior"
            ],
            [
             "MP 03: Naamsestraat 62 Taste"
            ],
            [
             "MP 05: Calvariekapel KU Leuven"
            ],
            [
             "MP 06: Parkstraat 2 La Filosovia"
            ]
           ],
           "hovertemplate": "ts_str=2022-10-13<br>Human voice - Shouting=%{marker.size}<br>latitude=%{lat}<br>longitude=%{lon}<br>description=%{customdata[0]}<extra></extra>",
           "lat": [
            50.877160828051615,
            50.87649057167669,
            50.875850541602986,
            50.87448678827803,
            50.87409073433792
           ],
           "legendgroup": "",
           "lon": [
            4.7006992525313445,
            4.700691639839767,
            4.700192168675618,
            4.699889625684066,
            4.700018371714718
           ],
           "marker": {
            "color": "#636efa",
            "size": [
             34,
             6,
             5,
             11,
             6
            ],
            "sizemode": "area",
            "sizeref": 0.1825
           },
           "mode": "markers",
           "name": "",
           "showlegend": false,
           "subplot": "mapbox",
           "type": "scattermapbox"
          }
         ],
         "name": "2022-10-13"
        },
        {
         "data": [
          {
           "customdata": [
            [
             "MP 01: Naamsestraat 35  Maxim"
            ],
            [
             "MP 02: Naamsestraat 57 Xior"
            ],
            [
             "MP 03: Naamsestraat 62 Taste"
            ],
            [
             "MP 05: Calvariekapel KU Leuven"
            ],
            [
             "MP 06: Parkstraat 2 La Filosovia"
            ]
           ],
           "hovertemplate": "ts_str=2022-10-14<br>Human voice - Shouting=%{marker.size}<br>latitude=%{lat}<br>longitude=%{lon}<br>description=%{customdata[0]}<extra></extra>",
           "lat": [
            50.877160828051615,
            50.87649057167669,
            50.875850541602986,
            50.87448678827803,
            50.87409073433792
           ],
           "legendgroup": "",
           "lon": [
            4.7006992525313445,
            4.700691639839767,
            4.700192168675618,
            4.699889625684066,
            4.700018371714718
           ],
           "marker": {
            "color": "#636efa",
            "size": [
             24,
             6,
             5,
             6,
             8
            ],
            "sizemode": "area",
            "sizeref": 0.1825
           },
           "mode": "markers",
           "name": "",
           "showlegend": false,
           "subplot": "mapbox",
           "type": "scattermapbox"
          }
         ],
         "name": "2022-10-14"
        },
        {
         "data": [
          {
           "customdata": [
            [
             "MP 01: Naamsestraat 35  Maxim"
            ],
            [
             "MP 02: Naamsestraat 57 Xior"
            ],
            [
             "MP 03: Naamsestraat 62 Taste"
            ],
            [
             "MP 05: Calvariekapel KU Leuven"
            ],
            [
             "MP 06: Parkstraat 2 La Filosovia"
            ]
           ],
           "hovertemplate": "ts_str=2022-10-15<br>Human voice - Shouting=%{marker.size}<br>latitude=%{lat}<br>longitude=%{lon}<br>description=%{customdata[0]}<extra></extra>",
           "lat": [
            50.877160828051615,
            50.87649057167669,
            50.875850541602986,
            50.87448678827803,
            50.87409073433792
           ],
           "legendgroup": "",
           "lon": [
            4.7006992525313445,
            4.700691639839767,
            4.700192168675618,
            4.699889625684066,
            4.700018371714718
           ],
           "marker": {
            "color": "#636efa",
            "size": [
             6,
             1,
             2,
             1,
             4
            ],
            "sizemode": "area",
            "sizeref": 0.1825
           },
           "mode": "markers",
           "name": "",
           "showlegend": false,
           "subplot": "mapbox",
           "type": "scattermapbox"
          }
         ],
         "name": "2022-10-15"
        },
        {
         "data": [
          {
           "customdata": [
            [
             "MP 01: Naamsestraat 35  Maxim"
            ],
            [
             "MP 02: Naamsestraat 57 Xior"
            ],
            [
             "MP 03: Naamsestraat 62 Taste"
            ],
            [
             "MP 05: Calvariekapel KU Leuven"
            ],
            [
             "MP 06: Parkstraat 2 La Filosovia"
            ]
           ],
           "hovertemplate": "ts_str=2022-10-16<br>Human voice - Shouting=%{marker.size}<br>latitude=%{lat}<br>longitude=%{lon}<br>description=%{customdata[0]}<extra></extra>",
           "lat": [
            50.877160828051615,
            50.87649057167669,
            50.875850541602986,
            50.87448678827803,
            50.87409073433792
           ],
           "legendgroup": "",
           "lon": [
            4.7006992525313445,
            4.700691639839767,
            4.700192168675618,
            4.699889625684066,
            4.700018371714718
           ],
           "marker": {
            "color": "#636efa",
            "size": [
             5,
             1,
             2,
             0,
             0
            ],
            "sizemode": "area",
            "sizeref": 0.1825
           },
           "mode": "markers",
           "name": "",
           "showlegend": false,
           "subplot": "mapbox",
           "type": "scattermapbox"
          }
         ],
         "name": "2022-10-16"
        },
        {
         "data": [
          {
           "customdata": [
            [
             "MP 01: Naamsestraat 35  Maxim"
            ],
            [
             "MP 02: Naamsestraat 57 Xior"
            ],
            [
             "MP 03: Naamsestraat 62 Taste"
            ],
            [
             "MP 05: Calvariekapel KU Leuven"
            ],
            [
             "MP 06: Parkstraat 2 La Filosovia"
            ]
           ],
           "hovertemplate": "ts_str=2022-10-17<br>Human voice - Shouting=%{marker.size}<br>latitude=%{lat}<br>longitude=%{lon}<br>description=%{customdata[0]}<extra></extra>",
           "lat": [
            50.877160828051615,
            50.87649057167669,
            50.875850541602986,
            50.87448678827803,
            50.87409073433792
           ],
           "legendgroup": "",
           "lon": [
            4.7006992525313445,
            4.700691639839767,
            4.700192168675618,
            4.699889625684066,
            4.700018371714718
           ],
           "marker": {
            "color": "#636efa",
            "size": [
             3,
             0,
             4,
             1,
             0
            ],
            "sizemode": "area",
            "sizeref": 0.1825
           },
           "mode": "markers",
           "name": "",
           "showlegend": false,
           "subplot": "mapbox",
           "type": "scattermapbox"
          }
         ],
         "name": "2022-10-17"
        },
        {
         "data": [
          {
           "customdata": [
            [
             "MP 01: Naamsestraat 35  Maxim"
            ],
            [
             "MP 02: Naamsestraat 57 Xior"
            ],
            [
             "MP 03: Naamsestraat 62 Taste"
            ],
            [
             "MP 05: Calvariekapel KU Leuven"
            ],
            [
             "MP 06: Parkstraat 2 La Filosovia"
            ],
            [
             "MP08bis - Vrijthof"
            ]
           ],
           "hovertemplate": "ts_str=2022-10-18<br>Human voice - Shouting=%{marker.size}<br>latitude=%{lat}<br>longitude=%{lon}<br>description=%{customdata[0]}<extra></extra>",
           "lat": [
            50.877160828051615,
            50.87649057167669,
            50.875850541602986,
            50.87448678827803,
            50.87409073433792,
            50.87890579999999
           ],
           "legendgroup": "",
           "lon": [
            4.7006992525313445,
            4.700691639839767,
            4.700192168675618,
            4.699889625684066,
            4.700018371714718,
            4.7011444846213415
           ],
           "marker": {
            "color": "#636efa",
            "size": [
             21,
             1,
             1,
             5,
             2,
             0
            ],
            "sizemode": "area",
            "sizeref": 0.1825
           },
           "mode": "markers",
           "name": "",
           "showlegend": false,
           "subplot": "mapbox",
           "type": "scattermapbox"
          }
         ],
         "name": "2022-10-18"
        },
        {
         "data": [
          {
           "customdata": [
            [
             "MP 01: Naamsestraat 35  Maxim"
            ],
            [
             "MP 02: Naamsestraat 57 Xior"
            ],
            [
             "MP 03: Naamsestraat 62 Taste"
            ],
            [
             "MP 05: Calvariekapel KU Leuven"
            ],
            [
             "MP 06: Parkstraat 2 La Filosovia"
            ]
           ],
           "hovertemplate": "ts_str=2022-10-19<br>Human voice - Shouting=%{marker.size}<br>latitude=%{lat}<br>longitude=%{lon}<br>description=%{customdata[0]}<extra></extra>",
           "lat": [
            50.877160828051615,
            50.87649057167669,
            50.875850541602986,
            50.87448678827803,
            50.87409073433792
           ],
           "legendgroup": "",
           "lon": [
            4.7006992525313445,
            4.700691639839767,
            4.700192168675618,
            4.699889625684066,
            4.700018371714718
           ],
           "marker": {
            "color": "#636efa",
            "size": [
             37,
             1,
             1,
             4,
             2
            ],
            "sizemode": "area",
            "sizeref": 0.1825
           },
           "mode": "markers",
           "name": "",
           "showlegend": false,
           "subplot": "mapbox",
           "type": "scattermapbox"
          }
         ],
         "name": "2022-10-19"
        },
        {
         "data": [
          {
           "customdata": [
            [
             "MP 01: Naamsestraat 35  Maxim"
            ],
            [
             "MP 02: Naamsestraat 57 Xior"
            ],
            [
             "MP 03: Naamsestraat 62 Taste"
            ],
            [
             "MP 05: Calvariekapel KU Leuven"
            ],
            [
             "MP 06: Parkstraat 2 La Filosovia"
            ],
            [
             "MP08bis - Vrijthof"
            ]
           ],
           "hovertemplate": "ts_str=2022-10-20<br>Human voice - Shouting=%{marker.size}<br>latitude=%{lat}<br>longitude=%{lon}<br>description=%{customdata[0]}<extra></extra>",
           "lat": [
            50.877160828051615,
            50.87649057167669,
            50.875850541602986,
            50.87448678827803,
            50.87409073433792,
            50.87890579999999
           ],
           "legendgroup": "",
           "lon": [
            4.7006992525313445,
            4.700691639839767,
            4.700192168675618,
            4.699889625684066,
            4.700018371714718,
            4.7011444846213415
           ],
           "marker": {
            "color": "#636efa",
            "size": [
             39,
             2,
             2,
             6,
             1,
             0
            ],
            "sizemode": "area",
            "sizeref": 0.1825
           },
           "mode": "markers",
           "name": "",
           "showlegend": false,
           "subplot": "mapbox",
           "type": "scattermapbox"
          }
         ],
         "name": "2022-10-20"
        },
        {
         "data": [
          {
           "customdata": [
            [
             "MP 01: Naamsestraat 35  Maxim"
            ],
            [
             "MP 02: Naamsestraat 57 Xior"
            ],
            [
             "MP 03: Naamsestraat 62 Taste"
            ],
            [
             "MP 05: Calvariekapel KU Leuven"
            ],
            [
             "MP 06: Parkstraat 2 La Filosovia"
            ],
            [
             "MP 07: Naamsestraat 81"
            ]
           ],
           "hovertemplate": "ts_str=2022-10-21<br>Human voice - Shouting=%{marker.size}<br>latitude=%{lat}<br>longitude=%{lon}<br>description=%{customdata[0]}<extra></extra>",
           "lat": [
            50.877160828051615,
            50.87649057167669,
            50.875850541602986,
            50.87448678827803,
            50.87409073433792,
            50.87381822269834
           ],
           "legendgroup": "",
           "lon": [
            4.7006992525313445,
            4.700691639839767,
            4.700192168675618,
            4.699889625684066,
            4.700018371714718,
            4.70010170607578
           ],
           "marker": {
            "color": "#636efa",
            "size": [
             45,
             7,
             2,
             11,
             7,
             0
            ],
            "sizemode": "area",
            "sizeref": 0.1825
           },
           "mode": "markers",
           "name": "",
           "showlegend": false,
           "subplot": "mapbox",
           "type": "scattermapbox"
          }
         ],
         "name": "2022-10-21"
        },
        {
         "data": [
          {
           "customdata": [
            [
             "MP 01: Naamsestraat 35  Maxim"
            ],
            [
             "MP 02: Naamsestraat 57 Xior"
            ],
            [
             "MP 03: Naamsestraat 62 Taste"
            ],
            [
             "MP 05: Calvariekapel KU Leuven"
            ],
            [
             "MP 06: Parkstraat 2 La Filosovia"
            ],
            [
             "MP 07: Naamsestraat 81"
            ]
           ],
           "hovertemplate": "ts_str=2022-10-22<br>Human voice - Shouting=%{marker.size}<br>latitude=%{lat}<br>longitude=%{lon}<br>description=%{customdata[0]}<extra></extra>",
           "lat": [
            50.877160828051615,
            50.87649057167669,
            50.875850541602986,
            50.87448678827803,
            50.87409073433792,
            50.87381822269834
           ],
           "legendgroup": "",
           "lon": [
            4.7006992525313445,
            4.700691639839767,
            4.700192168675618,
            4.699889625684066,
            4.700018371714718,
            4.70010170607578
           ],
           "marker": {
            "color": "#636efa",
            "size": [
             5,
             1,
             1,
             4,
             0,
             0
            ],
            "sizemode": "area",
            "sizeref": 0.1825
           },
           "mode": "markers",
           "name": "",
           "showlegend": false,
           "subplot": "mapbox",
           "type": "scattermapbox"
          }
         ],
         "name": "2022-10-22"
        },
        {
         "data": [
          {
           "customdata": [
            [
             "MP 01: Naamsestraat 35  Maxim"
            ],
            [
             "MP 02: Naamsestraat 57 Xior"
            ],
            [
             "MP 03: Naamsestraat 62 Taste"
            ],
            [
             "MP 05: Calvariekapel KU Leuven"
            ],
            [
             "MP 06: Parkstraat 2 La Filosovia"
            ],
            [
             "MP 07: Naamsestraat 81"
            ],
            [
             "MP08bis - Vrijthof"
            ]
           ],
           "hovertemplate": "ts_str=2022-10-23<br>Human voice - Shouting=%{marker.size}<br>latitude=%{lat}<br>longitude=%{lon}<br>description=%{customdata[0]}<extra></extra>",
           "lat": [
            50.877160828051615,
            50.87649057167669,
            50.875850541602986,
            50.87448678827803,
            50.87409073433792,
            50.87381822269834,
            50.87890579999999
           ],
           "legendgroup": "",
           "lon": [
            4.7006992525313445,
            4.700691639839767,
            4.700192168675618,
            4.699889625684066,
            4.700018371714718,
            4.70010170607578,
            4.7011444846213415
           ],
           "marker": {
            "color": "#636efa",
            "size": [
             1,
             0,
             0,
             0,
             1,
             1,
             0
            ],
            "sizemode": "area",
            "sizeref": 0.1825
           },
           "mode": "markers",
           "name": "",
           "showlegend": false,
           "subplot": "mapbox",
           "type": "scattermapbox"
          }
         ],
         "name": "2022-10-23"
        },
        {
         "data": [
          {
           "customdata": [
            [
             "MP 01: Naamsestraat 35  Maxim"
            ],
            [
             "MP 02: Naamsestraat 57 Xior"
            ],
            [
             "MP 03: Naamsestraat 62 Taste"
            ],
            [
             "MP 05: Calvariekapel KU Leuven"
            ],
            [
             "MP 06: Parkstraat 2 La Filosovia"
            ],
            [
             "MP 07: Naamsestraat 81"
            ]
           ],
           "hovertemplate": "ts_str=2022-10-24<br>Human voice - Shouting=%{marker.size}<br>latitude=%{lat}<br>longitude=%{lon}<br>description=%{customdata[0]}<extra></extra>",
           "lat": [
            50.877160828051615,
            50.87649057167669,
            50.875850541602986,
            50.87448678827803,
            50.87409073433792,
            50.87381822269834
           ],
           "legendgroup": "",
           "lon": [
            4.7006992525313445,
            4.700691639839767,
            4.700192168675618,
            4.699889625684066,
            4.700018371714718,
            4.70010170607578
           ],
           "marker": {
            "color": "#636efa",
            "size": [
             10,
             0,
             0,
             4,
             0,
             1
            ],
            "sizemode": "area",
            "sizeref": 0.1825
           },
           "mode": "markers",
           "name": "",
           "showlegend": false,
           "subplot": "mapbox",
           "type": "scattermapbox"
          }
         ],
         "name": "2022-10-24"
        },
        {
         "data": [
          {
           "customdata": [
            [
             "MP 01: Naamsestraat 35  Maxim"
            ],
            [
             "MP 02: Naamsestraat 57 Xior"
            ],
            [
             "MP 03: Naamsestraat 62 Taste"
            ],
            [
             "MP 05: Calvariekapel KU Leuven"
            ],
            [
             "MP 06: Parkstraat 2 La Filosovia"
            ],
            [
             "MP 07: Naamsestraat 81"
            ]
           ],
           "hovertemplate": "ts_str=2022-10-25<br>Human voice - Shouting=%{marker.size}<br>latitude=%{lat}<br>longitude=%{lon}<br>description=%{customdata[0]}<extra></extra>",
           "lat": [
            50.877160828051615,
            50.87649057167669,
            50.875850541602986,
            50.87448678827803,
            50.87409073433792,
            50.87381822269834
           ],
           "legendgroup": "",
           "lon": [
            4.7006992525313445,
            4.700691639839767,
            4.700192168675618,
            4.699889625684066,
            4.700018371714718,
            4.70010170607578
           ],
           "marker": {
            "color": "#636efa",
            "size": [
             10,
             0,
             5,
             6,
             3,
             1
            ],
            "sizemode": "area",
            "sizeref": 0.1825
           },
           "mode": "markers",
           "name": "",
           "showlegend": false,
           "subplot": "mapbox",
           "type": "scattermapbox"
          }
         ],
         "name": "2022-10-25"
        },
        {
         "data": [
          {
           "customdata": [
            [
             "MP 01: Naamsestraat 35  Maxim"
            ],
            [
             "MP 02: Naamsestraat 57 Xior"
            ],
            [
             "MP 03: Naamsestraat 62 Taste"
            ],
            [
             "MP 05: Calvariekapel KU Leuven"
            ],
            [
             "MP 06: Parkstraat 2 La Filosovia"
            ],
            [
             "MP 07: Naamsestraat 81"
            ]
           ],
           "hovertemplate": "ts_str=2022-11-02<br>Human voice - Shouting=%{marker.size}<br>latitude=%{lat}<br>longitude=%{lon}<br>description=%{customdata[0]}<extra></extra>",
           "lat": [
            50.877160828051615,
            50.87649057167669,
            50.875850541602986,
            50.87448678827803,
            50.87409073433792,
            50.87381822269834
           ],
           "legendgroup": "",
           "lon": [
            4.7006992525313445,
            4.700691639839767,
            4.700192168675618,
            4.699889625684066,
            4.700018371714718,
            4.70010170607578
           ],
           "marker": {
            "color": "#636efa",
            "size": [
             3,
             0,
             1,
             2,
             0,
             0
            ],
            "sizemode": "area",
            "sizeref": 0.1825
           },
           "mode": "markers",
           "name": "",
           "showlegend": false,
           "subplot": "mapbox",
           "type": "scattermapbox"
          }
         ],
         "name": "2022-11-02"
        },
        {
         "data": [
          {
           "customdata": [
            [
             "MP 01: Naamsestraat 35  Maxim"
            ],
            [
             "MP 02: Naamsestraat 57 Xior"
            ],
            [
             "MP 03: Naamsestraat 62 Taste"
            ],
            [
             "MP 05: Calvariekapel KU Leuven"
            ],
            [
             "MP 06: Parkstraat 2 La Filosovia"
            ],
            [
             "MP 07: Naamsestraat 81"
            ]
           ],
           "hovertemplate": "ts_str=2022-11-03<br>Human voice - Shouting=%{marker.size}<br>latitude=%{lat}<br>longitude=%{lon}<br>description=%{customdata[0]}<extra></extra>",
           "lat": [
            50.877160828051615,
            50.87649057167669,
            50.875850541602986,
            50.87448678827803,
            50.87409073433792,
            50.87381822269834
           ],
           "legendgroup": "",
           "lon": [
            4.7006992525313445,
            4.700691639839767,
            4.700192168675618,
            4.699889625684066,
            4.700018371714718,
            4.70010170607578
           ],
           "marker": {
            "color": "#636efa",
            "size": [
             31,
             13,
             5,
             4,
             0,
             2
            ],
            "sizemode": "area",
            "sizeref": 0.1825
           },
           "mode": "markers",
           "name": "",
           "showlegend": false,
           "subplot": "mapbox",
           "type": "scattermapbox"
          }
         ],
         "name": "2022-11-03"
        },
        {
         "data": [
          {
           "customdata": [
            [
             "MP 01: Naamsestraat 35  Maxim"
            ],
            [
             "MP 02: Naamsestraat 57 Xior"
            ],
            [
             "MP 03: Naamsestraat 62 Taste"
            ],
            [
             "MP 05: Calvariekapel KU Leuven"
            ],
            [
             "MP 06: Parkstraat 2 La Filosovia"
            ],
            [
             "MP 07: Naamsestraat 81"
            ]
           ],
           "hovertemplate": "ts_str=2022-11-04<br>Human voice - Shouting=%{marker.size}<br>latitude=%{lat}<br>longitude=%{lon}<br>description=%{customdata[0]}<extra></extra>",
           "lat": [
            50.877160828051615,
            50.87649057167669,
            50.875850541602986,
            50.87448678827803,
            50.87409073433792,
            50.87381822269834
           ],
           "legendgroup": "",
           "lon": [
            4.7006992525313445,
            4.700691639839767,
            4.700192168675618,
            4.699889625684066,
            4.700018371714718,
            4.70010170607578
           ],
           "marker": {
            "color": "#636efa",
            "size": [
             32,
             1,
             0,
             5,
             1,
             26
            ],
            "sizemode": "area",
            "sizeref": 0.1825
           },
           "mode": "markers",
           "name": "",
           "showlegend": false,
           "subplot": "mapbox",
           "type": "scattermapbox"
          }
         ],
         "name": "2022-11-04"
        },
        {
         "data": [
          {
           "customdata": [
            [
             "MP 01: Naamsestraat 35  Maxim"
            ],
            [
             "MP 02: Naamsestraat 57 Xior"
            ],
            [
             "MP 03: Naamsestraat 62 Taste"
            ],
            [
             "MP 05: Calvariekapel KU Leuven"
            ],
            [
             "MP 06: Parkstraat 2 La Filosovia"
            ],
            [
             "MP 07: Naamsestraat 81"
            ]
           ],
           "hovertemplate": "ts_str=2022-11-05<br>Human voice - Shouting=%{marker.size}<br>latitude=%{lat}<br>longitude=%{lon}<br>description=%{customdata[0]}<extra></extra>",
           "lat": [
            50.877160828051615,
            50.87649057167669,
            50.875850541602986,
            50.87448678827803,
            50.87409073433792,
            50.87381822269834
           ],
           "legendgroup": "",
           "lon": [
            4.7006992525313445,
            4.700691639839767,
            4.700192168675618,
            4.699889625684066,
            4.700018371714718,
            4.70010170607578
           ],
           "marker": {
            "color": "#636efa",
            "size": [
             8,
             2,
             2,
             3,
             0,
             3
            ],
            "sizemode": "area",
            "sizeref": 0.1825
           },
           "mode": "markers",
           "name": "",
           "showlegend": false,
           "subplot": "mapbox",
           "type": "scattermapbox"
          }
         ],
         "name": "2022-11-05"
        },
        {
         "data": [
          {
           "customdata": [
            [
             "MP 01: Naamsestraat 35  Maxim"
            ],
            [
             "MP 02: Naamsestraat 57 Xior"
            ],
            [
             "MP 03: Naamsestraat 62 Taste"
            ],
            [
             "MP 05: Calvariekapel KU Leuven"
            ],
            [
             "MP 06: Parkstraat 2 La Filosovia"
            ],
            [
             "MP 07: Naamsestraat 81"
            ]
           ],
           "hovertemplate": "ts_str=2022-11-06<br>Human voice - Shouting=%{marker.size}<br>latitude=%{lat}<br>longitude=%{lon}<br>description=%{customdata[0]}<extra></extra>",
           "lat": [
            50.877160828051615,
            50.87649057167669,
            50.875850541602986,
            50.87448678827803,
            50.87409073433792,
            50.87381822269834
           ],
           "legendgroup": "",
           "lon": [
            4.7006992525313445,
            4.700691639839767,
            4.700192168675618,
            4.699889625684066,
            4.700018371714718,
            4.70010170607578
           ],
           "marker": {
            "color": "#636efa",
            "size": [
             3,
             2,
             0,
             2,
             0,
             0
            ],
            "sizemode": "area",
            "sizeref": 0.1825
           },
           "mode": "markers",
           "name": "",
           "showlegend": false,
           "subplot": "mapbox",
           "type": "scattermapbox"
          }
         ],
         "name": "2022-11-06"
        },
        {
         "data": [
          {
           "customdata": [
            [
             "MP 01: Naamsestraat 35  Maxim"
            ],
            [
             "MP 02: Naamsestraat 57 Xior"
            ],
            [
             "MP 03: Naamsestraat 62 Taste"
            ],
            [
             "MP 05: Calvariekapel KU Leuven"
            ],
            [
             "MP 06: Parkstraat 2 La Filosovia"
            ],
            [
             "MP 07: Naamsestraat 81"
            ]
           ],
           "hovertemplate": "ts_str=2022-11-07<br>Human voice - Shouting=%{marker.size}<br>latitude=%{lat}<br>longitude=%{lon}<br>description=%{customdata[0]}<extra></extra>",
           "lat": [
            50.877160828051615,
            50.87649057167669,
            50.875850541602986,
            50.87448678827803,
            50.87409073433792,
            50.87381822269834
           ],
           "legendgroup": "",
           "lon": [
            4.7006992525313445,
            4.700691639839767,
            4.700192168675618,
            4.699889625684066,
            4.700018371714718,
            4.70010170607578
           ],
           "marker": {
            "color": "#636efa",
            "size": [
             12,
             1,
             1,
             2,
             0,
             0
            ],
            "sizemode": "area",
            "sizeref": 0.1825
           },
           "mode": "markers",
           "name": "",
           "showlegend": false,
           "subplot": "mapbox",
           "type": "scattermapbox"
          }
         ],
         "name": "2022-11-07"
        },
        {
         "data": [
          {
           "customdata": [
            [
             "MP 01: Naamsestraat 35  Maxim"
            ],
            [
             "MP 02: Naamsestraat 57 Xior"
            ],
            [
             "MP 03: Naamsestraat 62 Taste"
            ],
            [
             "MP 05: Calvariekapel KU Leuven"
            ],
            [
             "MP 06: Parkstraat 2 La Filosovia"
            ],
            [
             "MP 07: Naamsestraat 81"
            ]
           ],
           "hovertemplate": "ts_str=2022-11-08<br>Human voice - Shouting=%{marker.size}<br>latitude=%{lat}<br>longitude=%{lon}<br>description=%{customdata[0]}<extra></extra>",
           "lat": [
            50.877160828051615,
            50.87649057167669,
            50.875850541602986,
            50.87448678827803,
            50.87409073433792,
            50.87381822269834
           ],
           "legendgroup": "",
           "lon": [
            4.7006992525313445,
            4.700691639839767,
            4.700192168675618,
            4.699889625684066,
            4.700018371714718,
            4.70010170607578
           ],
           "marker": {
            "color": "#636efa",
            "size": [
             14,
             1,
             0,
             5,
             0,
             0
            ],
            "sizemode": "area",
            "sizeref": 0.1825
           },
           "mode": "markers",
           "name": "",
           "showlegend": false,
           "subplot": "mapbox",
           "type": "scattermapbox"
          }
         ],
         "name": "2022-11-08"
        },
        {
         "data": [
          {
           "customdata": [
            [
             "MP 01: Naamsestraat 35  Maxim"
            ],
            [
             "MP 02: Naamsestraat 57 Xior"
            ],
            [
             "MP 03: Naamsestraat 62 Taste"
            ],
            [
             "MP 05: Calvariekapel KU Leuven"
            ],
            [
             "MP 06: Parkstraat 2 La Filosovia"
            ],
            [
             "MP 07: Naamsestraat 81"
            ]
           ],
           "hovertemplate": "ts_str=2022-11-09<br>Human voice - Shouting=%{marker.size}<br>latitude=%{lat}<br>longitude=%{lon}<br>description=%{customdata[0]}<extra></extra>",
           "lat": [
            50.877160828051615,
            50.87649057167669,
            50.875850541602986,
            50.87448678827803,
            50.87409073433792,
            50.87381822269834
           ],
           "legendgroup": "",
           "lon": [
            4.7006992525313445,
            4.700691639839767,
            4.700192168675618,
            4.699889625684066,
            4.700018371714718,
            4.70010170607578
           ],
           "marker": {
            "color": "#636efa",
            "size": [
             21,
             3,
             1,
             4,
             0,
             0
            ],
            "sizemode": "area",
            "sizeref": 0.1825
           },
           "mode": "markers",
           "name": "",
           "showlegend": false,
           "subplot": "mapbox",
           "type": "scattermapbox"
          }
         ],
         "name": "2022-11-09"
        },
        {
         "data": [
          {
           "customdata": [
            [
             "MP 01: Naamsestraat 35  Maxim"
            ],
            [
             "MP 02: Naamsestraat 57 Xior"
            ],
            [
             "MP 03: Naamsestraat 62 Taste"
            ],
            [
             "MP 05: Calvariekapel KU Leuven"
            ],
            [
             "MP 06: Parkstraat 2 La Filosovia"
            ],
            [
             "MP 07: Naamsestraat 81"
            ],
            [
             "MP08bis - Vrijthof"
            ]
           ],
           "hovertemplate": "ts_str=2022-11-10<br>Human voice - Shouting=%{marker.size}<br>latitude=%{lat}<br>longitude=%{lon}<br>description=%{customdata[0]}<extra></extra>",
           "lat": [
            50.877160828051615,
            50.87649057167669,
            50.875850541602986,
            50.87448678827803,
            50.87409073433792,
            50.87381822269834,
            50.87890579999999
           ],
           "legendgroup": "",
           "lon": [
            4.7006992525313445,
            4.700691639839767,
            4.700192168675618,
            4.699889625684066,
            4.700018371714718,
            4.70010170607578,
            4.7011444846213415
           ],
           "marker": {
            "color": "#636efa",
            "size": [
             15,
             1,
             1,
             3,
             1,
             3,
             0
            ],
            "sizemode": "area",
            "sizeref": 0.1825
           },
           "mode": "markers",
           "name": "",
           "showlegend": false,
           "subplot": "mapbox",
           "type": "scattermapbox"
          }
         ],
         "name": "2022-11-10"
        },
        {
         "data": [
          {
           "customdata": [
            [
             "MP 01: Naamsestraat 35  Maxim"
            ],
            [
             "MP 02: Naamsestraat 57 Xior"
            ],
            [
             "MP 03: Naamsestraat 62 Taste"
            ],
            [
             "MP 05: Calvariekapel KU Leuven"
            ],
            [
             "MP 06: Parkstraat 2 La Filosovia"
            ],
            [
             "MP 07: Naamsestraat 81"
            ]
           ],
           "hovertemplate": "ts_str=2022-11-23<br>Human voice - Shouting=%{marker.size}<br>latitude=%{lat}<br>longitude=%{lon}<br>description=%{customdata[0]}<extra></extra>",
           "lat": [
            50.877160828051615,
            50.87649057167669,
            50.875850541602986,
            50.87448678827803,
            50.87409073433792,
            50.87381822269834
           ],
           "legendgroup": "",
           "lon": [
            4.7006992525313445,
            4.700691639839767,
            4.700192168675618,
            4.699889625684066,
            4.700018371714718,
            4.70010170607578
           ],
           "marker": {
            "color": "#636efa",
            "size": [
             12,
             2,
             2,
             3,
             1,
             1
            ],
            "sizemode": "area",
            "sizeref": 0.1825
           },
           "mode": "markers",
           "name": "",
           "showlegend": false,
           "subplot": "mapbox",
           "type": "scattermapbox"
          }
         ],
         "name": "2022-11-23"
        },
        {
         "data": [
          {
           "customdata": [
            [
             "MP 01: Naamsestraat 35  Maxim"
            ],
            [
             "MP 02: Naamsestraat 57 Xior"
            ],
            [
             "MP 03: Naamsestraat 62 Taste"
            ],
            [
             "MP 05: Calvariekapel KU Leuven"
            ],
            [
             "MP 06: Parkstraat 2 La Filosovia"
            ],
            [
             "MP 07: Naamsestraat 81"
            ]
           ],
           "hovertemplate": "ts_str=2022-11-24<br>Human voice - Shouting=%{marker.size}<br>latitude=%{lat}<br>longitude=%{lon}<br>description=%{customdata[0]}<extra></extra>",
           "lat": [
            50.877160828051615,
            50.87649057167669,
            50.875850541602986,
            50.87448678827803,
            50.87409073433792,
            50.87381822269834
           ],
           "legendgroup": "",
           "lon": [
            4.7006992525313445,
            4.700691639839767,
            4.700192168675618,
            4.699889625684066,
            4.700018371714718,
            4.70010170607578
           ],
           "marker": {
            "color": "#636efa",
            "size": [
             46,
             2,
             5,
             7,
             2,
             0
            ],
            "sizemode": "area",
            "sizeref": 0.1825
           },
           "mode": "markers",
           "name": "",
           "showlegend": false,
           "subplot": "mapbox",
           "type": "scattermapbox"
          }
         ],
         "name": "2022-11-24"
        },
        {
         "data": [
          {
           "customdata": [
            [
             "MP 01: Naamsestraat 35  Maxim"
            ],
            [
             "MP 02: Naamsestraat 57 Xior"
            ],
            [
             "MP 03: Naamsestraat 62 Taste"
            ],
            [
             "MP 05: Calvariekapel KU Leuven"
            ],
            [
             "MP 06: Parkstraat 2 La Filosovia"
            ],
            [
             "MP 07: Naamsestraat 81"
            ],
            [
             "MP08bis - Vrijthof"
            ]
           ],
           "hovertemplate": "ts_str=2022-11-25<br>Human voice - Shouting=%{marker.size}<br>latitude=%{lat}<br>longitude=%{lon}<br>description=%{customdata[0]}<extra></extra>",
           "lat": [
            50.877160828051615,
            50.87649057167669,
            50.875850541602986,
            50.87448678827803,
            50.87409073433792,
            50.87381822269834,
            50.87890579999999
           ],
           "legendgroup": "",
           "lon": [
            4.7006992525313445,
            4.700691639839767,
            4.700192168675618,
            4.699889625684066,
            4.700018371714718,
            4.70010170607578,
            4.7011444846213415
           ],
           "marker": {
            "color": "#636efa",
            "size": [
             27,
             1,
             5,
             4,
             1,
             7,
             0
            ],
            "sizemode": "area",
            "sizeref": 0.1825
           },
           "mode": "markers",
           "name": "",
           "showlegend": false,
           "subplot": "mapbox",
           "type": "scattermapbox"
          }
         ],
         "name": "2022-11-25"
        },
        {
         "data": [
          {
           "customdata": [
            [
             "MP 01: Naamsestraat 35  Maxim"
            ],
            [
             "MP 02: Naamsestraat 57 Xior"
            ],
            [
             "MP 03: Naamsestraat 62 Taste"
            ],
            [
             "MP 05: Calvariekapel KU Leuven"
            ],
            [
             "MP 06: Parkstraat 2 La Filosovia"
            ],
            [
             "MP 07: Naamsestraat 81"
            ],
            [
             "MP08bis - Vrijthof"
            ]
           ],
           "hovertemplate": "ts_str=2022-11-26<br>Human voice - Shouting=%{marker.size}<br>latitude=%{lat}<br>longitude=%{lon}<br>description=%{customdata[0]}<extra></extra>",
           "lat": [
            50.877160828051615,
            50.87649057167669,
            50.875850541602986,
            50.87448678827803,
            50.87409073433792,
            50.87381822269834,
            50.87890579999999
           ],
           "legendgroup": "",
           "lon": [
            4.7006992525313445,
            4.700691639839767,
            4.700192168675618,
            4.699889625684066,
            4.700018371714718,
            4.70010170607578,
            4.7011444846213415
           ],
           "marker": {
            "color": "#636efa",
            "size": [
             0,
             2,
             2,
             0,
             0,
             0,
             0
            ],
            "sizemode": "area",
            "sizeref": 0.1825
           },
           "mode": "markers",
           "name": "",
           "showlegend": false,
           "subplot": "mapbox",
           "type": "scattermapbox"
          }
         ],
         "name": "2022-11-26"
        },
        {
         "data": [
          {
           "customdata": [
            [
             "MP 01: Naamsestraat 35  Maxim"
            ],
            [
             "MP 02: Naamsestraat 57 Xior"
            ],
            [
             "MP 03: Naamsestraat 62 Taste"
            ],
            [
             "MP 05: Calvariekapel KU Leuven"
            ],
            [
             "MP 06: Parkstraat 2 La Filosovia"
            ],
            [
             "MP 07: Naamsestraat 81"
            ]
           ],
           "hovertemplate": "ts_str=2022-11-27<br>Human voice - Shouting=%{marker.size}<br>latitude=%{lat}<br>longitude=%{lon}<br>description=%{customdata[0]}<extra></extra>",
           "lat": [
            50.877160828051615,
            50.87649057167669,
            50.875850541602986,
            50.87448678827803,
            50.87409073433792,
            50.87381822269834
           ],
           "legendgroup": "",
           "lon": [
            4.7006992525313445,
            4.700691639839767,
            4.700192168675618,
            4.699889625684066,
            4.700018371714718,
            4.70010170607578
           ],
           "marker": {
            "color": "#636efa",
            "size": [
             0,
             0,
             1,
             0,
             0,
             0
            ],
            "sizemode": "area",
            "sizeref": 0.1825
           },
           "mode": "markers",
           "name": "",
           "showlegend": false,
           "subplot": "mapbox",
           "type": "scattermapbox"
          }
         ],
         "name": "2022-11-27"
        },
        {
         "data": [
          {
           "customdata": [
            [
             "MP 01: Naamsestraat 35  Maxim"
            ],
            [
             "MP 02: Naamsestraat 57 Xior"
            ],
            [
             "MP 03: Naamsestraat 62 Taste"
            ],
            [
             "MP 05: Calvariekapel KU Leuven"
            ],
            [
             "MP 06: Parkstraat 2 La Filosovia"
            ],
            [
             "MP 07: Naamsestraat 81"
            ],
            [
             "MP08bis - Vrijthof"
            ]
           ],
           "hovertemplate": "ts_str=2022-11-28<br>Human voice - Shouting=%{marker.size}<br>latitude=%{lat}<br>longitude=%{lon}<br>description=%{customdata[0]}<extra></extra>",
           "lat": [
            50.877160828051615,
            50.87649057167669,
            50.875850541602986,
            50.87448678827803,
            50.87409073433792,
            50.87381822269834,
            50.87890579999999
           ],
           "legendgroup": "",
           "lon": [
            4.7006992525313445,
            4.700691639839767,
            4.700192168675618,
            4.699889625684066,
            4.700018371714718,
            4.70010170607578,
            4.7011444846213415
           ],
           "marker": {
            "color": "#636efa",
            "size": [
             0,
             0,
             1,
             3,
             0,
             1,
             0
            ],
            "sizemode": "area",
            "sizeref": 0.1825
           },
           "mode": "markers",
           "name": "",
           "showlegend": false,
           "subplot": "mapbox",
           "type": "scattermapbox"
          }
         ],
         "name": "2022-11-28"
        },
        {
         "data": [
          {
           "customdata": [
            [
             "MP 01: Naamsestraat 35  Maxim"
            ],
            [
             "MP 02: Naamsestraat 57 Xior"
            ],
            [
             "MP 03: Naamsestraat 62 Taste"
            ],
            [
             "MP 05: Calvariekapel KU Leuven"
            ],
            [
             "MP 06: Parkstraat 2 La Filosovia"
            ],
            [
             "MP 07: Naamsestraat 81"
            ]
           ],
           "hovertemplate": "ts_str=2022-11-29<br>Human voice - Shouting=%{marker.size}<br>latitude=%{lat}<br>longitude=%{lon}<br>description=%{customdata[0]}<extra></extra>",
           "lat": [
            50.877160828051615,
            50.87649057167669,
            50.875850541602986,
            50.87448678827803,
            50.87409073433792,
            50.87381822269834
           ],
           "legendgroup": "",
           "lon": [
            4.7006992525313445,
            4.700691639839767,
            4.700192168675618,
            4.699889625684066,
            4.700018371714718,
            4.70010170607578
           ],
           "marker": {
            "color": "#636efa",
            "size": [
             7,
             1,
             1,
             6,
             0,
             2
            ],
            "sizemode": "area",
            "sizeref": 0.1825
           },
           "mode": "markers",
           "name": "",
           "showlegend": false,
           "subplot": "mapbox",
           "type": "scattermapbox"
          }
         ],
         "name": "2022-11-29"
        },
        {
         "data": [
          {
           "customdata": [
            [
             "MP 01: Naamsestraat 35  Maxim"
            ],
            [
             "MP 02: Naamsestraat 57 Xior"
            ],
            [
             "MP 03: Naamsestraat 62 Taste"
            ],
            [
             "MP 05: Calvariekapel KU Leuven"
            ],
            [
             "MP 06: Parkstraat 2 La Filosovia"
            ],
            [
             "MP 07: Naamsestraat 81"
            ]
           ],
           "hovertemplate": "ts_str=2022-11-30<br>Human voice - Shouting=%{marker.size}<br>latitude=%{lat}<br>longitude=%{lon}<br>description=%{customdata[0]}<extra></extra>",
           "lat": [
            50.877160828051615,
            50.87649057167669,
            50.875850541602986,
            50.87448678827803,
            50.87409073433792,
            50.87381822269834
           ],
           "legendgroup": "",
           "lon": [
            4.7006992525313445,
            4.700691639839767,
            4.700192168675618,
            4.699889625684066,
            4.700018371714718,
            4.70010170607578
           ],
           "marker": {
            "color": "#636efa",
            "size": [
             25,
             2,
             1,
             1,
             0,
             0
            ],
            "sizemode": "area",
            "sizeref": 0.1825
           },
           "mode": "markers",
           "name": "",
           "showlegend": false,
           "subplot": "mapbox",
           "type": "scattermapbox"
          }
         ],
         "name": "2022-11-30"
        },
        {
         "data": [
          {
           "customdata": [
            [
             "MP 01: Naamsestraat 35  Maxim"
            ],
            [
             "MP 02: Naamsestraat 57 Xior"
            ],
            [
             "MP 03: Naamsestraat 62 Taste"
            ],
            [
             "MP 05: Calvariekapel KU Leuven"
            ],
            [
             "MP 06: Parkstraat 2 La Filosovia"
            ],
            [
             "MP 07: Naamsestraat 81"
            ],
            [
             "MP08bis - Vrijthof"
            ]
           ],
           "hovertemplate": "ts_str=2022-12-01<br>Human voice - Shouting=%{marker.size}<br>latitude=%{lat}<br>longitude=%{lon}<br>description=%{customdata[0]}<extra></extra>",
           "lat": [
            50.877160828051615,
            50.87649057167669,
            50.875850541602986,
            50.87448678827803,
            50.87409073433792,
            50.87381822269834,
            50.87890579999999
           ],
           "legendgroup": "",
           "lon": [
            4.7006992525313445,
            4.700691639839767,
            4.700192168675618,
            4.699889625684066,
            4.700018371714718,
            4.70010170607578,
            4.7011444846213415
           ],
           "marker": {
            "color": "#636efa",
            "size": [
             37,
             4,
             0,
             7,
             1,
             1,
             0
            ],
            "sizemode": "area",
            "sizeref": 0.1825
           },
           "mode": "markers",
           "name": "",
           "showlegend": false,
           "subplot": "mapbox",
           "type": "scattermapbox"
          }
         ],
         "name": "2022-12-01"
        },
        {
         "data": [
          {
           "customdata": [
            [
             "MP 01: Naamsestraat 35  Maxim"
            ],
            [
             "MP 02: Naamsestraat 57 Xior"
            ],
            [
             "MP 03: Naamsestraat 62 Taste"
            ],
            [
             "MP 05: Calvariekapel KU Leuven"
            ],
            [
             "MP 06: Parkstraat 2 La Filosovia"
            ],
            [
             "MP 07: Naamsestraat 81"
            ]
           ],
           "hovertemplate": "ts_str=2022-12-02<br>Human voice - Shouting=%{marker.size}<br>latitude=%{lat}<br>longitude=%{lon}<br>description=%{customdata[0]}<extra></extra>",
           "lat": [
            50.877160828051615,
            50.87649057167669,
            50.875850541602986,
            50.87448678827803,
            50.87409073433792,
            50.87381822269834
           ],
           "legendgroup": "",
           "lon": [
            4.7006992525313445,
            4.700691639839767,
            4.700192168675618,
            4.699889625684066,
            4.700018371714718,
            4.70010170607578
           ],
           "marker": {
            "color": "#636efa",
            "size": [
             33,
             2,
             4,
             10,
             2,
             1
            ],
            "sizemode": "area",
            "sizeref": 0.1825
           },
           "mode": "markers",
           "name": "",
           "showlegend": false,
           "subplot": "mapbox",
           "type": "scattermapbox"
          }
         ],
         "name": "2022-12-02"
        },
        {
         "data": [
          {
           "customdata": [
            [
             "MP 01: Naamsestraat 35  Maxim"
            ],
            [
             "MP 02: Naamsestraat 57 Xior"
            ],
            [
             "MP 03: Naamsestraat 62 Taste"
            ],
            [
             "MP 05: Calvariekapel KU Leuven"
            ],
            [
             "MP 06: Parkstraat 2 La Filosovia"
            ],
            [
             "MP 07: Naamsestraat 81"
            ]
           ],
           "hovertemplate": "ts_str=2022-12-03<br>Human voice - Shouting=%{marker.size}<br>latitude=%{lat}<br>longitude=%{lon}<br>description=%{customdata[0]}<extra></extra>",
           "lat": [
            50.877160828051615,
            50.87649057167669,
            50.875850541602986,
            50.87448678827803,
            50.87409073433792,
            50.87381822269834
           ],
           "legendgroup": "",
           "lon": [
            4.7006992525313445,
            4.700691639839767,
            4.700192168675618,
            4.699889625684066,
            4.700018371714718,
            4.70010170607578
           ],
           "marker": {
            "color": "#636efa",
            "size": [
             6,
             1,
             0,
             2,
             0,
             0
            ],
            "sizemode": "area",
            "sizeref": 0.1825
           },
           "mode": "markers",
           "name": "",
           "showlegend": false,
           "subplot": "mapbox",
           "type": "scattermapbox"
          }
         ],
         "name": "2022-12-03"
        },
        {
         "data": [
          {
           "customdata": [
            [
             "MP 01: Naamsestraat 35  Maxim"
            ],
            [
             "MP 02: Naamsestraat 57 Xior"
            ],
            [
             "MP 03: Naamsestraat 62 Taste"
            ],
            [
             "MP 05: Calvariekapel KU Leuven"
            ],
            [
             "MP 06: Parkstraat 2 La Filosovia"
            ],
            [
             "MP 07: Naamsestraat 81"
            ]
           ],
           "hovertemplate": "ts_str=2022-12-04<br>Human voice - Shouting=%{marker.size}<br>latitude=%{lat}<br>longitude=%{lon}<br>description=%{customdata[0]}<extra></extra>",
           "lat": [
            50.877160828051615,
            50.87649057167669,
            50.875850541602986,
            50.87448678827803,
            50.87409073433792,
            50.87381822269834
           ],
           "legendgroup": "",
           "lon": [
            4.7006992525313445,
            4.700691639839767,
            4.700192168675618,
            4.699889625684066,
            4.700018371714718,
            4.70010170607578
           ],
           "marker": {
            "color": "#636efa",
            "size": [
             0,
             0,
             0,
             4,
             0,
             1
            ],
            "sizemode": "area",
            "sizeref": 0.1825
           },
           "mode": "markers",
           "name": "",
           "showlegend": false,
           "subplot": "mapbox",
           "type": "scattermapbox"
          }
         ],
         "name": "2022-12-04"
        },
        {
         "data": [
          {
           "customdata": [
            [
             "MP 01: Naamsestraat 35  Maxim"
            ],
            [
             "MP 02: Naamsestraat 57 Xior"
            ],
            [
             "MP 03: Naamsestraat 62 Taste"
            ],
            [
             "MP 05: Calvariekapel KU Leuven"
            ],
            [
             "MP 06: Parkstraat 2 La Filosovia"
            ],
            [
             "MP 07: Naamsestraat 81"
            ]
           ],
           "hovertemplate": "ts_str=2022-12-05<br>Human voice - Shouting=%{marker.size}<br>latitude=%{lat}<br>longitude=%{lon}<br>description=%{customdata[0]}<extra></extra>",
           "lat": [
            50.877160828051615,
            50.87649057167669,
            50.875850541602986,
            50.87448678827803,
            50.87409073433792,
            50.87381822269834
           ],
           "legendgroup": "",
           "lon": [
            4.7006992525313445,
            4.700691639839767,
            4.700192168675618,
            4.699889625684066,
            4.700018371714718,
            4.70010170607578
           ],
           "marker": {
            "color": "#636efa",
            "size": [
             1,
             1,
             3,
             4,
             0,
             1
            ],
            "sizemode": "area",
            "sizeref": 0.1825
           },
           "mode": "markers",
           "name": "",
           "showlegend": false,
           "subplot": "mapbox",
           "type": "scattermapbox"
          }
         ],
         "name": "2022-12-05"
        },
        {
         "data": [
          {
           "customdata": [
            [
             "MP 01: Naamsestraat 35  Maxim"
            ],
            [
             "MP 02: Naamsestraat 57 Xior"
            ],
            [
             "MP 03: Naamsestraat 62 Taste"
            ],
            [
             "MP 05: Calvariekapel KU Leuven"
            ],
            [
             "MP 06: Parkstraat 2 La Filosovia"
            ],
            [
             "MP 07: Naamsestraat 81"
            ]
           ],
           "hovertemplate": "ts_str=2022-12-06<br>Human voice - Shouting=%{marker.size}<br>latitude=%{lat}<br>longitude=%{lon}<br>description=%{customdata[0]}<extra></extra>",
           "lat": [
            50.877160828051615,
            50.87649057167669,
            50.875850541602986,
            50.87448678827803,
            50.87409073433792,
            50.87381822269834
           ],
           "legendgroup": "",
           "lon": [
            4.7006992525313445,
            4.700691639839767,
            4.700192168675618,
            4.699889625684066,
            4.700018371714718,
            4.70010170607578
           ],
           "marker": {
            "color": "#636efa",
            "size": [
             4,
             0,
             4,
             0,
             2,
             0
            ],
            "sizemode": "area",
            "sizeref": 0.1825
           },
           "mode": "markers",
           "name": "",
           "showlegend": false,
           "subplot": "mapbox",
           "type": "scattermapbox"
          }
         ],
         "name": "2022-12-06"
        },
        {
         "data": [
          {
           "customdata": [
            [
             "MP 01: Naamsestraat 35  Maxim"
            ],
            [
             "MP 02: Naamsestraat 57 Xior"
            ],
            [
             "MP 03: Naamsestraat 62 Taste"
            ],
            [
             "MP 05: Calvariekapel KU Leuven"
            ],
            [
             "MP 06: Parkstraat 2 La Filosovia"
            ],
            [
             "MP 07: Naamsestraat 81"
            ]
           ],
           "hovertemplate": "ts_str=2022-12-07<br>Human voice - Shouting=%{marker.size}<br>latitude=%{lat}<br>longitude=%{lon}<br>description=%{customdata[0]}<extra></extra>",
           "lat": [
            50.877160828051615,
            50.87649057167669,
            50.875850541602986,
            50.87448678827803,
            50.87409073433792,
            50.87381822269834
           ],
           "legendgroup": "",
           "lon": [
            4.7006992525313445,
            4.700691639839767,
            4.700192168675618,
            4.699889625684066,
            4.700018371714718,
            4.70010170607578
           ],
           "marker": {
            "color": "#636efa",
            "size": [
             5,
             0,
             0,
             2,
             1,
             0
            ],
            "sizemode": "area",
            "sizeref": 0.1825
           },
           "mode": "markers",
           "name": "",
           "showlegend": false,
           "subplot": "mapbox",
           "type": "scattermapbox"
          }
         ],
         "name": "2022-12-07"
        },
        {
         "data": [
          {
           "customdata": [
            [
             "MP 01: Naamsestraat 35  Maxim"
            ],
            [
             "MP 02: Naamsestraat 57 Xior"
            ],
            [
             "MP 03: Naamsestraat 62 Taste"
            ],
            [
             "MP 05: Calvariekapel KU Leuven"
            ],
            [
             "MP 06: Parkstraat 2 La Filosovia"
            ],
            [
             "MP 07: Naamsestraat 81"
            ]
           ],
           "hovertemplate": "ts_str=2022-12-08<br>Human voice - Shouting=%{marker.size}<br>latitude=%{lat}<br>longitude=%{lon}<br>description=%{customdata[0]}<extra></extra>",
           "lat": [
            50.877160828051615,
            50.87649057167669,
            50.875850541602986,
            50.87448678827803,
            50.87409073433792,
            50.87381822269834
           ],
           "legendgroup": "",
           "lon": [
            4.7006992525313445,
            4.700691639839767,
            4.700192168675618,
            4.699889625684066,
            4.700018371714718,
            4.70010170607578
           ],
           "marker": {
            "color": "#636efa",
            "size": [
             14,
             0,
             0,
             4,
             1,
             0
            ],
            "sizemode": "area",
            "sizeref": 0.1825
           },
           "mode": "markers",
           "name": "",
           "showlegend": false,
           "subplot": "mapbox",
           "type": "scattermapbox"
          }
         ],
         "name": "2022-12-08"
        },
        {
         "data": [
          {
           "customdata": [
            [
             "MP 01: Naamsestraat 35  Maxim"
            ],
            [
             "MP 02: Naamsestraat 57 Xior"
            ],
            [
             "MP 03: Naamsestraat 62 Taste"
            ],
            [
             "MP 05: Calvariekapel KU Leuven"
            ],
            [
             "MP 06: Parkstraat 2 La Filosovia"
            ],
            [
             "MP 07: Naamsestraat 81"
            ]
           ],
           "hovertemplate": "ts_str=2022-12-09<br>Human voice - Shouting=%{marker.size}<br>latitude=%{lat}<br>longitude=%{lon}<br>description=%{customdata[0]}<extra></extra>",
           "lat": [
            50.877160828051615,
            50.87649057167669,
            50.875850541602986,
            50.87448678827803,
            50.87409073433792,
            50.87381822269834
           ],
           "legendgroup": "",
           "lon": [
            4.7006992525313445,
            4.700691639839767,
            4.700192168675618,
            4.699889625684066,
            4.700018371714718,
            4.70010170607578
           ],
           "marker": {
            "color": "#636efa",
            "size": [
             18,
             4,
             5,
             7,
             3,
             2
            ],
            "sizemode": "area",
            "sizeref": 0.1825
           },
           "mode": "markers",
           "name": "",
           "showlegend": false,
           "subplot": "mapbox",
           "type": "scattermapbox"
          }
         ],
         "name": "2022-12-09"
        },
        {
         "data": [
          {
           "customdata": [
            [
             "MP 01: Naamsestraat 35  Maxim"
            ],
            [
             "MP 02: Naamsestraat 57 Xior"
            ],
            [
             "MP 03: Naamsestraat 62 Taste"
            ],
            [
             "MP 05: Calvariekapel KU Leuven"
            ],
            [
             "MP 06: Parkstraat 2 La Filosovia"
            ],
            [
             "MP 07: Naamsestraat 81"
            ]
           ],
           "hovertemplate": "ts_str=2022-12-10<br>Human voice - Shouting=%{marker.size}<br>latitude=%{lat}<br>longitude=%{lon}<br>description=%{customdata[0]}<extra></extra>",
           "lat": [
            50.877160828051615,
            50.87649057167669,
            50.875850541602986,
            50.87448678827803,
            50.87409073433792,
            50.87381822269834
           ],
           "legendgroup": "",
           "lon": [
            4.7006992525313445,
            4.700691639839767,
            4.700192168675618,
            4.699889625684066,
            4.700018371714718,
            4.70010170607578
           ],
           "marker": {
            "color": "#636efa",
            "size": [
             20,
             0,
             0,
             1,
             1,
             0
            ],
            "sizemode": "area",
            "sizeref": 0.1825
           },
           "mode": "markers",
           "name": "",
           "showlegend": false,
           "subplot": "mapbox",
           "type": "scattermapbox"
          }
         ],
         "name": "2022-12-10"
        },
        {
         "data": [
          {
           "customdata": [
            [
             "MP 01: Naamsestraat 35  Maxim"
            ],
            [
             "MP 02: Naamsestraat 57 Xior"
            ],
            [
             "MP 03: Naamsestraat 62 Taste"
            ],
            [
             "MP 05: Calvariekapel KU Leuven"
            ],
            [
             "MP 06: Parkstraat 2 La Filosovia"
            ],
            [
             "MP 07: Naamsestraat 81"
            ]
           ],
           "hovertemplate": "ts_str=2022-12-11<br>Human voice - Shouting=%{marker.size}<br>latitude=%{lat}<br>longitude=%{lon}<br>description=%{customdata[0]}<extra></extra>",
           "lat": [
            50.877160828051615,
            50.87649057167669,
            50.875850541602986,
            50.87448678827803,
            50.87409073433792,
            50.87381822269834
           ],
           "legendgroup": "",
           "lon": [
            4.7006992525313445,
            4.700691639839767,
            4.700192168675618,
            4.699889625684066,
            4.700018371714718,
            4.70010170607578
           ],
           "marker": {
            "color": "#636efa",
            "size": [
             0,
             0,
             0,
             0,
             0,
             1
            ],
            "sizemode": "area",
            "sizeref": 0.1825
           },
           "mode": "markers",
           "name": "",
           "showlegend": false,
           "subplot": "mapbox",
           "type": "scattermapbox"
          }
         ],
         "name": "2022-12-11"
        },
        {
         "data": [
          {
           "customdata": [
            [
             "MP 01: Naamsestraat 35  Maxim"
            ],
            [
             "MP 02: Naamsestraat 57 Xior"
            ],
            [
             "MP 03: Naamsestraat 62 Taste"
            ],
            [
             "MP 05: Calvariekapel KU Leuven"
            ],
            [
             "MP 06: Parkstraat 2 La Filosovia"
            ],
            [
             "MP 07: Naamsestraat 81"
            ]
           ],
           "hovertemplate": "ts_str=2022-12-12<br>Human voice - Shouting=%{marker.size}<br>latitude=%{lat}<br>longitude=%{lon}<br>description=%{customdata[0]}<extra></extra>",
           "lat": [
            50.877160828051615,
            50.87649057167669,
            50.875850541602986,
            50.87448678827803,
            50.87409073433792,
            50.87381822269834
           ],
           "legendgroup": "",
           "lon": [
            4.7006992525313445,
            4.700691639839767,
            4.700192168675618,
            4.699889625684066,
            4.700018371714718,
            4.70010170607578
           ],
           "marker": {
            "color": "#636efa",
            "size": [
             12,
             2,
             0,
             1,
             0,
             0
            ],
            "sizemode": "area",
            "sizeref": 0.1825
           },
           "mode": "markers",
           "name": "",
           "showlegend": false,
           "subplot": "mapbox",
           "type": "scattermapbox"
          }
         ],
         "name": "2022-12-12"
        },
        {
         "data": [
          {
           "customdata": [
            [
             "MP 01: Naamsestraat 35  Maxim"
            ],
            [
             "MP 02: Naamsestraat 57 Xior"
            ],
            [
             "MP 03: Naamsestraat 62 Taste"
            ],
            [
             "MP 05: Calvariekapel KU Leuven"
            ],
            [
             "MP 06: Parkstraat 2 La Filosovia"
            ],
            [
             "MP 07: Naamsestraat 81"
            ]
           ],
           "hovertemplate": "ts_str=2022-12-13<br>Human voice - Shouting=%{marker.size}<br>latitude=%{lat}<br>longitude=%{lon}<br>description=%{customdata[0]}<extra></extra>",
           "lat": [
            50.877160828051615,
            50.87649057167669,
            50.875850541602986,
            50.87448678827803,
            50.87409073433792,
            50.87381822269834
           ],
           "legendgroup": "",
           "lon": [
            4.7006992525313445,
            4.700691639839767,
            4.700192168675618,
            4.699889625684066,
            4.700018371714718,
            4.70010170607578
           ],
           "marker": {
            "color": "#636efa",
            "size": [
             2,
             0,
             1,
             2,
             3,
             0
            ],
            "sizemode": "area",
            "sizeref": 0.1825
           },
           "mode": "markers",
           "name": "",
           "showlegend": false,
           "subplot": "mapbox",
           "type": "scattermapbox"
          }
         ],
         "name": "2022-12-13"
        },
        {
         "data": [
          {
           "customdata": [
            [
             "MP 01: Naamsestraat 35  Maxim"
            ],
            [
             "MP 02: Naamsestraat 57 Xior"
            ],
            [
             "MP 03: Naamsestraat 62 Taste"
            ],
            [
             "MP 05: Calvariekapel KU Leuven"
            ],
            [
             "MP 06: Parkstraat 2 La Filosovia"
            ],
            [
             "MP 07: Naamsestraat 81"
            ]
           ],
           "hovertemplate": "ts_str=2022-12-14<br>Human voice - Shouting=%{marker.size}<br>latitude=%{lat}<br>longitude=%{lon}<br>description=%{customdata[0]}<extra></extra>",
           "lat": [
            50.877160828051615,
            50.87649057167669,
            50.875850541602986,
            50.87448678827803,
            50.87409073433792,
            50.87381822269834
           ],
           "legendgroup": "",
           "lon": [
            4.7006992525313445,
            4.700691639839767,
            4.700192168675618,
            4.699889625684066,
            4.700018371714718,
            4.70010170607578
           ],
           "marker": {
            "color": "#636efa",
            "size": [
             8,
             1,
             2,
             1,
             0,
             0
            ],
            "sizemode": "area",
            "sizeref": 0.1825
           },
           "mode": "markers",
           "name": "",
           "showlegend": false,
           "subplot": "mapbox",
           "type": "scattermapbox"
          }
         ],
         "name": "2022-12-14"
        },
        {
         "data": [
          {
           "customdata": [
            [
             "MP 01: Naamsestraat 35  Maxim"
            ],
            [
             "MP 02: Naamsestraat 57 Xior"
            ],
            [
             "MP 03: Naamsestraat 62 Taste"
            ],
            [
             "MP 05: Calvariekapel KU Leuven"
            ],
            [
             "MP 06: Parkstraat 2 La Filosovia"
            ],
            [
             "MP 07: Naamsestraat 81"
            ]
           ],
           "hovertemplate": "ts_str=2022-12-15<br>Human voice - Shouting=%{marker.size}<br>latitude=%{lat}<br>longitude=%{lon}<br>description=%{customdata[0]}<extra></extra>",
           "lat": [
            50.877160828051615,
            50.87649057167669,
            50.875850541602986,
            50.87448678827803,
            50.87409073433792,
            50.87381822269834
           ],
           "legendgroup": "",
           "lon": [
            4.7006992525313445,
            4.700691639839767,
            4.700192168675618,
            4.699889625684066,
            4.700018371714718,
            4.70010170607578
           ],
           "marker": {
            "color": "#636efa",
            "size": [
             18,
             0,
             1,
             0,
             1,
             1
            ],
            "sizemode": "area",
            "sizeref": 0.1825
           },
           "mode": "markers",
           "name": "",
           "showlegend": false,
           "subplot": "mapbox",
           "type": "scattermapbox"
          }
         ],
         "name": "2022-12-15"
        },
        {
         "data": [
          {
           "customdata": [
            [
             "MP 01: Naamsestraat 35  Maxim"
            ],
            [
             "MP 02: Naamsestraat 57 Xior"
            ],
            [
             "MP 03: Naamsestraat 62 Taste"
            ],
            [
             "MP 05: Calvariekapel KU Leuven"
            ],
            [
             "MP 06: Parkstraat 2 La Filosovia"
            ],
            [
             "MP 07: Naamsestraat 81"
            ]
           ],
           "hovertemplate": "ts_str=2022-12-16<br>Human voice - Shouting=%{marker.size}<br>latitude=%{lat}<br>longitude=%{lon}<br>description=%{customdata[0]}<extra></extra>",
           "lat": [
            50.877160828051615,
            50.87649057167669,
            50.875850541602986,
            50.87448678827803,
            50.87409073433792,
            50.87381822269834
           ],
           "legendgroup": "",
           "lon": [
            4.7006992525313445,
            4.700691639839767,
            4.700192168675618,
            4.699889625684066,
            4.700018371714718,
            4.70010170607578
           ],
           "marker": {
            "color": "#636efa",
            "size": [
             13,
             3,
             2,
             2,
             1,
             1
            ],
            "sizemode": "area",
            "sizeref": 0.1825
           },
           "mode": "markers",
           "name": "",
           "showlegend": false,
           "subplot": "mapbox",
           "type": "scattermapbox"
          }
         ],
         "name": "2022-12-16"
        },
        {
         "data": [
          {
           "customdata": [
            [
             "MP 01: Naamsestraat 35  Maxim"
            ],
            [
             "MP 02: Naamsestraat 57 Xior"
            ],
            [
             "MP 03: Naamsestraat 62 Taste"
            ],
            [
             "MP 05: Calvariekapel KU Leuven"
            ],
            [
             "MP 06: Parkstraat 2 La Filosovia"
            ],
            [
             "MP 07: Naamsestraat 81"
            ]
           ],
           "hovertemplate": "ts_str=2022-12-17<br>Human voice - Shouting=%{marker.size}<br>latitude=%{lat}<br>longitude=%{lon}<br>description=%{customdata[0]}<extra></extra>",
           "lat": [
            50.877160828051615,
            50.87649057167669,
            50.875850541602986,
            50.87448678827803,
            50.87409073433792,
            50.87381822269834
           ],
           "legendgroup": "",
           "lon": [
            4.7006992525313445,
            4.700691639839767,
            4.700192168675618,
            4.699889625684066,
            4.700018371714718,
            4.70010170607578
           ],
           "marker": {
            "color": "#636efa",
            "size": [
             9,
             6,
             2,
             0,
             2,
             1
            ],
            "sizemode": "area",
            "sizeref": 0.1825
           },
           "mode": "markers",
           "name": "",
           "showlegend": false,
           "subplot": "mapbox",
           "type": "scattermapbox"
          }
         ],
         "name": "2022-12-17"
        },
        {
         "data": [
          {
           "customdata": [
            [
             "MP 01: Naamsestraat 35  Maxim"
            ],
            [
             "MP 02: Naamsestraat 57 Xior"
            ],
            [
             "MP 03: Naamsestraat 62 Taste"
            ],
            [
             "MP 05: Calvariekapel KU Leuven"
            ],
            [
             "MP 06: Parkstraat 2 La Filosovia"
            ],
            [
             "MP 07: Naamsestraat 81"
            ]
           ],
           "hovertemplate": "ts_str=2022-12-18<br>Human voice - Shouting=%{marker.size}<br>latitude=%{lat}<br>longitude=%{lon}<br>description=%{customdata[0]}<extra></extra>",
           "lat": [
            50.877160828051615,
            50.87649057167669,
            50.875850541602986,
            50.87448678827803,
            50.87409073433792,
            50.87381822269834
           ],
           "legendgroup": "",
           "lon": [
            4.7006992525313445,
            4.700691639839767,
            4.700192168675618,
            4.699889625684066,
            4.700018371714718,
            4.70010170607578
           ],
           "marker": {
            "color": "#636efa",
            "size": [
             3,
             0,
             2,
             1,
             0,
             0
            ],
            "sizemode": "area",
            "sizeref": 0.1825
           },
           "mode": "markers",
           "name": "",
           "showlegend": false,
           "subplot": "mapbox",
           "type": "scattermapbox"
          }
         ],
         "name": "2022-12-18"
        },
        {
         "data": [
          {
           "customdata": [
            [
             "MP 01: Naamsestraat 35  Maxim"
            ],
            [
             "MP 02: Naamsestraat 57 Xior"
            ],
            [
             "MP 03: Naamsestraat 62 Taste"
            ],
            [
             "MP 05: Calvariekapel KU Leuven"
            ],
            [
             "MP 06: Parkstraat 2 La Filosovia"
            ],
            [
             "MP 07: Naamsestraat 81"
            ]
           ],
           "hovertemplate": "ts_str=2022-12-19<br>Human voice - Shouting=%{marker.size}<br>latitude=%{lat}<br>longitude=%{lon}<br>description=%{customdata[0]}<extra></extra>",
           "lat": [
            50.877160828051615,
            50.87649057167669,
            50.875850541602986,
            50.87448678827803,
            50.87409073433792,
            50.87381822269834
           ],
           "legendgroup": "",
           "lon": [
            4.7006992525313445,
            4.700691639839767,
            4.700192168675618,
            4.699889625684066,
            4.700018371714718,
            4.70010170607578
           ],
           "marker": {
            "color": "#636efa",
            "size": [
             3,
             0,
             0,
             5,
             0,
             3
            ],
            "sizemode": "area",
            "sizeref": 0.1825
           },
           "mode": "markers",
           "name": "",
           "showlegend": false,
           "subplot": "mapbox",
           "type": "scattermapbox"
          }
         ],
         "name": "2022-12-19"
        },
        {
         "data": [
          {
           "customdata": [
            [
             "MP 01: Naamsestraat 35  Maxim"
            ],
            [
             "MP 02: Naamsestraat 57 Xior"
            ],
            [
             "MP 03: Naamsestraat 62 Taste"
            ],
            [
             "MP 05: Calvariekapel KU Leuven"
            ],
            [
             "MP 06: Parkstraat 2 La Filosovia"
            ],
            [
             "MP 07: Naamsestraat 81"
            ],
            [
             "MP08bis - Vrijthof"
            ]
           ],
           "hovertemplate": "ts_str=2022-12-20<br>Human voice - Shouting=%{marker.size}<br>latitude=%{lat}<br>longitude=%{lon}<br>description=%{customdata[0]}<extra></extra>",
           "lat": [
            50.877160828051615,
            50.87649057167669,
            50.875850541602986,
            50.87448678827803,
            50.87409073433792,
            50.87381822269834,
            50.87890579999999
           ],
           "legendgroup": "",
           "lon": [
            4.7006992525313445,
            4.700691639839767,
            4.700192168675618,
            4.699889625684066,
            4.700018371714718,
            4.70010170607578,
            4.7011444846213415
           ],
           "marker": {
            "color": "#636efa",
            "size": [
             7,
             4,
             1,
             3,
             2,
             2,
             0
            ],
            "sizemode": "area",
            "sizeref": 0.1825
           },
           "mode": "markers",
           "name": "",
           "showlegend": false,
           "subplot": "mapbox",
           "type": "scattermapbox"
          }
         ],
         "name": "2022-12-20"
        },
        {
         "data": [
          {
           "customdata": [
            [
             "MP 01: Naamsestraat 35  Maxim"
            ],
            [
             "MP 02: Naamsestraat 57 Xior"
            ],
            [
             "MP 03: Naamsestraat 62 Taste"
            ],
            [
             "MP 05: Calvariekapel KU Leuven"
            ],
            [
             "MP 06: Parkstraat 2 La Filosovia"
            ],
            [
             "MP 07: Naamsestraat 81"
            ]
           ],
           "hovertemplate": "ts_str=2022-12-21<br>Human voice - Shouting=%{marker.size}<br>latitude=%{lat}<br>longitude=%{lon}<br>description=%{customdata[0]}<extra></extra>",
           "lat": [
            50.877160828051615,
            50.87649057167669,
            50.875850541602986,
            50.87448678827803,
            50.87409073433792,
            50.87381822269834
           ],
           "legendgroup": "",
           "lon": [
            4.7006992525313445,
            4.700691639839767,
            4.700192168675618,
            4.699889625684066,
            4.700018371714718,
            4.70010170607578
           ],
           "marker": {
            "color": "#636efa",
            "size": [
             9,
             0,
             0,
             2,
             2,
             1
            ],
            "sizemode": "area",
            "sizeref": 0.1825
           },
           "mode": "markers",
           "name": "",
           "showlegend": false,
           "subplot": "mapbox",
           "type": "scattermapbox"
          }
         ],
         "name": "2022-12-21"
        },
        {
         "data": [
          {
           "customdata": [
            [
             "MP 01: Naamsestraat 35  Maxim"
            ],
            [
             "MP 02: Naamsestraat 57 Xior"
            ],
            [
             "MP 03: Naamsestraat 62 Taste"
            ],
            [
             "MP 05: Calvariekapel KU Leuven"
            ],
            [
             "MP 06: Parkstraat 2 La Filosovia"
            ],
            [
             "MP 07: Naamsestraat 81"
            ]
           ],
           "hovertemplate": "ts_str=2022-12-22<br>Human voice - Shouting=%{marker.size}<br>latitude=%{lat}<br>longitude=%{lon}<br>description=%{customdata[0]}<extra></extra>",
           "lat": [
            50.877160828051615,
            50.87649057167669,
            50.875850541602986,
            50.87448678827803,
            50.87409073433792,
            50.87381822269834
           ],
           "legendgroup": "",
           "lon": [
            4.7006992525313445,
            4.700691639839767,
            4.700192168675618,
            4.699889625684066,
            4.700018371714718,
            4.70010170607578
           ],
           "marker": {
            "color": "#636efa",
            "size": [
             19,
             0,
             2,
             3,
             0,
             0
            ],
            "sizemode": "area",
            "sizeref": 0.1825
           },
           "mode": "markers",
           "name": "",
           "showlegend": false,
           "subplot": "mapbox",
           "type": "scattermapbox"
          }
         ],
         "name": "2022-12-22"
        },
        {
         "data": [
          {
           "customdata": [
            [
             "MP 02: Naamsestraat 57 Xior"
            ],
            [
             "MP 03: Naamsestraat 62 Taste"
            ],
            [
             "MP 05: Calvariekapel KU Leuven"
            ],
            [
             "MP 06: Parkstraat 2 La Filosovia"
            ],
            [
             "MP 07: Naamsestraat 81"
            ],
            [
             "MP08bis - Vrijthof"
            ]
           ],
           "hovertemplate": "ts_str=2022-05-27<br>Human voice - Shouting=%{marker.size}<br>latitude=%{lat}<br>longitude=%{lon}<br>description=%{customdata[0]}<extra></extra>",
           "lat": [
            50.87649057167669,
            50.875850541602986,
            50.87448678827803,
            50.87409073433792,
            50.87381822269834,
            50.87890579999999
           ],
           "legendgroup": "",
           "lon": [
            4.700691639839767,
            4.700192168675618,
            4.699889625684066,
            4.700018371714718,
            4.70010170607578,
            4.7011444846213415
           ],
           "marker": {
            "color": "#636efa",
            "size": [
             1,
             1,
             0,
             3,
             0,
             0
            ],
            "sizemode": "area",
            "sizeref": 0.1825
           },
           "mode": "markers",
           "name": "",
           "showlegend": false,
           "subplot": "mapbox",
           "type": "scattermapbox"
          }
         ],
         "name": "2022-05-27"
        },
        {
         "data": [
          {
           "customdata": [
            [
             "MP 02: Naamsestraat 57 Xior"
            ],
            [
             "MP 03: Naamsestraat 62 Taste"
            ],
            [
             "MP 05: Calvariekapel KU Leuven"
            ],
            [
             "MP 06: Parkstraat 2 La Filosovia"
            ],
            [
             "MP 07: Naamsestraat 81"
            ]
           ],
           "hovertemplate": "ts_str=2022-05-28<br>Human voice - Shouting=%{marker.size}<br>latitude=%{lat}<br>longitude=%{lon}<br>description=%{customdata[0]}<extra></extra>",
           "lat": [
            50.87649057167669,
            50.875850541602986,
            50.87448678827803,
            50.87409073433792,
            50.87381822269834
           ],
           "legendgroup": "",
           "lon": [
            4.700691639839767,
            4.700192168675618,
            4.699889625684066,
            4.700018371714718,
            4.70010170607578
           ],
           "marker": {
            "color": "#636efa",
            "size": [
             2,
             0,
             5,
             1,
             0
            ],
            "sizemode": "area",
            "sizeref": 0.1825
           },
           "mode": "markers",
           "name": "",
           "showlegend": false,
           "subplot": "mapbox",
           "type": "scattermapbox"
          }
         ],
         "name": "2022-05-28"
        },
        {
         "data": [
          {
           "customdata": [
            [
             "MP 02: Naamsestraat 57 Xior"
            ],
            [
             "MP 03: Naamsestraat 62 Taste"
            ],
            [
             "MP 05: Calvariekapel KU Leuven"
            ],
            [
             "MP 06: Parkstraat 2 La Filosovia"
            ],
            [
             "MP 07: Naamsestraat 81"
            ]
           ],
           "hovertemplate": "ts_str=2022-05-29<br>Human voice - Shouting=%{marker.size}<br>latitude=%{lat}<br>longitude=%{lon}<br>description=%{customdata[0]}<extra></extra>",
           "lat": [
            50.87649057167669,
            50.875850541602986,
            50.87448678827803,
            50.87409073433792,
            50.87381822269834
           ],
           "legendgroup": "",
           "lon": [
            4.700691639839767,
            4.700192168675618,
            4.699889625684066,
            4.700018371714718,
            4.70010170607578
           ],
           "marker": {
            "color": "#636efa",
            "size": [
             0,
             0,
             0,
             0,
             0
            ],
            "sizemode": "area",
            "sizeref": 0.1825
           },
           "mode": "markers",
           "name": "",
           "showlegend": false,
           "subplot": "mapbox",
           "type": "scattermapbox"
          }
         ],
         "name": "2022-05-29"
        },
        {
         "data": [
          {
           "customdata": [
            [
             "MP 02: Naamsestraat 57 Xior"
            ],
            [
             "MP 03: Naamsestraat 62 Taste"
            ],
            [
             "MP 05: Calvariekapel KU Leuven"
            ],
            [
             "MP 06: Parkstraat 2 La Filosovia"
            ],
            [
             "MP 07: Naamsestraat 81"
            ]
           ],
           "hovertemplate": "ts_str=2022-05-30<br>Human voice - Shouting=%{marker.size}<br>latitude=%{lat}<br>longitude=%{lon}<br>description=%{customdata[0]}<extra></extra>",
           "lat": [
            50.87649057167669,
            50.875850541602986,
            50.87448678827803,
            50.87409073433792,
            50.87381822269834
           ],
           "legendgroup": "",
           "lon": [
            4.700691639839767,
            4.700192168675618,
            4.699889625684066,
            4.700018371714718,
            4.70010170607578
           ],
           "marker": {
            "color": "#636efa",
            "size": [
             0,
             1,
             2,
             0,
             0
            ],
            "sizemode": "area",
            "sizeref": 0.1825
           },
           "mode": "markers",
           "name": "",
           "showlegend": false,
           "subplot": "mapbox",
           "type": "scattermapbox"
          }
         ],
         "name": "2022-05-30"
        },
        {
         "data": [
          {
           "customdata": [
            [
             "MP 02: Naamsestraat 57 Xior"
            ],
            [
             "MP 03: Naamsestraat 62 Taste"
            ],
            [
             "MP 05: Calvariekapel KU Leuven"
            ],
            [
             "MP 06: Parkstraat 2 La Filosovia"
            ],
            [
             "MP 07: Naamsestraat 81"
            ]
           ],
           "hovertemplate": "ts_str=2022-05-31<br>Human voice - Shouting=%{marker.size}<br>latitude=%{lat}<br>longitude=%{lon}<br>description=%{customdata[0]}<extra></extra>",
           "lat": [
            50.87649057167669,
            50.875850541602986,
            50.87448678827803,
            50.87409073433792,
            50.87381822269834
           ],
           "legendgroup": "",
           "lon": [
            4.700691639839767,
            4.700192168675618,
            4.699889625684066,
            4.700018371714718,
            4.70010170607578
           ],
           "marker": {
            "color": "#636efa",
            "size": [
             0,
             0,
             3,
             0,
             0
            ],
            "sizemode": "area",
            "sizeref": 0.1825
           },
           "mode": "markers",
           "name": "",
           "showlegend": false,
           "subplot": "mapbox",
           "type": "scattermapbox"
          }
         ],
         "name": "2022-05-31"
        },
        {
         "data": [
          {
           "customdata": [
            [
             "MP 03: Naamsestraat 62 Taste"
            ]
           ],
           "hovertemplate": "ts_str=2022-01-07<br>Human voice - Shouting=%{marker.size}<br>latitude=%{lat}<br>longitude=%{lon}<br>description=%{customdata[0]}<extra></extra>",
           "lat": [
            50.875850541602986
           ],
           "legendgroup": "",
           "lon": [
            4.700192168675618
           ],
           "marker": {
            "color": "#636efa",
            "size": [
             2
            ],
            "sizemode": "area",
            "sizeref": 0.1825
           },
           "mode": "markers",
           "name": "",
           "showlegend": false,
           "subplot": "mapbox",
           "type": "scattermapbox"
          }
         ],
         "name": "2022-01-07"
        },
        {
         "data": [
          {
           "customdata": [
            [
             "MP 03: Naamsestraat 62 Taste"
            ]
           ],
           "hovertemplate": "ts_str=2022-01-08<br>Human voice - Shouting=%{marker.size}<br>latitude=%{lat}<br>longitude=%{lon}<br>description=%{customdata[0]}<extra></extra>",
           "lat": [
            50.875850541602986
           ],
           "legendgroup": "",
           "lon": [
            4.700192168675618
           ],
           "marker": {
            "color": "#636efa",
            "size": [
             3
            ],
            "sizemode": "area",
            "sizeref": 0.1825
           },
           "mode": "markers",
           "name": "",
           "showlegend": false,
           "subplot": "mapbox",
           "type": "scattermapbox"
          }
         ],
         "name": "2022-01-08"
        },
        {
         "data": [
          {
           "customdata": [
            [
             "MP 03: Naamsestraat 62 Taste"
            ]
           ],
           "hovertemplate": "ts_str=2022-01-09<br>Human voice - Shouting=%{marker.size}<br>latitude=%{lat}<br>longitude=%{lon}<br>description=%{customdata[0]}<extra></extra>",
           "lat": [
            50.875850541602986
           ],
           "legendgroup": "",
           "lon": [
            4.700192168675618
           ],
           "marker": {
            "color": "#636efa",
            "size": [
             4
            ],
            "sizemode": "area",
            "sizeref": 0.1825
           },
           "mode": "markers",
           "name": "",
           "showlegend": false,
           "subplot": "mapbox",
           "type": "scattermapbox"
          }
         ],
         "name": "2022-01-09"
        },
        {
         "data": [
          {
           "customdata": [
            [
             "MP 03: Naamsestraat 62 Taste"
            ]
           ],
           "hovertemplate": "ts_str=2022-01-10<br>Human voice - Shouting=%{marker.size}<br>latitude=%{lat}<br>longitude=%{lon}<br>description=%{customdata[0]}<extra></extra>",
           "lat": [
            50.875850541602986
           ],
           "legendgroup": "",
           "lon": [
            4.700192168675618
           ],
           "marker": {
            "color": "#636efa",
            "size": [
             4
            ],
            "sizemode": "area",
            "sizeref": 0.1825
           },
           "mode": "markers",
           "name": "",
           "showlegend": false,
           "subplot": "mapbox",
           "type": "scattermapbox"
          }
         ],
         "name": "2022-01-10"
        },
        {
         "data": [
          {
           "customdata": [
            [
             "MP 03: Naamsestraat 62 Taste"
            ]
           ],
           "hovertemplate": "ts_str=2022-01-11<br>Human voice - Shouting=%{marker.size}<br>latitude=%{lat}<br>longitude=%{lon}<br>description=%{customdata[0]}<extra></extra>",
           "lat": [
            50.875850541602986
           ],
           "legendgroup": "",
           "lon": [
            4.700192168675618
           ],
           "marker": {
            "color": "#636efa",
            "size": [
             4
            ],
            "sizemode": "area",
            "sizeref": 0.1825
           },
           "mode": "markers",
           "name": "",
           "showlegend": false,
           "subplot": "mapbox",
           "type": "scattermapbox"
          }
         ],
         "name": "2022-01-11"
        },
        {
         "data": [
          {
           "customdata": [
            [
             "MP 03: Naamsestraat 62 Taste"
            ]
           ],
           "hovertemplate": "ts_str=2022-01-12<br>Human voice - Shouting=%{marker.size}<br>latitude=%{lat}<br>longitude=%{lon}<br>description=%{customdata[0]}<extra></extra>",
           "lat": [
            50.875850541602986
           ],
           "legendgroup": "",
           "lon": [
            4.700192168675618
           ],
           "marker": {
            "color": "#636efa",
            "size": [
             6
            ],
            "sizemode": "area",
            "sizeref": 0.1825
           },
           "mode": "markers",
           "name": "",
           "showlegend": false,
           "subplot": "mapbox",
           "type": "scattermapbox"
          }
         ],
         "name": "2022-01-12"
        },
        {
         "data": [
          {
           "customdata": [
            [
             "MP 03: Naamsestraat 62 Taste"
            ]
           ],
           "hovertemplate": "ts_str=2022-01-13<br>Human voice - Shouting=%{marker.size}<br>latitude=%{lat}<br>longitude=%{lon}<br>description=%{customdata[0]}<extra></extra>",
           "lat": [
            50.875850541602986
           ],
           "legendgroup": "",
           "lon": [
            4.700192168675618
           ],
           "marker": {
            "color": "#636efa",
            "size": [
             4
            ],
            "sizemode": "area",
            "sizeref": 0.1825
           },
           "mode": "markers",
           "name": "",
           "showlegend": false,
           "subplot": "mapbox",
           "type": "scattermapbox"
          }
         ],
         "name": "2022-01-13"
        },
        {
         "data": [
          {
           "customdata": [
            [
             "MP 03: Naamsestraat 62 Taste"
            ]
           ],
           "hovertemplate": "ts_str=2022-01-14<br>Human voice - Shouting=%{marker.size}<br>latitude=%{lat}<br>longitude=%{lon}<br>description=%{customdata[0]}<extra></extra>",
           "lat": [
            50.875850541602986
           ],
           "legendgroup": "",
           "lon": [
            4.700192168675618
           ],
           "marker": {
            "color": "#636efa",
            "size": [
             12
            ],
            "sizemode": "area",
            "sizeref": 0.1825
           },
           "mode": "markers",
           "name": "",
           "showlegend": false,
           "subplot": "mapbox",
           "type": "scattermapbox"
          }
         ],
         "name": "2022-01-14"
        },
        {
         "data": [
          {
           "customdata": [
            [
             "MP 03: Naamsestraat 62 Taste"
            ]
           ],
           "hovertemplate": "ts_str=2022-01-15<br>Human voice - Shouting=%{marker.size}<br>latitude=%{lat}<br>longitude=%{lon}<br>description=%{customdata[0]}<extra></extra>",
           "lat": [
            50.875850541602986
           ],
           "legendgroup": "",
           "lon": [
            4.700192168675618
           ],
           "marker": {
            "color": "#636efa",
            "size": [
             4
            ],
            "sizemode": "area",
            "sizeref": 0.1825
           },
           "mode": "markers",
           "name": "",
           "showlegend": false,
           "subplot": "mapbox",
           "type": "scattermapbox"
          }
         ],
         "name": "2022-01-15"
        },
        {
         "data": [
          {
           "customdata": [
            [
             "MP 03: Naamsestraat 62 Taste"
            ]
           ],
           "hovertemplate": "ts_str=2022-01-16<br>Human voice - Shouting=%{marker.size}<br>latitude=%{lat}<br>longitude=%{lon}<br>description=%{customdata[0]}<extra></extra>",
           "lat": [
            50.875850541602986
           ],
           "legendgroup": "",
           "lon": [
            4.700192168675618
           ],
           "marker": {
            "color": "#636efa",
            "size": [
             2
            ],
            "sizemode": "area",
            "sizeref": 0.1825
           },
           "mode": "markers",
           "name": "",
           "showlegend": false,
           "subplot": "mapbox",
           "type": "scattermapbox"
          }
         ],
         "name": "2022-01-16"
        },
        {
         "data": [
          {
           "customdata": [
            [
             "MP 03: Naamsestraat 62 Taste"
            ]
           ],
           "hovertemplate": "ts_str=2022-01-17<br>Human voice - Shouting=%{marker.size}<br>latitude=%{lat}<br>longitude=%{lon}<br>description=%{customdata[0]}<extra></extra>",
           "lat": [
            50.875850541602986
           ],
           "legendgroup": "",
           "lon": [
            4.700192168675618
           ],
           "marker": {
            "color": "#636efa",
            "size": [
             2
            ],
            "sizemode": "area",
            "sizeref": 0.1825
           },
           "mode": "markers",
           "name": "",
           "showlegend": false,
           "subplot": "mapbox",
           "type": "scattermapbox"
          }
         ],
         "name": "2022-01-17"
        },
        {
         "data": [
          {
           "customdata": [
            [
             "MP 03: Naamsestraat 62 Taste"
            ]
           ],
           "hovertemplate": "ts_str=2022-01-18<br>Human voice - Shouting=%{marker.size}<br>latitude=%{lat}<br>longitude=%{lon}<br>description=%{customdata[0]}<extra></extra>",
           "lat": [
            50.875850541602986
           ],
           "legendgroup": "",
           "lon": [
            4.700192168675618
           ],
           "marker": {
            "color": "#636efa",
            "size": [
             5
            ],
            "sizemode": "area",
            "sizeref": 0.1825
           },
           "mode": "markers",
           "name": "",
           "showlegend": false,
           "subplot": "mapbox",
           "type": "scattermapbox"
          }
         ],
         "name": "2022-01-18"
        },
        {
         "data": [
          {
           "customdata": [
            [
             "MP 03: Naamsestraat 62 Taste"
            ]
           ],
           "hovertemplate": "ts_str=2022-01-19<br>Human voice - Shouting=%{marker.size}<br>latitude=%{lat}<br>longitude=%{lon}<br>description=%{customdata[0]}<extra></extra>",
           "lat": [
            50.875850541602986
           ],
           "legendgroup": "",
           "lon": [
            4.700192168675618
           ],
           "marker": {
            "color": "#636efa",
            "size": [
             3
            ],
            "sizemode": "area",
            "sizeref": 0.1825
           },
           "mode": "markers",
           "name": "",
           "showlegend": false,
           "subplot": "mapbox",
           "type": "scattermapbox"
          }
         ],
         "name": "2022-01-19"
        },
        {
         "data": [
          {
           "customdata": [
            [
             "MP 03: Naamsestraat 62 Taste"
            ]
           ],
           "hovertemplate": "ts_str=2022-01-20<br>Human voice - Shouting=%{marker.size}<br>latitude=%{lat}<br>longitude=%{lon}<br>description=%{customdata[0]}<extra></extra>",
           "lat": [
            50.875850541602986
           ],
           "legendgroup": "",
           "lon": [
            4.700192168675618
           ],
           "marker": {
            "color": "#636efa",
            "size": [
             1
            ],
            "sizemode": "area",
            "sizeref": 0.1825
           },
           "mode": "markers",
           "name": "",
           "showlegend": false,
           "subplot": "mapbox",
           "type": "scattermapbox"
          }
         ],
         "name": "2022-01-20"
        },
        {
         "data": [
          {
           "customdata": [
            [
             "MP 03: Naamsestraat 62 Taste"
            ]
           ],
           "hovertemplate": "ts_str=2022-01-21<br>Human voice - Shouting=%{marker.size}<br>latitude=%{lat}<br>longitude=%{lon}<br>description=%{customdata[0]}<extra></extra>",
           "lat": [
            50.875850541602986
           ],
           "legendgroup": "",
           "lon": [
            4.700192168675618
           ],
           "marker": {
            "color": "#636efa",
            "size": [
             8
            ],
            "sizemode": "area",
            "sizeref": 0.1825
           },
           "mode": "markers",
           "name": "",
           "showlegend": false,
           "subplot": "mapbox",
           "type": "scattermapbox"
          }
         ],
         "name": "2022-01-21"
        },
        {
         "data": [
          {
           "customdata": [
            [
             "MP 03: Naamsestraat 62 Taste"
            ]
           ],
           "hovertemplate": "ts_str=2022-01-22<br>Human voice - Shouting=%{marker.size}<br>latitude=%{lat}<br>longitude=%{lon}<br>description=%{customdata[0]}<extra></extra>",
           "lat": [
            50.875850541602986
           ],
           "legendgroup": "",
           "lon": [
            4.700192168675618
           ],
           "marker": {
            "color": "#636efa",
            "size": [
             5
            ],
            "sizemode": "area",
            "sizeref": 0.1825
           },
           "mode": "markers",
           "name": "",
           "showlegend": false,
           "subplot": "mapbox",
           "type": "scattermapbox"
          }
         ],
         "name": "2022-01-22"
        },
        {
         "data": [
          {
           "customdata": [
            [
             "MP 03: Naamsestraat 62 Taste"
            ]
           ],
           "hovertemplate": "ts_str=2022-01-23<br>Human voice - Shouting=%{marker.size}<br>latitude=%{lat}<br>longitude=%{lon}<br>description=%{customdata[0]}<extra></extra>",
           "lat": [
            50.875850541602986
           ],
           "legendgroup": "",
           "lon": [
            4.700192168675618
           ],
           "marker": {
            "color": "#636efa",
            "size": [
             3
            ],
            "sizemode": "area",
            "sizeref": 0.1825
           },
           "mode": "markers",
           "name": "",
           "showlegend": false,
           "subplot": "mapbox",
           "type": "scattermapbox"
          }
         ],
         "name": "2022-01-23"
        },
        {
         "data": [
          {
           "customdata": [
            [
             "MP 03: Naamsestraat 62 Taste"
            ]
           ],
           "hovertemplate": "ts_str=2022-01-24<br>Human voice - Shouting=%{marker.size}<br>latitude=%{lat}<br>longitude=%{lon}<br>description=%{customdata[0]}<extra></extra>",
           "lat": [
            50.875850541602986
           ],
           "legendgroup": "",
           "lon": [
            4.700192168675618
           ],
           "marker": {
            "color": "#636efa",
            "size": [
             9
            ],
            "sizemode": "area",
            "sizeref": 0.1825
           },
           "mode": "markers",
           "name": "",
           "showlegend": false,
           "subplot": "mapbox",
           "type": "scattermapbox"
          }
         ],
         "name": "2022-01-24"
        },
        {
         "data": [
          {
           "customdata": [
            [
             "MP 03: Naamsestraat 62 Taste"
            ]
           ],
           "hovertemplate": "ts_str=2022-01-25<br>Human voice - Shouting=%{marker.size}<br>latitude=%{lat}<br>longitude=%{lon}<br>description=%{customdata[0]}<extra></extra>",
           "lat": [
            50.875850541602986
           ],
           "legendgroup": "",
           "lon": [
            4.700192168675618
           ],
           "marker": {
            "color": "#636efa",
            "size": [
             4
            ],
            "sizemode": "area",
            "sizeref": 0.1825
           },
           "mode": "markers",
           "name": "",
           "showlegend": false,
           "subplot": "mapbox",
           "type": "scattermapbox"
          }
         ],
         "name": "2022-01-25"
        },
        {
         "data": [
          {
           "customdata": [
            [
             "MP 03: Naamsestraat 62 Taste"
            ]
           ],
           "hovertemplate": "ts_str=2022-01-26<br>Human voice - Shouting=%{marker.size}<br>latitude=%{lat}<br>longitude=%{lon}<br>description=%{customdata[0]}<extra></extra>",
           "lat": [
            50.875850541602986
           ],
           "legendgroup": "",
           "lon": [
            4.700192168675618
           ],
           "marker": {
            "color": "#636efa",
            "size": [
             2
            ],
            "sizemode": "area",
            "sizeref": 0.1825
           },
           "mode": "markers",
           "name": "",
           "showlegend": false,
           "subplot": "mapbox",
           "type": "scattermapbox"
          }
         ],
         "name": "2022-01-26"
        },
        {
         "data": [
          {
           "customdata": [
            [
             "MP 03: Naamsestraat 62 Taste"
            ]
           ],
           "hovertemplate": "ts_str=2022-01-27<br>Human voice - Shouting=%{marker.size}<br>latitude=%{lat}<br>longitude=%{lon}<br>description=%{customdata[0]}<extra></extra>",
           "lat": [
            50.875850541602986
           ],
           "legendgroup": "",
           "lon": [
            4.700192168675618
           ],
           "marker": {
            "color": "#636efa",
            "size": [
             2
            ],
            "sizemode": "area",
            "sizeref": 0.1825
           },
           "mode": "markers",
           "name": "",
           "showlegend": false,
           "subplot": "mapbox",
           "type": "scattermapbox"
          }
         ],
         "name": "2022-01-27"
        },
        {
         "data": [
          {
           "customdata": [
            [
             "MP 03: Naamsestraat 62 Taste"
            ]
           ],
           "hovertemplate": "ts_str=2022-01-28<br>Human voice - Shouting=%{marker.size}<br>latitude=%{lat}<br>longitude=%{lon}<br>description=%{customdata[0]}<extra></extra>",
           "lat": [
            50.875850541602986
           ],
           "legendgroup": "",
           "lon": [
            4.700192168675618
           ],
           "marker": {
            "color": "#636efa",
            "size": [
             10
            ],
            "sizemode": "area",
            "sizeref": 0.1825
           },
           "mode": "markers",
           "name": "",
           "showlegend": false,
           "subplot": "mapbox",
           "type": "scattermapbox"
          }
         ],
         "name": "2022-01-28"
        },
        {
         "data": [
          {
           "customdata": [
            [
             "MP 03: Naamsestraat 62 Taste"
            ]
           ],
           "hovertemplate": "ts_str=2022-01-29<br>Human voice - Shouting=%{marker.size}<br>latitude=%{lat}<br>longitude=%{lon}<br>description=%{customdata[0]}<extra></extra>",
           "lat": [
            50.875850541602986
           ],
           "legendgroup": "",
           "lon": [
            4.700192168675618
           ],
           "marker": {
            "color": "#636efa",
            "size": [
             3
            ],
            "sizemode": "area",
            "sizeref": 0.1825
           },
           "mode": "markers",
           "name": "",
           "showlegend": false,
           "subplot": "mapbox",
           "type": "scattermapbox"
          }
         ],
         "name": "2022-01-29"
        },
        {
         "data": [
          {
           "customdata": [
            [
             "MP 03: Naamsestraat 62 Taste"
            ]
           ],
           "hovertemplate": "ts_str=2022-01-30<br>Human voice - Shouting=%{marker.size}<br>latitude=%{lat}<br>longitude=%{lon}<br>description=%{customdata[0]}<extra></extra>",
           "lat": [
            50.875850541602986
           ],
           "legendgroup": "",
           "lon": [
            4.700192168675618
           ],
           "marker": {
            "color": "#636efa",
            "size": [
             5
            ],
            "sizemode": "area",
            "sizeref": 0.1825
           },
           "mode": "markers",
           "name": "",
           "showlegend": false,
           "subplot": "mapbox",
           "type": "scattermapbox"
          }
         ],
         "name": "2022-01-30"
        },
        {
         "data": [
          {
           "customdata": [
            [
             "MP 03: Naamsestraat 62 Taste"
            ]
           ],
           "hovertemplate": "ts_str=2022-01-31<br>Human voice - Shouting=%{marker.size}<br>latitude=%{lat}<br>longitude=%{lon}<br>description=%{customdata[0]}<extra></extra>",
           "lat": [
            50.875850541602986
           ],
           "legendgroup": "",
           "lon": [
            4.700192168675618
           ],
           "marker": {
            "color": "#636efa",
            "size": [
             2
            ],
            "sizemode": "area",
            "sizeref": 0.1825
           },
           "mode": "markers",
           "name": "",
           "showlegend": false,
           "subplot": "mapbox",
           "type": "scattermapbox"
          }
         ],
         "name": "2022-01-31"
        },
        {
         "data": [
          {
           "customdata": [
            [
             "MP 03: Naamsestraat 62 Taste"
            ]
           ],
           "hovertemplate": "ts_str=2022-02-01<br>Human voice - Shouting=%{marker.size}<br>latitude=%{lat}<br>longitude=%{lon}<br>description=%{customdata[0]}<extra></extra>",
           "lat": [
            50.875850541602986
           ],
           "legendgroup": "",
           "lon": [
            4.700192168675618
           ],
           "marker": {
            "color": "#636efa",
            "size": [
             2
            ],
            "sizemode": "area",
            "sizeref": 0.1825
           },
           "mode": "markers",
           "name": "",
           "showlegend": false,
           "subplot": "mapbox",
           "type": "scattermapbox"
          }
         ],
         "name": "2022-02-01"
        },
        {
         "data": [
          {
           "customdata": [
            [
             "MP 03: Naamsestraat 62 Taste"
            ]
           ],
           "hovertemplate": "ts_str=2022-02-02<br>Human voice - Shouting=%{marker.size}<br>latitude=%{lat}<br>longitude=%{lon}<br>description=%{customdata[0]}<extra></extra>",
           "lat": [
            50.875850541602986
           ],
           "legendgroup": "",
           "lon": [
            4.700192168675618
           ],
           "marker": {
            "color": "#636efa",
            "size": [
             4
            ],
            "sizemode": "area",
            "sizeref": 0.1825
           },
           "mode": "markers",
           "name": "",
           "showlegend": false,
           "subplot": "mapbox",
           "type": "scattermapbox"
          }
         ],
         "name": "2022-02-02"
        },
        {
         "data": [
          {
           "customdata": [
            [
             "MP 03: Naamsestraat 62 Taste"
            ]
           ],
           "hovertemplate": "ts_str=2022-02-03<br>Human voice - Shouting=%{marker.size}<br>latitude=%{lat}<br>longitude=%{lon}<br>description=%{customdata[0]}<extra></extra>",
           "lat": [
            50.875850541602986
           ],
           "legendgroup": "",
           "lon": [
            4.700192168675618
           ],
           "marker": {
            "color": "#636efa",
            "size": [
             8
            ],
            "sizemode": "area",
            "sizeref": 0.1825
           },
           "mode": "markers",
           "name": "",
           "showlegend": false,
           "subplot": "mapbox",
           "type": "scattermapbox"
          }
         ],
         "name": "2022-02-03"
        },
        {
         "data": [
          {
           "customdata": [
            [
             "MP 03: Naamsestraat 62 Taste"
            ]
           ],
           "hovertemplate": "ts_str=2022-02-04<br>Human voice - Shouting=%{marker.size}<br>latitude=%{lat}<br>longitude=%{lon}<br>description=%{customdata[0]}<extra></extra>",
           "lat": [
            50.875850541602986
           ],
           "legendgroup": "",
           "lon": [
            4.700192168675618
           ],
           "marker": {
            "color": "#636efa",
            "size": [
             4
            ],
            "sizemode": "area",
            "sizeref": 0.1825
           },
           "mode": "markers",
           "name": "",
           "showlegend": false,
           "subplot": "mapbox",
           "type": "scattermapbox"
          }
         ],
         "name": "2022-02-04"
        },
        {
         "data": [
          {
           "customdata": [
            [
             "MP 03: Naamsestraat 62 Taste"
            ]
           ],
           "hovertemplate": "ts_str=2022-02-05<br>Human voice - Shouting=%{marker.size}<br>latitude=%{lat}<br>longitude=%{lon}<br>description=%{customdata[0]}<extra></extra>",
           "lat": [
            50.875850541602986
           ],
           "legendgroup": "",
           "lon": [
            4.700192168675618
           ],
           "marker": {
            "color": "#636efa",
            "size": [
             2
            ],
            "sizemode": "area",
            "sizeref": 0.1825
           },
           "mode": "markers",
           "name": "",
           "showlegend": false,
           "subplot": "mapbox",
           "type": "scattermapbox"
          }
         ],
         "name": "2022-02-05"
        },
        {
         "data": [
          {
           "customdata": [
            [
             "MP 03: Naamsestraat 62 Taste"
            ]
           ],
           "hovertemplate": "ts_str=2022-02-06<br>Human voice - Shouting=%{marker.size}<br>latitude=%{lat}<br>longitude=%{lon}<br>description=%{customdata[0]}<extra></extra>",
           "lat": [
            50.875850541602986
           ],
           "legendgroup": "",
           "lon": [
            4.700192168675618
           ],
           "marker": {
            "color": "#636efa",
            "size": [
             1
            ],
            "sizemode": "area",
            "sizeref": 0.1825
           },
           "mode": "markers",
           "name": "",
           "showlegend": false,
           "subplot": "mapbox",
           "type": "scattermapbox"
          }
         ],
         "name": "2022-02-06"
        },
        {
         "data": [
          {
           "customdata": [
            [
             "MP 03: Naamsestraat 62 Taste"
            ]
           ],
           "hovertemplate": "ts_str=2022-02-07<br>Human voice - Shouting=%{marker.size}<br>latitude=%{lat}<br>longitude=%{lon}<br>description=%{customdata[0]}<extra></extra>",
           "lat": [
            50.875850541602986
           ],
           "legendgroup": "",
           "lon": [
            4.700192168675618
           ],
           "marker": {
            "color": "#636efa",
            "size": [
             4
            ],
            "sizemode": "area",
            "sizeref": 0.1825
           },
           "mode": "markers",
           "name": "",
           "showlegend": false,
           "subplot": "mapbox",
           "type": "scattermapbox"
          }
         ],
         "name": "2022-02-07"
        },
        {
         "data": [
          {
           "customdata": [
            [
             "MP 03: Naamsestraat 62 Taste"
            ]
           ],
           "hovertemplate": "ts_str=2022-02-08<br>Human voice - Shouting=%{marker.size}<br>latitude=%{lat}<br>longitude=%{lon}<br>description=%{customdata[0]}<extra></extra>",
           "lat": [
            50.875850541602986
           ],
           "legendgroup": "",
           "lon": [
            4.700192168675618
           ],
           "marker": {
            "color": "#636efa",
            "size": [
             5
            ],
            "sizemode": "area",
            "sizeref": 0.1825
           },
           "mode": "markers",
           "name": "",
           "showlegend": false,
           "subplot": "mapbox",
           "type": "scattermapbox"
          }
         ],
         "name": "2022-02-08"
        },
        {
         "data": [
          {
           "customdata": [
            [
             "MP 03: Naamsestraat 62 Taste"
            ]
           ],
           "hovertemplate": "ts_str=2022-02-09<br>Human voice - Shouting=%{marker.size}<br>latitude=%{lat}<br>longitude=%{lon}<br>description=%{customdata[0]}<extra></extra>",
           "lat": [
            50.875850541602986
           ],
           "legendgroup": "",
           "lon": [
            4.700192168675618
           ],
           "marker": {
            "color": "#636efa",
            "size": [
             5
            ],
            "sizemode": "area",
            "sizeref": 0.1825
           },
           "mode": "markers",
           "name": "",
           "showlegend": false,
           "subplot": "mapbox",
           "type": "scattermapbox"
          }
         ],
         "name": "2022-02-09"
        },
        {
         "data": [
          {
           "customdata": [
            [
             "MP 03: Naamsestraat 62 Taste"
            ]
           ],
           "hovertemplate": "ts_str=2022-02-10<br>Human voice - Shouting=%{marker.size}<br>latitude=%{lat}<br>longitude=%{lon}<br>description=%{customdata[0]}<extra></extra>",
           "lat": [
            50.875850541602986
           ],
           "legendgroup": "",
           "lon": [
            4.700192168675618
           ],
           "marker": {
            "color": "#636efa",
            "size": [
             3
            ],
            "sizemode": "area",
            "sizeref": 0.1825
           },
           "mode": "markers",
           "name": "",
           "showlegend": false,
           "subplot": "mapbox",
           "type": "scattermapbox"
          }
         ],
         "name": "2022-02-10"
        },
        {
         "data": [
          {
           "customdata": [
            [
             "MP 03: Naamsestraat 62 Taste"
            ]
           ],
           "hovertemplate": "ts_str=2022-02-11<br>Human voice - Shouting=%{marker.size}<br>latitude=%{lat}<br>longitude=%{lon}<br>description=%{customdata[0]}<extra></extra>",
           "lat": [
            50.875850541602986
           ],
           "legendgroup": "",
           "lon": [
            4.700192168675618
           ],
           "marker": {
            "color": "#636efa",
            "size": [
             7
            ],
            "sizemode": "area",
            "sizeref": 0.1825
           },
           "mode": "markers",
           "name": "",
           "showlegend": false,
           "subplot": "mapbox",
           "type": "scattermapbox"
          }
         ],
         "name": "2022-02-11"
        },
        {
         "data": [
          {
           "customdata": [
            [
             "MP 03: Naamsestraat 62 Taste"
            ]
           ],
           "hovertemplate": "ts_str=2022-02-12<br>Human voice - Shouting=%{marker.size}<br>latitude=%{lat}<br>longitude=%{lon}<br>description=%{customdata[0]}<extra></extra>",
           "lat": [
            50.875850541602986
           ],
           "legendgroup": "",
           "lon": [
            4.700192168675618
           ],
           "marker": {
            "color": "#636efa",
            "size": [
             6
            ],
            "sizemode": "area",
            "sizeref": 0.1825
           },
           "mode": "markers",
           "name": "",
           "showlegend": false,
           "subplot": "mapbox",
           "type": "scattermapbox"
          }
         ],
         "name": "2022-02-12"
        },
        {
         "data": [
          {
           "customdata": [
            [
             "MP 03: Naamsestraat 62 Taste"
            ]
           ],
           "hovertemplate": "ts_str=2022-02-13<br>Human voice - Shouting=%{marker.size}<br>latitude=%{lat}<br>longitude=%{lon}<br>description=%{customdata[0]}<extra></extra>",
           "lat": [
            50.875850541602986
           ],
           "legendgroup": "",
           "lon": [
            4.700192168675618
           ],
           "marker": {
            "color": "#636efa",
            "size": [
             2
            ],
            "sizemode": "area",
            "sizeref": 0.1825
           },
           "mode": "markers",
           "name": "",
           "showlegend": false,
           "subplot": "mapbox",
           "type": "scattermapbox"
          }
         ],
         "name": "2022-02-13"
        },
        {
         "data": [
          {
           "customdata": [
            [
             "MP 03: Naamsestraat 62 Taste"
            ]
           ],
           "hovertemplate": "ts_str=2022-02-14<br>Human voice - Shouting=%{marker.size}<br>latitude=%{lat}<br>longitude=%{lon}<br>description=%{customdata[0]}<extra></extra>",
           "lat": [
            50.875850541602986
           ],
           "legendgroup": "",
           "lon": [
            4.700192168675618
           ],
           "marker": {
            "color": "#636efa",
            "size": [
             7
            ],
            "sizemode": "area",
            "sizeref": 0.1825
           },
           "mode": "markers",
           "name": "",
           "showlegend": false,
           "subplot": "mapbox",
           "type": "scattermapbox"
          }
         ],
         "name": "2022-02-14"
        },
        {
         "data": [
          {
           "customdata": [
            [
             "MP 03: Naamsestraat 62 Taste"
            ]
           ],
           "hovertemplate": "ts_str=2022-02-15<br>Human voice - Shouting=%{marker.size}<br>latitude=%{lat}<br>longitude=%{lon}<br>description=%{customdata[0]}<extra></extra>",
           "lat": [
            50.875850541602986
           ],
           "legendgroup": "",
           "lon": [
            4.700192168675618
           ],
           "marker": {
            "color": "#636efa",
            "size": [
             6
            ],
            "sizemode": "area",
            "sizeref": 0.1825
           },
           "mode": "markers",
           "name": "",
           "showlegend": false,
           "subplot": "mapbox",
           "type": "scattermapbox"
          }
         ],
         "name": "2022-02-15"
        },
        {
         "data": [
          {
           "customdata": [
            [
             "MP 03: Naamsestraat 62 Taste"
            ]
           ],
           "hovertemplate": "ts_str=2022-02-16<br>Human voice - Shouting=%{marker.size}<br>latitude=%{lat}<br>longitude=%{lon}<br>description=%{customdata[0]}<extra></extra>",
           "lat": [
            50.875850541602986
           ],
           "legendgroup": "",
           "lon": [
            4.700192168675618
           ],
           "marker": {
            "color": "#636efa",
            "size": [
             2
            ],
            "sizemode": "area",
            "sizeref": 0.1825
           },
           "mode": "markers",
           "name": "",
           "showlegend": false,
           "subplot": "mapbox",
           "type": "scattermapbox"
          }
         ],
         "name": "2022-02-16"
        },
        {
         "data": [
          {
           "customdata": [
            [
             "MP 03: Naamsestraat 62 Taste"
            ]
           ],
           "hovertemplate": "ts_str=2022-02-17<br>Human voice - Shouting=%{marker.size}<br>latitude=%{lat}<br>longitude=%{lon}<br>description=%{customdata[0]}<extra></extra>",
           "lat": [
            50.875850541602986
           ],
           "legendgroup": "",
           "lon": [
            4.700192168675618
           ],
           "marker": {
            "color": "#636efa",
            "size": [
             10
            ],
            "sizemode": "area",
            "sizeref": 0.1825
           },
           "mode": "markers",
           "name": "",
           "showlegend": false,
           "subplot": "mapbox",
           "type": "scattermapbox"
          }
         ],
         "name": "2022-02-17"
        },
        {
         "data": [
          {
           "customdata": [
            [
             "MP 03: Naamsestraat 62 Taste"
            ],
            [
             "MP 05: Calvariekapel KU Leuven"
            ],
            [
             "MP 06: Parkstraat 2 La Filosovia"
            ],
            [
             "MP 07: Naamsestraat 81"
            ]
           ],
           "hovertemplate": "ts_str=2022-02-18<br>Human voice - Shouting=%{marker.size}<br>latitude=%{lat}<br>longitude=%{lon}<br>description=%{customdata[0]}<extra></extra>",
           "lat": [
            50.875850541602986,
            50.87448678827803,
            50.87409073433792,
            50.87381822269834
           ],
           "legendgroup": "",
           "lon": [
            4.700192168675618,
            4.699889625684066,
            4.700018371714718,
            4.70010170607578
           ],
           "marker": {
            "color": "#636efa",
            "size": [
             5,
             4,
             6,
             24
            ],
            "sizemode": "area",
            "sizeref": 0.1825
           },
           "mode": "markers",
           "name": "",
           "showlegend": false,
           "subplot": "mapbox",
           "type": "scattermapbox"
          }
         ],
         "name": "2022-02-18"
        },
        {
         "data": [
          {
           "customdata": [
            [
             "MP 03: Naamsestraat 62 Taste"
            ],
            [
             "MP 05: Calvariekapel KU Leuven"
            ],
            [
             "MP 06: Parkstraat 2 La Filosovia"
            ],
            [
             "MP 07: Naamsestraat 81"
            ]
           ],
           "hovertemplate": "ts_str=2022-02-19<br>Human voice - Shouting=%{marker.size}<br>latitude=%{lat}<br>longitude=%{lon}<br>description=%{customdata[0]}<extra></extra>",
           "lat": [
            50.875850541602986,
            50.87448678827803,
            50.87409073433792,
            50.87381822269834
           ],
           "legendgroup": "",
           "lon": [
            4.700192168675618,
            4.699889625684066,
            4.700018371714718,
            4.70010170607578
           ],
           "marker": {
            "color": "#636efa",
            "size": [
             0,
             0,
             0,
             1
            ],
            "sizemode": "area",
            "sizeref": 0.1825
           },
           "mode": "markers",
           "name": "",
           "showlegend": false,
           "subplot": "mapbox",
           "type": "scattermapbox"
          }
         ],
         "name": "2022-02-19"
        },
        {
         "data": [
          {
           "customdata": [
            [
             "MP 03: Naamsestraat 62 Taste"
            ],
            [
             "MP 05: Calvariekapel KU Leuven"
            ],
            [
             "MP 07: Naamsestraat 81"
            ]
           ],
           "hovertemplate": "ts_str=2022-02-20<br>Human voice - Shouting=%{marker.size}<br>latitude=%{lat}<br>longitude=%{lon}<br>description=%{customdata[0]}<extra></extra>",
           "lat": [
            50.875850541602986,
            50.87448678827803,
            50.87381822269834
           ],
           "legendgroup": "",
           "lon": [
            4.700192168675618,
            4.699889625684066,
            4.70010170607578
           ],
           "marker": {
            "color": "#636efa",
            "size": [
             0,
             1,
             0
            ],
            "sizemode": "area",
            "sizeref": 0.1825
           },
           "mode": "markers",
           "name": "",
           "showlegend": false,
           "subplot": "mapbox",
           "type": "scattermapbox"
          }
         ],
         "name": "2022-02-20"
        },
        {
         "data": [
          {
           "customdata": [
            [
             "MP 03: Naamsestraat 62 Taste"
            ],
            [
             "MP 05: Calvariekapel KU Leuven"
            ],
            [
             "MP 06: Parkstraat 2 La Filosovia"
            ],
            [
             "MP 07: Naamsestraat 81"
            ]
           ],
           "hovertemplate": "ts_str=2022-02-21<br>Human voice - Shouting=%{marker.size}<br>latitude=%{lat}<br>longitude=%{lon}<br>description=%{customdata[0]}<extra></extra>",
           "lat": [
            50.875850541602986,
            50.87448678827803,
            50.87409073433792,
            50.87381822269834
           ],
           "legendgroup": "",
           "lon": [
            4.700192168675618,
            4.699889625684066,
            4.700018371714718,
            4.70010170607578
           ],
           "marker": {
            "color": "#636efa",
            "size": [
             0,
             2,
             0,
             1
            ],
            "sizemode": "area",
            "sizeref": 0.1825
           },
           "mode": "markers",
           "name": "",
           "showlegend": false,
           "subplot": "mapbox",
           "type": "scattermapbox"
          }
         ],
         "name": "2022-02-21"
        },
        {
         "data": [
          {
           "customdata": [
            [
             "MP 03: Naamsestraat 62 Taste"
            ],
            [
             "MP 05: Calvariekapel KU Leuven"
            ],
            [
             "MP 06: Parkstraat 2 La Filosovia"
            ],
            [
             "MP 07: Naamsestraat 81"
            ]
           ],
           "hovertemplate": "ts_str=2022-02-22<br>Human voice - Shouting=%{marker.size}<br>latitude=%{lat}<br>longitude=%{lon}<br>description=%{customdata[0]}<extra></extra>",
           "lat": [
            50.875850541602986,
            50.87448678827803,
            50.87409073433792,
            50.87381822269834
           ],
           "legendgroup": "",
           "lon": [
            4.700192168675618,
            4.699889625684066,
            4.700018371714718,
            4.70010170607578
           ],
           "marker": {
            "color": "#636efa",
            "size": [
             0,
             0,
             0,
             1
            ],
            "sizemode": "area",
            "sizeref": 0.1825
           },
           "mode": "markers",
           "name": "",
           "showlegend": false,
           "subplot": "mapbox",
           "type": "scattermapbox"
          }
         ],
         "name": "2022-02-22"
        },
        {
         "data": [
          {
           "customdata": [
            [
             "MP 03: Naamsestraat 62 Taste"
            ],
            [
             "MP 05: Calvariekapel KU Leuven"
            ],
            [
             "MP 06: Parkstraat 2 La Filosovia"
            ],
            [
             "MP 07: Naamsestraat 81"
            ]
           ],
           "hovertemplate": "ts_str=2022-02-23<br>Human voice - Shouting=%{marker.size}<br>latitude=%{lat}<br>longitude=%{lon}<br>description=%{customdata[0]}<extra></extra>",
           "lat": [
            50.875850541602986,
            50.87448678827803,
            50.87409073433792,
            50.87381822269834
           ],
           "legendgroup": "",
           "lon": [
            4.700192168675618,
            4.699889625684066,
            4.700018371714718,
            4.70010170607578
           ],
           "marker": {
            "color": "#636efa",
            "size": [
             0,
             2,
             2,
             0
            ],
            "sizemode": "area",
            "sizeref": 0.1825
           },
           "mode": "markers",
           "name": "",
           "showlegend": false,
           "subplot": "mapbox",
           "type": "scattermapbox"
          }
         ],
         "name": "2022-02-23"
        },
        {
         "data": [
          {
           "customdata": [
            [
             "MP 03: Naamsestraat 62 Taste"
            ],
            [
             "MP 05: Calvariekapel KU Leuven"
            ],
            [
             "MP 06: Parkstraat 2 La Filosovia"
            ],
            [
             "MP 07: Naamsestraat 81"
            ]
           ],
           "hovertemplate": "ts_str=2022-02-24<br>Human voice - Shouting=%{marker.size}<br>latitude=%{lat}<br>longitude=%{lon}<br>description=%{customdata[0]}<extra></extra>",
           "lat": [
            50.875850541602986,
            50.87448678827803,
            50.87409073433792,
            50.87381822269834
           ],
           "legendgroup": "",
           "lon": [
            4.700192168675618,
            4.699889625684066,
            4.700018371714718,
            4.70010170607578
           ],
           "marker": {
            "color": "#636efa",
            "size": [
             0,
             1,
             3,
             1
            ],
            "sizemode": "area",
            "sizeref": 0.1825
           },
           "mode": "markers",
           "name": "",
           "showlegend": false,
           "subplot": "mapbox",
           "type": "scattermapbox"
          }
         ],
         "name": "2022-02-24"
        },
        {
         "data": [
          {
           "customdata": [
            [
             "MP 03: Naamsestraat 62 Taste"
            ],
            [
             "MP 05: Calvariekapel KU Leuven"
            ],
            [
             "MP 06: Parkstraat 2 La Filosovia"
            ],
            [
             "MP 07: Naamsestraat 81"
            ]
           ],
           "hovertemplate": "ts_str=2022-02-25<br>Human voice - Shouting=%{marker.size}<br>latitude=%{lat}<br>longitude=%{lon}<br>description=%{customdata[0]}<extra></extra>",
           "lat": [
            50.875850541602986,
            50.87448678827803,
            50.87409073433792,
            50.87381822269834
           ],
           "legendgroup": "",
           "lon": [
            4.700192168675618,
            4.699889625684066,
            4.700018371714718,
            4.70010170607578
           ],
           "marker": {
            "color": "#636efa",
            "size": [
             10,
             14,
             73,
             10
            ],
            "sizemode": "area",
            "sizeref": 0.1825
           },
           "mode": "markers",
           "name": "",
           "showlegend": false,
           "subplot": "mapbox",
           "type": "scattermapbox"
          }
         ],
         "name": "2022-02-25"
        },
        {
         "data": [
          {
           "customdata": [
            [
             "MP 03: Naamsestraat 62 Taste"
            ],
            [
             "MP 05: Calvariekapel KU Leuven"
            ],
            [
             "MP 06: Parkstraat 2 La Filosovia"
            ],
            [
             "MP 07: Naamsestraat 81"
            ]
           ],
           "hovertemplate": "ts_str=2022-02-26<br>Human voice - Shouting=%{marker.size}<br>latitude=%{lat}<br>longitude=%{lon}<br>description=%{customdata[0]}<extra></extra>",
           "lat": [
            50.875850541602986,
            50.87448678827803,
            50.87409073433792,
            50.87381822269834
           ],
           "legendgroup": "",
           "lon": [
            4.700192168675618,
            4.699889625684066,
            4.700018371714718,
            4.70010170607578
           ],
           "marker": {
            "color": "#636efa",
            "size": [
             4,
             11,
             2,
             1
            ],
            "sizemode": "area",
            "sizeref": 0.1825
           },
           "mode": "markers",
           "name": "",
           "showlegend": false,
           "subplot": "mapbox",
           "type": "scattermapbox"
          }
         ],
         "name": "2022-02-26"
        },
        {
         "data": [
          {
           "customdata": [
            [
             "MP 03: Naamsestraat 62 Taste"
            ],
            [
             "MP 05: Calvariekapel KU Leuven"
            ],
            [
             "MP 06: Parkstraat 2 La Filosovia"
            ],
            [
             "MP 07: Naamsestraat 81"
            ]
           ],
           "hovertemplate": "ts_str=2022-02-27<br>Human voice - Shouting=%{marker.size}<br>latitude=%{lat}<br>longitude=%{lon}<br>description=%{customdata[0]}<extra></extra>",
           "lat": [
            50.875850541602986,
            50.87448678827803,
            50.87409073433792,
            50.87381822269834
           ],
           "legendgroup": "",
           "lon": [
            4.700192168675618,
            4.699889625684066,
            4.700018371714718,
            4.70010170607578
           ],
           "marker": {
            "color": "#636efa",
            "size": [
             1,
             2,
             0,
             4
            ],
            "sizemode": "area",
            "sizeref": 0.1825
           },
           "mode": "markers",
           "name": "",
           "showlegend": false,
           "subplot": "mapbox",
           "type": "scattermapbox"
          }
         ],
         "name": "2022-02-27"
        },
        {
         "data": [
          {
           "customdata": [
            [
             "MP 03: Naamsestraat 62 Taste"
            ],
            [
             "MP 05: Calvariekapel KU Leuven"
            ],
            [
             "MP 06: Parkstraat 2 La Filosovia"
            ],
            [
             "MP 07: Naamsestraat 81"
            ]
           ],
           "hovertemplate": "ts_str=2022-02-28<br>Human voice - Shouting=%{marker.size}<br>latitude=%{lat}<br>longitude=%{lon}<br>description=%{customdata[0]}<extra></extra>",
           "lat": [
            50.875850541602986,
            50.87448678827803,
            50.87409073433792,
            50.87381822269834
           ],
           "legendgroup": "",
           "lon": [
            4.700192168675618,
            4.699889625684066,
            4.700018371714718,
            4.70010170607578
           ],
           "marker": {
            "color": "#636efa",
            "size": [
             1,
             6,
             0,
             13
            ],
            "sizemode": "area",
            "sizeref": 0.1825
           },
           "mode": "markers",
           "name": "",
           "showlegend": false,
           "subplot": "mapbox",
           "type": "scattermapbox"
          }
         ],
         "name": "2022-02-28"
        },
        {
         "data": [
          {
           "customdata": [
            [
             "MP 03: Naamsestraat 62 Taste"
            ],
            [
             "MP 05: Calvariekapel KU Leuven"
            ],
            [
             "MP 06: Parkstraat 2 La Filosovia"
            ],
            [
             "MP 07: Naamsestraat 81"
            ]
           ],
           "hovertemplate": "ts_str=2022-03-01<br>Human voice - Shouting=%{marker.size}<br>latitude=%{lat}<br>longitude=%{lon}<br>description=%{customdata[0]}<extra></extra>",
           "lat": [
            50.875850541602986,
            50.87448678827803,
            50.87409073433792,
            50.87381822269834
           ],
           "legendgroup": "",
           "lon": [
            4.700192168675618,
            4.699889625684066,
            4.700018371714718,
            4.70010170607578
           ],
           "marker": {
            "color": "#636efa",
            "size": [
             2,
             4,
             1,
             13
            ],
            "sizemode": "area",
            "sizeref": 0.1825
           },
           "mode": "markers",
           "name": "",
           "showlegend": false,
           "subplot": "mapbox",
           "type": "scattermapbox"
          }
         ],
         "name": "2022-03-01"
        },
        {
         "data": [
          {
           "customdata": [
            [
             "MP 03: Naamsestraat 62 Taste"
            ],
            [
             "MP 05: Calvariekapel KU Leuven"
            ],
            [
             "MP 06: Parkstraat 2 La Filosovia"
            ],
            [
             "MP 07: Naamsestraat 81"
            ]
           ],
           "hovertemplate": "ts_str=2022-03-02<br>Human voice - Shouting=%{marker.size}<br>latitude=%{lat}<br>longitude=%{lon}<br>description=%{customdata[0]}<extra></extra>",
           "lat": [
            50.875850541602986,
            50.87448678827803,
            50.87409073433792,
            50.87381822269834
           ],
           "legendgroup": "",
           "lon": [
            4.700192168675618,
            4.699889625684066,
            4.700018371714718,
            4.70010170607578
           ],
           "marker": {
            "color": "#636efa",
            "size": [
             3,
             5,
             0,
             7
            ],
            "sizemode": "area",
            "sizeref": 0.1825
           },
           "mode": "markers",
           "name": "",
           "showlegend": false,
           "subplot": "mapbox",
           "type": "scattermapbox"
          }
         ],
         "name": "2022-03-02"
        },
        {
         "data": [
          {
           "customdata": [
            [
             "MP 03: Naamsestraat 62 Taste"
            ],
            [
             "MP 05: Calvariekapel KU Leuven"
            ],
            [
             "MP 06: Parkstraat 2 La Filosovia"
            ],
            [
             "MP 07: Naamsestraat 81"
            ]
           ],
           "hovertemplate": "ts_str=2022-03-03<br>Human voice - Shouting=%{marker.size}<br>latitude=%{lat}<br>longitude=%{lon}<br>description=%{customdata[0]}<extra></extra>",
           "lat": [
            50.875850541602986,
            50.87448678827803,
            50.87409073433792,
            50.87381822269834
           ],
           "legendgroup": "",
           "lon": [
            4.700192168675618,
            4.699889625684066,
            4.700018371714718,
            4.70010170607578
           ],
           "marker": {
            "color": "#636efa",
            "size": [
             3,
             15,
             2,
             17
            ],
            "sizemode": "area",
            "sizeref": 0.1825
           },
           "mode": "markers",
           "name": "",
           "showlegend": false,
           "subplot": "mapbox",
           "type": "scattermapbox"
          }
         ],
         "name": "2022-03-03"
        },
        {
         "data": [
          {
           "customdata": [
            [
             "MP 03: Naamsestraat 62 Taste"
            ],
            [
             "MP 05: Calvariekapel KU Leuven"
            ],
            [
             "MP 06: Parkstraat 2 La Filosovia"
            ],
            [
             "MP 07: Naamsestraat 81"
            ]
           ],
           "hovertemplate": "ts_str=2022-03-04<br>Human voice - Shouting=%{marker.size}<br>latitude=%{lat}<br>longitude=%{lon}<br>description=%{customdata[0]}<extra></extra>",
           "lat": [
            50.875850541602986,
            50.87448678827803,
            50.87409073433792,
            50.87381822269834
           ],
           "legendgroup": "",
           "lon": [
            4.700192168675618,
            4.699889625684066,
            4.700018371714718,
            4.70010170607578
           ],
           "marker": {
            "color": "#636efa",
            "size": [
             2,
             9,
             4,
             11
            ],
            "sizemode": "area",
            "sizeref": 0.1825
           },
           "mode": "markers",
           "name": "",
           "showlegend": false,
           "subplot": "mapbox",
           "type": "scattermapbox"
          }
         ],
         "name": "2022-03-04"
        },
        {
         "data": [
          {
           "customdata": [
            [
             "MP 03: Naamsestraat 62 Taste"
            ],
            [
             "MP 05: Calvariekapel KU Leuven"
            ],
            [
             "MP 06: Parkstraat 2 La Filosovia"
            ],
            [
             "MP 07: Naamsestraat 81"
            ]
           ],
           "hovertemplate": "ts_str=2022-03-05<br>Human voice - Shouting=%{marker.size}<br>latitude=%{lat}<br>longitude=%{lon}<br>description=%{customdata[0]}<extra></extra>",
           "lat": [
            50.875850541602986,
            50.87448678827803,
            50.87409073433792,
            50.87381822269834
           ],
           "legendgroup": "",
           "lon": [
            4.700192168675618,
            4.699889625684066,
            4.700018371714718,
            4.70010170607578
           ],
           "marker": {
            "color": "#636efa",
            "size": [
             4,
             1,
             1,
             0
            ],
            "sizemode": "area",
            "sizeref": 0.1825
           },
           "mode": "markers",
           "name": "",
           "showlegend": false,
           "subplot": "mapbox",
           "type": "scattermapbox"
          }
         ],
         "name": "2022-03-05"
        },
        {
         "data": [
          {
           "customdata": [
            [
             "MP 03: Naamsestraat 62 Taste"
            ],
            [
             "MP 05: Calvariekapel KU Leuven"
            ],
            [
             "MP 06: Parkstraat 2 La Filosovia"
            ],
            [
             "MP 07: Naamsestraat 81"
            ]
           ],
           "hovertemplate": "ts_str=2022-03-06<br>Human voice - Shouting=%{marker.size}<br>latitude=%{lat}<br>longitude=%{lon}<br>description=%{customdata[0]}<extra></extra>",
           "lat": [
            50.875850541602986,
            50.87448678827803,
            50.87409073433792,
            50.87381822269834
           ],
           "legendgroup": "",
           "lon": [
            4.700192168675618,
            4.699889625684066,
            4.700018371714718,
            4.70010170607578
           ],
           "marker": {
            "color": "#636efa",
            "size": [
             0,
             2,
             0,
             0
            ],
            "sizemode": "area",
            "sizeref": 0.1825
           },
           "mode": "markers",
           "name": "",
           "showlegend": false,
           "subplot": "mapbox",
           "type": "scattermapbox"
          }
         ],
         "name": "2022-03-06"
        },
        {
         "data": [
          {
           "customdata": [
            [
             "MP 03: Naamsestraat 62 Taste"
            ],
            [
             "MP 05: Calvariekapel KU Leuven"
            ],
            [
             "MP 06: Parkstraat 2 La Filosovia"
            ],
            [
             "MP 07: Naamsestraat 81"
            ],
            [
             "MP08bis - Vrijthof"
            ]
           ],
           "hovertemplate": "ts_str=2022-10-26<br>Human voice - Shouting=%{marker.size}<br>latitude=%{lat}<br>longitude=%{lon}<br>description=%{customdata[0]}<extra></extra>",
           "lat": [
            50.875850541602986,
            50.87448678827803,
            50.87409073433792,
            50.87381822269834,
            50.87890579999999
           ],
           "legendgroup": "",
           "lon": [
            4.700192168675618,
            4.699889625684066,
            4.700018371714718,
            4.70010170607578,
            4.7011444846213415
           ],
           "marker": {
            "color": "#636efa",
            "size": [
             0,
             2,
             0,
             0,
             0
            ],
            "sizemode": "area",
            "sizeref": 0.1825
           },
           "mode": "markers",
           "name": "",
           "showlegend": false,
           "subplot": "mapbox",
           "type": "scattermapbox"
          }
         ],
         "name": "2022-10-26"
        },
        {
         "data": [
          {
           "customdata": [
            [
             "MP 03: Naamsestraat 62 Taste"
            ],
            [
             "MP 05: Calvariekapel KU Leuven"
            ],
            [
             "MP 06: Parkstraat 2 La Filosovia"
            ],
            [
             "MP 07: Naamsestraat 81"
            ]
           ],
           "hovertemplate": "ts_str=2022-10-27<br>Human voice - Shouting=%{marker.size}<br>latitude=%{lat}<br>longitude=%{lon}<br>description=%{customdata[0]}<extra></extra>",
           "lat": [
            50.875850541602986,
            50.87448678827803,
            50.87409073433792,
            50.87381822269834
           ],
           "legendgroup": "",
           "lon": [
            4.700192168675618,
            4.699889625684066,
            4.700018371714718,
            4.70010170607578
           ],
           "marker": {
            "color": "#636efa",
            "size": [
             7,
             9,
             0,
             8
            ],
            "sizemode": "area",
            "sizeref": 0.1825
           },
           "mode": "markers",
           "name": "",
           "showlegend": false,
           "subplot": "mapbox",
           "type": "scattermapbox"
          }
         ],
         "name": "2022-10-27"
        },
        {
         "data": [
          {
           "customdata": [
            [
             "MP 03: Naamsestraat 62 Taste"
            ],
            [
             "MP 05: Calvariekapel KU Leuven"
            ],
            [
             "MP 06: Parkstraat 2 La Filosovia"
            ],
            [
             "MP 07: Naamsestraat 81"
            ]
           ],
           "hovertemplate": "ts_str=2022-10-28<br>Human voice - Shouting=%{marker.size}<br>latitude=%{lat}<br>longitude=%{lon}<br>description=%{customdata[0]}<extra></extra>",
           "lat": [
            50.875850541602986,
            50.87448678827803,
            50.87409073433792,
            50.87381822269834
           ],
           "legendgroup": "",
           "lon": [
            4.700192168675618,
            4.699889625684066,
            4.700018371714718,
            4.70010170607578
           ],
           "marker": {
            "color": "#636efa",
            "size": [
             7,
             4,
             0,
             5
            ],
            "sizemode": "area",
            "sizeref": 0.1825
           },
           "mode": "markers",
           "name": "",
           "showlegend": false,
           "subplot": "mapbox",
           "type": "scattermapbox"
          }
         ],
         "name": "2022-10-28"
        },
        {
         "data": [
          {
           "customdata": [
            [
             "MP 03: Naamsestraat 62 Taste"
            ],
            [
             "MP 05: Calvariekapel KU Leuven"
            ],
            [
             "MP 06: Parkstraat 2 La Filosovia"
            ],
            [
             "MP 07: Naamsestraat 81"
            ]
           ],
           "hovertemplate": "ts_str=2022-10-29<br>Human voice - Shouting=%{marker.size}<br>latitude=%{lat}<br>longitude=%{lon}<br>description=%{customdata[0]}<extra></extra>",
           "lat": [
            50.875850541602986,
            50.87448678827803,
            50.87409073433792,
            50.87381822269834
           ],
           "legendgroup": "",
           "lon": [
            4.700192168675618,
            4.699889625684066,
            4.700018371714718,
            4.70010170607578
           ],
           "marker": {
            "color": "#636efa",
            "size": [
             1,
             2,
             0,
             2
            ],
            "sizemode": "area",
            "sizeref": 0.1825
           },
           "mode": "markers",
           "name": "",
           "showlegend": false,
           "subplot": "mapbox",
           "type": "scattermapbox"
          }
         ],
         "name": "2022-10-29"
        },
        {
         "data": [
          {
           "customdata": [
            [
             "MP 03: Naamsestraat 62 Taste"
            ],
            [
             "MP 05: Calvariekapel KU Leuven"
            ],
            [
             "MP 06: Parkstraat 2 La Filosovia"
            ],
            [
             "MP 07: Naamsestraat 81"
            ]
           ],
           "hovertemplate": "ts_str=2022-10-30<br>Human voice - Shouting=%{marker.size}<br>latitude=%{lat}<br>longitude=%{lon}<br>description=%{customdata[0]}<extra></extra>",
           "lat": [
            50.875850541602986,
            50.87448678827803,
            50.87409073433792,
            50.87381822269834
           ],
           "legendgroup": "",
           "lon": [
            4.700192168675618,
            4.699889625684066,
            4.700018371714718,
            4.70010170607578
           ],
           "marker": {
            "color": "#636efa",
            "size": [
             0,
             5,
             0,
             1
            ],
            "sizemode": "area",
            "sizeref": 0.1825
           },
           "mode": "markers",
           "name": "",
           "showlegend": false,
           "subplot": "mapbox",
           "type": "scattermapbox"
          }
         ],
         "name": "2022-10-30"
        },
        {
         "data": [
          {
           "customdata": [
            [
             "MP 03: Naamsestraat 62 Taste"
            ],
            [
             "MP 05: Calvariekapel KU Leuven"
            ],
            [
             "MP 06: Parkstraat 2 La Filosovia"
            ],
            [
             "MP 07: Naamsestraat 81"
            ]
           ],
           "hovertemplate": "ts_str=2022-10-31<br>Human voice - Shouting=%{marker.size}<br>latitude=%{lat}<br>longitude=%{lon}<br>description=%{customdata[0]}<extra></extra>",
           "lat": [
            50.875850541602986,
            50.87448678827803,
            50.87409073433792,
            50.87381822269834
           ],
           "legendgroup": "",
           "lon": [
            4.700192168675618,
            4.699889625684066,
            4.700018371714718,
            4.70010170607578
           ],
           "marker": {
            "color": "#636efa",
            "size": [
             2,
             9,
             0,
             1
            ],
            "sizemode": "area",
            "sizeref": 0.1825
           },
           "mode": "markers",
           "name": "",
           "showlegend": false,
           "subplot": "mapbox",
           "type": "scattermapbox"
          }
         ],
         "name": "2022-10-31"
        },
        {
         "data": [
          {
           "customdata": [
            [
             "MP 03: Naamsestraat 62 Taste"
            ],
            [
             "MP 05: Calvariekapel KU Leuven"
            ],
            [
             "MP 06: Parkstraat 2 La Filosovia"
            ],
            [
             "MP 07: Naamsestraat 81"
            ],
            [
             "MP08bis - Vrijthof"
            ]
           ],
           "hovertemplate": "ts_str=2022-11-01<br>Human voice - Shouting=%{marker.size}<br>latitude=%{lat}<br>longitude=%{lon}<br>description=%{customdata[0]}<extra></extra>",
           "lat": [
            50.875850541602986,
            50.87448678827803,
            50.87409073433792,
            50.87381822269834,
            50.87890579999999
           ],
           "legendgroup": "",
           "lon": [
            4.700192168675618,
            4.699889625684066,
            4.700018371714718,
            4.70010170607578,
            4.7011444846213415
           ],
           "marker": {
            "color": "#636efa",
            "size": [
             4,
             2,
             3,
             2,
             0
            ],
            "sizemode": "area",
            "sizeref": 0.1825
           },
           "mode": "markers",
           "name": "",
           "showlegend": false,
           "subplot": "mapbox",
           "type": "scattermapbox"
          }
         ],
         "name": "2022-11-01"
        },
        {
         "data": [
          {
           "customdata": [
            [
             "MP 03: Naamsestraat 62 Taste"
            ],
            [
             "MP 05: Calvariekapel KU Leuven"
            ],
            [
             "MP 06: Parkstraat 2 La Filosovia"
            ],
            [
             "MP 07: Naamsestraat 81"
            ],
            [
             "MP08bis - Vrijthof"
            ]
           ],
           "hovertemplate": "ts_str=2022-11-11<br>Human voice - Shouting=%{marker.size}<br>latitude=%{lat}<br>longitude=%{lon}<br>description=%{customdata[0]}<extra></extra>",
           "lat": [
            50.875850541602986,
            50.87448678827803,
            50.87409073433792,
            50.87381822269834,
            50.87890579999999
           ],
           "legendgroup": "",
           "lon": [
            4.700192168675618,
            4.699889625684066,
            4.700018371714718,
            4.70010170607578,
            4.7011444846213415
           ],
           "marker": {
            "color": "#636efa",
            "size": [
             7,
             6,
             4,
             2,
             0
            ],
            "sizemode": "area",
            "sizeref": 0.1825
           },
           "mode": "markers",
           "name": "",
           "showlegend": false,
           "subplot": "mapbox",
           "type": "scattermapbox"
          }
         ],
         "name": "2022-11-11"
        },
        {
         "data": [
          {
           "customdata": [
            [
             "MP 03: Naamsestraat 62 Taste"
            ],
            [
             "MP 05: Calvariekapel KU Leuven"
            ],
            [
             "MP 06: Parkstraat 2 La Filosovia"
            ],
            [
             "MP 07: Naamsestraat 81"
            ]
           ],
           "hovertemplate": "ts_str=2022-11-12<br>Human voice - Shouting=%{marker.size}<br>latitude=%{lat}<br>longitude=%{lon}<br>description=%{customdata[0]}<extra></extra>",
           "lat": [
            50.875850541602986,
            50.87448678827803,
            50.87409073433792,
            50.87381822269834
           ],
           "legendgroup": "",
           "lon": [
            4.700192168675618,
            4.699889625684066,
            4.700018371714718,
            4.70010170607578
           ],
           "marker": {
            "color": "#636efa",
            "size": [
             0,
             2,
             1,
             0
            ],
            "sizemode": "area",
            "sizeref": 0.1825
           },
           "mode": "markers",
           "name": "",
           "showlegend": false,
           "subplot": "mapbox",
           "type": "scattermapbox"
          }
         ],
         "name": "2022-11-12"
        },
        {
         "data": [
          {
           "customdata": [
            [
             "MP 03: Naamsestraat 62 Taste"
            ],
            [
             "MP 05: Calvariekapel KU Leuven"
            ],
            [
             "MP 06: Parkstraat 2 La Filosovia"
            ],
            [
             "MP 07: Naamsestraat 81"
            ]
           ],
           "hovertemplate": "ts_str=2022-11-13<br>Human voice - Shouting=%{marker.size}<br>latitude=%{lat}<br>longitude=%{lon}<br>description=%{customdata[0]}<extra></extra>",
           "lat": [
            50.875850541602986,
            50.87448678827803,
            50.87409073433792,
            50.87381822269834
           ],
           "legendgroup": "",
           "lon": [
            4.700192168675618,
            4.699889625684066,
            4.700018371714718,
            4.70010170607578
           ],
           "marker": {
            "color": "#636efa",
            "size": [
             0,
             1,
             0,
             0
            ],
            "sizemode": "area",
            "sizeref": 0.1825
           },
           "mode": "markers",
           "name": "",
           "showlegend": false,
           "subplot": "mapbox",
           "type": "scattermapbox"
          }
         ],
         "name": "2022-11-13"
        },
        {
         "data": [
          {
           "customdata": [
            [
             "MP 03: Naamsestraat 62 Taste"
            ],
            [
             "MP 05: Calvariekapel KU Leuven"
            ],
            [
             "MP 06: Parkstraat 2 La Filosovia"
            ],
            [
             "MP 07: Naamsestraat 81"
            ]
           ],
           "hovertemplate": "ts_str=2022-11-14<br>Human voice - Shouting=%{marker.size}<br>latitude=%{lat}<br>longitude=%{lon}<br>description=%{customdata[0]}<extra></extra>",
           "lat": [
            50.875850541602986,
            50.87448678827803,
            50.87409073433792,
            50.87381822269834
           ],
           "legendgroup": "",
           "lon": [
            4.700192168675618,
            4.699889625684066,
            4.700018371714718,
            4.70010170607578
           ],
           "marker": {
            "color": "#636efa",
            "size": [
             0,
             2,
             1,
             0
            ],
            "sizemode": "area",
            "sizeref": 0.1825
           },
           "mode": "markers",
           "name": "",
           "showlegend": false,
           "subplot": "mapbox",
           "type": "scattermapbox"
          }
         ],
         "name": "2022-11-14"
        },
        {
         "data": [
          {
           "customdata": [
            [
             "MP 03: Naamsestraat 62 Taste"
            ],
            [
             "MP 05: Calvariekapel KU Leuven"
            ],
            [
             "MP 06: Parkstraat 2 La Filosovia"
            ],
            [
             "MP 07: Naamsestraat 81"
            ]
           ],
           "hovertemplate": "ts_str=2022-11-15<br>Human voice - Shouting=%{marker.size}<br>latitude=%{lat}<br>longitude=%{lon}<br>description=%{customdata[0]}<extra></extra>",
           "lat": [
            50.875850541602986,
            50.87448678827803,
            50.87409073433792,
            50.87381822269834
           ],
           "legendgroup": "",
           "lon": [
            4.700192168675618,
            4.699889625684066,
            4.700018371714718,
            4.70010170607578
           ],
           "marker": {
            "color": "#636efa",
            "size": [
             4,
             4,
             1,
             0
            ],
            "sizemode": "area",
            "sizeref": 0.1825
           },
           "mode": "markers",
           "name": "",
           "showlegend": false,
           "subplot": "mapbox",
           "type": "scattermapbox"
          }
         ],
         "name": "2022-11-15"
        },
        {
         "data": [
          {
           "customdata": [
            [
             "MP 03: Naamsestraat 62 Taste"
            ],
            [
             "MP 05: Calvariekapel KU Leuven"
            ],
            [
             "MP 06: Parkstraat 2 La Filosovia"
            ],
            [
             "MP 07: Naamsestraat 81"
            ]
           ],
           "hovertemplate": "ts_str=2022-11-16<br>Human voice - Shouting=%{marker.size}<br>latitude=%{lat}<br>longitude=%{lon}<br>description=%{customdata[0]}<extra></extra>",
           "lat": [
            50.875850541602986,
            50.87448678827803,
            50.87409073433792,
            50.87381822269834
           ],
           "legendgroup": "",
           "lon": [
            4.700192168675618,
            4.699889625684066,
            4.700018371714718,
            4.70010170607578
           ],
           "marker": {
            "color": "#636efa",
            "size": [
             4,
             5,
             2,
             3
            ],
            "sizemode": "area",
            "sizeref": 0.1825
           },
           "mode": "markers",
           "name": "",
           "showlegend": false,
           "subplot": "mapbox",
           "type": "scattermapbox"
          }
         ],
         "name": "2022-11-16"
        },
        {
         "data": [
          {
           "customdata": [
            [
             "MP 03: Naamsestraat 62 Taste"
            ],
            [
             "MP 05: Calvariekapel KU Leuven"
            ],
            [
             "MP 06: Parkstraat 2 La Filosovia"
            ],
            [
             "MP 07: Naamsestraat 81"
            ],
            [
             "MP08bis - Vrijthof"
            ]
           ],
           "hovertemplate": "ts_str=2022-11-17<br>Human voice - Shouting=%{marker.size}<br>latitude=%{lat}<br>longitude=%{lon}<br>description=%{customdata[0]}<extra></extra>",
           "lat": [
            50.875850541602986,
            50.87448678827803,
            50.87409073433792,
            50.87381822269834,
            50.87890579999999
           ],
           "legendgroup": "",
           "lon": [
            4.700192168675618,
            4.699889625684066,
            4.700018371714718,
            4.70010170607578,
            4.7011444846213415
           ],
           "marker": {
            "color": "#636efa",
            "size": [
             1,
             1,
             1,
             2,
             0
            ],
            "sizemode": "area",
            "sizeref": 0.1825
           },
           "mode": "markers",
           "name": "",
           "showlegend": false,
           "subplot": "mapbox",
           "type": "scattermapbox"
          }
         ],
         "name": "2022-11-17"
        },
        {
         "data": [
          {
           "customdata": [
            [
             "MP 03: Naamsestraat 62 Taste"
            ],
            [
             "MP 05: Calvariekapel KU Leuven"
            ],
            [
             "MP 06: Parkstraat 2 La Filosovia"
            ],
            [
             "MP 07: Naamsestraat 81"
            ],
            [
             "MP08bis - Vrijthof"
            ]
           ],
           "hovertemplate": "ts_str=2022-11-18<br>Human voice - Shouting=%{marker.size}<br>latitude=%{lat}<br>longitude=%{lon}<br>description=%{customdata[0]}<extra></extra>",
           "lat": [
            50.875850541602986,
            50.87448678827803,
            50.87409073433792,
            50.87381822269834,
            50.87890579999999
           ],
           "legendgroup": "",
           "lon": [
            4.700192168675618,
            4.699889625684066,
            4.700018371714718,
            4.70010170607578,
            4.7011444846213415
           ],
           "marker": {
            "color": "#636efa",
            "size": [
             2,
             4,
             0,
             1,
             0
            ],
            "sizemode": "area",
            "sizeref": 0.1825
           },
           "mode": "markers",
           "name": "",
           "showlegend": false,
           "subplot": "mapbox",
           "type": "scattermapbox"
          }
         ],
         "name": "2022-11-18"
        },
        {
         "data": [
          {
           "customdata": [
            [
             "MP 03: Naamsestraat 62 Taste"
            ],
            [
             "MP 05: Calvariekapel KU Leuven"
            ],
            [
             "MP 06: Parkstraat 2 La Filosovia"
            ],
            [
             "MP 07: Naamsestraat 81"
            ]
           ],
           "hovertemplate": "ts_str=2022-11-19<br>Human voice - Shouting=%{marker.size}<br>latitude=%{lat}<br>longitude=%{lon}<br>description=%{customdata[0]}<extra></extra>",
           "lat": [
            50.875850541602986,
            50.87448678827803,
            50.87409073433792,
            50.87381822269834
           ],
           "legendgroup": "",
           "lon": [
            4.700192168675618,
            4.699889625684066,
            4.700018371714718,
            4.70010170607578
           ],
           "marker": {
            "color": "#636efa",
            "size": [
             0,
             1,
             0,
             0
            ],
            "sizemode": "area",
            "sizeref": 0.1825
           },
           "mode": "markers",
           "name": "",
           "showlegend": false,
           "subplot": "mapbox",
           "type": "scattermapbox"
          }
         ],
         "name": "2022-11-19"
        },
        {
         "data": [
          {
           "customdata": [
            [
             "MP 03: Naamsestraat 62 Taste"
            ],
            [
             "MP 05: Calvariekapel KU Leuven"
            ],
            [
             "MP 06: Parkstraat 2 La Filosovia"
            ],
            [
             "MP 07: Naamsestraat 81"
            ],
            [
             "MP08bis - Vrijthof"
            ]
           ],
           "hovertemplate": "ts_str=2022-11-20<br>Human voice - Shouting=%{marker.size}<br>latitude=%{lat}<br>longitude=%{lon}<br>description=%{customdata[0]}<extra></extra>",
           "lat": [
            50.875850541602986,
            50.87448678827803,
            50.87409073433792,
            50.87381822269834,
            50.87890579999999
           ],
           "legendgroup": "",
           "lon": [
            4.700192168675618,
            4.699889625684066,
            4.700018371714718,
            4.70010170607578,
            4.7011444846213415
           ],
           "marker": {
            "color": "#636efa",
            "size": [
             1,
             0,
             1,
             0,
             0
            ],
            "sizemode": "area",
            "sizeref": 0.1825
           },
           "mode": "markers",
           "name": "",
           "showlegend": false,
           "subplot": "mapbox",
           "type": "scattermapbox"
          }
         ],
         "name": "2022-11-20"
        },
        {
         "data": [
          {
           "customdata": [
            [
             "MP 03: Naamsestraat 62 Taste"
            ],
            [
             "MP 05: Calvariekapel KU Leuven"
            ],
            [
             "MP 06: Parkstraat 2 La Filosovia"
            ],
            [
             "MP 07: Naamsestraat 81"
            ]
           ],
           "hovertemplate": "ts_str=2022-11-21<br>Human voice - Shouting=%{marker.size}<br>latitude=%{lat}<br>longitude=%{lon}<br>description=%{customdata[0]}<extra></extra>",
           "lat": [
            50.875850541602986,
            50.87448678827803,
            50.87409073433792,
            50.87381822269834
           ],
           "legendgroup": "",
           "lon": [
            4.700192168675618,
            4.699889625684066,
            4.700018371714718,
            4.70010170607578
           ],
           "marker": {
            "color": "#636efa",
            "size": [
             0,
             1,
             1,
             0
            ],
            "sizemode": "area",
            "sizeref": 0.1825
           },
           "mode": "markers",
           "name": "",
           "showlegend": false,
           "subplot": "mapbox",
           "type": "scattermapbox"
          }
         ],
         "name": "2022-11-21"
        },
        {
         "data": [
          {
           "customdata": [
            [
             "MP 03: Naamsestraat 62 Taste"
            ],
            [
             "MP 05: Calvariekapel KU Leuven"
            ],
            [
             "MP 06: Parkstraat 2 La Filosovia"
            ],
            [
             "MP 07: Naamsestraat 81"
            ],
            [
             "MP08bis - Vrijthof"
            ]
           ],
           "hovertemplate": "ts_str=2022-11-22<br>Human voice - Shouting=%{marker.size}<br>latitude=%{lat}<br>longitude=%{lon}<br>description=%{customdata[0]}<extra></extra>",
           "lat": [
            50.875850541602986,
            50.87448678827803,
            50.87409073433792,
            50.87381822269834,
            50.87890579999999
           ],
           "legendgroup": "",
           "lon": [
            4.700192168675618,
            4.699889625684066,
            4.700018371714718,
            4.70010170607578,
            4.7011444846213415
           ],
           "marker": {
            "color": "#636efa",
            "size": [
             1,
             3,
             0,
             1,
             0
            ],
            "sizemode": "area",
            "sizeref": 0.1825
           },
           "mode": "markers",
           "name": "",
           "showlegend": false,
           "subplot": "mapbox",
           "type": "scattermapbox"
          }
         ],
         "name": "2022-11-22"
        },
        {
         "data": [
          {
           "customdata": [
            [
             "MP 03: Naamsestraat 62 Taste"
            ],
            [
             "MP 05: Calvariekapel KU Leuven"
            ],
            [
             "MP 06: Parkstraat 2 La Filosovia"
            ],
            [
             "MP 07: Naamsestraat 81"
            ],
            [
             "MP08bis - Vrijthof"
            ]
           ],
           "hovertemplate": "ts_str=2022-12-23<br>Human voice - Shouting=%{marker.size}<br>latitude=%{lat}<br>longitude=%{lon}<br>description=%{customdata[0]}<extra></extra>",
           "lat": [
            50.875850541602986,
            50.87448678827803,
            50.87409073433792,
            50.87381822269834,
            50.87890579999999
           ],
           "legendgroup": "",
           "lon": [
            4.700192168675618,
            4.699889625684066,
            4.700018371714718,
            4.70010170607578,
            4.7011444846213415
           ],
           "marker": {
            "color": "#636efa",
            "size": [
             0,
             1,
             0,
             0,
             4
            ],
            "sizemode": "area",
            "sizeref": 0.1825
           },
           "mode": "markers",
           "name": "",
           "showlegend": false,
           "subplot": "mapbox",
           "type": "scattermapbox"
          }
         ],
         "name": "2022-12-23"
        },
        {
         "data": [
          {
           "customdata": [
            [
             "MP 03: Naamsestraat 62 Taste"
            ],
            [
             "MP 05: Calvariekapel KU Leuven"
            ],
            [
             "MP 06: Parkstraat 2 La Filosovia"
            ],
            [
             "MP 07: Naamsestraat 81"
            ]
           ],
           "hovertemplate": "ts_str=2022-12-24<br>Human voice - Shouting=%{marker.size}<br>latitude=%{lat}<br>longitude=%{lon}<br>description=%{customdata[0]}<extra></extra>",
           "lat": [
            50.875850541602986,
            50.87448678827803,
            50.87409073433792,
            50.87381822269834
           ],
           "legendgroup": "",
           "lon": [
            4.700192168675618,
            4.699889625684066,
            4.700018371714718,
            4.70010170607578
           ],
           "marker": {
            "color": "#636efa",
            "size": [
             0,
             0,
             1,
             0
            ],
            "sizemode": "area",
            "sizeref": 0.1825
           },
           "mode": "markers",
           "name": "",
           "showlegend": false,
           "subplot": "mapbox",
           "type": "scattermapbox"
          }
         ],
         "name": "2022-12-24"
        },
        {
         "data": [
          {
           "customdata": [
            [
             "MP 03: Naamsestraat 62 Taste"
            ],
            [
             "MP 05: Calvariekapel KU Leuven"
            ],
            [
             "MP 06: Parkstraat 2 La Filosovia"
            ],
            [
             "MP 07: Naamsestraat 81"
            ]
           ],
           "hovertemplate": "ts_str=2022-12-25<br>Human voice - Shouting=%{marker.size}<br>latitude=%{lat}<br>longitude=%{lon}<br>description=%{customdata[0]}<extra></extra>",
           "lat": [
            50.875850541602986,
            50.87448678827803,
            50.87409073433792,
            50.87381822269834
           ],
           "legendgroup": "",
           "lon": [
            4.700192168675618,
            4.699889625684066,
            4.700018371714718,
            4.70010170607578
           ],
           "marker": {
            "color": "#636efa",
            "size": [
             0,
             0,
             1,
             0
            ],
            "sizemode": "area",
            "sizeref": 0.1825
           },
           "mode": "markers",
           "name": "",
           "showlegend": false,
           "subplot": "mapbox",
           "type": "scattermapbox"
          }
         ],
         "name": "2022-12-25"
        },
        {
         "data": [
          {
           "customdata": [
            [
             "MP 03: Naamsestraat 62 Taste"
            ],
            [
             "MP 05: Calvariekapel KU Leuven"
            ],
            [
             "MP 06: Parkstraat 2 La Filosovia"
            ],
            [
             "MP 07: Naamsestraat 81"
            ]
           ],
           "hovertemplate": "ts_str=2022-12-26<br>Human voice - Shouting=%{marker.size}<br>latitude=%{lat}<br>longitude=%{lon}<br>description=%{customdata[0]}<extra></extra>",
           "lat": [
            50.875850541602986,
            50.87448678827803,
            50.87409073433792,
            50.87381822269834
           ],
           "legendgroup": "",
           "lon": [
            4.700192168675618,
            4.699889625684066,
            4.700018371714718,
            4.70010170607578
           ],
           "marker": {
            "color": "#636efa",
            "size": [
             1,
             1,
             0,
             0
            ],
            "sizemode": "area",
            "sizeref": 0.1825
           },
           "mode": "markers",
           "name": "",
           "showlegend": false,
           "subplot": "mapbox",
           "type": "scattermapbox"
          }
         ],
         "name": "2022-12-26"
        },
        {
         "data": [
          {
           "customdata": [
            [
             "MP 03: Naamsestraat 62 Taste"
            ],
            [
             "MP 05: Calvariekapel KU Leuven"
            ],
            [
             "MP 06: Parkstraat 2 La Filosovia"
            ],
            [
             "MP 07: Naamsestraat 81"
            ]
           ],
           "hovertemplate": "ts_str=2022-12-27<br>Human voice - Shouting=%{marker.size}<br>latitude=%{lat}<br>longitude=%{lon}<br>description=%{customdata[0]}<extra></extra>",
           "lat": [
            50.875850541602986,
            50.87448678827803,
            50.87409073433792,
            50.87381822269834
           ],
           "legendgroup": "",
           "lon": [
            4.700192168675618,
            4.699889625684066,
            4.700018371714718,
            4.70010170607578
           ],
           "marker": {
            "color": "#636efa",
            "size": [
             1,
             0,
             0,
             0
            ],
            "sizemode": "area",
            "sizeref": 0.1825
           },
           "mode": "markers",
           "name": "",
           "showlegend": false,
           "subplot": "mapbox",
           "type": "scattermapbox"
          }
         ],
         "name": "2022-12-27"
        },
        {
         "data": [
          {
           "customdata": [
            [
             "MP 03: Naamsestraat 62 Taste"
            ],
            [
             "MP 05: Calvariekapel KU Leuven"
            ],
            [
             "MP 06: Parkstraat 2 La Filosovia"
            ],
            [
             "MP 07: Naamsestraat 81"
            ],
            [
             "MP08bis - Vrijthof"
            ]
           ],
           "hovertemplate": "ts_str=2022-12-28<br>Human voice - Shouting=%{marker.size}<br>latitude=%{lat}<br>longitude=%{lon}<br>description=%{customdata[0]}<extra></extra>",
           "lat": [
            50.875850541602986,
            50.87448678827803,
            50.87409073433792,
            50.87381822269834,
            50.87890579999999
           ],
           "legendgroup": "",
           "lon": [
            4.700192168675618,
            4.699889625684066,
            4.700018371714718,
            4.70010170607578,
            4.7011444846213415
           ],
           "marker": {
            "color": "#636efa",
            "size": [
             0,
             0,
             0,
             0,
             0
            ],
            "sizemode": "area",
            "sizeref": 0.1825
           },
           "mode": "markers",
           "name": "",
           "showlegend": false,
           "subplot": "mapbox",
           "type": "scattermapbox"
          }
         ],
         "name": "2022-12-28"
        },
        {
         "data": [
          {
           "customdata": [
            [
             "MP 03: Naamsestraat 62 Taste"
            ],
            [
             "MP 05: Calvariekapel KU Leuven"
            ],
            [
             "MP 06: Parkstraat 2 La Filosovia"
            ],
            [
             "MP 07: Naamsestraat 81"
            ],
            [
             "MP08bis - Vrijthof"
            ]
           ],
           "hovertemplate": "ts_str=2022-12-29<br>Human voice - Shouting=%{marker.size}<br>latitude=%{lat}<br>longitude=%{lon}<br>description=%{customdata[0]}<extra></extra>",
           "lat": [
            50.875850541602986,
            50.87448678827803,
            50.87409073433792,
            50.87381822269834,
            50.87890579999999
           ],
           "legendgroup": "",
           "lon": [
            4.700192168675618,
            4.699889625684066,
            4.700018371714718,
            4.70010170607578,
            4.7011444846213415
           ],
           "marker": {
            "color": "#636efa",
            "size": [
             0,
             2,
             0,
             3,
             1
            ],
            "sizemode": "area",
            "sizeref": 0.1825
           },
           "mode": "markers",
           "name": "",
           "showlegend": false,
           "subplot": "mapbox",
           "type": "scattermapbox"
          }
         ],
         "name": "2022-12-29"
        },
        {
         "data": [
          {
           "customdata": [
            [
             "MP 03: Naamsestraat 62 Taste"
            ],
            [
             "MP 05: Calvariekapel KU Leuven"
            ],
            [
             "MP 06: Parkstraat 2 La Filosovia"
            ],
            [
             "MP 07: Naamsestraat 81"
            ],
            [
             "MP08bis - Vrijthof"
            ]
           ],
           "hovertemplate": "ts_str=2022-12-30<br>Human voice - Shouting=%{marker.size}<br>latitude=%{lat}<br>longitude=%{lon}<br>description=%{customdata[0]}<extra></extra>",
           "lat": [
            50.875850541602986,
            50.87448678827803,
            50.87409073433792,
            50.87381822269834,
            50.87890579999999
           ],
           "legendgroup": "",
           "lon": [
            4.700192168675618,
            4.699889625684066,
            4.700018371714718,
            4.70010170607578,
            4.7011444846213415
           ],
           "marker": {
            "color": "#636efa",
            "size": [
             0,
             1,
             12,
             0,
             0
            ],
            "sizemode": "area",
            "sizeref": 0.1825
           },
           "mode": "markers",
           "name": "",
           "showlegend": false,
           "subplot": "mapbox",
           "type": "scattermapbox"
          }
         ],
         "name": "2022-12-30"
        },
        {
         "data": [
          {
           "customdata": [
            [
             "MP 03: Naamsestraat 62 Taste"
            ],
            [
             "MP 05: Calvariekapel KU Leuven"
            ],
            [
             "MP 06: Parkstraat 2 La Filosovia"
            ],
            [
             "MP 07: Naamsestraat 81"
            ],
            [
             "MP08bis - Vrijthof"
            ]
           ],
           "hovertemplate": "ts_str=2022-12-31<br>Human voice - Shouting=%{marker.size}<br>latitude=%{lat}<br>longitude=%{lon}<br>description=%{customdata[0]}<extra></extra>",
           "lat": [
            50.875850541602986,
            50.87448678827803,
            50.87409073433792,
            50.87381822269834,
            50.87890579999999
           ],
           "legendgroup": "",
           "lon": [
            4.700192168675618,
            4.699889625684066,
            4.700018371714718,
            4.70010170607578,
            4.7011444846213415
           ],
           "marker": {
            "color": "#636efa",
            "size": [
             1,
             9,
             1,
             1,
             0
            ],
            "sizemode": "area",
            "sizeref": 0.1825
           },
           "mode": "markers",
           "name": "",
           "showlegend": false,
           "subplot": "mapbox",
           "type": "scattermapbox"
          }
         ],
         "name": "2022-12-31"
        }
       ],
       "layout": {
        "legend": {
         "itemsizing": "constant",
         "tracegroupgap": 0
        },
        "mapbox": {
         "center": {
          "lat": 50.875424033538664,
          "lon": 4.700278927038906
         },
         "domain": {
          "x": [
           0,
           1
          ],
          "y": [
           0,
           1
          ]
         },
         "style": "carto-positron",
         "zoom": 11
        },
        "margin": {
         "b": 0,
         "l": 0,
         "r": 0,
         "t": 0
        },
        "sliders": [
         {
          "active": 0,
          "currentvalue": {
           "prefix": "ts_str="
          },
          "len": 0.9,
          "pad": {
           "b": 10,
           "t": 60
          },
          "steps": [
           {
            "args": [
             [
              "2022-03-07"
             ],
             {
              "frame": {
               "duration": 0,
               "redraw": true
              },
              "fromcurrent": true,
              "mode": "immediate",
              "transition": {
               "duration": 0,
               "easing": "linear"
              }
             }
            ],
            "label": "2022-03-07",
            "method": "animate"
           },
           {
            "args": [
             [
              "2022-03-08"
             ],
             {
              "frame": {
               "duration": 0,
               "redraw": true
              },
              "fromcurrent": true,
              "mode": "immediate",
              "transition": {
               "duration": 0,
               "easing": "linear"
              }
             }
            ],
            "label": "2022-03-08",
            "method": "animate"
           },
           {
            "args": [
             [
              "2022-03-09"
             ],
             {
              "frame": {
               "duration": 0,
               "redraw": true
              },
              "fromcurrent": true,
              "mode": "immediate",
              "transition": {
               "duration": 0,
               "easing": "linear"
              }
             }
            ],
            "label": "2022-03-09",
            "method": "animate"
           },
           {
            "args": [
             [
              "2022-03-10"
             ],
             {
              "frame": {
               "duration": 0,
               "redraw": true
              },
              "fromcurrent": true,
              "mode": "immediate",
              "transition": {
               "duration": 0,
               "easing": "linear"
              }
             }
            ],
            "label": "2022-03-10",
            "method": "animate"
           },
           {
            "args": [
             [
              "2022-03-11"
             ],
             {
              "frame": {
               "duration": 0,
               "redraw": true
              },
              "fromcurrent": true,
              "mode": "immediate",
              "transition": {
               "duration": 0,
               "easing": "linear"
              }
             }
            ],
            "label": "2022-03-11",
            "method": "animate"
           },
           {
            "args": [
             [
              "2022-03-12"
             ],
             {
              "frame": {
               "duration": 0,
               "redraw": true
              },
              "fromcurrent": true,
              "mode": "immediate",
              "transition": {
               "duration": 0,
               "easing": "linear"
              }
             }
            ],
            "label": "2022-03-12",
            "method": "animate"
           },
           {
            "args": [
             [
              "2022-03-13"
             ],
             {
              "frame": {
               "duration": 0,
               "redraw": true
              },
              "fromcurrent": true,
              "mode": "immediate",
              "transition": {
               "duration": 0,
               "easing": "linear"
              }
             }
            ],
            "label": "2022-03-13",
            "method": "animate"
           },
           {
            "args": [
             [
              "2022-03-14"
             ],
             {
              "frame": {
               "duration": 0,
               "redraw": true
              },
              "fromcurrent": true,
              "mode": "immediate",
              "transition": {
               "duration": 0,
               "easing": "linear"
              }
             }
            ],
            "label": "2022-03-14",
            "method": "animate"
           },
           {
            "args": [
             [
              "2022-03-15"
             ],
             {
              "frame": {
               "duration": 0,
               "redraw": true
              },
              "fromcurrent": true,
              "mode": "immediate",
              "transition": {
               "duration": 0,
               "easing": "linear"
              }
             }
            ],
            "label": "2022-03-15",
            "method": "animate"
           },
           {
            "args": [
             [
              "2022-03-16"
             ],
             {
              "frame": {
               "duration": 0,
               "redraw": true
              },
              "fromcurrent": true,
              "mode": "immediate",
              "transition": {
               "duration": 0,
               "easing": "linear"
              }
             }
            ],
            "label": "2022-03-16",
            "method": "animate"
           },
           {
            "args": [
             [
              "2022-03-17"
             ],
             {
              "frame": {
               "duration": 0,
               "redraw": true
              },
              "fromcurrent": true,
              "mode": "immediate",
              "transition": {
               "duration": 0,
               "easing": "linear"
              }
             }
            ],
            "label": "2022-03-17",
            "method": "animate"
           },
           {
            "args": [
             [
              "2022-03-18"
             ],
             {
              "frame": {
               "duration": 0,
               "redraw": true
              },
              "fromcurrent": true,
              "mode": "immediate",
              "transition": {
               "duration": 0,
               "easing": "linear"
              }
             }
            ],
            "label": "2022-03-18",
            "method": "animate"
           },
           {
            "args": [
             [
              "2022-03-19"
             ],
             {
              "frame": {
               "duration": 0,
               "redraw": true
              },
              "fromcurrent": true,
              "mode": "immediate",
              "transition": {
               "duration": 0,
               "easing": "linear"
              }
             }
            ],
            "label": "2022-03-19",
            "method": "animate"
           },
           {
            "args": [
             [
              "2022-03-20"
             ],
             {
              "frame": {
               "duration": 0,
               "redraw": true
              },
              "fromcurrent": true,
              "mode": "immediate",
              "transition": {
               "duration": 0,
               "easing": "linear"
              }
             }
            ],
            "label": "2022-03-20",
            "method": "animate"
           },
           {
            "args": [
             [
              "2022-03-21"
             ],
             {
              "frame": {
               "duration": 0,
               "redraw": true
              },
              "fromcurrent": true,
              "mode": "immediate",
              "transition": {
               "duration": 0,
               "easing": "linear"
              }
             }
            ],
            "label": "2022-03-21",
            "method": "animate"
           },
           {
            "args": [
             [
              "2022-03-22"
             ],
             {
              "frame": {
               "duration": 0,
               "redraw": true
              },
              "fromcurrent": true,
              "mode": "immediate",
              "transition": {
               "duration": 0,
               "easing": "linear"
              }
             }
            ],
            "label": "2022-03-22",
            "method": "animate"
           },
           {
            "args": [
             [
              "2022-03-23"
             ],
             {
              "frame": {
               "duration": 0,
               "redraw": true
              },
              "fromcurrent": true,
              "mode": "immediate",
              "transition": {
               "duration": 0,
               "easing": "linear"
              }
             }
            ],
            "label": "2022-03-23",
            "method": "animate"
           },
           {
            "args": [
             [
              "2022-03-24"
             ],
             {
              "frame": {
               "duration": 0,
               "redraw": true
              },
              "fromcurrent": true,
              "mode": "immediate",
              "transition": {
               "duration": 0,
               "easing": "linear"
              }
             }
            ],
            "label": "2022-03-24",
            "method": "animate"
           },
           {
            "args": [
             [
              "2022-03-25"
             ],
             {
              "frame": {
               "duration": 0,
               "redraw": true
              },
              "fromcurrent": true,
              "mode": "immediate",
              "transition": {
               "duration": 0,
               "easing": "linear"
              }
             }
            ],
            "label": "2022-03-25",
            "method": "animate"
           },
           {
            "args": [
             [
              "2022-03-26"
             ],
             {
              "frame": {
               "duration": 0,
               "redraw": true
              },
              "fromcurrent": true,
              "mode": "immediate",
              "transition": {
               "duration": 0,
               "easing": "linear"
              }
             }
            ],
            "label": "2022-03-26",
            "method": "animate"
           },
           {
            "args": [
             [
              "2022-03-27"
             ],
             {
              "frame": {
               "duration": 0,
               "redraw": true
              },
              "fromcurrent": true,
              "mode": "immediate",
              "transition": {
               "duration": 0,
               "easing": "linear"
              }
             }
            ],
            "label": "2022-03-27",
            "method": "animate"
           },
           {
            "args": [
             [
              "2022-03-28"
             ],
             {
              "frame": {
               "duration": 0,
               "redraw": true
              },
              "fromcurrent": true,
              "mode": "immediate",
              "transition": {
               "duration": 0,
               "easing": "linear"
              }
             }
            ],
            "label": "2022-03-28",
            "method": "animate"
           },
           {
            "args": [
             [
              "2022-03-29"
             ],
             {
              "frame": {
               "duration": 0,
               "redraw": true
              },
              "fromcurrent": true,
              "mode": "immediate",
              "transition": {
               "duration": 0,
               "easing": "linear"
              }
             }
            ],
            "label": "2022-03-29",
            "method": "animate"
           },
           {
            "args": [
             [
              "2022-03-30"
             ],
             {
              "frame": {
               "duration": 0,
               "redraw": true
              },
              "fromcurrent": true,
              "mode": "immediate",
              "transition": {
               "duration": 0,
               "easing": "linear"
              }
             }
            ],
            "label": "2022-03-30",
            "method": "animate"
           },
           {
            "args": [
             [
              "2022-03-31"
             ],
             {
              "frame": {
               "duration": 0,
               "redraw": true
              },
              "fromcurrent": true,
              "mode": "immediate",
              "transition": {
               "duration": 0,
               "easing": "linear"
              }
             }
            ],
            "label": "2022-03-31",
            "method": "animate"
           },
           {
            "args": [
             [
              "2022-04-01"
             ],
             {
              "frame": {
               "duration": 0,
               "redraw": true
              },
              "fromcurrent": true,
              "mode": "immediate",
              "transition": {
               "duration": 0,
               "easing": "linear"
              }
             }
            ],
            "label": "2022-04-01",
            "method": "animate"
           },
           {
            "args": [
             [
              "2022-04-02"
             ],
             {
              "frame": {
               "duration": 0,
               "redraw": true
              },
              "fromcurrent": true,
              "mode": "immediate",
              "transition": {
               "duration": 0,
               "easing": "linear"
              }
             }
            ],
            "label": "2022-04-02",
            "method": "animate"
           },
           {
            "args": [
             [
              "2022-04-03"
             ],
             {
              "frame": {
               "duration": 0,
               "redraw": true
              },
              "fromcurrent": true,
              "mode": "immediate",
              "transition": {
               "duration": 0,
               "easing": "linear"
              }
             }
            ],
            "label": "2022-04-03",
            "method": "animate"
           },
           {
            "args": [
             [
              "2022-04-04"
             ],
             {
              "frame": {
               "duration": 0,
               "redraw": true
              },
              "fromcurrent": true,
              "mode": "immediate",
              "transition": {
               "duration": 0,
               "easing": "linear"
              }
             }
            ],
            "label": "2022-04-04",
            "method": "animate"
           },
           {
            "args": [
             [
              "2022-04-05"
             ],
             {
              "frame": {
               "duration": 0,
               "redraw": true
              },
              "fromcurrent": true,
              "mode": "immediate",
              "transition": {
               "duration": 0,
               "easing": "linear"
              }
             }
            ],
            "label": "2022-04-05",
            "method": "animate"
           },
           {
            "args": [
             [
              "2022-04-06"
             ],
             {
              "frame": {
               "duration": 0,
               "redraw": true
              },
              "fromcurrent": true,
              "mode": "immediate",
              "transition": {
               "duration": 0,
               "easing": "linear"
              }
             }
            ],
            "label": "2022-04-06",
            "method": "animate"
           },
           {
            "args": [
             [
              "2022-04-07"
             ],
             {
              "frame": {
               "duration": 0,
               "redraw": true
              },
              "fromcurrent": true,
              "mode": "immediate",
              "transition": {
               "duration": 0,
               "easing": "linear"
              }
             }
            ],
            "label": "2022-04-07",
            "method": "animate"
           },
           {
            "args": [
             [
              "2022-04-08"
             ],
             {
              "frame": {
               "duration": 0,
               "redraw": true
              },
              "fromcurrent": true,
              "mode": "immediate",
              "transition": {
               "duration": 0,
               "easing": "linear"
              }
             }
            ],
            "label": "2022-04-08",
            "method": "animate"
           },
           {
            "args": [
             [
              "2022-04-09"
             ],
             {
              "frame": {
               "duration": 0,
               "redraw": true
              },
              "fromcurrent": true,
              "mode": "immediate",
              "transition": {
               "duration": 0,
               "easing": "linear"
              }
             }
            ],
            "label": "2022-04-09",
            "method": "animate"
           },
           {
            "args": [
             [
              "2022-04-10"
             ],
             {
              "frame": {
               "duration": 0,
               "redraw": true
              },
              "fromcurrent": true,
              "mode": "immediate",
              "transition": {
               "duration": 0,
               "easing": "linear"
              }
             }
            ],
            "label": "2022-04-10",
            "method": "animate"
           },
           {
            "args": [
             [
              "2022-04-11"
             ],
             {
              "frame": {
               "duration": 0,
               "redraw": true
              },
              "fromcurrent": true,
              "mode": "immediate",
              "transition": {
               "duration": 0,
               "easing": "linear"
              }
             }
            ],
            "label": "2022-04-11",
            "method": "animate"
           },
           {
            "args": [
             [
              "2022-04-12"
             ],
             {
              "frame": {
               "duration": 0,
               "redraw": true
              },
              "fromcurrent": true,
              "mode": "immediate",
              "transition": {
               "duration": 0,
               "easing": "linear"
              }
             }
            ],
            "label": "2022-04-12",
            "method": "animate"
           },
           {
            "args": [
             [
              "2022-04-13"
             ],
             {
              "frame": {
               "duration": 0,
               "redraw": true
              },
              "fromcurrent": true,
              "mode": "immediate",
              "transition": {
               "duration": 0,
               "easing": "linear"
              }
             }
            ],
            "label": "2022-04-13",
            "method": "animate"
           },
           {
            "args": [
             [
              "2022-04-14"
             ],
             {
              "frame": {
               "duration": 0,
               "redraw": true
              },
              "fromcurrent": true,
              "mode": "immediate",
              "transition": {
               "duration": 0,
               "easing": "linear"
              }
             }
            ],
            "label": "2022-04-14",
            "method": "animate"
           },
           {
            "args": [
             [
              "2022-04-15"
             ],
             {
              "frame": {
               "duration": 0,
               "redraw": true
              },
              "fromcurrent": true,
              "mode": "immediate",
              "transition": {
               "duration": 0,
               "easing": "linear"
              }
             }
            ],
            "label": "2022-04-15",
            "method": "animate"
           },
           {
            "args": [
             [
              "2022-04-16"
             ],
             {
              "frame": {
               "duration": 0,
               "redraw": true
              },
              "fromcurrent": true,
              "mode": "immediate",
              "transition": {
               "duration": 0,
               "easing": "linear"
              }
             }
            ],
            "label": "2022-04-16",
            "method": "animate"
           },
           {
            "args": [
             [
              "2022-04-17"
             ],
             {
              "frame": {
               "duration": 0,
               "redraw": true
              },
              "fromcurrent": true,
              "mode": "immediate",
              "transition": {
               "duration": 0,
               "easing": "linear"
              }
             }
            ],
            "label": "2022-04-17",
            "method": "animate"
           },
           {
            "args": [
             [
              "2022-04-18"
             ],
             {
              "frame": {
               "duration": 0,
               "redraw": true
              },
              "fromcurrent": true,
              "mode": "immediate",
              "transition": {
               "duration": 0,
               "easing": "linear"
              }
             }
            ],
            "label": "2022-04-18",
            "method": "animate"
           },
           {
            "args": [
             [
              "2022-04-19"
             ],
             {
              "frame": {
               "duration": 0,
               "redraw": true
              },
              "fromcurrent": true,
              "mode": "immediate",
              "transition": {
               "duration": 0,
               "easing": "linear"
              }
             }
            ],
            "label": "2022-04-19",
            "method": "animate"
           },
           {
            "args": [
             [
              "2022-04-20"
             ],
             {
              "frame": {
               "duration": 0,
               "redraw": true
              },
              "fromcurrent": true,
              "mode": "immediate",
              "transition": {
               "duration": 0,
               "easing": "linear"
              }
             }
            ],
            "label": "2022-04-20",
            "method": "animate"
           },
           {
            "args": [
             [
              "2022-04-21"
             ],
             {
              "frame": {
               "duration": 0,
               "redraw": true
              },
              "fromcurrent": true,
              "mode": "immediate",
              "transition": {
               "duration": 0,
               "easing": "linear"
              }
             }
            ],
            "label": "2022-04-21",
            "method": "animate"
           },
           {
            "args": [
             [
              "2022-04-22"
             ],
             {
              "frame": {
               "duration": 0,
               "redraw": true
              },
              "fromcurrent": true,
              "mode": "immediate",
              "transition": {
               "duration": 0,
               "easing": "linear"
              }
             }
            ],
            "label": "2022-04-22",
            "method": "animate"
           },
           {
            "args": [
             [
              "2022-04-23"
             ],
             {
              "frame": {
               "duration": 0,
               "redraw": true
              },
              "fromcurrent": true,
              "mode": "immediate",
              "transition": {
               "duration": 0,
               "easing": "linear"
              }
             }
            ],
            "label": "2022-04-23",
            "method": "animate"
           },
           {
            "args": [
             [
              "2022-04-24"
             ],
             {
              "frame": {
               "duration": 0,
               "redraw": true
              },
              "fromcurrent": true,
              "mode": "immediate",
              "transition": {
               "duration": 0,
               "easing": "linear"
              }
             }
            ],
            "label": "2022-04-24",
            "method": "animate"
           },
           {
            "args": [
             [
              "2022-04-25"
             ],
             {
              "frame": {
               "duration": 0,
               "redraw": true
              },
              "fromcurrent": true,
              "mode": "immediate",
              "transition": {
               "duration": 0,
               "easing": "linear"
              }
             }
            ],
            "label": "2022-04-25",
            "method": "animate"
           },
           {
            "args": [
             [
              "2022-04-26"
             ],
             {
              "frame": {
               "duration": 0,
               "redraw": true
              },
              "fromcurrent": true,
              "mode": "immediate",
              "transition": {
               "duration": 0,
               "easing": "linear"
              }
             }
            ],
            "label": "2022-04-26",
            "method": "animate"
           },
           {
            "args": [
             [
              "2022-04-27"
             ],
             {
              "frame": {
               "duration": 0,
               "redraw": true
              },
              "fromcurrent": true,
              "mode": "immediate",
              "transition": {
               "duration": 0,
               "easing": "linear"
              }
             }
            ],
            "label": "2022-04-27",
            "method": "animate"
           },
           {
            "args": [
             [
              "2022-04-28"
             ],
             {
              "frame": {
               "duration": 0,
               "redraw": true
              },
              "fromcurrent": true,
              "mode": "immediate",
              "transition": {
               "duration": 0,
               "easing": "linear"
              }
             }
            ],
            "label": "2022-04-28",
            "method": "animate"
           },
           {
            "args": [
             [
              "2022-04-29"
             ],
             {
              "frame": {
               "duration": 0,
               "redraw": true
              },
              "fromcurrent": true,
              "mode": "immediate",
              "transition": {
               "duration": 0,
               "easing": "linear"
              }
             }
            ],
            "label": "2022-04-29",
            "method": "animate"
           },
           {
            "args": [
             [
              "2022-04-30"
             ],
             {
              "frame": {
               "duration": 0,
               "redraw": true
              },
              "fromcurrent": true,
              "mode": "immediate",
              "transition": {
               "duration": 0,
               "easing": "linear"
              }
             }
            ],
            "label": "2022-04-30",
            "method": "animate"
           },
           {
            "args": [
             [
              "2022-05-01"
             ],
             {
              "frame": {
               "duration": 0,
               "redraw": true
              },
              "fromcurrent": true,
              "mode": "immediate",
              "transition": {
               "duration": 0,
               "easing": "linear"
              }
             }
            ],
            "label": "2022-05-01",
            "method": "animate"
           },
           {
            "args": [
             [
              "2022-05-02"
             ],
             {
              "frame": {
               "duration": 0,
               "redraw": true
              },
              "fromcurrent": true,
              "mode": "immediate",
              "transition": {
               "duration": 0,
               "easing": "linear"
              }
             }
            ],
            "label": "2022-05-02",
            "method": "animate"
           },
           {
            "args": [
             [
              "2022-05-03"
             ],
             {
              "frame": {
               "duration": 0,
               "redraw": true
              },
              "fromcurrent": true,
              "mode": "immediate",
              "transition": {
               "duration": 0,
               "easing": "linear"
              }
             }
            ],
            "label": "2022-05-03",
            "method": "animate"
           },
           {
            "args": [
             [
              "2022-05-04"
             ],
             {
              "frame": {
               "duration": 0,
               "redraw": true
              },
              "fromcurrent": true,
              "mode": "immediate",
              "transition": {
               "duration": 0,
               "easing": "linear"
              }
             }
            ],
            "label": "2022-05-04",
            "method": "animate"
           },
           {
            "args": [
             [
              "2022-05-05"
             ],
             {
              "frame": {
               "duration": 0,
               "redraw": true
              },
              "fromcurrent": true,
              "mode": "immediate",
              "transition": {
               "duration": 0,
               "easing": "linear"
              }
             }
            ],
            "label": "2022-05-05",
            "method": "animate"
           },
           {
            "args": [
             [
              "2022-05-06"
             ],
             {
              "frame": {
               "duration": 0,
               "redraw": true
              },
              "fromcurrent": true,
              "mode": "immediate",
              "transition": {
               "duration": 0,
               "easing": "linear"
              }
             }
            ],
            "label": "2022-05-06",
            "method": "animate"
           },
           {
            "args": [
             [
              "2022-05-07"
             ],
             {
              "frame": {
               "duration": 0,
               "redraw": true
              },
              "fromcurrent": true,
              "mode": "immediate",
              "transition": {
               "duration": 0,
               "easing": "linear"
              }
             }
            ],
            "label": "2022-05-07",
            "method": "animate"
           },
           {
            "args": [
             [
              "2022-05-08"
             ],
             {
              "frame": {
               "duration": 0,
               "redraw": true
              },
              "fromcurrent": true,
              "mode": "immediate",
              "transition": {
               "duration": 0,
               "easing": "linear"
              }
             }
            ],
            "label": "2022-05-08",
            "method": "animate"
           },
           {
            "args": [
             [
              "2022-05-09"
             ],
             {
              "frame": {
               "duration": 0,
               "redraw": true
              },
              "fromcurrent": true,
              "mode": "immediate",
              "transition": {
               "duration": 0,
               "easing": "linear"
              }
             }
            ],
            "label": "2022-05-09",
            "method": "animate"
           },
           {
            "args": [
             [
              "2022-05-10"
             ],
             {
              "frame": {
               "duration": 0,
               "redraw": true
              },
              "fromcurrent": true,
              "mode": "immediate",
              "transition": {
               "duration": 0,
               "easing": "linear"
              }
             }
            ],
            "label": "2022-05-10",
            "method": "animate"
           },
           {
            "args": [
             [
              "2022-05-11"
             ],
             {
              "frame": {
               "duration": 0,
               "redraw": true
              },
              "fromcurrent": true,
              "mode": "immediate",
              "transition": {
               "duration": 0,
               "easing": "linear"
              }
             }
            ],
            "label": "2022-05-11",
            "method": "animate"
           },
           {
            "args": [
             [
              "2022-05-12"
             ],
             {
              "frame": {
               "duration": 0,
               "redraw": true
              },
              "fromcurrent": true,
              "mode": "immediate",
              "transition": {
               "duration": 0,
               "easing": "linear"
              }
             }
            ],
            "label": "2022-05-12",
            "method": "animate"
           },
           {
            "args": [
             [
              "2022-05-13"
             ],
             {
              "frame": {
               "duration": 0,
               "redraw": true
              },
              "fromcurrent": true,
              "mode": "immediate",
              "transition": {
               "duration": 0,
               "easing": "linear"
              }
             }
            ],
            "label": "2022-05-13",
            "method": "animate"
           },
           {
            "args": [
             [
              "2022-05-14"
             ],
             {
              "frame": {
               "duration": 0,
               "redraw": true
              },
              "fromcurrent": true,
              "mode": "immediate",
              "transition": {
               "duration": 0,
               "easing": "linear"
              }
             }
            ],
            "label": "2022-05-14",
            "method": "animate"
           },
           {
            "args": [
             [
              "2022-05-15"
             ],
             {
              "frame": {
               "duration": 0,
               "redraw": true
              },
              "fromcurrent": true,
              "mode": "immediate",
              "transition": {
               "duration": 0,
               "easing": "linear"
              }
             }
            ],
            "label": "2022-05-15",
            "method": "animate"
           },
           {
            "args": [
             [
              "2022-05-16"
             ],
             {
              "frame": {
               "duration": 0,
               "redraw": true
              },
              "fromcurrent": true,
              "mode": "immediate",
              "transition": {
               "duration": 0,
               "easing": "linear"
              }
             }
            ],
            "label": "2022-05-16",
            "method": "animate"
           },
           {
            "args": [
             [
              "2022-05-17"
             ],
             {
              "frame": {
               "duration": 0,
               "redraw": true
              },
              "fromcurrent": true,
              "mode": "immediate",
              "transition": {
               "duration": 0,
               "easing": "linear"
              }
             }
            ],
            "label": "2022-05-17",
            "method": "animate"
           },
           {
            "args": [
             [
              "2022-05-18"
             ],
             {
              "frame": {
               "duration": 0,
               "redraw": true
              },
              "fromcurrent": true,
              "mode": "immediate",
              "transition": {
               "duration": 0,
               "easing": "linear"
              }
             }
            ],
            "label": "2022-05-18",
            "method": "animate"
           },
           {
            "args": [
             [
              "2022-05-19"
             ],
             {
              "frame": {
               "duration": 0,
               "redraw": true
              },
              "fromcurrent": true,
              "mode": "immediate",
              "transition": {
               "duration": 0,
               "easing": "linear"
              }
             }
            ],
            "label": "2022-05-19",
            "method": "animate"
           },
           {
            "args": [
             [
              "2022-05-20"
             ],
             {
              "frame": {
               "duration": 0,
               "redraw": true
              },
              "fromcurrent": true,
              "mode": "immediate",
              "transition": {
               "duration": 0,
               "easing": "linear"
              }
             }
            ],
            "label": "2022-05-20",
            "method": "animate"
           },
           {
            "args": [
             [
              "2022-05-21"
             ],
             {
              "frame": {
               "duration": 0,
               "redraw": true
              },
              "fromcurrent": true,
              "mode": "immediate",
              "transition": {
               "duration": 0,
               "easing": "linear"
              }
             }
            ],
            "label": "2022-05-21",
            "method": "animate"
           },
           {
            "args": [
             [
              "2022-05-22"
             ],
             {
              "frame": {
               "duration": 0,
               "redraw": true
              },
              "fromcurrent": true,
              "mode": "immediate",
              "transition": {
               "duration": 0,
               "easing": "linear"
              }
             }
            ],
            "label": "2022-05-22",
            "method": "animate"
           },
           {
            "args": [
             [
              "2022-05-23"
             ],
             {
              "frame": {
               "duration": 0,
               "redraw": true
              },
              "fromcurrent": true,
              "mode": "immediate",
              "transition": {
               "duration": 0,
               "easing": "linear"
              }
             }
            ],
            "label": "2022-05-23",
            "method": "animate"
           },
           {
            "args": [
             [
              "2022-05-24"
             ],
             {
              "frame": {
               "duration": 0,
               "redraw": true
              },
              "fromcurrent": true,
              "mode": "immediate",
              "transition": {
               "duration": 0,
               "easing": "linear"
              }
             }
            ],
            "label": "2022-05-24",
            "method": "animate"
           },
           {
            "args": [
             [
              "2022-05-25"
             ],
             {
              "frame": {
               "duration": 0,
               "redraw": true
              },
              "fromcurrent": true,
              "mode": "immediate",
              "transition": {
               "duration": 0,
               "easing": "linear"
              }
             }
            ],
            "label": "2022-05-25",
            "method": "animate"
           },
           {
            "args": [
             [
              "2022-05-26"
             ],
             {
              "frame": {
               "duration": 0,
               "redraw": true
              },
              "fromcurrent": true,
              "mode": "immediate",
              "transition": {
               "duration": 0,
               "easing": "linear"
              }
             }
            ],
            "label": "2022-05-26",
            "method": "animate"
           },
           {
            "args": [
             [
              "2022-06-01"
             ],
             {
              "frame": {
               "duration": 0,
               "redraw": true
              },
              "fromcurrent": true,
              "mode": "immediate",
              "transition": {
               "duration": 0,
               "easing": "linear"
              }
             }
            ],
            "label": "2022-06-01",
            "method": "animate"
           },
           {
            "args": [
             [
              "2022-06-02"
             ],
             {
              "frame": {
               "duration": 0,
               "redraw": true
              },
              "fromcurrent": true,
              "mode": "immediate",
              "transition": {
               "duration": 0,
               "easing": "linear"
              }
             }
            ],
            "label": "2022-06-02",
            "method": "animate"
           },
           {
            "args": [
             [
              "2022-06-03"
             ],
             {
              "frame": {
               "duration": 0,
               "redraw": true
              },
              "fromcurrent": true,
              "mode": "immediate",
              "transition": {
               "duration": 0,
               "easing": "linear"
              }
             }
            ],
            "label": "2022-06-03",
            "method": "animate"
           },
           {
            "args": [
             [
              "2022-06-04"
             ],
             {
              "frame": {
               "duration": 0,
               "redraw": true
              },
              "fromcurrent": true,
              "mode": "immediate",
              "transition": {
               "duration": 0,
               "easing": "linear"
              }
             }
            ],
            "label": "2022-06-04",
            "method": "animate"
           },
           {
            "args": [
             [
              "2022-06-05"
             ],
             {
              "frame": {
               "duration": 0,
               "redraw": true
              },
              "fromcurrent": true,
              "mode": "immediate",
              "transition": {
               "duration": 0,
               "easing": "linear"
              }
             }
            ],
            "label": "2022-06-05",
            "method": "animate"
           },
           {
            "args": [
             [
              "2022-06-06"
             ],
             {
              "frame": {
               "duration": 0,
               "redraw": true
              },
              "fromcurrent": true,
              "mode": "immediate",
              "transition": {
               "duration": 0,
               "easing": "linear"
              }
             }
            ],
            "label": "2022-06-06",
            "method": "animate"
           },
           {
            "args": [
             [
              "2022-06-07"
             ],
             {
              "frame": {
               "duration": 0,
               "redraw": true
              },
              "fromcurrent": true,
              "mode": "immediate",
              "transition": {
               "duration": 0,
               "easing": "linear"
              }
             }
            ],
            "label": "2022-06-07",
            "method": "animate"
           },
           {
            "args": [
             [
              "2022-06-08"
             ],
             {
              "frame": {
               "duration": 0,
               "redraw": true
              },
              "fromcurrent": true,
              "mode": "immediate",
              "transition": {
               "duration": 0,
               "easing": "linear"
              }
             }
            ],
            "label": "2022-06-08",
            "method": "animate"
           },
           {
            "args": [
             [
              "2022-06-09"
             ],
             {
              "frame": {
               "duration": 0,
               "redraw": true
              },
              "fromcurrent": true,
              "mode": "immediate",
              "transition": {
               "duration": 0,
               "easing": "linear"
              }
             }
            ],
            "label": "2022-06-09",
            "method": "animate"
           },
           {
            "args": [
             [
              "2022-06-10"
             ],
             {
              "frame": {
               "duration": 0,
               "redraw": true
              },
              "fromcurrent": true,
              "mode": "immediate",
              "transition": {
               "duration": 0,
               "easing": "linear"
              }
             }
            ],
            "label": "2022-06-10",
            "method": "animate"
           },
           {
            "args": [
             [
              "2022-06-11"
             ],
             {
              "frame": {
               "duration": 0,
               "redraw": true
              },
              "fromcurrent": true,
              "mode": "immediate",
              "transition": {
               "duration": 0,
               "easing": "linear"
              }
             }
            ],
            "label": "2022-06-11",
            "method": "animate"
           },
           {
            "args": [
             [
              "2022-06-12"
             ],
             {
              "frame": {
               "duration": 0,
               "redraw": true
              },
              "fromcurrent": true,
              "mode": "immediate",
              "transition": {
               "duration": 0,
               "easing": "linear"
              }
             }
            ],
            "label": "2022-06-12",
            "method": "animate"
           },
           {
            "args": [
             [
              "2022-06-13"
             ],
             {
              "frame": {
               "duration": 0,
               "redraw": true
              },
              "fromcurrent": true,
              "mode": "immediate",
              "transition": {
               "duration": 0,
               "easing": "linear"
              }
             }
            ],
            "label": "2022-06-13",
            "method": "animate"
           },
           {
            "args": [
             [
              "2022-06-14"
             ],
             {
              "frame": {
               "duration": 0,
               "redraw": true
              },
              "fromcurrent": true,
              "mode": "immediate",
              "transition": {
               "duration": 0,
               "easing": "linear"
              }
             }
            ],
            "label": "2022-06-14",
            "method": "animate"
           },
           {
            "args": [
             [
              "2022-06-15"
             ],
             {
              "frame": {
               "duration": 0,
               "redraw": true
              },
              "fromcurrent": true,
              "mode": "immediate",
              "transition": {
               "duration": 0,
               "easing": "linear"
              }
             }
            ],
            "label": "2022-06-15",
            "method": "animate"
           },
           {
            "args": [
             [
              "2022-06-16"
             ],
             {
              "frame": {
               "duration": 0,
               "redraw": true
              },
              "fromcurrent": true,
              "mode": "immediate",
              "transition": {
               "duration": 0,
               "easing": "linear"
              }
             }
            ],
            "label": "2022-06-16",
            "method": "animate"
           },
           {
            "args": [
             [
              "2022-06-17"
             ],
             {
              "frame": {
               "duration": 0,
               "redraw": true
              },
              "fromcurrent": true,
              "mode": "immediate",
              "transition": {
               "duration": 0,
               "easing": "linear"
              }
             }
            ],
            "label": "2022-06-17",
            "method": "animate"
           },
           {
            "args": [
             [
              "2022-06-18"
             ],
             {
              "frame": {
               "duration": 0,
               "redraw": true
              },
              "fromcurrent": true,
              "mode": "immediate",
              "transition": {
               "duration": 0,
               "easing": "linear"
              }
             }
            ],
            "label": "2022-06-18",
            "method": "animate"
           },
           {
            "args": [
             [
              "2022-06-19"
             ],
             {
              "frame": {
               "duration": 0,
               "redraw": true
              },
              "fromcurrent": true,
              "mode": "immediate",
              "transition": {
               "duration": 0,
               "easing": "linear"
              }
             }
            ],
            "label": "2022-06-19",
            "method": "animate"
           },
           {
            "args": [
             [
              "2022-06-20"
             ],
             {
              "frame": {
               "duration": 0,
               "redraw": true
              },
              "fromcurrent": true,
              "mode": "immediate",
              "transition": {
               "duration": 0,
               "easing": "linear"
              }
             }
            ],
            "label": "2022-06-20",
            "method": "animate"
           },
           {
            "args": [
             [
              "2022-06-21"
             ],
             {
              "frame": {
               "duration": 0,
               "redraw": true
              },
              "fromcurrent": true,
              "mode": "immediate",
              "transition": {
               "duration": 0,
               "easing": "linear"
              }
             }
            ],
            "label": "2022-06-21",
            "method": "animate"
           },
           {
            "args": [
             [
              "2022-06-22"
             ],
             {
              "frame": {
               "duration": 0,
               "redraw": true
              },
              "fromcurrent": true,
              "mode": "immediate",
              "transition": {
               "duration": 0,
               "easing": "linear"
              }
             }
            ],
            "label": "2022-06-22",
            "method": "animate"
           },
           {
            "args": [
             [
              "2022-06-23"
             ],
             {
              "frame": {
               "duration": 0,
               "redraw": true
              },
              "fromcurrent": true,
              "mode": "immediate",
              "transition": {
               "duration": 0,
               "easing": "linear"
              }
             }
            ],
            "label": "2022-06-23",
            "method": "animate"
           },
           {
            "args": [
             [
              "2022-06-24"
             ],
             {
              "frame": {
               "duration": 0,
               "redraw": true
              },
              "fromcurrent": true,
              "mode": "immediate",
              "transition": {
               "duration": 0,
               "easing": "linear"
              }
             }
            ],
            "label": "2022-06-24",
            "method": "animate"
           },
           {
            "args": [
             [
              "2022-06-25"
             ],
             {
              "frame": {
               "duration": 0,
               "redraw": true
              },
              "fromcurrent": true,
              "mode": "immediate",
              "transition": {
               "duration": 0,
               "easing": "linear"
              }
             }
            ],
            "label": "2022-06-25",
            "method": "animate"
           },
           {
            "args": [
             [
              "2022-06-26"
             ],
             {
              "frame": {
               "duration": 0,
               "redraw": true
              },
              "fromcurrent": true,
              "mode": "immediate",
              "transition": {
               "duration": 0,
               "easing": "linear"
              }
             }
            ],
            "label": "2022-06-26",
            "method": "animate"
           },
           {
            "args": [
             [
              "2022-06-27"
             ],
             {
              "frame": {
               "duration": 0,
               "redraw": true
              },
              "fromcurrent": true,
              "mode": "immediate",
              "transition": {
               "duration": 0,
               "easing": "linear"
              }
             }
            ],
            "label": "2022-06-27",
            "method": "animate"
           },
           {
            "args": [
             [
              "2022-06-28"
             ],
             {
              "frame": {
               "duration": 0,
               "redraw": true
              },
              "fromcurrent": true,
              "mode": "immediate",
              "transition": {
               "duration": 0,
               "easing": "linear"
              }
             }
            ],
            "label": "2022-06-28",
            "method": "animate"
           },
           {
            "args": [
             [
              "2022-06-29"
             ],
             {
              "frame": {
               "duration": 0,
               "redraw": true
              },
              "fromcurrent": true,
              "mode": "immediate",
              "transition": {
               "duration": 0,
               "easing": "linear"
              }
             }
            ],
            "label": "2022-06-29",
            "method": "animate"
           },
           {
            "args": [
             [
              "2022-06-30"
             ],
             {
              "frame": {
               "duration": 0,
               "redraw": true
              },
              "fromcurrent": true,
              "mode": "immediate",
              "transition": {
               "duration": 0,
               "easing": "linear"
              }
             }
            ],
            "label": "2022-06-30",
            "method": "animate"
           },
           {
            "args": [
             [
              "2022-07-01"
             ],
             {
              "frame": {
               "duration": 0,
               "redraw": true
              },
              "fromcurrent": true,
              "mode": "immediate",
              "transition": {
               "duration": 0,
               "easing": "linear"
              }
             }
            ],
            "label": "2022-07-01",
            "method": "animate"
           },
           {
            "args": [
             [
              "2022-07-02"
             ],
             {
              "frame": {
               "duration": 0,
               "redraw": true
              },
              "fromcurrent": true,
              "mode": "immediate",
              "transition": {
               "duration": 0,
               "easing": "linear"
              }
             }
            ],
            "label": "2022-07-02",
            "method": "animate"
           },
           {
            "args": [
             [
              "2022-07-03"
             ],
             {
              "frame": {
               "duration": 0,
               "redraw": true
              },
              "fromcurrent": true,
              "mode": "immediate",
              "transition": {
               "duration": 0,
               "easing": "linear"
              }
             }
            ],
            "label": "2022-07-03",
            "method": "animate"
           },
           {
            "args": [
             [
              "2022-07-04"
             ],
             {
              "frame": {
               "duration": 0,
               "redraw": true
              },
              "fromcurrent": true,
              "mode": "immediate",
              "transition": {
               "duration": 0,
               "easing": "linear"
              }
             }
            ],
            "label": "2022-07-04",
            "method": "animate"
           },
           {
            "args": [
             [
              "2022-07-05"
             ],
             {
              "frame": {
               "duration": 0,
               "redraw": true
              },
              "fromcurrent": true,
              "mode": "immediate",
              "transition": {
               "duration": 0,
               "easing": "linear"
              }
             }
            ],
            "label": "2022-07-05",
            "method": "animate"
           },
           {
            "args": [
             [
              "2022-07-06"
             ],
             {
              "frame": {
               "duration": 0,
               "redraw": true
              },
              "fromcurrent": true,
              "mode": "immediate",
              "transition": {
               "duration": 0,
               "easing": "linear"
              }
             }
            ],
            "label": "2022-07-06",
            "method": "animate"
           },
           {
            "args": [
             [
              "2022-07-07"
             ],
             {
              "frame": {
               "duration": 0,
               "redraw": true
              },
              "fromcurrent": true,
              "mode": "immediate",
              "transition": {
               "duration": 0,
               "easing": "linear"
              }
             }
            ],
            "label": "2022-07-07",
            "method": "animate"
           },
           {
            "args": [
             [
              "2022-07-08"
             ],
             {
              "frame": {
               "duration": 0,
               "redraw": true
              },
              "fromcurrent": true,
              "mode": "immediate",
              "transition": {
               "duration": 0,
               "easing": "linear"
              }
             }
            ],
            "label": "2022-07-08",
            "method": "animate"
           },
           {
            "args": [
             [
              "2022-07-09"
             ],
             {
              "frame": {
               "duration": 0,
               "redraw": true
              },
              "fromcurrent": true,
              "mode": "immediate",
              "transition": {
               "duration": 0,
               "easing": "linear"
              }
             }
            ],
            "label": "2022-07-09",
            "method": "animate"
           },
           {
            "args": [
             [
              "2022-07-10"
             ],
             {
              "frame": {
               "duration": 0,
               "redraw": true
              },
              "fromcurrent": true,
              "mode": "immediate",
              "transition": {
               "duration": 0,
               "easing": "linear"
              }
             }
            ],
            "label": "2022-07-10",
            "method": "animate"
           },
           {
            "args": [
             [
              "2022-07-11"
             ],
             {
              "frame": {
               "duration": 0,
               "redraw": true
              },
              "fromcurrent": true,
              "mode": "immediate",
              "transition": {
               "duration": 0,
               "easing": "linear"
              }
             }
            ],
            "label": "2022-07-11",
            "method": "animate"
           },
           {
            "args": [
             [
              "2022-07-12"
             ],
             {
              "frame": {
               "duration": 0,
               "redraw": true
              },
              "fromcurrent": true,
              "mode": "immediate",
              "transition": {
               "duration": 0,
               "easing": "linear"
              }
             }
            ],
            "label": "2022-07-12",
            "method": "animate"
           },
           {
            "args": [
             [
              "2022-07-13"
             ],
             {
              "frame": {
               "duration": 0,
               "redraw": true
              },
              "fromcurrent": true,
              "mode": "immediate",
              "transition": {
               "duration": 0,
               "easing": "linear"
              }
             }
            ],
            "label": "2022-07-13",
            "method": "animate"
           },
           {
            "args": [
             [
              "2022-07-14"
             ],
             {
              "frame": {
               "duration": 0,
               "redraw": true
              },
              "fromcurrent": true,
              "mode": "immediate",
              "transition": {
               "duration": 0,
               "easing": "linear"
              }
             }
            ],
            "label": "2022-07-14",
            "method": "animate"
           },
           {
            "args": [
             [
              "2022-07-15"
             ],
             {
              "frame": {
               "duration": 0,
               "redraw": true
              },
              "fromcurrent": true,
              "mode": "immediate",
              "transition": {
               "duration": 0,
               "easing": "linear"
              }
             }
            ],
            "label": "2022-07-15",
            "method": "animate"
           },
           {
            "args": [
             [
              "2022-07-16"
             ],
             {
              "frame": {
               "duration": 0,
               "redraw": true
              },
              "fromcurrent": true,
              "mode": "immediate",
              "transition": {
               "duration": 0,
               "easing": "linear"
              }
             }
            ],
            "label": "2022-07-16",
            "method": "animate"
           },
           {
            "args": [
             [
              "2022-07-17"
             ],
             {
              "frame": {
               "duration": 0,
               "redraw": true
              },
              "fromcurrent": true,
              "mode": "immediate",
              "transition": {
               "duration": 0,
               "easing": "linear"
              }
             }
            ],
            "label": "2022-07-17",
            "method": "animate"
           },
           {
            "args": [
             [
              "2022-07-18"
             ],
             {
              "frame": {
               "duration": 0,
               "redraw": true
              },
              "fromcurrent": true,
              "mode": "immediate",
              "transition": {
               "duration": 0,
               "easing": "linear"
              }
             }
            ],
            "label": "2022-07-18",
            "method": "animate"
           },
           {
            "args": [
             [
              "2022-07-19"
             ],
             {
              "frame": {
               "duration": 0,
               "redraw": true
              },
              "fromcurrent": true,
              "mode": "immediate",
              "transition": {
               "duration": 0,
               "easing": "linear"
              }
             }
            ],
            "label": "2022-07-19",
            "method": "animate"
           },
           {
            "args": [
             [
              "2022-07-20"
             ],
             {
              "frame": {
               "duration": 0,
               "redraw": true
              },
              "fromcurrent": true,
              "mode": "immediate",
              "transition": {
               "duration": 0,
               "easing": "linear"
              }
             }
            ],
            "label": "2022-07-20",
            "method": "animate"
           },
           {
            "args": [
             [
              "2022-07-21"
             ],
             {
              "frame": {
               "duration": 0,
               "redraw": true
              },
              "fromcurrent": true,
              "mode": "immediate",
              "transition": {
               "duration": 0,
               "easing": "linear"
              }
             }
            ],
            "label": "2022-07-21",
            "method": "animate"
           },
           {
            "args": [
             [
              "2022-07-22"
             ],
             {
              "frame": {
               "duration": 0,
               "redraw": true
              },
              "fromcurrent": true,
              "mode": "immediate",
              "transition": {
               "duration": 0,
               "easing": "linear"
              }
             }
            ],
            "label": "2022-07-22",
            "method": "animate"
           },
           {
            "args": [
             [
              "2022-07-23"
             ],
             {
              "frame": {
               "duration": 0,
               "redraw": true
              },
              "fromcurrent": true,
              "mode": "immediate",
              "transition": {
               "duration": 0,
               "easing": "linear"
              }
             }
            ],
            "label": "2022-07-23",
            "method": "animate"
           },
           {
            "args": [
             [
              "2022-07-24"
             ],
             {
              "frame": {
               "duration": 0,
               "redraw": true
              },
              "fromcurrent": true,
              "mode": "immediate",
              "transition": {
               "duration": 0,
               "easing": "linear"
              }
             }
            ],
            "label": "2022-07-24",
            "method": "animate"
           },
           {
            "args": [
             [
              "2022-07-25"
             ],
             {
              "frame": {
               "duration": 0,
               "redraw": true
              },
              "fromcurrent": true,
              "mode": "immediate",
              "transition": {
               "duration": 0,
               "easing": "linear"
              }
             }
            ],
            "label": "2022-07-25",
            "method": "animate"
           },
           {
            "args": [
             [
              "2022-07-26"
             ],
             {
              "frame": {
               "duration": 0,
               "redraw": true
              },
              "fromcurrent": true,
              "mode": "immediate",
              "transition": {
               "duration": 0,
               "easing": "linear"
              }
             }
            ],
            "label": "2022-07-26",
            "method": "animate"
           },
           {
            "args": [
             [
              "2022-07-27"
             ],
             {
              "frame": {
               "duration": 0,
               "redraw": true
              },
              "fromcurrent": true,
              "mode": "immediate",
              "transition": {
               "duration": 0,
               "easing": "linear"
              }
             }
            ],
            "label": "2022-07-27",
            "method": "animate"
           },
           {
            "args": [
             [
              "2022-07-28"
             ],
             {
              "frame": {
               "duration": 0,
               "redraw": true
              },
              "fromcurrent": true,
              "mode": "immediate",
              "transition": {
               "duration": 0,
               "easing": "linear"
              }
             }
            ],
            "label": "2022-07-28",
            "method": "animate"
           },
           {
            "args": [
             [
              "2022-07-29"
             ],
             {
              "frame": {
               "duration": 0,
               "redraw": true
              },
              "fromcurrent": true,
              "mode": "immediate",
              "transition": {
               "duration": 0,
               "easing": "linear"
              }
             }
            ],
            "label": "2022-07-29",
            "method": "animate"
           },
           {
            "args": [
             [
              "2022-07-30"
             ],
             {
              "frame": {
               "duration": 0,
               "redraw": true
              },
              "fromcurrent": true,
              "mode": "immediate",
              "transition": {
               "duration": 0,
               "easing": "linear"
              }
             }
            ],
            "label": "2022-07-30",
            "method": "animate"
           },
           {
            "args": [
             [
              "2022-07-31"
             ],
             {
              "frame": {
               "duration": 0,
               "redraw": true
              },
              "fromcurrent": true,
              "mode": "immediate",
              "transition": {
               "duration": 0,
               "easing": "linear"
              }
             }
            ],
            "label": "2022-07-31",
            "method": "animate"
           },
           {
            "args": [
             [
              "2022-08-01"
             ],
             {
              "frame": {
               "duration": 0,
               "redraw": true
              },
              "fromcurrent": true,
              "mode": "immediate",
              "transition": {
               "duration": 0,
               "easing": "linear"
              }
             }
            ],
            "label": "2022-08-01",
            "method": "animate"
           },
           {
            "args": [
             [
              "2022-08-02"
             ],
             {
              "frame": {
               "duration": 0,
               "redraw": true
              },
              "fromcurrent": true,
              "mode": "immediate",
              "transition": {
               "duration": 0,
               "easing": "linear"
              }
             }
            ],
            "label": "2022-08-02",
            "method": "animate"
           },
           {
            "args": [
             [
              "2022-08-03"
             ],
             {
              "frame": {
               "duration": 0,
               "redraw": true
              },
              "fromcurrent": true,
              "mode": "immediate",
              "transition": {
               "duration": 0,
               "easing": "linear"
              }
             }
            ],
            "label": "2022-08-03",
            "method": "animate"
           },
           {
            "args": [
             [
              "2022-08-04"
             ],
             {
              "frame": {
               "duration": 0,
               "redraw": true
              },
              "fromcurrent": true,
              "mode": "immediate",
              "transition": {
               "duration": 0,
               "easing": "linear"
              }
             }
            ],
            "label": "2022-08-04",
            "method": "animate"
           },
           {
            "args": [
             [
              "2022-08-05"
             ],
             {
              "frame": {
               "duration": 0,
               "redraw": true
              },
              "fromcurrent": true,
              "mode": "immediate",
              "transition": {
               "duration": 0,
               "easing": "linear"
              }
             }
            ],
            "label": "2022-08-05",
            "method": "animate"
           },
           {
            "args": [
             [
              "2022-08-06"
             ],
             {
              "frame": {
               "duration": 0,
               "redraw": true
              },
              "fromcurrent": true,
              "mode": "immediate",
              "transition": {
               "duration": 0,
               "easing": "linear"
              }
             }
            ],
            "label": "2022-08-06",
            "method": "animate"
           },
           {
            "args": [
             [
              "2022-08-07"
             ],
             {
              "frame": {
               "duration": 0,
               "redraw": true
              },
              "fromcurrent": true,
              "mode": "immediate",
              "transition": {
               "duration": 0,
               "easing": "linear"
              }
             }
            ],
            "label": "2022-08-07",
            "method": "animate"
           },
           {
            "args": [
             [
              "2022-08-08"
             ],
             {
              "frame": {
               "duration": 0,
               "redraw": true
              },
              "fromcurrent": true,
              "mode": "immediate",
              "transition": {
               "duration": 0,
               "easing": "linear"
              }
             }
            ],
            "label": "2022-08-08",
            "method": "animate"
           },
           {
            "args": [
             [
              "2022-08-09"
             ],
             {
              "frame": {
               "duration": 0,
               "redraw": true
              },
              "fromcurrent": true,
              "mode": "immediate",
              "transition": {
               "duration": 0,
               "easing": "linear"
              }
             }
            ],
            "label": "2022-08-09",
            "method": "animate"
           },
           {
            "args": [
             [
              "2022-08-10"
             ],
             {
              "frame": {
               "duration": 0,
               "redraw": true
              },
              "fromcurrent": true,
              "mode": "immediate",
              "transition": {
               "duration": 0,
               "easing": "linear"
              }
             }
            ],
            "label": "2022-08-10",
            "method": "animate"
           },
           {
            "args": [
             [
              "2022-08-11"
             ],
             {
              "frame": {
               "duration": 0,
               "redraw": true
              },
              "fromcurrent": true,
              "mode": "immediate",
              "transition": {
               "duration": 0,
               "easing": "linear"
              }
             }
            ],
            "label": "2022-08-11",
            "method": "animate"
           },
           {
            "args": [
             [
              "2022-08-12"
             ],
             {
              "frame": {
               "duration": 0,
               "redraw": true
              },
              "fromcurrent": true,
              "mode": "immediate",
              "transition": {
               "duration": 0,
               "easing": "linear"
              }
             }
            ],
            "label": "2022-08-12",
            "method": "animate"
           },
           {
            "args": [
             [
              "2022-08-13"
             ],
             {
              "frame": {
               "duration": 0,
               "redraw": true
              },
              "fromcurrent": true,
              "mode": "immediate",
              "transition": {
               "duration": 0,
               "easing": "linear"
              }
             }
            ],
            "label": "2022-08-13",
            "method": "animate"
           },
           {
            "args": [
             [
              "2022-08-14"
             ],
             {
              "frame": {
               "duration": 0,
               "redraw": true
              },
              "fromcurrent": true,
              "mode": "immediate",
              "transition": {
               "duration": 0,
               "easing": "linear"
              }
             }
            ],
            "label": "2022-08-14",
            "method": "animate"
           },
           {
            "args": [
             [
              "2022-08-15"
             ],
             {
              "frame": {
               "duration": 0,
               "redraw": true
              },
              "fromcurrent": true,
              "mode": "immediate",
              "transition": {
               "duration": 0,
               "easing": "linear"
              }
             }
            ],
            "label": "2022-08-15",
            "method": "animate"
           },
           {
            "args": [
             [
              "2022-08-16"
             ],
             {
              "frame": {
               "duration": 0,
               "redraw": true
              },
              "fromcurrent": true,
              "mode": "immediate",
              "transition": {
               "duration": 0,
               "easing": "linear"
              }
             }
            ],
            "label": "2022-08-16",
            "method": "animate"
           },
           {
            "args": [
             [
              "2022-08-17"
             ],
             {
              "frame": {
               "duration": 0,
               "redraw": true
              },
              "fromcurrent": true,
              "mode": "immediate",
              "transition": {
               "duration": 0,
               "easing": "linear"
              }
             }
            ],
            "label": "2022-08-17",
            "method": "animate"
           },
           {
            "args": [
             [
              "2022-08-18"
             ],
             {
              "frame": {
               "duration": 0,
               "redraw": true
              },
              "fromcurrent": true,
              "mode": "immediate",
              "transition": {
               "duration": 0,
               "easing": "linear"
              }
             }
            ],
            "label": "2022-08-18",
            "method": "animate"
           },
           {
            "args": [
             [
              "2022-08-19"
             ],
             {
              "frame": {
               "duration": 0,
               "redraw": true
              },
              "fromcurrent": true,
              "mode": "immediate",
              "transition": {
               "duration": 0,
               "easing": "linear"
              }
             }
            ],
            "label": "2022-08-19",
            "method": "animate"
           },
           {
            "args": [
             [
              "2022-08-20"
             ],
             {
              "frame": {
               "duration": 0,
               "redraw": true
              },
              "fromcurrent": true,
              "mode": "immediate",
              "transition": {
               "duration": 0,
               "easing": "linear"
              }
             }
            ],
            "label": "2022-08-20",
            "method": "animate"
           },
           {
            "args": [
             [
              "2022-08-21"
             ],
             {
              "frame": {
               "duration": 0,
               "redraw": true
              },
              "fromcurrent": true,
              "mode": "immediate",
              "transition": {
               "duration": 0,
               "easing": "linear"
              }
             }
            ],
            "label": "2022-08-21",
            "method": "animate"
           },
           {
            "args": [
             [
              "2022-08-22"
             ],
             {
              "frame": {
               "duration": 0,
               "redraw": true
              },
              "fromcurrent": true,
              "mode": "immediate",
              "transition": {
               "duration": 0,
               "easing": "linear"
              }
             }
            ],
            "label": "2022-08-22",
            "method": "animate"
           },
           {
            "args": [
             [
              "2022-08-23"
             ],
             {
              "frame": {
               "duration": 0,
               "redraw": true
              },
              "fromcurrent": true,
              "mode": "immediate",
              "transition": {
               "duration": 0,
               "easing": "linear"
              }
             }
            ],
            "label": "2022-08-23",
            "method": "animate"
           },
           {
            "args": [
             [
              "2022-08-24"
             ],
             {
              "frame": {
               "duration": 0,
               "redraw": true
              },
              "fromcurrent": true,
              "mode": "immediate",
              "transition": {
               "duration": 0,
               "easing": "linear"
              }
             }
            ],
            "label": "2022-08-24",
            "method": "animate"
           },
           {
            "args": [
             [
              "2022-08-25"
             ],
             {
              "frame": {
               "duration": 0,
               "redraw": true
              },
              "fromcurrent": true,
              "mode": "immediate",
              "transition": {
               "duration": 0,
               "easing": "linear"
              }
             }
            ],
            "label": "2022-08-25",
            "method": "animate"
           },
           {
            "args": [
             [
              "2022-08-26"
             ],
             {
              "frame": {
               "duration": 0,
               "redraw": true
              },
              "fromcurrent": true,
              "mode": "immediate",
              "transition": {
               "duration": 0,
               "easing": "linear"
              }
             }
            ],
            "label": "2022-08-26",
            "method": "animate"
           },
           {
            "args": [
             [
              "2022-08-27"
             ],
             {
              "frame": {
               "duration": 0,
               "redraw": true
              },
              "fromcurrent": true,
              "mode": "immediate",
              "transition": {
               "duration": 0,
               "easing": "linear"
              }
             }
            ],
            "label": "2022-08-27",
            "method": "animate"
           },
           {
            "args": [
             [
              "2022-08-28"
             ],
             {
              "frame": {
               "duration": 0,
               "redraw": true
              },
              "fromcurrent": true,
              "mode": "immediate",
              "transition": {
               "duration": 0,
               "easing": "linear"
              }
             }
            ],
            "label": "2022-08-28",
            "method": "animate"
           },
           {
            "args": [
             [
              "2022-08-29"
             ],
             {
              "frame": {
               "duration": 0,
               "redraw": true
              },
              "fromcurrent": true,
              "mode": "immediate",
              "transition": {
               "duration": 0,
               "easing": "linear"
              }
             }
            ],
            "label": "2022-08-29",
            "method": "animate"
           },
           {
            "args": [
             [
              "2022-08-30"
             ],
             {
              "frame": {
               "duration": 0,
               "redraw": true
              },
              "fromcurrent": true,
              "mode": "immediate",
              "transition": {
               "duration": 0,
               "easing": "linear"
              }
             }
            ],
            "label": "2022-08-30",
            "method": "animate"
           },
           {
            "args": [
             [
              "2022-08-31"
             ],
             {
              "frame": {
               "duration": 0,
               "redraw": true
              },
              "fromcurrent": true,
              "mode": "immediate",
              "transition": {
               "duration": 0,
               "easing": "linear"
              }
             }
            ],
            "label": "2022-08-31",
            "method": "animate"
           },
           {
            "args": [
             [
              "2022-09-01"
             ],
             {
              "frame": {
               "duration": 0,
               "redraw": true
              },
              "fromcurrent": true,
              "mode": "immediate",
              "transition": {
               "duration": 0,
               "easing": "linear"
              }
             }
            ],
            "label": "2022-09-01",
            "method": "animate"
           },
           {
            "args": [
             [
              "2022-09-02"
             ],
             {
              "frame": {
               "duration": 0,
               "redraw": true
              },
              "fromcurrent": true,
              "mode": "immediate",
              "transition": {
               "duration": 0,
               "easing": "linear"
              }
             }
            ],
            "label": "2022-09-02",
            "method": "animate"
           },
           {
            "args": [
             [
              "2022-09-03"
             ],
             {
              "frame": {
               "duration": 0,
               "redraw": true
              },
              "fromcurrent": true,
              "mode": "immediate",
              "transition": {
               "duration": 0,
               "easing": "linear"
              }
             }
            ],
            "label": "2022-09-03",
            "method": "animate"
           },
           {
            "args": [
             [
              "2022-09-04"
             ],
             {
              "frame": {
               "duration": 0,
               "redraw": true
              },
              "fromcurrent": true,
              "mode": "immediate",
              "transition": {
               "duration": 0,
               "easing": "linear"
              }
             }
            ],
            "label": "2022-09-04",
            "method": "animate"
           },
           {
            "args": [
             [
              "2022-09-05"
             ],
             {
              "frame": {
               "duration": 0,
               "redraw": true
              },
              "fromcurrent": true,
              "mode": "immediate",
              "transition": {
               "duration": 0,
               "easing": "linear"
              }
             }
            ],
            "label": "2022-09-05",
            "method": "animate"
           },
           {
            "args": [
             [
              "2022-09-06"
             ],
             {
              "frame": {
               "duration": 0,
               "redraw": true
              },
              "fromcurrent": true,
              "mode": "immediate",
              "transition": {
               "duration": 0,
               "easing": "linear"
              }
             }
            ],
            "label": "2022-09-06",
            "method": "animate"
           },
           {
            "args": [
             [
              "2022-09-07"
             ],
             {
              "frame": {
               "duration": 0,
               "redraw": true
              },
              "fromcurrent": true,
              "mode": "immediate",
              "transition": {
               "duration": 0,
               "easing": "linear"
              }
             }
            ],
            "label": "2022-09-07",
            "method": "animate"
           },
           {
            "args": [
             [
              "2022-09-08"
             ],
             {
              "frame": {
               "duration": 0,
               "redraw": true
              },
              "fromcurrent": true,
              "mode": "immediate",
              "transition": {
               "duration": 0,
               "easing": "linear"
              }
             }
            ],
            "label": "2022-09-08",
            "method": "animate"
           },
           {
            "args": [
             [
              "2022-09-09"
             ],
             {
              "frame": {
               "duration": 0,
               "redraw": true
              },
              "fromcurrent": true,
              "mode": "immediate",
              "transition": {
               "duration": 0,
               "easing": "linear"
              }
             }
            ],
            "label": "2022-09-09",
            "method": "animate"
           },
           {
            "args": [
             [
              "2022-09-10"
             ],
             {
              "frame": {
               "duration": 0,
               "redraw": true
              },
              "fromcurrent": true,
              "mode": "immediate",
              "transition": {
               "duration": 0,
               "easing": "linear"
              }
             }
            ],
            "label": "2022-09-10",
            "method": "animate"
           },
           {
            "args": [
             [
              "2022-09-11"
             ],
             {
              "frame": {
               "duration": 0,
               "redraw": true
              },
              "fromcurrent": true,
              "mode": "immediate",
              "transition": {
               "duration": 0,
               "easing": "linear"
              }
             }
            ],
            "label": "2022-09-11",
            "method": "animate"
           },
           {
            "args": [
             [
              "2022-09-12"
             ],
             {
              "frame": {
               "duration": 0,
               "redraw": true
              },
              "fromcurrent": true,
              "mode": "immediate",
              "transition": {
               "duration": 0,
               "easing": "linear"
              }
             }
            ],
            "label": "2022-09-12",
            "method": "animate"
           },
           {
            "args": [
             [
              "2022-09-13"
             ],
             {
              "frame": {
               "duration": 0,
               "redraw": true
              },
              "fromcurrent": true,
              "mode": "immediate",
              "transition": {
               "duration": 0,
               "easing": "linear"
              }
             }
            ],
            "label": "2022-09-13",
            "method": "animate"
           },
           {
            "args": [
             [
              "2022-09-14"
             ],
             {
              "frame": {
               "duration": 0,
               "redraw": true
              },
              "fromcurrent": true,
              "mode": "immediate",
              "transition": {
               "duration": 0,
               "easing": "linear"
              }
             }
            ],
            "label": "2022-09-14",
            "method": "animate"
           },
           {
            "args": [
             [
              "2022-09-15"
             ],
             {
              "frame": {
               "duration": 0,
               "redraw": true
              },
              "fromcurrent": true,
              "mode": "immediate",
              "transition": {
               "duration": 0,
               "easing": "linear"
              }
             }
            ],
            "label": "2022-09-15",
            "method": "animate"
           },
           {
            "args": [
             [
              "2022-09-16"
             ],
             {
              "frame": {
               "duration": 0,
               "redraw": true
              },
              "fromcurrent": true,
              "mode": "immediate",
              "transition": {
               "duration": 0,
               "easing": "linear"
              }
             }
            ],
            "label": "2022-09-16",
            "method": "animate"
           },
           {
            "args": [
             [
              "2022-09-17"
             ],
             {
              "frame": {
               "duration": 0,
               "redraw": true
              },
              "fromcurrent": true,
              "mode": "immediate",
              "transition": {
               "duration": 0,
               "easing": "linear"
              }
             }
            ],
            "label": "2022-09-17",
            "method": "animate"
           },
           {
            "args": [
             [
              "2022-09-18"
             ],
             {
              "frame": {
               "duration": 0,
               "redraw": true
              },
              "fromcurrent": true,
              "mode": "immediate",
              "transition": {
               "duration": 0,
               "easing": "linear"
              }
             }
            ],
            "label": "2022-09-18",
            "method": "animate"
           },
           {
            "args": [
             [
              "2022-09-19"
             ],
             {
              "frame": {
               "duration": 0,
               "redraw": true
              },
              "fromcurrent": true,
              "mode": "immediate",
              "transition": {
               "duration": 0,
               "easing": "linear"
              }
             }
            ],
            "label": "2022-09-19",
            "method": "animate"
           },
           {
            "args": [
             [
              "2022-09-20"
             ],
             {
              "frame": {
               "duration": 0,
               "redraw": true
              },
              "fromcurrent": true,
              "mode": "immediate",
              "transition": {
               "duration": 0,
               "easing": "linear"
              }
             }
            ],
            "label": "2022-09-20",
            "method": "animate"
           },
           {
            "args": [
             [
              "2022-09-21"
             ],
             {
              "frame": {
               "duration": 0,
               "redraw": true
              },
              "fromcurrent": true,
              "mode": "immediate",
              "transition": {
               "duration": 0,
               "easing": "linear"
              }
             }
            ],
            "label": "2022-09-21",
            "method": "animate"
           },
           {
            "args": [
             [
              "2022-09-22"
             ],
             {
              "frame": {
               "duration": 0,
               "redraw": true
              },
              "fromcurrent": true,
              "mode": "immediate",
              "transition": {
               "duration": 0,
               "easing": "linear"
              }
             }
            ],
            "label": "2022-09-22",
            "method": "animate"
           },
           {
            "args": [
             [
              "2022-09-23"
             ],
             {
              "frame": {
               "duration": 0,
               "redraw": true
              },
              "fromcurrent": true,
              "mode": "immediate",
              "transition": {
               "duration": 0,
               "easing": "linear"
              }
             }
            ],
            "label": "2022-09-23",
            "method": "animate"
           },
           {
            "args": [
             [
              "2022-09-24"
             ],
             {
              "frame": {
               "duration": 0,
               "redraw": true
              },
              "fromcurrent": true,
              "mode": "immediate",
              "transition": {
               "duration": 0,
               "easing": "linear"
              }
             }
            ],
            "label": "2022-09-24",
            "method": "animate"
           },
           {
            "args": [
             [
              "2022-09-25"
             ],
             {
              "frame": {
               "duration": 0,
               "redraw": true
              },
              "fromcurrent": true,
              "mode": "immediate",
              "transition": {
               "duration": 0,
               "easing": "linear"
              }
             }
            ],
            "label": "2022-09-25",
            "method": "animate"
           },
           {
            "args": [
             [
              "2022-09-26"
             ],
             {
              "frame": {
               "duration": 0,
               "redraw": true
              },
              "fromcurrent": true,
              "mode": "immediate",
              "transition": {
               "duration": 0,
               "easing": "linear"
              }
             }
            ],
            "label": "2022-09-26",
            "method": "animate"
           },
           {
            "args": [
             [
              "2022-09-27"
             ],
             {
              "frame": {
               "duration": 0,
               "redraw": true
              },
              "fromcurrent": true,
              "mode": "immediate",
              "transition": {
               "duration": 0,
               "easing": "linear"
              }
             }
            ],
            "label": "2022-09-27",
            "method": "animate"
           },
           {
            "args": [
             [
              "2022-09-28"
             ],
             {
              "frame": {
               "duration": 0,
               "redraw": true
              },
              "fromcurrent": true,
              "mode": "immediate",
              "transition": {
               "duration": 0,
               "easing": "linear"
              }
             }
            ],
            "label": "2022-09-28",
            "method": "animate"
           },
           {
            "args": [
             [
              "2022-09-29"
             ],
             {
              "frame": {
               "duration": 0,
               "redraw": true
              },
              "fromcurrent": true,
              "mode": "immediate",
              "transition": {
               "duration": 0,
               "easing": "linear"
              }
             }
            ],
            "label": "2022-09-29",
            "method": "animate"
           },
           {
            "args": [
             [
              "2022-09-30"
             ],
             {
              "frame": {
               "duration": 0,
               "redraw": true
              },
              "fromcurrent": true,
              "mode": "immediate",
              "transition": {
               "duration": 0,
               "easing": "linear"
              }
             }
            ],
            "label": "2022-09-30",
            "method": "animate"
           },
           {
            "args": [
             [
              "2022-10-01"
             ],
             {
              "frame": {
               "duration": 0,
               "redraw": true
              },
              "fromcurrent": true,
              "mode": "immediate",
              "transition": {
               "duration": 0,
               "easing": "linear"
              }
             }
            ],
            "label": "2022-10-01",
            "method": "animate"
           },
           {
            "args": [
             [
              "2022-10-02"
             ],
             {
              "frame": {
               "duration": 0,
               "redraw": true
              },
              "fromcurrent": true,
              "mode": "immediate",
              "transition": {
               "duration": 0,
               "easing": "linear"
              }
             }
            ],
            "label": "2022-10-02",
            "method": "animate"
           },
           {
            "args": [
             [
              "2022-10-03"
             ],
             {
              "frame": {
               "duration": 0,
               "redraw": true
              },
              "fromcurrent": true,
              "mode": "immediate",
              "transition": {
               "duration": 0,
               "easing": "linear"
              }
             }
            ],
            "label": "2022-10-03",
            "method": "animate"
           },
           {
            "args": [
             [
              "2022-10-04"
             ],
             {
              "frame": {
               "duration": 0,
               "redraw": true
              },
              "fromcurrent": true,
              "mode": "immediate",
              "transition": {
               "duration": 0,
               "easing": "linear"
              }
             }
            ],
            "label": "2022-10-04",
            "method": "animate"
           },
           {
            "args": [
             [
              "2022-10-05"
             ],
             {
              "frame": {
               "duration": 0,
               "redraw": true
              },
              "fromcurrent": true,
              "mode": "immediate",
              "transition": {
               "duration": 0,
               "easing": "linear"
              }
             }
            ],
            "label": "2022-10-05",
            "method": "animate"
           },
           {
            "args": [
             [
              "2022-10-06"
             ],
             {
              "frame": {
               "duration": 0,
               "redraw": true
              },
              "fromcurrent": true,
              "mode": "immediate",
              "transition": {
               "duration": 0,
               "easing": "linear"
              }
             }
            ],
            "label": "2022-10-06",
            "method": "animate"
           },
           {
            "args": [
             [
              "2022-10-07"
             ],
             {
              "frame": {
               "duration": 0,
               "redraw": true
              },
              "fromcurrent": true,
              "mode": "immediate",
              "transition": {
               "duration": 0,
               "easing": "linear"
              }
             }
            ],
            "label": "2022-10-07",
            "method": "animate"
           },
           {
            "args": [
             [
              "2022-10-08"
             ],
             {
              "frame": {
               "duration": 0,
               "redraw": true
              },
              "fromcurrent": true,
              "mode": "immediate",
              "transition": {
               "duration": 0,
               "easing": "linear"
              }
             }
            ],
            "label": "2022-10-08",
            "method": "animate"
           },
           {
            "args": [
             [
              "2022-10-09"
             ],
             {
              "frame": {
               "duration": 0,
               "redraw": true
              },
              "fromcurrent": true,
              "mode": "immediate",
              "transition": {
               "duration": 0,
               "easing": "linear"
              }
             }
            ],
            "label": "2022-10-09",
            "method": "animate"
           },
           {
            "args": [
             [
              "2022-10-10"
             ],
             {
              "frame": {
               "duration": 0,
               "redraw": true
              },
              "fromcurrent": true,
              "mode": "immediate",
              "transition": {
               "duration": 0,
               "easing": "linear"
              }
             }
            ],
            "label": "2022-10-10",
            "method": "animate"
           },
           {
            "args": [
             [
              "2022-10-11"
             ],
             {
              "frame": {
               "duration": 0,
               "redraw": true
              },
              "fromcurrent": true,
              "mode": "immediate",
              "transition": {
               "duration": 0,
               "easing": "linear"
              }
             }
            ],
            "label": "2022-10-11",
            "method": "animate"
           },
           {
            "args": [
             [
              "2022-10-12"
             ],
             {
              "frame": {
               "duration": 0,
               "redraw": true
              },
              "fromcurrent": true,
              "mode": "immediate",
              "transition": {
               "duration": 0,
               "easing": "linear"
              }
             }
            ],
            "label": "2022-10-12",
            "method": "animate"
           },
           {
            "args": [
             [
              "2022-10-13"
             ],
             {
              "frame": {
               "duration": 0,
               "redraw": true
              },
              "fromcurrent": true,
              "mode": "immediate",
              "transition": {
               "duration": 0,
               "easing": "linear"
              }
             }
            ],
            "label": "2022-10-13",
            "method": "animate"
           },
           {
            "args": [
             [
              "2022-10-14"
             ],
             {
              "frame": {
               "duration": 0,
               "redraw": true
              },
              "fromcurrent": true,
              "mode": "immediate",
              "transition": {
               "duration": 0,
               "easing": "linear"
              }
             }
            ],
            "label": "2022-10-14",
            "method": "animate"
           },
           {
            "args": [
             [
              "2022-10-15"
             ],
             {
              "frame": {
               "duration": 0,
               "redraw": true
              },
              "fromcurrent": true,
              "mode": "immediate",
              "transition": {
               "duration": 0,
               "easing": "linear"
              }
             }
            ],
            "label": "2022-10-15",
            "method": "animate"
           },
           {
            "args": [
             [
              "2022-10-16"
             ],
             {
              "frame": {
               "duration": 0,
               "redraw": true
              },
              "fromcurrent": true,
              "mode": "immediate",
              "transition": {
               "duration": 0,
               "easing": "linear"
              }
             }
            ],
            "label": "2022-10-16",
            "method": "animate"
           },
           {
            "args": [
             [
              "2022-10-17"
             ],
             {
              "frame": {
               "duration": 0,
               "redraw": true
              },
              "fromcurrent": true,
              "mode": "immediate",
              "transition": {
               "duration": 0,
               "easing": "linear"
              }
             }
            ],
            "label": "2022-10-17",
            "method": "animate"
           },
           {
            "args": [
             [
              "2022-10-18"
             ],
             {
              "frame": {
               "duration": 0,
               "redraw": true
              },
              "fromcurrent": true,
              "mode": "immediate",
              "transition": {
               "duration": 0,
               "easing": "linear"
              }
             }
            ],
            "label": "2022-10-18",
            "method": "animate"
           },
           {
            "args": [
             [
              "2022-10-19"
             ],
             {
              "frame": {
               "duration": 0,
               "redraw": true
              },
              "fromcurrent": true,
              "mode": "immediate",
              "transition": {
               "duration": 0,
               "easing": "linear"
              }
             }
            ],
            "label": "2022-10-19",
            "method": "animate"
           },
           {
            "args": [
             [
              "2022-10-20"
             ],
             {
              "frame": {
               "duration": 0,
               "redraw": true
              },
              "fromcurrent": true,
              "mode": "immediate",
              "transition": {
               "duration": 0,
               "easing": "linear"
              }
             }
            ],
            "label": "2022-10-20",
            "method": "animate"
           },
           {
            "args": [
             [
              "2022-10-21"
             ],
             {
              "frame": {
               "duration": 0,
               "redraw": true
              },
              "fromcurrent": true,
              "mode": "immediate",
              "transition": {
               "duration": 0,
               "easing": "linear"
              }
             }
            ],
            "label": "2022-10-21",
            "method": "animate"
           },
           {
            "args": [
             [
              "2022-10-22"
             ],
             {
              "frame": {
               "duration": 0,
               "redraw": true
              },
              "fromcurrent": true,
              "mode": "immediate",
              "transition": {
               "duration": 0,
               "easing": "linear"
              }
             }
            ],
            "label": "2022-10-22",
            "method": "animate"
           },
           {
            "args": [
             [
              "2022-10-23"
             ],
             {
              "frame": {
               "duration": 0,
               "redraw": true
              },
              "fromcurrent": true,
              "mode": "immediate",
              "transition": {
               "duration": 0,
               "easing": "linear"
              }
             }
            ],
            "label": "2022-10-23",
            "method": "animate"
           },
           {
            "args": [
             [
              "2022-10-24"
             ],
             {
              "frame": {
               "duration": 0,
               "redraw": true
              },
              "fromcurrent": true,
              "mode": "immediate",
              "transition": {
               "duration": 0,
               "easing": "linear"
              }
             }
            ],
            "label": "2022-10-24",
            "method": "animate"
           },
           {
            "args": [
             [
              "2022-10-25"
             ],
             {
              "frame": {
               "duration": 0,
               "redraw": true
              },
              "fromcurrent": true,
              "mode": "immediate",
              "transition": {
               "duration": 0,
               "easing": "linear"
              }
             }
            ],
            "label": "2022-10-25",
            "method": "animate"
           },
           {
            "args": [
             [
              "2022-11-02"
             ],
             {
              "frame": {
               "duration": 0,
               "redraw": true
              },
              "fromcurrent": true,
              "mode": "immediate",
              "transition": {
               "duration": 0,
               "easing": "linear"
              }
             }
            ],
            "label": "2022-11-02",
            "method": "animate"
           },
           {
            "args": [
             [
              "2022-11-03"
             ],
             {
              "frame": {
               "duration": 0,
               "redraw": true
              },
              "fromcurrent": true,
              "mode": "immediate",
              "transition": {
               "duration": 0,
               "easing": "linear"
              }
             }
            ],
            "label": "2022-11-03",
            "method": "animate"
           },
           {
            "args": [
             [
              "2022-11-04"
             ],
             {
              "frame": {
               "duration": 0,
               "redraw": true
              },
              "fromcurrent": true,
              "mode": "immediate",
              "transition": {
               "duration": 0,
               "easing": "linear"
              }
             }
            ],
            "label": "2022-11-04",
            "method": "animate"
           },
           {
            "args": [
             [
              "2022-11-05"
             ],
             {
              "frame": {
               "duration": 0,
               "redraw": true
              },
              "fromcurrent": true,
              "mode": "immediate",
              "transition": {
               "duration": 0,
               "easing": "linear"
              }
             }
            ],
            "label": "2022-11-05",
            "method": "animate"
           },
           {
            "args": [
             [
              "2022-11-06"
             ],
             {
              "frame": {
               "duration": 0,
               "redraw": true
              },
              "fromcurrent": true,
              "mode": "immediate",
              "transition": {
               "duration": 0,
               "easing": "linear"
              }
             }
            ],
            "label": "2022-11-06",
            "method": "animate"
           },
           {
            "args": [
             [
              "2022-11-07"
             ],
             {
              "frame": {
               "duration": 0,
               "redraw": true
              },
              "fromcurrent": true,
              "mode": "immediate",
              "transition": {
               "duration": 0,
               "easing": "linear"
              }
             }
            ],
            "label": "2022-11-07",
            "method": "animate"
           },
           {
            "args": [
             [
              "2022-11-08"
             ],
             {
              "frame": {
               "duration": 0,
               "redraw": true
              },
              "fromcurrent": true,
              "mode": "immediate",
              "transition": {
               "duration": 0,
               "easing": "linear"
              }
             }
            ],
            "label": "2022-11-08",
            "method": "animate"
           },
           {
            "args": [
             [
              "2022-11-09"
             ],
             {
              "frame": {
               "duration": 0,
               "redraw": true
              },
              "fromcurrent": true,
              "mode": "immediate",
              "transition": {
               "duration": 0,
               "easing": "linear"
              }
             }
            ],
            "label": "2022-11-09",
            "method": "animate"
           },
           {
            "args": [
             [
              "2022-11-10"
             ],
             {
              "frame": {
               "duration": 0,
               "redraw": true
              },
              "fromcurrent": true,
              "mode": "immediate",
              "transition": {
               "duration": 0,
               "easing": "linear"
              }
             }
            ],
            "label": "2022-11-10",
            "method": "animate"
           },
           {
            "args": [
             [
              "2022-11-23"
             ],
             {
              "frame": {
               "duration": 0,
               "redraw": true
              },
              "fromcurrent": true,
              "mode": "immediate",
              "transition": {
               "duration": 0,
               "easing": "linear"
              }
             }
            ],
            "label": "2022-11-23",
            "method": "animate"
           },
           {
            "args": [
             [
              "2022-11-24"
             ],
             {
              "frame": {
               "duration": 0,
               "redraw": true
              },
              "fromcurrent": true,
              "mode": "immediate",
              "transition": {
               "duration": 0,
               "easing": "linear"
              }
             }
            ],
            "label": "2022-11-24",
            "method": "animate"
           },
           {
            "args": [
             [
              "2022-11-25"
             ],
             {
              "frame": {
               "duration": 0,
               "redraw": true
              },
              "fromcurrent": true,
              "mode": "immediate",
              "transition": {
               "duration": 0,
               "easing": "linear"
              }
             }
            ],
            "label": "2022-11-25",
            "method": "animate"
           },
           {
            "args": [
             [
              "2022-11-26"
             ],
             {
              "frame": {
               "duration": 0,
               "redraw": true
              },
              "fromcurrent": true,
              "mode": "immediate",
              "transition": {
               "duration": 0,
               "easing": "linear"
              }
             }
            ],
            "label": "2022-11-26",
            "method": "animate"
           },
           {
            "args": [
             [
              "2022-11-27"
             ],
             {
              "frame": {
               "duration": 0,
               "redraw": true
              },
              "fromcurrent": true,
              "mode": "immediate",
              "transition": {
               "duration": 0,
               "easing": "linear"
              }
             }
            ],
            "label": "2022-11-27",
            "method": "animate"
           },
           {
            "args": [
             [
              "2022-11-28"
             ],
             {
              "frame": {
               "duration": 0,
               "redraw": true
              },
              "fromcurrent": true,
              "mode": "immediate",
              "transition": {
               "duration": 0,
               "easing": "linear"
              }
             }
            ],
            "label": "2022-11-28",
            "method": "animate"
           },
           {
            "args": [
             [
              "2022-11-29"
             ],
             {
              "frame": {
               "duration": 0,
               "redraw": true
              },
              "fromcurrent": true,
              "mode": "immediate",
              "transition": {
               "duration": 0,
               "easing": "linear"
              }
             }
            ],
            "label": "2022-11-29",
            "method": "animate"
           },
           {
            "args": [
             [
              "2022-11-30"
             ],
             {
              "frame": {
               "duration": 0,
               "redraw": true
              },
              "fromcurrent": true,
              "mode": "immediate",
              "transition": {
               "duration": 0,
               "easing": "linear"
              }
             }
            ],
            "label": "2022-11-30",
            "method": "animate"
           },
           {
            "args": [
             [
              "2022-12-01"
             ],
             {
              "frame": {
               "duration": 0,
               "redraw": true
              },
              "fromcurrent": true,
              "mode": "immediate",
              "transition": {
               "duration": 0,
               "easing": "linear"
              }
             }
            ],
            "label": "2022-12-01",
            "method": "animate"
           },
           {
            "args": [
             [
              "2022-12-02"
             ],
             {
              "frame": {
               "duration": 0,
               "redraw": true
              },
              "fromcurrent": true,
              "mode": "immediate",
              "transition": {
               "duration": 0,
               "easing": "linear"
              }
             }
            ],
            "label": "2022-12-02",
            "method": "animate"
           },
           {
            "args": [
             [
              "2022-12-03"
             ],
             {
              "frame": {
               "duration": 0,
               "redraw": true
              },
              "fromcurrent": true,
              "mode": "immediate",
              "transition": {
               "duration": 0,
               "easing": "linear"
              }
             }
            ],
            "label": "2022-12-03",
            "method": "animate"
           },
           {
            "args": [
             [
              "2022-12-04"
             ],
             {
              "frame": {
               "duration": 0,
               "redraw": true
              },
              "fromcurrent": true,
              "mode": "immediate",
              "transition": {
               "duration": 0,
               "easing": "linear"
              }
             }
            ],
            "label": "2022-12-04",
            "method": "animate"
           },
           {
            "args": [
             [
              "2022-12-05"
             ],
             {
              "frame": {
               "duration": 0,
               "redraw": true
              },
              "fromcurrent": true,
              "mode": "immediate",
              "transition": {
               "duration": 0,
               "easing": "linear"
              }
             }
            ],
            "label": "2022-12-05",
            "method": "animate"
           },
           {
            "args": [
             [
              "2022-12-06"
             ],
             {
              "frame": {
               "duration": 0,
               "redraw": true
              },
              "fromcurrent": true,
              "mode": "immediate",
              "transition": {
               "duration": 0,
               "easing": "linear"
              }
             }
            ],
            "label": "2022-12-06",
            "method": "animate"
           },
           {
            "args": [
             [
              "2022-12-07"
             ],
             {
              "frame": {
               "duration": 0,
               "redraw": true
              },
              "fromcurrent": true,
              "mode": "immediate",
              "transition": {
               "duration": 0,
               "easing": "linear"
              }
             }
            ],
            "label": "2022-12-07",
            "method": "animate"
           },
           {
            "args": [
             [
              "2022-12-08"
             ],
             {
              "frame": {
               "duration": 0,
               "redraw": true
              },
              "fromcurrent": true,
              "mode": "immediate",
              "transition": {
               "duration": 0,
               "easing": "linear"
              }
             }
            ],
            "label": "2022-12-08",
            "method": "animate"
           },
           {
            "args": [
             [
              "2022-12-09"
             ],
             {
              "frame": {
               "duration": 0,
               "redraw": true
              },
              "fromcurrent": true,
              "mode": "immediate",
              "transition": {
               "duration": 0,
               "easing": "linear"
              }
             }
            ],
            "label": "2022-12-09",
            "method": "animate"
           },
           {
            "args": [
             [
              "2022-12-10"
             ],
             {
              "frame": {
               "duration": 0,
               "redraw": true
              },
              "fromcurrent": true,
              "mode": "immediate",
              "transition": {
               "duration": 0,
               "easing": "linear"
              }
             }
            ],
            "label": "2022-12-10",
            "method": "animate"
           },
           {
            "args": [
             [
              "2022-12-11"
             ],
             {
              "frame": {
               "duration": 0,
               "redraw": true
              },
              "fromcurrent": true,
              "mode": "immediate",
              "transition": {
               "duration": 0,
               "easing": "linear"
              }
             }
            ],
            "label": "2022-12-11",
            "method": "animate"
           },
           {
            "args": [
             [
              "2022-12-12"
             ],
             {
              "frame": {
               "duration": 0,
               "redraw": true
              },
              "fromcurrent": true,
              "mode": "immediate",
              "transition": {
               "duration": 0,
               "easing": "linear"
              }
             }
            ],
            "label": "2022-12-12",
            "method": "animate"
           },
           {
            "args": [
             [
              "2022-12-13"
             ],
             {
              "frame": {
               "duration": 0,
               "redraw": true
              },
              "fromcurrent": true,
              "mode": "immediate",
              "transition": {
               "duration": 0,
               "easing": "linear"
              }
             }
            ],
            "label": "2022-12-13",
            "method": "animate"
           },
           {
            "args": [
             [
              "2022-12-14"
             ],
             {
              "frame": {
               "duration": 0,
               "redraw": true
              },
              "fromcurrent": true,
              "mode": "immediate",
              "transition": {
               "duration": 0,
               "easing": "linear"
              }
             }
            ],
            "label": "2022-12-14",
            "method": "animate"
           },
           {
            "args": [
             [
              "2022-12-15"
             ],
             {
              "frame": {
               "duration": 0,
               "redraw": true
              },
              "fromcurrent": true,
              "mode": "immediate",
              "transition": {
               "duration": 0,
               "easing": "linear"
              }
             }
            ],
            "label": "2022-12-15",
            "method": "animate"
           },
           {
            "args": [
             [
              "2022-12-16"
             ],
             {
              "frame": {
               "duration": 0,
               "redraw": true
              },
              "fromcurrent": true,
              "mode": "immediate",
              "transition": {
               "duration": 0,
               "easing": "linear"
              }
             }
            ],
            "label": "2022-12-16",
            "method": "animate"
           },
           {
            "args": [
             [
              "2022-12-17"
             ],
             {
              "frame": {
               "duration": 0,
               "redraw": true
              },
              "fromcurrent": true,
              "mode": "immediate",
              "transition": {
               "duration": 0,
               "easing": "linear"
              }
             }
            ],
            "label": "2022-12-17",
            "method": "animate"
           },
           {
            "args": [
             [
              "2022-12-18"
             ],
             {
              "frame": {
               "duration": 0,
               "redraw": true
              },
              "fromcurrent": true,
              "mode": "immediate",
              "transition": {
               "duration": 0,
               "easing": "linear"
              }
             }
            ],
            "label": "2022-12-18",
            "method": "animate"
           },
           {
            "args": [
             [
              "2022-12-19"
             ],
             {
              "frame": {
               "duration": 0,
               "redraw": true
              },
              "fromcurrent": true,
              "mode": "immediate",
              "transition": {
               "duration": 0,
               "easing": "linear"
              }
             }
            ],
            "label": "2022-12-19",
            "method": "animate"
           },
           {
            "args": [
             [
              "2022-12-20"
             ],
             {
              "frame": {
               "duration": 0,
               "redraw": true
              },
              "fromcurrent": true,
              "mode": "immediate",
              "transition": {
               "duration": 0,
               "easing": "linear"
              }
             }
            ],
            "label": "2022-12-20",
            "method": "animate"
           },
           {
            "args": [
             [
              "2022-12-21"
             ],
             {
              "frame": {
               "duration": 0,
               "redraw": true
              },
              "fromcurrent": true,
              "mode": "immediate",
              "transition": {
               "duration": 0,
               "easing": "linear"
              }
             }
            ],
            "label": "2022-12-21",
            "method": "animate"
           },
           {
            "args": [
             [
              "2022-12-22"
             ],
             {
              "frame": {
               "duration": 0,
               "redraw": true
              },
              "fromcurrent": true,
              "mode": "immediate",
              "transition": {
               "duration": 0,
               "easing": "linear"
              }
             }
            ],
            "label": "2022-12-22",
            "method": "animate"
           },
           {
            "args": [
             [
              "2022-05-27"
             ],
             {
              "frame": {
               "duration": 0,
               "redraw": true
              },
              "fromcurrent": true,
              "mode": "immediate",
              "transition": {
               "duration": 0,
               "easing": "linear"
              }
             }
            ],
            "label": "2022-05-27",
            "method": "animate"
           },
           {
            "args": [
             [
              "2022-05-28"
             ],
             {
              "frame": {
               "duration": 0,
               "redraw": true
              },
              "fromcurrent": true,
              "mode": "immediate",
              "transition": {
               "duration": 0,
               "easing": "linear"
              }
             }
            ],
            "label": "2022-05-28",
            "method": "animate"
           },
           {
            "args": [
             [
              "2022-05-29"
             ],
             {
              "frame": {
               "duration": 0,
               "redraw": true
              },
              "fromcurrent": true,
              "mode": "immediate",
              "transition": {
               "duration": 0,
               "easing": "linear"
              }
             }
            ],
            "label": "2022-05-29",
            "method": "animate"
           },
           {
            "args": [
             [
              "2022-05-30"
             ],
             {
              "frame": {
               "duration": 0,
               "redraw": true
              },
              "fromcurrent": true,
              "mode": "immediate",
              "transition": {
               "duration": 0,
               "easing": "linear"
              }
             }
            ],
            "label": "2022-05-30",
            "method": "animate"
           },
           {
            "args": [
             [
              "2022-05-31"
             ],
             {
              "frame": {
               "duration": 0,
               "redraw": true
              },
              "fromcurrent": true,
              "mode": "immediate",
              "transition": {
               "duration": 0,
               "easing": "linear"
              }
             }
            ],
            "label": "2022-05-31",
            "method": "animate"
           },
           {
            "args": [
             [
              "2022-01-07"
             ],
             {
              "frame": {
               "duration": 0,
               "redraw": true
              },
              "fromcurrent": true,
              "mode": "immediate",
              "transition": {
               "duration": 0,
               "easing": "linear"
              }
             }
            ],
            "label": "2022-01-07",
            "method": "animate"
           },
           {
            "args": [
             [
              "2022-01-08"
             ],
             {
              "frame": {
               "duration": 0,
               "redraw": true
              },
              "fromcurrent": true,
              "mode": "immediate",
              "transition": {
               "duration": 0,
               "easing": "linear"
              }
             }
            ],
            "label": "2022-01-08",
            "method": "animate"
           },
           {
            "args": [
             [
              "2022-01-09"
             ],
             {
              "frame": {
               "duration": 0,
               "redraw": true
              },
              "fromcurrent": true,
              "mode": "immediate",
              "transition": {
               "duration": 0,
               "easing": "linear"
              }
             }
            ],
            "label": "2022-01-09",
            "method": "animate"
           },
           {
            "args": [
             [
              "2022-01-10"
             ],
             {
              "frame": {
               "duration": 0,
               "redraw": true
              },
              "fromcurrent": true,
              "mode": "immediate",
              "transition": {
               "duration": 0,
               "easing": "linear"
              }
             }
            ],
            "label": "2022-01-10",
            "method": "animate"
           },
           {
            "args": [
             [
              "2022-01-11"
             ],
             {
              "frame": {
               "duration": 0,
               "redraw": true
              },
              "fromcurrent": true,
              "mode": "immediate",
              "transition": {
               "duration": 0,
               "easing": "linear"
              }
             }
            ],
            "label": "2022-01-11",
            "method": "animate"
           },
           {
            "args": [
             [
              "2022-01-12"
             ],
             {
              "frame": {
               "duration": 0,
               "redraw": true
              },
              "fromcurrent": true,
              "mode": "immediate",
              "transition": {
               "duration": 0,
               "easing": "linear"
              }
             }
            ],
            "label": "2022-01-12",
            "method": "animate"
           },
           {
            "args": [
             [
              "2022-01-13"
             ],
             {
              "frame": {
               "duration": 0,
               "redraw": true
              },
              "fromcurrent": true,
              "mode": "immediate",
              "transition": {
               "duration": 0,
               "easing": "linear"
              }
             }
            ],
            "label": "2022-01-13",
            "method": "animate"
           },
           {
            "args": [
             [
              "2022-01-14"
             ],
             {
              "frame": {
               "duration": 0,
               "redraw": true
              },
              "fromcurrent": true,
              "mode": "immediate",
              "transition": {
               "duration": 0,
               "easing": "linear"
              }
             }
            ],
            "label": "2022-01-14",
            "method": "animate"
           },
           {
            "args": [
             [
              "2022-01-15"
             ],
             {
              "frame": {
               "duration": 0,
               "redraw": true
              },
              "fromcurrent": true,
              "mode": "immediate",
              "transition": {
               "duration": 0,
               "easing": "linear"
              }
             }
            ],
            "label": "2022-01-15",
            "method": "animate"
           },
           {
            "args": [
             [
              "2022-01-16"
             ],
             {
              "frame": {
               "duration": 0,
               "redraw": true
              },
              "fromcurrent": true,
              "mode": "immediate",
              "transition": {
               "duration": 0,
               "easing": "linear"
              }
             }
            ],
            "label": "2022-01-16",
            "method": "animate"
           },
           {
            "args": [
             [
              "2022-01-17"
             ],
             {
              "frame": {
               "duration": 0,
               "redraw": true
              },
              "fromcurrent": true,
              "mode": "immediate",
              "transition": {
               "duration": 0,
               "easing": "linear"
              }
             }
            ],
            "label": "2022-01-17",
            "method": "animate"
           },
           {
            "args": [
             [
              "2022-01-18"
             ],
             {
              "frame": {
               "duration": 0,
               "redraw": true
              },
              "fromcurrent": true,
              "mode": "immediate",
              "transition": {
               "duration": 0,
               "easing": "linear"
              }
             }
            ],
            "label": "2022-01-18",
            "method": "animate"
           },
           {
            "args": [
             [
              "2022-01-19"
             ],
             {
              "frame": {
               "duration": 0,
               "redraw": true
              },
              "fromcurrent": true,
              "mode": "immediate",
              "transition": {
               "duration": 0,
               "easing": "linear"
              }
             }
            ],
            "label": "2022-01-19",
            "method": "animate"
           },
           {
            "args": [
             [
              "2022-01-20"
             ],
             {
              "frame": {
               "duration": 0,
               "redraw": true
              },
              "fromcurrent": true,
              "mode": "immediate",
              "transition": {
               "duration": 0,
               "easing": "linear"
              }
             }
            ],
            "label": "2022-01-20",
            "method": "animate"
           },
           {
            "args": [
             [
              "2022-01-21"
             ],
             {
              "frame": {
               "duration": 0,
               "redraw": true
              },
              "fromcurrent": true,
              "mode": "immediate",
              "transition": {
               "duration": 0,
               "easing": "linear"
              }
             }
            ],
            "label": "2022-01-21",
            "method": "animate"
           },
           {
            "args": [
             [
              "2022-01-22"
             ],
             {
              "frame": {
               "duration": 0,
               "redraw": true
              },
              "fromcurrent": true,
              "mode": "immediate",
              "transition": {
               "duration": 0,
               "easing": "linear"
              }
             }
            ],
            "label": "2022-01-22",
            "method": "animate"
           },
           {
            "args": [
             [
              "2022-01-23"
             ],
             {
              "frame": {
               "duration": 0,
               "redraw": true
              },
              "fromcurrent": true,
              "mode": "immediate",
              "transition": {
               "duration": 0,
               "easing": "linear"
              }
             }
            ],
            "label": "2022-01-23",
            "method": "animate"
           },
           {
            "args": [
             [
              "2022-01-24"
             ],
             {
              "frame": {
               "duration": 0,
               "redraw": true
              },
              "fromcurrent": true,
              "mode": "immediate",
              "transition": {
               "duration": 0,
               "easing": "linear"
              }
             }
            ],
            "label": "2022-01-24",
            "method": "animate"
           },
           {
            "args": [
             [
              "2022-01-25"
             ],
             {
              "frame": {
               "duration": 0,
               "redraw": true
              },
              "fromcurrent": true,
              "mode": "immediate",
              "transition": {
               "duration": 0,
               "easing": "linear"
              }
             }
            ],
            "label": "2022-01-25",
            "method": "animate"
           },
           {
            "args": [
             [
              "2022-01-26"
             ],
             {
              "frame": {
               "duration": 0,
               "redraw": true
              },
              "fromcurrent": true,
              "mode": "immediate",
              "transition": {
               "duration": 0,
               "easing": "linear"
              }
             }
            ],
            "label": "2022-01-26",
            "method": "animate"
           },
           {
            "args": [
             [
              "2022-01-27"
             ],
             {
              "frame": {
               "duration": 0,
               "redraw": true
              },
              "fromcurrent": true,
              "mode": "immediate",
              "transition": {
               "duration": 0,
               "easing": "linear"
              }
             }
            ],
            "label": "2022-01-27",
            "method": "animate"
           },
           {
            "args": [
             [
              "2022-01-28"
             ],
             {
              "frame": {
               "duration": 0,
               "redraw": true
              },
              "fromcurrent": true,
              "mode": "immediate",
              "transition": {
               "duration": 0,
               "easing": "linear"
              }
             }
            ],
            "label": "2022-01-28",
            "method": "animate"
           },
           {
            "args": [
             [
              "2022-01-29"
             ],
             {
              "frame": {
               "duration": 0,
               "redraw": true
              },
              "fromcurrent": true,
              "mode": "immediate",
              "transition": {
               "duration": 0,
               "easing": "linear"
              }
             }
            ],
            "label": "2022-01-29",
            "method": "animate"
           },
           {
            "args": [
             [
              "2022-01-30"
             ],
             {
              "frame": {
               "duration": 0,
               "redraw": true
              },
              "fromcurrent": true,
              "mode": "immediate",
              "transition": {
               "duration": 0,
               "easing": "linear"
              }
             }
            ],
            "label": "2022-01-30",
            "method": "animate"
           },
           {
            "args": [
             [
              "2022-01-31"
             ],
             {
              "frame": {
               "duration": 0,
               "redraw": true
              },
              "fromcurrent": true,
              "mode": "immediate",
              "transition": {
               "duration": 0,
               "easing": "linear"
              }
             }
            ],
            "label": "2022-01-31",
            "method": "animate"
           },
           {
            "args": [
             [
              "2022-02-01"
             ],
             {
              "frame": {
               "duration": 0,
               "redraw": true
              },
              "fromcurrent": true,
              "mode": "immediate",
              "transition": {
               "duration": 0,
               "easing": "linear"
              }
             }
            ],
            "label": "2022-02-01",
            "method": "animate"
           },
           {
            "args": [
             [
              "2022-02-02"
             ],
             {
              "frame": {
               "duration": 0,
               "redraw": true
              },
              "fromcurrent": true,
              "mode": "immediate",
              "transition": {
               "duration": 0,
               "easing": "linear"
              }
             }
            ],
            "label": "2022-02-02",
            "method": "animate"
           },
           {
            "args": [
             [
              "2022-02-03"
             ],
             {
              "frame": {
               "duration": 0,
               "redraw": true
              },
              "fromcurrent": true,
              "mode": "immediate",
              "transition": {
               "duration": 0,
               "easing": "linear"
              }
             }
            ],
            "label": "2022-02-03",
            "method": "animate"
           },
           {
            "args": [
             [
              "2022-02-04"
             ],
             {
              "frame": {
               "duration": 0,
               "redraw": true
              },
              "fromcurrent": true,
              "mode": "immediate",
              "transition": {
               "duration": 0,
               "easing": "linear"
              }
             }
            ],
            "label": "2022-02-04",
            "method": "animate"
           },
           {
            "args": [
             [
              "2022-02-05"
             ],
             {
              "frame": {
               "duration": 0,
               "redraw": true
              },
              "fromcurrent": true,
              "mode": "immediate",
              "transition": {
               "duration": 0,
               "easing": "linear"
              }
             }
            ],
            "label": "2022-02-05",
            "method": "animate"
           },
           {
            "args": [
             [
              "2022-02-06"
             ],
             {
              "frame": {
               "duration": 0,
               "redraw": true
              },
              "fromcurrent": true,
              "mode": "immediate",
              "transition": {
               "duration": 0,
               "easing": "linear"
              }
             }
            ],
            "label": "2022-02-06",
            "method": "animate"
           },
           {
            "args": [
             [
              "2022-02-07"
             ],
             {
              "frame": {
               "duration": 0,
               "redraw": true
              },
              "fromcurrent": true,
              "mode": "immediate",
              "transition": {
               "duration": 0,
               "easing": "linear"
              }
             }
            ],
            "label": "2022-02-07",
            "method": "animate"
           },
           {
            "args": [
             [
              "2022-02-08"
             ],
             {
              "frame": {
               "duration": 0,
               "redraw": true
              },
              "fromcurrent": true,
              "mode": "immediate",
              "transition": {
               "duration": 0,
               "easing": "linear"
              }
             }
            ],
            "label": "2022-02-08",
            "method": "animate"
           },
           {
            "args": [
             [
              "2022-02-09"
             ],
             {
              "frame": {
               "duration": 0,
               "redraw": true
              },
              "fromcurrent": true,
              "mode": "immediate",
              "transition": {
               "duration": 0,
               "easing": "linear"
              }
             }
            ],
            "label": "2022-02-09",
            "method": "animate"
           },
           {
            "args": [
             [
              "2022-02-10"
             ],
             {
              "frame": {
               "duration": 0,
               "redraw": true
              },
              "fromcurrent": true,
              "mode": "immediate",
              "transition": {
               "duration": 0,
               "easing": "linear"
              }
             }
            ],
            "label": "2022-02-10",
            "method": "animate"
           },
           {
            "args": [
             [
              "2022-02-11"
             ],
             {
              "frame": {
               "duration": 0,
               "redraw": true
              },
              "fromcurrent": true,
              "mode": "immediate",
              "transition": {
               "duration": 0,
               "easing": "linear"
              }
             }
            ],
            "label": "2022-02-11",
            "method": "animate"
           },
           {
            "args": [
             [
              "2022-02-12"
             ],
             {
              "frame": {
               "duration": 0,
               "redraw": true
              },
              "fromcurrent": true,
              "mode": "immediate",
              "transition": {
               "duration": 0,
               "easing": "linear"
              }
             }
            ],
            "label": "2022-02-12",
            "method": "animate"
           },
           {
            "args": [
             [
              "2022-02-13"
             ],
             {
              "frame": {
               "duration": 0,
               "redraw": true
              },
              "fromcurrent": true,
              "mode": "immediate",
              "transition": {
               "duration": 0,
               "easing": "linear"
              }
             }
            ],
            "label": "2022-02-13",
            "method": "animate"
           },
           {
            "args": [
             [
              "2022-02-14"
             ],
             {
              "frame": {
               "duration": 0,
               "redraw": true
              },
              "fromcurrent": true,
              "mode": "immediate",
              "transition": {
               "duration": 0,
               "easing": "linear"
              }
             }
            ],
            "label": "2022-02-14",
            "method": "animate"
           },
           {
            "args": [
             [
              "2022-02-15"
             ],
             {
              "frame": {
               "duration": 0,
               "redraw": true
              },
              "fromcurrent": true,
              "mode": "immediate",
              "transition": {
               "duration": 0,
               "easing": "linear"
              }
             }
            ],
            "label": "2022-02-15",
            "method": "animate"
           },
           {
            "args": [
             [
              "2022-02-16"
             ],
             {
              "frame": {
               "duration": 0,
               "redraw": true
              },
              "fromcurrent": true,
              "mode": "immediate",
              "transition": {
               "duration": 0,
               "easing": "linear"
              }
             }
            ],
            "label": "2022-02-16",
            "method": "animate"
           },
           {
            "args": [
             [
              "2022-02-17"
             ],
             {
              "frame": {
               "duration": 0,
               "redraw": true
              },
              "fromcurrent": true,
              "mode": "immediate",
              "transition": {
               "duration": 0,
               "easing": "linear"
              }
             }
            ],
            "label": "2022-02-17",
            "method": "animate"
           },
           {
            "args": [
             [
              "2022-02-18"
             ],
             {
              "frame": {
               "duration": 0,
               "redraw": true
              },
              "fromcurrent": true,
              "mode": "immediate",
              "transition": {
               "duration": 0,
               "easing": "linear"
              }
             }
            ],
            "label": "2022-02-18",
            "method": "animate"
           },
           {
            "args": [
             [
              "2022-02-19"
             ],
             {
              "frame": {
               "duration": 0,
               "redraw": true
              },
              "fromcurrent": true,
              "mode": "immediate",
              "transition": {
               "duration": 0,
               "easing": "linear"
              }
             }
            ],
            "label": "2022-02-19",
            "method": "animate"
           },
           {
            "args": [
             [
              "2022-02-20"
             ],
             {
              "frame": {
               "duration": 0,
               "redraw": true
              },
              "fromcurrent": true,
              "mode": "immediate",
              "transition": {
               "duration": 0,
               "easing": "linear"
              }
             }
            ],
            "label": "2022-02-20",
            "method": "animate"
           },
           {
            "args": [
             [
              "2022-02-21"
             ],
             {
              "frame": {
               "duration": 0,
               "redraw": true
              },
              "fromcurrent": true,
              "mode": "immediate",
              "transition": {
               "duration": 0,
               "easing": "linear"
              }
             }
            ],
            "label": "2022-02-21",
            "method": "animate"
           },
           {
            "args": [
             [
              "2022-02-22"
             ],
             {
              "frame": {
               "duration": 0,
               "redraw": true
              },
              "fromcurrent": true,
              "mode": "immediate",
              "transition": {
               "duration": 0,
               "easing": "linear"
              }
             }
            ],
            "label": "2022-02-22",
            "method": "animate"
           },
           {
            "args": [
             [
              "2022-02-23"
             ],
             {
              "frame": {
               "duration": 0,
               "redraw": true
              },
              "fromcurrent": true,
              "mode": "immediate",
              "transition": {
               "duration": 0,
               "easing": "linear"
              }
             }
            ],
            "label": "2022-02-23",
            "method": "animate"
           },
           {
            "args": [
             [
              "2022-02-24"
             ],
             {
              "frame": {
               "duration": 0,
               "redraw": true
              },
              "fromcurrent": true,
              "mode": "immediate",
              "transition": {
               "duration": 0,
               "easing": "linear"
              }
             }
            ],
            "label": "2022-02-24",
            "method": "animate"
           },
           {
            "args": [
             [
              "2022-02-25"
             ],
             {
              "frame": {
               "duration": 0,
               "redraw": true
              },
              "fromcurrent": true,
              "mode": "immediate",
              "transition": {
               "duration": 0,
               "easing": "linear"
              }
             }
            ],
            "label": "2022-02-25",
            "method": "animate"
           },
           {
            "args": [
             [
              "2022-02-26"
             ],
             {
              "frame": {
               "duration": 0,
               "redraw": true
              },
              "fromcurrent": true,
              "mode": "immediate",
              "transition": {
               "duration": 0,
               "easing": "linear"
              }
             }
            ],
            "label": "2022-02-26",
            "method": "animate"
           },
           {
            "args": [
             [
              "2022-02-27"
             ],
             {
              "frame": {
               "duration": 0,
               "redraw": true
              },
              "fromcurrent": true,
              "mode": "immediate",
              "transition": {
               "duration": 0,
               "easing": "linear"
              }
             }
            ],
            "label": "2022-02-27",
            "method": "animate"
           },
           {
            "args": [
             [
              "2022-02-28"
             ],
             {
              "frame": {
               "duration": 0,
               "redraw": true
              },
              "fromcurrent": true,
              "mode": "immediate",
              "transition": {
               "duration": 0,
               "easing": "linear"
              }
             }
            ],
            "label": "2022-02-28",
            "method": "animate"
           },
           {
            "args": [
             [
              "2022-03-01"
             ],
             {
              "frame": {
               "duration": 0,
               "redraw": true
              },
              "fromcurrent": true,
              "mode": "immediate",
              "transition": {
               "duration": 0,
               "easing": "linear"
              }
             }
            ],
            "label": "2022-03-01",
            "method": "animate"
           },
           {
            "args": [
             [
              "2022-03-02"
             ],
             {
              "frame": {
               "duration": 0,
               "redraw": true
              },
              "fromcurrent": true,
              "mode": "immediate",
              "transition": {
               "duration": 0,
               "easing": "linear"
              }
             }
            ],
            "label": "2022-03-02",
            "method": "animate"
           },
           {
            "args": [
             [
              "2022-03-03"
             ],
             {
              "frame": {
               "duration": 0,
               "redraw": true
              },
              "fromcurrent": true,
              "mode": "immediate",
              "transition": {
               "duration": 0,
               "easing": "linear"
              }
             }
            ],
            "label": "2022-03-03",
            "method": "animate"
           },
           {
            "args": [
             [
              "2022-03-04"
             ],
             {
              "frame": {
               "duration": 0,
               "redraw": true
              },
              "fromcurrent": true,
              "mode": "immediate",
              "transition": {
               "duration": 0,
               "easing": "linear"
              }
             }
            ],
            "label": "2022-03-04",
            "method": "animate"
           },
           {
            "args": [
             [
              "2022-03-05"
             ],
             {
              "frame": {
               "duration": 0,
               "redraw": true
              },
              "fromcurrent": true,
              "mode": "immediate",
              "transition": {
               "duration": 0,
               "easing": "linear"
              }
             }
            ],
            "label": "2022-03-05",
            "method": "animate"
           },
           {
            "args": [
             [
              "2022-03-06"
             ],
             {
              "frame": {
               "duration": 0,
               "redraw": true
              },
              "fromcurrent": true,
              "mode": "immediate",
              "transition": {
               "duration": 0,
               "easing": "linear"
              }
             }
            ],
            "label": "2022-03-06",
            "method": "animate"
           },
           {
            "args": [
             [
              "2022-10-26"
             ],
             {
              "frame": {
               "duration": 0,
               "redraw": true
              },
              "fromcurrent": true,
              "mode": "immediate",
              "transition": {
               "duration": 0,
               "easing": "linear"
              }
             }
            ],
            "label": "2022-10-26",
            "method": "animate"
           },
           {
            "args": [
             [
              "2022-10-27"
             ],
             {
              "frame": {
               "duration": 0,
               "redraw": true
              },
              "fromcurrent": true,
              "mode": "immediate",
              "transition": {
               "duration": 0,
               "easing": "linear"
              }
             }
            ],
            "label": "2022-10-27",
            "method": "animate"
           },
           {
            "args": [
             [
              "2022-10-28"
             ],
             {
              "frame": {
               "duration": 0,
               "redraw": true
              },
              "fromcurrent": true,
              "mode": "immediate",
              "transition": {
               "duration": 0,
               "easing": "linear"
              }
             }
            ],
            "label": "2022-10-28",
            "method": "animate"
           },
           {
            "args": [
             [
              "2022-10-29"
             ],
             {
              "frame": {
               "duration": 0,
               "redraw": true
              },
              "fromcurrent": true,
              "mode": "immediate",
              "transition": {
               "duration": 0,
               "easing": "linear"
              }
             }
            ],
            "label": "2022-10-29",
            "method": "animate"
           },
           {
            "args": [
             [
              "2022-10-30"
             ],
             {
              "frame": {
               "duration": 0,
               "redraw": true
              },
              "fromcurrent": true,
              "mode": "immediate",
              "transition": {
               "duration": 0,
               "easing": "linear"
              }
             }
            ],
            "label": "2022-10-30",
            "method": "animate"
           },
           {
            "args": [
             [
              "2022-10-31"
             ],
             {
              "frame": {
               "duration": 0,
               "redraw": true
              },
              "fromcurrent": true,
              "mode": "immediate",
              "transition": {
               "duration": 0,
               "easing": "linear"
              }
             }
            ],
            "label": "2022-10-31",
            "method": "animate"
           },
           {
            "args": [
             [
              "2022-11-01"
             ],
             {
              "frame": {
               "duration": 0,
               "redraw": true
              },
              "fromcurrent": true,
              "mode": "immediate",
              "transition": {
               "duration": 0,
               "easing": "linear"
              }
             }
            ],
            "label": "2022-11-01",
            "method": "animate"
           },
           {
            "args": [
             [
              "2022-11-11"
             ],
             {
              "frame": {
               "duration": 0,
               "redraw": true
              },
              "fromcurrent": true,
              "mode": "immediate",
              "transition": {
               "duration": 0,
               "easing": "linear"
              }
             }
            ],
            "label": "2022-11-11",
            "method": "animate"
           },
           {
            "args": [
             [
              "2022-11-12"
             ],
             {
              "frame": {
               "duration": 0,
               "redraw": true
              },
              "fromcurrent": true,
              "mode": "immediate",
              "transition": {
               "duration": 0,
               "easing": "linear"
              }
             }
            ],
            "label": "2022-11-12",
            "method": "animate"
           },
           {
            "args": [
             [
              "2022-11-13"
             ],
             {
              "frame": {
               "duration": 0,
               "redraw": true
              },
              "fromcurrent": true,
              "mode": "immediate",
              "transition": {
               "duration": 0,
               "easing": "linear"
              }
             }
            ],
            "label": "2022-11-13",
            "method": "animate"
           },
           {
            "args": [
             [
              "2022-11-14"
             ],
             {
              "frame": {
               "duration": 0,
               "redraw": true
              },
              "fromcurrent": true,
              "mode": "immediate",
              "transition": {
               "duration": 0,
               "easing": "linear"
              }
             }
            ],
            "label": "2022-11-14",
            "method": "animate"
           },
           {
            "args": [
             [
              "2022-11-15"
             ],
             {
              "frame": {
               "duration": 0,
               "redraw": true
              },
              "fromcurrent": true,
              "mode": "immediate",
              "transition": {
               "duration": 0,
               "easing": "linear"
              }
             }
            ],
            "label": "2022-11-15",
            "method": "animate"
           },
           {
            "args": [
             [
              "2022-11-16"
             ],
             {
              "frame": {
               "duration": 0,
               "redraw": true
              },
              "fromcurrent": true,
              "mode": "immediate",
              "transition": {
               "duration": 0,
               "easing": "linear"
              }
             }
            ],
            "label": "2022-11-16",
            "method": "animate"
           },
           {
            "args": [
             [
              "2022-11-17"
             ],
             {
              "frame": {
               "duration": 0,
               "redraw": true
              },
              "fromcurrent": true,
              "mode": "immediate",
              "transition": {
               "duration": 0,
               "easing": "linear"
              }
             }
            ],
            "label": "2022-11-17",
            "method": "animate"
           },
           {
            "args": [
             [
              "2022-11-18"
             ],
             {
              "frame": {
               "duration": 0,
               "redraw": true
              },
              "fromcurrent": true,
              "mode": "immediate",
              "transition": {
               "duration": 0,
               "easing": "linear"
              }
             }
            ],
            "label": "2022-11-18",
            "method": "animate"
           },
           {
            "args": [
             [
              "2022-11-19"
             ],
             {
              "frame": {
               "duration": 0,
               "redraw": true
              },
              "fromcurrent": true,
              "mode": "immediate",
              "transition": {
               "duration": 0,
               "easing": "linear"
              }
             }
            ],
            "label": "2022-11-19",
            "method": "animate"
           },
           {
            "args": [
             [
              "2022-11-20"
             ],
             {
              "frame": {
               "duration": 0,
               "redraw": true
              },
              "fromcurrent": true,
              "mode": "immediate",
              "transition": {
               "duration": 0,
               "easing": "linear"
              }
             }
            ],
            "label": "2022-11-20",
            "method": "animate"
           },
           {
            "args": [
             [
              "2022-11-21"
             ],
             {
              "frame": {
               "duration": 0,
               "redraw": true
              },
              "fromcurrent": true,
              "mode": "immediate",
              "transition": {
               "duration": 0,
               "easing": "linear"
              }
             }
            ],
            "label": "2022-11-21",
            "method": "animate"
           },
           {
            "args": [
             [
              "2022-11-22"
             ],
             {
              "frame": {
               "duration": 0,
               "redraw": true
              },
              "fromcurrent": true,
              "mode": "immediate",
              "transition": {
               "duration": 0,
               "easing": "linear"
              }
             }
            ],
            "label": "2022-11-22",
            "method": "animate"
           },
           {
            "args": [
             [
              "2022-12-23"
             ],
             {
              "frame": {
               "duration": 0,
               "redraw": true
              },
              "fromcurrent": true,
              "mode": "immediate",
              "transition": {
               "duration": 0,
               "easing": "linear"
              }
             }
            ],
            "label": "2022-12-23",
            "method": "animate"
           },
           {
            "args": [
             [
              "2022-12-24"
             ],
             {
              "frame": {
               "duration": 0,
               "redraw": true
              },
              "fromcurrent": true,
              "mode": "immediate",
              "transition": {
               "duration": 0,
               "easing": "linear"
              }
             }
            ],
            "label": "2022-12-24",
            "method": "animate"
           },
           {
            "args": [
             [
              "2022-12-25"
             ],
             {
              "frame": {
               "duration": 0,
               "redraw": true
              },
              "fromcurrent": true,
              "mode": "immediate",
              "transition": {
               "duration": 0,
               "easing": "linear"
              }
             }
            ],
            "label": "2022-12-25",
            "method": "animate"
           },
           {
            "args": [
             [
              "2022-12-26"
             ],
             {
              "frame": {
               "duration": 0,
               "redraw": true
              },
              "fromcurrent": true,
              "mode": "immediate",
              "transition": {
               "duration": 0,
               "easing": "linear"
              }
             }
            ],
            "label": "2022-12-26",
            "method": "animate"
           },
           {
            "args": [
             [
              "2022-12-27"
             ],
             {
              "frame": {
               "duration": 0,
               "redraw": true
              },
              "fromcurrent": true,
              "mode": "immediate",
              "transition": {
               "duration": 0,
               "easing": "linear"
              }
             }
            ],
            "label": "2022-12-27",
            "method": "animate"
           },
           {
            "args": [
             [
              "2022-12-28"
             ],
             {
              "frame": {
               "duration": 0,
               "redraw": true
              },
              "fromcurrent": true,
              "mode": "immediate",
              "transition": {
               "duration": 0,
               "easing": "linear"
              }
             }
            ],
            "label": "2022-12-28",
            "method": "animate"
           },
           {
            "args": [
             [
              "2022-12-29"
             ],
             {
              "frame": {
               "duration": 0,
               "redraw": true
              },
              "fromcurrent": true,
              "mode": "immediate",
              "transition": {
               "duration": 0,
               "easing": "linear"
              }
             }
            ],
            "label": "2022-12-29",
            "method": "animate"
           },
           {
            "args": [
             [
              "2022-12-30"
             ],
             {
              "frame": {
               "duration": 0,
               "redraw": true
              },
              "fromcurrent": true,
              "mode": "immediate",
              "transition": {
               "duration": 0,
               "easing": "linear"
              }
             }
            ],
            "label": "2022-12-30",
            "method": "animate"
           },
           {
            "args": [
             [
              "2022-12-31"
             ],
             {
              "frame": {
               "duration": 0,
               "redraw": true
              },
              "fromcurrent": true,
              "mode": "immediate",
              "transition": {
               "duration": 0,
               "easing": "linear"
              }
             }
            ],
            "label": "2022-12-31",
            "method": "animate"
           }
          ],
          "x": 0.1,
          "xanchor": "left",
          "y": 0,
          "yanchor": "top"
         }
        ],
        "template": {
         "data": {
          "bar": [
           {
            "error_x": {
             "color": "#2a3f5f"
            },
            "error_y": {
             "color": "#2a3f5f"
            },
            "marker": {
             "line": {
              "color": "#E5ECF6",
              "width": 0.5
             },
             "pattern": {
              "fillmode": "overlay",
              "size": 10,
              "solidity": 0.2
             }
            },
            "type": "bar"
           }
          ],
          "barpolar": [
           {
            "marker": {
             "line": {
              "color": "#E5ECF6",
              "width": 0.5
             },
             "pattern": {
              "fillmode": "overlay",
              "size": 10,
              "solidity": 0.2
             }
            },
            "type": "barpolar"
           }
          ],
          "carpet": [
           {
            "aaxis": {
             "endlinecolor": "#2a3f5f",
             "gridcolor": "white",
             "linecolor": "white",
             "minorgridcolor": "white",
             "startlinecolor": "#2a3f5f"
            },
            "baxis": {
             "endlinecolor": "#2a3f5f",
             "gridcolor": "white",
             "linecolor": "white",
             "minorgridcolor": "white",
             "startlinecolor": "#2a3f5f"
            },
            "type": "carpet"
           }
          ],
          "choropleth": [
           {
            "colorbar": {
             "outlinewidth": 0,
             "ticks": ""
            },
            "type": "choropleth"
           }
          ],
          "contour": [
           {
            "colorbar": {
             "outlinewidth": 0,
             "ticks": ""
            },
            "colorscale": [
             [
              0,
              "#0d0887"
             ],
             [
              0.1111111111111111,
              "#46039f"
             ],
             [
              0.2222222222222222,
              "#7201a8"
             ],
             [
              0.3333333333333333,
              "#9c179e"
             ],
             [
              0.4444444444444444,
              "#bd3786"
             ],
             [
              0.5555555555555556,
              "#d8576b"
             ],
             [
              0.6666666666666666,
              "#ed7953"
             ],
             [
              0.7777777777777778,
              "#fb9f3a"
             ],
             [
              0.8888888888888888,
              "#fdca26"
             ],
             [
              1,
              "#f0f921"
             ]
            ],
            "type": "contour"
           }
          ],
          "contourcarpet": [
           {
            "colorbar": {
             "outlinewidth": 0,
             "ticks": ""
            },
            "type": "contourcarpet"
           }
          ],
          "heatmap": [
           {
            "colorbar": {
             "outlinewidth": 0,
             "ticks": ""
            },
            "colorscale": [
             [
              0,
              "#0d0887"
             ],
             [
              0.1111111111111111,
              "#46039f"
             ],
             [
              0.2222222222222222,
              "#7201a8"
             ],
             [
              0.3333333333333333,
              "#9c179e"
             ],
             [
              0.4444444444444444,
              "#bd3786"
             ],
             [
              0.5555555555555556,
              "#d8576b"
             ],
             [
              0.6666666666666666,
              "#ed7953"
             ],
             [
              0.7777777777777778,
              "#fb9f3a"
             ],
             [
              0.8888888888888888,
              "#fdca26"
             ],
             [
              1,
              "#f0f921"
             ]
            ],
            "type": "heatmap"
           }
          ],
          "heatmapgl": [
           {
            "colorbar": {
             "outlinewidth": 0,
             "ticks": ""
            },
            "colorscale": [
             [
              0,
              "#0d0887"
             ],
             [
              0.1111111111111111,
              "#46039f"
             ],
             [
              0.2222222222222222,
              "#7201a8"
             ],
             [
              0.3333333333333333,
              "#9c179e"
             ],
             [
              0.4444444444444444,
              "#bd3786"
             ],
             [
              0.5555555555555556,
              "#d8576b"
             ],
             [
              0.6666666666666666,
              "#ed7953"
             ],
             [
              0.7777777777777778,
              "#fb9f3a"
             ],
             [
              0.8888888888888888,
              "#fdca26"
             ],
             [
              1,
              "#f0f921"
             ]
            ],
            "type": "heatmapgl"
           }
          ],
          "histogram": [
           {
            "marker": {
             "pattern": {
              "fillmode": "overlay",
              "size": 10,
              "solidity": 0.2
             }
            },
            "type": "histogram"
           }
          ],
          "histogram2d": [
           {
            "colorbar": {
             "outlinewidth": 0,
             "ticks": ""
            },
            "colorscale": [
             [
              0,
              "#0d0887"
             ],
             [
              0.1111111111111111,
              "#46039f"
             ],
             [
              0.2222222222222222,
              "#7201a8"
             ],
             [
              0.3333333333333333,
              "#9c179e"
             ],
             [
              0.4444444444444444,
              "#bd3786"
             ],
             [
              0.5555555555555556,
              "#d8576b"
             ],
             [
              0.6666666666666666,
              "#ed7953"
             ],
             [
              0.7777777777777778,
              "#fb9f3a"
             ],
             [
              0.8888888888888888,
              "#fdca26"
             ],
             [
              1,
              "#f0f921"
             ]
            ],
            "type": "histogram2d"
           }
          ],
          "histogram2dcontour": [
           {
            "colorbar": {
             "outlinewidth": 0,
             "ticks": ""
            },
            "colorscale": [
             [
              0,
              "#0d0887"
             ],
             [
              0.1111111111111111,
              "#46039f"
             ],
             [
              0.2222222222222222,
              "#7201a8"
             ],
             [
              0.3333333333333333,
              "#9c179e"
             ],
             [
              0.4444444444444444,
              "#bd3786"
             ],
             [
              0.5555555555555556,
              "#d8576b"
             ],
             [
              0.6666666666666666,
              "#ed7953"
             ],
             [
              0.7777777777777778,
              "#fb9f3a"
             ],
             [
              0.8888888888888888,
              "#fdca26"
             ],
             [
              1,
              "#f0f921"
             ]
            ],
            "type": "histogram2dcontour"
           }
          ],
          "mesh3d": [
           {
            "colorbar": {
             "outlinewidth": 0,
             "ticks": ""
            },
            "type": "mesh3d"
           }
          ],
          "parcoords": [
           {
            "line": {
             "colorbar": {
              "outlinewidth": 0,
              "ticks": ""
             }
            },
            "type": "parcoords"
           }
          ],
          "pie": [
           {
            "automargin": true,
            "type": "pie"
           }
          ],
          "scatter": [
           {
            "fillpattern": {
             "fillmode": "overlay",
             "size": 10,
             "solidity": 0.2
            },
            "type": "scatter"
           }
          ],
          "scatter3d": [
           {
            "line": {
             "colorbar": {
              "outlinewidth": 0,
              "ticks": ""
             }
            },
            "marker": {
             "colorbar": {
              "outlinewidth": 0,
              "ticks": ""
             }
            },
            "type": "scatter3d"
           }
          ],
          "scattercarpet": [
           {
            "marker": {
             "colorbar": {
              "outlinewidth": 0,
              "ticks": ""
             }
            },
            "type": "scattercarpet"
           }
          ],
          "scattergeo": [
           {
            "marker": {
             "colorbar": {
              "outlinewidth": 0,
              "ticks": ""
             }
            },
            "type": "scattergeo"
           }
          ],
          "scattergl": [
           {
            "marker": {
             "colorbar": {
              "outlinewidth": 0,
              "ticks": ""
             }
            },
            "type": "scattergl"
           }
          ],
          "scattermapbox": [
           {
            "marker": {
             "colorbar": {
              "outlinewidth": 0,
              "ticks": ""
             }
            },
            "type": "scattermapbox"
           }
          ],
          "scatterpolar": [
           {
            "marker": {
             "colorbar": {
              "outlinewidth": 0,
              "ticks": ""
             }
            },
            "type": "scatterpolar"
           }
          ],
          "scatterpolargl": [
           {
            "marker": {
             "colorbar": {
              "outlinewidth": 0,
              "ticks": ""
             }
            },
            "type": "scatterpolargl"
           }
          ],
          "scatterternary": [
           {
            "marker": {
             "colorbar": {
              "outlinewidth": 0,
              "ticks": ""
             }
            },
            "type": "scatterternary"
           }
          ],
          "surface": [
           {
            "colorbar": {
             "outlinewidth": 0,
             "ticks": ""
            },
            "colorscale": [
             [
              0,
              "#0d0887"
             ],
             [
              0.1111111111111111,
              "#46039f"
             ],
             [
              0.2222222222222222,
              "#7201a8"
             ],
             [
              0.3333333333333333,
              "#9c179e"
             ],
             [
              0.4444444444444444,
              "#bd3786"
             ],
             [
              0.5555555555555556,
              "#d8576b"
             ],
             [
              0.6666666666666666,
              "#ed7953"
             ],
             [
              0.7777777777777778,
              "#fb9f3a"
             ],
             [
              0.8888888888888888,
              "#fdca26"
             ],
             [
              1,
              "#f0f921"
             ]
            ],
            "type": "surface"
           }
          ],
          "table": [
           {
            "cells": {
             "fill": {
              "color": "#EBF0F8"
             },
             "line": {
              "color": "white"
             }
            },
            "header": {
             "fill": {
              "color": "#C8D4E3"
             },
             "line": {
              "color": "white"
             }
            },
            "type": "table"
           }
          ]
         },
         "layout": {
          "annotationdefaults": {
           "arrowcolor": "#2a3f5f",
           "arrowhead": 0,
           "arrowwidth": 1
          },
          "autotypenumbers": "strict",
          "coloraxis": {
           "colorbar": {
            "outlinewidth": 0,
            "ticks": ""
           }
          },
          "colorscale": {
           "diverging": [
            [
             0,
             "#8e0152"
            ],
            [
             0.1,
             "#c51b7d"
            ],
            [
             0.2,
             "#de77ae"
            ],
            [
             0.3,
             "#f1b6da"
            ],
            [
             0.4,
             "#fde0ef"
            ],
            [
             0.5,
             "#f7f7f7"
            ],
            [
             0.6,
             "#e6f5d0"
            ],
            [
             0.7,
             "#b8e186"
            ],
            [
             0.8,
             "#7fbc41"
            ],
            [
             0.9,
             "#4d9221"
            ],
            [
             1,
             "#276419"
            ]
           ],
           "sequential": [
            [
             0,
             "#0d0887"
            ],
            [
             0.1111111111111111,
             "#46039f"
            ],
            [
             0.2222222222222222,
             "#7201a8"
            ],
            [
             0.3333333333333333,
             "#9c179e"
            ],
            [
             0.4444444444444444,
             "#bd3786"
            ],
            [
             0.5555555555555556,
             "#d8576b"
            ],
            [
             0.6666666666666666,
             "#ed7953"
            ],
            [
             0.7777777777777778,
             "#fb9f3a"
            ],
            [
             0.8888888888888888,
             "#fdca26"
            ],
            [
             1,
             "#f0f921"
            ]
           ],
           "sequentialminus": [
            [
             0,
             "#0d0887"
            ],
            [
             0.1111111111111111,
             "#46039f"
            ],
            [
             0.2222222222222222,
             "#7201a8"
            ],
            [
             0.3333333333333333,
             "#9c179e"
            ],
            [
             0.4444444444444444,
             "#bd3786"
            ],
            [
             0.5555555555555556,
             "#d8576b"
            ],
            [
             0.6666666666666666,
             "#ed7953"
            ],
            [
             0.7777777777777778,
             "#fb9f3a"
            ],
            [
             0.8888888888888888,
             "#fdca26"
            ],
            [
             1,
             "#f0f921"
            ]
           ]
          },
          "colorway": [
           "#636efa",
           "#EF553B",
           "#00cc96",
           "#ab63fa",
           "#FFA15A",
           "#19d3f3",
           "#FF6692",
           "#B6E880",
           "#FF97FF",
           "#FECB52"
          ],
          "font": {
           "color": "#2a3f5f"
          },
          "geo": {
           "bgcolor": "white",
           "lakecolor": "white",
           "landcolor": "#E5ECF6",
           "showlakes": true,
           "showland": true,
           "subunitcolor": "white"
          },
          "hoverlabel": {
           "align": "left"
          },
          "hovermode": "closest",
          "mapbox": {
           "style": "light"
          },
          "paper_bgcolor": "white",
          "plot_bgcolor": "#E5ECF6",
          "polar": {
           "angularaxis": {
            "gridcolor": "white",
            "linecolor": "white",
            "ticks": ""
           },
           "bgcolor": "#E5ECF6",
           "radialaxis": {
            "gridcolor": "white",
            "linecolor": "white",
            "ticks": ""
           }
          },
          "scene": {
           "xaxis": {
            "backgroundcolor": "#E5ECF6",
            "gridcolor": "white",
            "gridwidth": 2,
            "linecolor": "white",
            "showbackground": true,
            "ticks": "",
            "zerolinecolor": "white"
           },
           "yaxis": {
            "backgroundcolor": "#E5ECF6",
            "gridcolor": "white",
            "gridwidth": 2,
            "linecolor": "white",
            "showbackground": true,
            "ticks": "",
            "zerolinecolor": "white"
           },
           "zaxis": {
            "backgroundcolor": "#E5ECF6",
            "gridcolor": "white",
            "gridwidth": 2,
            "linecolor": "white",
            "showbackground": true,
            "ticks": "",
            "zerolinecolor": "white"
           }
          },
          "shapedefaults": {
           "line": {
            "color": "#2a3f5f"
           }
          },
          "ternary": {
           "aaxis": {
            "gridcolor": "white",
            "linecolor": "white",
            "ticks": ""
           },
           "baxis": {
            "gridcolor": "white",
            "linecolor": "white",
            "ticks": ""
           },
           "bgcolor": "#E5ECF6",
           "caxis": {
            "gridcolor": "white",
            "linecolor": "white",
            "ticks": ""
           }
          },
          "title": {
           "x": 0.05
          },
          "xaxis": {
           "automargin": true,
           "gridcolor": "white",
           "linecolor": "white",
           "ticks": "",
           "title": {
            "standoff": 15
           },
           "zerolinecolor": "white",
           "zerolinewidth": 2
          },
          "yaxis": {
           "automargin": true,
           "gridcolor": "white",
           "linecolor": "white",
           "ticks": "",
           "title": {
            "standoff": 15
           },
           "zerolinecolor": "white",
           "zerolinewidth": 2
          }
         }
        },
        "updatemenus": [
         {
          "buttons": [
           {
            "args": [
             null,
             {
              "frame": {
               "duration": 500,
               "redraw": true
              },
              "fromcurrent": true,
              "mode": "immediate",
              "transition": {
               "duration": 500,
               "easing": "linear"
              }
             }
            ],
            "label": "&#9654;",
            "method": "animate"
           },
           {
            "args": [
             [
              null
             ],
             {
              "frame": {
               "duration": 0,
               "redraw": true
              },
              "fromcurrent": true,
              "mode": "immediate",
              "transition": {
               "duration": 0,
               "easing": "linear"
              }
             }
            ],
            "label": "&#9724;",
            "method": "animate"
           }
          ],
          "direction": "left",
          "pad": {
           "r": 10,
           "t": 70
          },
          "showactive": false,
          "type": "buttons",
          "x": 0.1,
          "xanchor": "right",
          "y": 0,
          "yanchor": "top"
         }
        ]
       }
      }
     },
     "metadata": {},
     "output_type": "display_data"
    }
   ],
   "source": [
    "df[\"ts_str\"] = df[\"date\"].dt.strftime(\"%Y-%m-%d\")\n",
    "px.scatter_mapbox(\n",
    "    df,\n",
    "    lat=\"latitude\",\n",
    "    lon=\"longitude\",\n",
    "    size=\"Human voice - Shouting\",\n",
    "    hover_data=[\"description\"],\n",
    "    animation_frame=\"ts_str\",\n",
    ").update_layout(\n",
    "    mapbox={\"style\": \"carto-positron\", \"zoom\":11}, margin={\"l\": 0, \"r\": 0, \"t\": 0, \"b\": 0}\n",
    ")"
   ]
  },
  {
   "cell_type": "code",
   "execution_count": 13,
   "metadata": {},
   "outputs": [
    {
     "name": "stdout",
     "output_type": "stream",
     "text": [
      "Dash is running on http://127.0.0.1:8050/\n",
      "\n",
      " * Serving Flask app '__main__'\n",
      " * Debug mode: on\n"
     ]
    },
    {
     "name": "stderr",
     "output_type": "stream",
     "text": [
      "Traceback (most recent call last):\n",
      "  File \"/Users/pjcnudde/opt/anaconda3/envs/MDA_env/lib/python3.9/site-packages/ipykernel_launcher.py\", line 17, in <module>\n",
      "    app.launch_new_instance()\n",
      "  File \"/Users/pjcnudde/opt/anaconda3/envs/MDA_env/lib/python3.9/site-packages/traitlets/config/application.py\", line 1042, in launch_instance\n",
      "    app.initialize(argv)\n",
      "  File \"/Users/pjcnudde/opt/anaconda3/envs/MDA_env/lib/python3.9/site-packages/traitlets/config/application.py\", line 113, in inner\n",
      "    return method(app, *args, **kwargs)\n",
      "  File \"/Users/pjcnudde/opt/anaconda3/envs/MDA_env/lib/python3.9/site-packages/ipykernel/kernelapp.py\", line 666, in initialize\n",
      "    self.init_sockets()\n",
      "  File \"/Users/pjcnudde/opt/anaconda3/envs/MDA_env/lib/python3.9/site-packages/ipykernel/kernelapp.py\", line 307, in init_sockets\n",
      "    self.shell_port = self._bind_socket(self.shell_socket, self.shell_port)\n",
      "  File \"/Users/pjcnudde/opt/anaconda3/envs/MDA_env/lib/python3.9/site-packages/ipykernel/kernelapp.py\", line 244, in _bind_socket\n",
      "    return self._try_bind_socket(s, port)\n",
      "  File \"/Users/pjcnudde/opt/anaconda3/envs/MDA_env/lib/python3.9/site-packages/ipykernel/kernelapp.py\", line 220, in _try_bind_socket\n",
      "    s.bind(\"tcp://%s:%i\" % (self.ip, port))\n",
      "  File \"/Users/pjcnudde/opt/anaconda3/envs/MDA_env/lib/python3.9/site-packages/zmq/sugar/socket.py\", line 301, in bind\n",
      "    super().bind(addr)\n",
      "  File \"zmq/backend/cython/socket.pyx\", line 564, in zmq.backend.cython.socket.Socket.bind\n",
      "  File \"zmq/backend/cython/checkrc.pxd\", line 28, in zmq.backend.cython.checkrc._check_rc\n",
      "zmq.error.ZMQError: Address already in use\n"
     ]
    },
    {
     "ename": "SystemExit",
     "evalue": "1",
     "output_type": "error",
     "traceback": [
      "An exception has occurred, use %tb to see the full traceback.\n",
      "\u001b[0;31mSystemExit\u001b[0m\u001b[0;31m:\u001b[0m 1\n"
     ]
    }
   ],
   "source": [
    "# Define app\n",
    "app = dash.Dash(__name__)\n",
    "\n",
    "# Define options for dropdown menu\n",
    "options = [{\"label\": \"Event Type 1\", \"value\": \"Human voice - Shouting\"},\n",
    "           {\"label\": \"Event Type 2\", \"value\": \"Human voice - Singing\"},\n",
    "           {\"label\": \"Event Type 3\", \"value\": \"Music non-amplified\"},\n",
    "           {\"label\": \"Event Type 4\", \"value\": \"Nature elements - Wind \"},\n",
    "           {\"label\": \"Event Type 5\", \"value\": \"Transport road - Passenger car\"},\n",
    "           {\"label\": \"Event Type 6\", \"value\": \"Transport road - Siren \"},\n",
    "           {\"label\": \"Event Type 7\", \"value\": \"Unsupported\"}]\n",
    "\n",
    "# Define layout\n",
    "app.layout = html.Div([\n",
    "    dcc.Dropdown(id=\"dropdown\", options=options, value=\"event_type1\"),\n",
    "    dcc.Graph(id=\"map\")\n",
    "])\n",
    "\n",
    "# Define callback to update map based on dropdown selection\n",
    "@app.callback(dash.dependencies.Output(\"map\", \"figure\"),\n",
    "              [dash.dependencies.Input(\"dropdown\", \"value\")])\n",
    "def update_map(event_type):\n",
    "    filtered_df = df[df[event_type] > 0]\n",
    "    filtered_df[\"ts_str\"] = filtered_df[\"date\"].dt.strftime(\"%Y-%m-%d\")\n",
    "    fig = px.scatter_mapbox(filtered_df,\n",
    "                            lat=\"latitude\",\n",
    "                            lon=\"longitude\",\n",
    "                            size=event_type,\n",
    "                            hover_data=[\"description\"],\n",
    "                            animation_frame=\"ts_str\")\n",
    "    fig.update_layout(mapbox={\"style\": \"carto-positron\", \"zoom\": 11},\n",
    "                      margin={\"l\": 0, \"r\": 0, \"t\": 0, \"b\": 0})\n",
    "    return fig\n",
    "\n",
    "if __name__ == '__main__':\n",
    "    app.run_server(debug=True)\n"
   ]
  },
  {
   "cell_type": "code",
   "execution_count": null,
   "metadata": {},
   "outputs": [],
   "source": []
  }
 ],
 "metadata": {
  "kernelspec": {
   "display_name": "mda",
   "language": "python",
   "name": "python3"
  },
  "language_info": {
   "codemirror_mode": {
    "name": "ipython",
    "version": 3
   },
   "file_extension": ".py",
   "mimetype": "text/x-python",
   "name": "python",
   "nbconvert_exporter": "python",
   "pygments_lexer": "ipython3",
   "version": "3.9.16"
  },
  "orig_nbformat": 4
 },
 "nbformat": 4,
 "nbformat_minor": 2
}
